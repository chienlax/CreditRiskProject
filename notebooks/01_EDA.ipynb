{
 "cells": [
  {
   "cell_type": "markdown",
   "metadata": {},
   "source": [
    "# Library"
   ]
  },
  {
   "cell_type": "code",
   "execution_count": null,
   "metadata": {},
   "outputs": [],
   "source": [
    "import pandas as pd\n",
    "import numpy as np\n",
    "import matplotlib.pyplot as plt\n",
    "import seaborn as sns\n",
    "import os\n",
    "import time\n",
    "import phik\n",
    "\n",
    "pd.set_option('display.max_columns', None) \n",
    "pd.set_option('display.max_rows', 100)\n",
    "plt.style.use('seaborn-v0_8-whitegrid')"
   ]
  },
  {
   "cell_type": "markdown",
   "metadata": {},
   "source": [
    "# 1. Data Loading and Data Information Function"
   ]
  },
  {
   "cell_type": "code",
   "execution_count": 26,
   "metadata": {},
   "outputs": [],
   "source": [
    "def load_all_data(verbose):\n",
    "    \"\"\"\n",
    "    Load 4 dataframes and return them.\n",
    "    \"\"\"\n",
    "    data_names = ['application_train.csv', 'application_test.csv', 'bureau.csv', 'bureau_balance.csv']\n",
    "    for name in data_names:\n",
    "        path = f'..//data//raw//{name}'\n",
    "        if not os.path.exists(path):\n",
    "            raise FileNotFoundError(f\"Can't find {path}.\")\n",
    "        if name == 'application_train.csv':\n",
    "            train = pd.read_csv(path)\n",
    "        elif name == 'application_test.csv':\n",
    "            test = pd.read_csv(path)\n",
    "        elif name == 'bureau.csv':\n",
    "            bureau = pd.read_csv(path)\n",
    "        elif name == 'bureau_balance.csv':\n",
    "            bureau_balance = pd.read_csv(path)\n",
    "            \n",
    "    if verbose:\n",
    "        print('Done loading data.')\n",
    "            \n",
    "    return train, test, bureau, bureau_balance\n",
    "\n",
    "def data_information(df, name):\n",
    "    \"\"\"\n",
    "    Print information about the dataframe.\n",
    "    \"\"\"\n",
    "    print(f\"Data Information for {name}\")\n",
    "    print(f\"Number of rows: {df.shape[0]}\")\n",
    "    print(f\"Number of columns: {df.shape[1]}\")\n",
    "    \n",
    "    numeric_columns = df.select_dtypes(include=[np.number]).columns.tolist()\n",
    "    categorical_columns = df.select_dtypes(include=[object]).columns.tolist()\n",
    "    print(f\"Number of numeric columns: {len(numeric_columns)}\")\n",
    "    print(f\"Number of categorical columns: {len(categorical_columns)}\")\n",
    "    \n",
    "    print(f\"Number of missing values: {df.isnull().sum().sum()}\")\n",
    "    print(f\"Number of unique values: {df.nunique().sum()}\")\n",
    "    print(f\"Number of duplicated rows: {df.duplicated().sum()}\")\n",
    "    "
   ]
  },
  {
   "cell_type": "code",
   "execution_count": 24,
   "metadata": {},
   "outputs": [
    {
     "name": "stdout",
     "output_type": "stream",
     "text": [
      "Done loading data.\n"
     ]
    }
   ],
   "source": [
    "train, test, bureau, bureau_balance = load_all_data(verbose=True)"
   ]
  },
  {
   "cell_type": "code",
   "execution_count": 32,
   "metadata": {},
   "outputs": [
    {
     "name": "stdout",
     "output_type": "stream",
     "text": [
      "Data Information for application_train\n",
      "Number of rows: 307511\n",
      "Number of columns: 122\n",
      "Number of numeric columns: 106\n",
      "Number of categorical columns: 16\n",
      "Number of missing values: 9152465\n",
      "Number of unique values: 695662\n",
      "Number of duplicated rows: 0\n",
      "--------------------------------------------------\n",
      "\n",
      "\n",
      "Data Information for bureau\n",
      "Number of rows: 48744\n",
      "Number of columns: 121\n",
      "Number of numeric columns: 105\n",
      "Number of categorical columns: 16\n",
      "Number of missing values: 1404419\n",
      "Number of unique values: 225067\n",
      "Number of duplicated rows: 0\n",
      "--------------------------------------------------\n",
      "\n",
      "\n",
      "Data Information for bureau_balance\n",
      "Number of rows: 1716428\n",
      "Number of columns: 17\n",
      "Number of numeric columns: 14\n",
      "Number of categorical columns: 3\n",
      "Number of missing values: 3939947\n",
      "Number of unique values: 2671291\n",
      "Number of duplicated rows: 0\n"
     ]
    }
   ],
   "source": [
    "data_information(train, name='application_train')\n",
    "print(\"-\"*50); print(\"\\n\")\n",
    "data_information(test, name='bureau')\n",
    "print(\"-\"*50); print(\"\\n\")\n",
    "data_information(bureau, name='bureau_balance')"
   ]
  },
  {
   "cell_type": "markdown",
   "metadata": {},
   "source": [
    "# 2. Target Variable Analysis"
   ]
  },
  {
   "cell_type": "code",
   "execution_count": 41,
   "metadata": {},
   "outputs": [],
   "source": [
    "def target_distribution(df, name):\n",
    "    \"\"\"\n",
    "    Plot the target distribution.\n",
    "    \"\"\"\n",
    "    # Calculate counts and percentages\n",
    "    target_counts = df['TARGET'].value_counts().sort_index()\n",
    "    target_percentages = 100 * target_counts / len(df)\n",
    "    \n",
    "    # Set the style and figure size\n",
    "    fig, ax = plt.subplots(figsize=(12, 7))\n",
    "    \n",
    "    # Create the bar plot\n",
    "    bars = ax.bar(\n",
    "        x=['No Default (0)', 'Default (1)'], \n",
    "        height=target_counts,\n",
    "        color=['#2ecc71', '#e74c3c'], \n",
    "        alpha=0.8,\n",
    "        width=0.6\n",
    "    )\n",
    "    \n",
    "    # Add labels and title with better formatting\n",
    "    ax.set_title(f'Target Distribution for {name}', fontsize=16, fontweight='bold', pad=20)\n",
    "    ax.set_xlabel('Target', fontsize=14, fontweight='bold', labelpad=15)\n",
    "    ax.set_ylabel('Count', fontsize=14, fontweight='bold', labelpad=15)\n",
    "    \n",
    "    # Remove top and right spines\n",
    "    ax.spines['top'].set_visible(False)\n",
    "    ax.spines['right'].set_visible(False)\n",
    "    \n",
    "    # Add count and percentage labels on top of bars\n",
    "    for bar in bars:\n",
    "        height = bar.get_height()\n",
    "        idx = bars.index(bar)\n",
    "        percentage = target_percentages[idx] if idx < len(target_percentages) else 0\n",
    "        ax.text(\n",
    "            bar.get_x() + bar.get_width()/2., \n",
    "            height + 0.01 * max(target_counts),\n",
    "            f'{height:,}\\n({percentage:.1f}%)',\n",
    "            ha='center', va='bottom', fontsize=12, fontweight='bold'\n",
    "        )\n",
    "    \n",
    "    # Add information about imbalance if present\n",
    "    if len(target_counts) > 1 and max(target_counts) / min(target_counts) > 1.5:\n",
    "        ratio = max(target_counts) / min(target_counts)\n",
    "        ax.text(\n",
    "            0.5, -0.2, \n",
    "            f'Imbalance Ratio: {ratio:.2f}:1',\n",
    "            ha='center', transform=ax.transAxes, fontsize=12, \n",
    "            bbox=dict(facecolor='#f8f9fa', alpha=0.5, boxstyle='round,pad=0.5')\n",
    "        )\n",
    "    \n",
    "    plt.tight_layout()\n",
    "    plt.show()"
   ]
  },
  {
   "cell_type": "code",
   "execution_count": 42,
   "metadata": {},
   "outputs": [
    {
     "data": {
      "image/png": "[encoded data removed]",
      "text/plain": [
       "<Figure size 1200x700 with 1 Axes>"
      ]
     },
     "metadata": {},
     "output_type": "display_data"
    }
   ],
   "source": [
    "target_distribution(train, name='application_train')"
   ]
  },
  {
   "cell_type": "markdown",
   "metadata": {},
   "source": [
    "# 3. Univariate Analysis"
   ]
  },
  {
   "cell_type": "markdown",
   "metadata": {},
   "source": [
    "## 3.1 Numerical Columns"
   ]
  }
 ],
 "metadata": {
  "kernelspec": {
   "display_name": "venv",
   "language": "python",
   "name": "python3"
  },
  "language_info": {
   "codemirror_mode": {
    "name": "ipython",
    "version": 3
   },
   "file_extension": ".py",
   "mimetype": "text/x-python",
   "name": "python",
   "nbconvert_exporter": "python",
   "pygments_lexer": "ipython3",
   "version": "3.12.8"
  }
 },
 "nbformat": 4,
 "nbformat_minor": 2
}
