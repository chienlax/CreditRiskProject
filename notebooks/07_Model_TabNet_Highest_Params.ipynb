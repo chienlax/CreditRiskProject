{
 "cells": [
  {
   "cell_type": "markdown",
   "metadata": {},
   "source": [
    "# 0. Library"
   ]
  },
  {
   "cell_type": "code",
   "execution_count": 1,
   "metadata": {},
   "outputs": [],
   "source": [
    "# --- Core Libraries ---\n",
    "import pandas as pd\n",
    "import numpy as np\n",
    "import matplotlib.pyplot as plt\n",
    "import seaborn as sns\n",
    "from datetime import datetime\n",
    "import time\n",
    "import warnings\n",
    "import pickle\n",
    "import os\n",
    "\n",
    "# --- Sklearn ---\n",
    "from sklearn.model_selection import StratifiedKFold\n",
    "from sklearn.preprocessing import StandardScaler\n",
    "from sklearn.metrics import (roc_auc_score, roc_curve, precision_recall_curve, auc,\n",
    "                             accuracy_score, precision_score, recall_score, f1_score,\n",
    "                             confusion_matrix, brier_score_loss, log_loss, classification_report)\n",
    "from sklearn.model_selection import train_test_split\n",
    "from sklearn.feature_selection import VarianceThreshold\n",
    "\n",
    "# --- TabNet & PyTorch ---\n",
    "import torch\n",
    "from pytorch_tabnet.tab_model import TabNetClassifier"
   ]
  },
  {
   "cell_type": "markdown",
   "metadata": {},
   "source": [
    "# 1. Utility functions + Configurations"
   ]
  },
  {
   "cell_type": "markdown",
   "metadata": {},
   "source": [
    "## 1.1 Utility functions"
   ]
  },
  {
   "cell_type": "code",
   "execution_count": 2,
   "metadata": {},
   "outputs": [],
   "source": [
    "# --- Helper Functions (can be imported from a utils file or redefined) ---\n",
    "def calculate_ks(y_true, y_prob):\n",
    "    \"\"\"Calculates the Kolmogorov-Smirnov (KS) statistic.\"\"\"\n",
    "    df = pd.DataFrame({'y_true': y_true, 'y_prob': y_prob})\n",
    "    df = df.sort_values(by='y_prob', ascending=False)\n",
    "    # Ensure y_true sums are not zero before division\n",
    "    sum_true = df['y_true'].sum()\n",
    "    sum_false = len(df) - sum_true\n",
    "    if sum_true == 0 or sum_false == 0:\n",
    "        return 0.0 # KS is 0 if one class is missing\n",
    "    df['cumulative_true'] = df['y_true'].cumsum() / sum_true\n",
    "    df['cumulative_false'] = (1 - df['y_true']).cumsum() / sum_false\n",
    "    ks = max(abs(df['cumulative_true'] - df['cumulative_false']))\n",
    "    return ks\n",
    "\n",
    "def find_optimal_threshold_j_statistic(y_true, y_prob_oof):\n",
    "    \"\"\"Finds the optimal threshold maximizing Youden's J statistic (Sensitivity + Specificity - 1).\"\"\"\n",
    "    fpr, tpr, thresholds = roc_curve(y_true, y_prob_oof)\n",
    "     # Handle cases where thresholds might not be strictly decreasing\n",
    "    valid_indices = np.where(np.isfinite(thresholds))[0]\n",
    "    if len(valid_indices) == 0:\n",
    "        print(\"Warning: No valid thresholds found for J-statistic calculation.\")\n",
    "        return 0.5 # Default fallback\n",
    "    fpr, tpr, thresholds = fpr[valid_indices], tpr[valid_indices], thresholds[valid_indices]\n",
    "\n",
    "    if len(thresholds) == 0:\n",
    "         print(\"Warning: Threshold array is empty after filtering.\")\n",
    "         return 0.5\n",
    "\n",
    "    j_statistic = tpr - fpr\n",
    "    optimal_idx = np.argmax(j_statistic)\n",
    "    optimal_threshold = thresholds[optimal_idx]\n",
    "    # Ensure threshold is within [0, 1] bounds if necessary due to floating point issues\n",
    "    optimal_threshold = max(0.0, min(1.0, optimal_threshold))\n",
    "    print(f\"Optimal threshold based on Youden's J-Statistic (OOF): {optimal_threshold:.4f}\")\n",
    "    return optimal_threshold\n",
    "\n",
    "def evaluate_model(y_true, y_pred_proba, y_pred_binary, model_name=\"Model\"):\n",
    "    \"\"\"Calculates and prints standard classification metrics.\"\"\"\n",
    "    # Add epsilon to probabilities for log_loss if necessary\n",
    "    eps = 1e-15\n",
    "    y_pred_proba = np.clip(y_pred_proba, eps, 1 - eps)\n",
    "\n",
    "    auc_roc = roc_auc_score(y_true, y_pred_proba)\n",
    "    gini = 2 * auc_roc - 1\n",
    "    ks = calculate_ks(y_true, y_pred_proba)\n",
    "    accuracy = accuracy_score(y_true, y_pred_binary)\n",
    "    precision = precision_score(y_true, y_pred_binary, zero_division=0)\n",
    "    recall = recall_score(y_true, y_pred_binary, zero_division=0)\n",
    "    f1 = f1_score(y_true, y_pred_binary, zero_division=0)\n",
    "    brier = brier_score_loss(y_true, y_pred_proba)\n",
    "    logloss = log_loss(y_true, y_pred_proba)\n",
    "    cm = confusion_matrix(y_true, y_pred_binary)\n",
    "\n",
    "    print(f\"\\n--- Evaluation Metrics for {model_name} ---\")\n",
    "    print(f\"AUC ROC:        {auc_roc:.4f}\")\n",
    "    print(f\"Gini Coefficient: {gini:.4f}\")\n",
    "    print(f\"KS Statistic:   {ks:.4f}\")\n",
    "    print(f\"Accuracy:       {accuracy:.4f}\")\n",
    "    print(f\"Precision:      {precision:.4f}\")\n",
    "    print(f\"Recall (TPR):   {recall:.4f}\")\n",
    "    print(f\"F1-Score:       {f1:.4f}\")\n",
    "    print(f\"Brier Score:    {brier:.4f}\")\n",
    "    print(f\"Log Loss:       {logloss:.4f}\")\n",
    "    print(\"\\nConfusion Matrix:\")\n",
    "    print(cm)\n",
    "\n",
    "    results = {\n",
    "        'Model': model_name,\n",
    "        'AUC': auc_roc, 'Gini': gini, 'KS': ks, 'Accuracy': accuracy,\n",
    "        'Precision': precision, 'Recall': recall, 'F1': f1,\n",
    "        'Brier': brier, 'LogLoss': logloss\n",
    "    }\n",
    "    return results\n",
    "\n",
    "def plot_roc_curve(y_true, y_prob, model_name):\n",
    "    \"\"\"Plots the ROC curve.\"\"\"\n",
    "    fpr, tpr, _ = roc_curve(y_true, y_prob)\n",
    "    auc_roc = roc_auc_score(y_true, y_prob)\n",
    "    plt.figure(figsize=(8, 6))\n",
    "    plt.plot(fpr, tpr, label=f'{model_name} (AUC = {auc_roc:.4f})')\n",
    "    plt.plot([0, 1], [0, 1], 'k--') # Diagonal line\n",
    "    plt.xlabel('False Positive Rate')\n",
    "    plt.ylabel('True Positive Rate')\n",
    "    plt.title(f'{model_name} - ROC Curve')\n",
    "    plt.legend()\n",
    "    plt.grid(True)\n",
    "    # Save the plot\n",
    "    plot_filename = f\"roc_curve_{model_name.replace(' ', '_')}.png\"\n",
    "    plt.savefig(plot_filename)\n",
    "    print(f\"ROC curve saved to {plot_filename}\")\n",
    "    plt.show()"
   ]
  },
  {
   "cell_type": "markdown",
   "metadata": {},
   "source": [
    "## 1.2 Configurations"
   ]
  },
  {
   "cell_type": "code",
   "execution_count": 3,
   "metadata": {},
   "outputs": [
    {
     "name": "stdout",
     "output_type": "stream",
     "text": [
      "Using device: cuda\n"
     ]
    }
   ],
   "source": [
    "# --- Configuration ---\n",
    "DATA_PATH = '../data/processed/'\n",
    "MODEL_OUTPUT_PATH = './tabnet_outputs/'\n",
    "os.makedirs(MODEL_OUTPUT_PATH, exist_ok=True)\n",
    "SEED = 42\n",
    "N_SPLITS = 10\n",
    "TARGET = 'TARGET'\n",
    "ID_COL = 'SK_ID_CURR'\n",
    "\n",
    "# --- Check for GPU ---\n",
    "device_name = 'cuda' if torch.cuda.is_available() else 'cpu'\n",
    "print(f\"Using device: {device_name}\")"
   ]
  },
  {
   "cell_type": "markdown",
   "metadata": {},
   "source": [
    "# 2. Load Data and Preprocess"
   ]
  },
  {
   "cell_type": "code",
   "execution_count": 4,
   "metadata": {},
   "outputs": [
    {
     "name": "stdout",
     "output_type": "stream",
     "text": [
      "Loading preprocessed data...\n",
      "Data loaded successfully.\n"
     ]
    }
   ],
   "source": [
    "# --- Load Data ---\n",
    "print(\"Loading preprocessed data...\")\n",
    "try:\n",
    "    train_df = pd.read_csv(DATA_PATH + 'train.csv')\n",
    "    test_df = pd.read_csv(DATA_PATH + 'test.csv')\n",
    "    print(\"Data loaded successfully.\")\n",
    "except FileNotFoundError as e:\n",
    "    print(f\"Error: {e}. Make sure 'train_final.csv' and 'test_final.csv' are in {DATA_PATH}\")\n",
    "    exit()\n",
    "\n",
    "# --- Prepare Data ---\n",
    "y_train = train_df[TARGET].values # Use .values for numpy arrays\n",
    "y_test = test_df[TARGET].values\n",
    "\n",
    "# Drop Target and potentially ID\n",
    "if ID_COL in train_df.columns:\n",
    "    X_train = train_df.drop(columns=[TARGET, ID_COL])\n",
    "    X_test = test_df.drop(columns=[TARGET, ID_COL])\n",
    "else:\n",
    "    X_train = train_df.drop(columns=[TARGET])\n",
    "    X_test = test_df.drop(columns=[TARGET])\n",
    "\n",
    "# Align columns just in case\n",
    "common_cols = list(X_train.columns.intersection(X_test.columns))\n",
    "X_train = X_train[common_cols]\n",
    "X_test = X_test[common_cols]\n",
    "feature_names = X_train.columns.tolist()"
   ]
  },
  {
   "cell_type": "code",
   "execution_count": 5,
   "metadata": {},
   "outputs": [
    {
     "name": "stdout",
     "output_type": "stream",
     "text": [
      "WARNING: Treating all features as numerical for TabNet due to pre-encoded input data.\n",
      "Prepared X_train shape: (246005, 112)\n",
      "Prepared X_test shape: (61502, 112)\n"
     ]
    }
   ],
   "source": [
    "# --- LIMITATION: Treat all features as numerical ---\n",
    "# Ideally, identify original categorical features and pass their indices to TabNet.\n",
    "# Since we are using pre-encoded data, we treat all as numerical.\n",
    "print(\"WARNING: Treating all features as numerical for TabNet due to pre-encoded input data.\")\n",
    "categorical_indices = [] # No categorical indices provided\n",
    "categorical_dims = [] # No specific dimensions needed if indices are empty\n",
    "\n",
    "# Handle infinite values and NaNs\n",
    "# Replace inf with NaN, then fill NaN with median of each column\n",
    "X_train = X_train.replace([np.inf, -np.inf], np.nan).fillna(X_train.median())\n",
    "X_test = X_test.replace([np.inf, -np.inf], np.nan).fillna(X_train.median()) # Use train median for test set\n",
    "\n",
    "# Standardize the data\n",
    "# Note: TabNet can handle raw data, but standardization may help in some cases.\n",
    "# You can comment this out if you prefer to use raw data.\n",
    "# scaler = StandardScaler()\n",
    "# X_train = scaler.fit_transform(X_train)\n",
    "# X_test = scaler.transform(X_test)\n",
    "\n",
    "# Convert to numpy arrays of type float32 for PyTorch\n",
    "X_train_np = X_train.values.astype(np.float32)\n",
    "X_test_np = X_test.values.astype(np.float32)\n",
    "\n",
    "print(f\"Prepared X_train shape: {X_train_np.shape}\")\n",
    "print(f\"Prepared X_test shape: {X_test_np.shape}\")"
   ]
  },
  {
   "cell_type": "markdown",
   "metadata": {},
   "source": [
    "# 3. Train and Evaluate"
   ]
  },
  {
   "cell_type": "markdown",
   "metadata": {},
   "source": [
    "## 3.1 Train Baseline Model"
   ]
  },
  {
   "cell_type": "code",
   "execution_count": 6,
   "metadata": {},
   "outputs": [
    {
     "name": "stdout",
     "output_type": "stream",
     "text": [
      "Using class weights: [ 1.       11.386959] to emphasize minority class\n"
     ]
    }
   ],
   "source": [
    "# Calculate class weights inversely proportional to class frequencies\n",
    "class_counts = np.bincount(y_train)\n",
    "total_samples = len(y_train)\n",
    "# More aggressive weighting for minority class\n",
    "class_weights = torch.tensor([1.0, (class_counts[0]/class_counts[1]) * 1.0], dtype=torch.float32)\n",
    "if device_name == 'cuda':\n",
    "    class_weights = class_weights.cuda()\n",
    "\n",
    "print(f\"Using class weights: {class_weights.cpu().numpy()} to emphasize minority class\")\n",
    "\n",
    "# Create weighted loss function\n",
    "weighted_loss = torch.nn.CrossEntropyLoss(weight=class_weights)"
   ]
  },
  {
   "cell_type": "code",
   "execution_count": null,
   "metadata": {},
   "outputs": [
    {
     "name": "stdout",
     "output_type": "stream",
     "text": [
      "\n",
      "Training Baseline TabNet highest Model without CV...\n"
     ]
    },
    {
     "name": "stderr",
     "output_type": "stream",
     "text": [
      "c:\\Users\\ORLab\\main_source\\CreditRiskProject\\venv\\Lib\\site-packages\\pytorch_tabnet\\abstract_model.py:82: UserWarning: Device used : cuda\n",
      "  warnings.warn(f\"Device used : {self.device}\")\n"
     ]
    },
    {
     "name": "stdout",
     "output_type": "stream",
     "text": [
      "TabNet highest model initialized on cuda\n",
      "Fitting baseline TabNet highest model...\n",
      "epoch 0  | loss: 0.86709 | validation_logloss: 3.40103 | validation_accuracy: 0.65336 | validation_auc: 0.50844 | validation_balanced_accuracy: 0.50372 |  0:00:02s\n",
      "epoch 1  | loss: 0.88177 | validation_logloss: 1.05519 | validation_accuracy: 0.84836 | validation_auc: 0.51385 | validation_balanced_accuracy: 0.49932 |  0:00:05s\n",
      "epoch 2  | loss: 0.87274 | validation_logloss: 1.28633 | validation_accuracy: 0.55926 | validation_auc: 0.50056 | validation_balanced_accuracy: 0.50605 |  0:00:08s\n",
      "epoch 3  | loss: 0.76773 | validation_logloss: 1.34571 | validation_accuracy: 0.32455 | validation_auc: 0.52113 | validation_balanced_accuracy: 0.5171  |  0:00:10s\n",
      "epoch 4  | loss: 0.723   | validation_logloss: 0.63671 | validation_accuracy: 0.76173 | validation_auc: 0.55051 | validation_balanced_accuracy: 0.49906 |  0:00:13s\n",
      "epoch 5  | loss: 0.6922  | validation_logloss: 0.48531 | validation_accuracy: 0.90142 | validation_auc: 0.56311 | validation_balanced_accuracy: 0.50051 |  0:00:16s\n",
      "epoch 6  | loss: 0.68091 | validation_logloss: 0.63169 | validation_accuracy: 0.74261 | validation_auc: 0.54422 | validation_balanced_accuracy: 0.51667 |  0:00:18s\n",
      "epoch 7  | loss: 0.65008 | validation_logloss: 0.62762 | validation_accuracy: 0.74271 | validation_auc: 0.6423  | validation_balanced_accuracy: 0.60273 |  0:00:21s\n",
      "epoch 8  | loss: 0.64057 | validation_logloss: 0.62115 | validation_accuracy: 0.75007 | validation_auc: 0.61816 | validation_balanced_accuracy: 0.58756 |  0:00:23s\n",
      "epoch 9  | loss: 0.63447 | validation_logloss: 0.59337 | validation_accuracy: 0.831   | validation_auc: 0.61517 | validation_balanced_accuracy: 0.51618 |  0:00:26s\n",
      "epoch 10 | loss: 0.63096 | validation_logloss: 0.57692 | validation_accuracy: 0.88069 | validation_auc: 0.65789 | validation_balanced_accuracy: 0.51484 |  0:00:29s\n",
      "epoch 11 | loss: 0.63189 | validation_logloss: 0.54609 | validation_accuracy: 0.88437 | validation_auc: 0.67047 | validation_balanced_accuracy: 0.55405 |  0:00:31s\n",
      "epoch 12 | loss: 0.62219 | validation_logloss: 0.56373 | validation_accuracy: 0.84118 | validation_auc: 0.67764 | validation_balanced_accuracy: 0.59394 |  0:00:34s\n",
      "epoch 13 | loss: 0.61952 | validation_logloss: 0.57685 | validation_accuracy: 0.80793 | validation_auc: 0.68698 | validation_balanced_accuracy: 0.61708 |  0:00:37s\n",
      "epoch 14 | loss: 0.61765 | validation_logloss: 0.53791 | validation_accuracy: 0.82181 | validation_auc: 0.71593 | validation_balanced_accuracy: 0.62761 |  0:00:39s\n",
      "epoch 15 | loss: 0.61584 | validation_logloss: 0.54629 | validation_accuracy: 0.79551 | validation_auc: 0.71853 | validation_balanced_accuracy: 0.64615 |  0:00:42s\n",
      "epoch 16 | loss: 0.61196 | validation_logloss: 0.5207  | validation_accuracy: 0.80775 | validation_auc: 0.72077 | validation_balanced_accuracy: 0.64454 |  0:00:46s\n",
      "epoch 17 | loss: 0.61498 | validation_logloss: 0.51549 | validation_accuracy: 0.82917 | validation_auc: 0.71725 | validation_balanced_accuracy: 0.62863 |  0:00:49s\n",
      "epoch 18 | loss: 0.61511 | validation_logloss: 0.53715 | validation_accuracy: 0.78226 | validation_auc: 0.72536 | validation_balanced_accuracy: 0.65869 |  0:00:53s\n",
      "epoch 19 | loss: 0.61096 | validation_logloss: 0.55474 | validation_accuracy: 0.73576 | validation_auc: 0.73011 | validation_balanced_accuracy: 0.67542 |  0:00:57s\n",
      "epoch 20 | loss: 0.61258 | validation_logloss: 0.60695 | validation_accuracy: 0.69159 | validation_auc: 0.72997 | validation_balanced_accuracy: 0.67333 |  0:01:00s\n",
      "epoch 21 | loss: 0.60848 | validation_logloss: 0.60856 | validation_accuracy: 0.68545 | validation_auc: 0.73172 | validation_balanced_accuracy: 0.67356 |  0:01:04s\n",
      "epoch 22 | loss: 0.61355 | validation_logloss: 0.61754 | validation_accuracy: 0.65444 | validation_auc: 0.73218 | validation_balanced_accuracy: 0.67253 |  0:01:07s\n",
      "epoch 23 | loss: 0.60717 | validation_logloss: 0.55229 | validation_accuracy: 0.72316 | validation_auc: 0.73424 | validation_balanced_accuracy: 0.6758  |  0:01:11s\n",
      "epoch 24 | loss: 0.60405 | validation_logloss: 0.58973 | validation_accuracy: 0.70202 | validation_auc: 0.73497 | validation_balanced_accuracy: 0.67682 |  0:01:14s\n",
      "epoch 25 | loss: 0.60423 | validation_logloss: 0.51462 | validation_accuracy: 0.76141 | validation_auc: 0.73692 | validation_balanced_accuracy: 0.67433 |  0:01:18s\n",
      "epoch 26 | loss: 0.60593 | validation_logloss: 0.55597 | validation_accuracy: 0.7337  | validation_auc: 0.73954 | validation_balanced_accuracy: 0.68016 |  0:01:22s\n",
      "epoch 27 | loss: 0.60175 | validation_logloss: 0.55156 | validation_accuracy: 0.73789 | validation_auc: 0.74015 | validation_balanced_accuracy: 0.68233 |  0:01:25s\n",
      "epoch 28 | loss: 0.59978 | validation_logloss: 0.57085 | validation_accuracy: 0.71767 | validation_auc: 0.74289 | validation_balanced_accuracy: 0.68132 |  0:01:29s\n",
      "epoch 29 | loss: 0.60119 | validation_logloss: 0.56423 | validation_accuracy: 0.71881 | validation_auc: 0.74035 | validation_balanced_accuracy: 0.68182 |  0:01:33s\n",
      "epoch 30 | loss: 0.59932 | validation_logloss: 0.53543 | validation_accuracy: 0.74448 | validation_auc: 0.74255 | validation_balanced_accuracy: 0.68143 |  0:01:36s\n",
      "epoch 31 | loss: 0.60133 | validation_logloss: 0.57347 | validation_accuracy: 0.71127 | validation_auc: 0.74376 | validation_balanced_accuracy: 0.68404 |  0:01:40s\n",
      "epoch 32 | loss: 0.59906 | validation_logloss: 0.5869  | validation_accuracy: 0.6819  | validation_auc: 0.74162 | validation_balanced_accuracy: 0.68195 |  0:01:43s\n",
      "epoch 33 | loss: 0.59705 | validation_logloss: 0.56443 | validation_accuracy: 0.73265 | validation_auc: 0.74272 | validation_balanced_accuracy: 0.68269 |  0:01:46s\n",
      "epoch 34 | loss: 0.59717 | validation_logloss: 0.55147 | validation_accuracy: 0.72836 | validation_auc: 0.74305 | validation_balanced_accuracy: 0.68162 |  0:01:49s\n",
      "epoch 35 | loss: 0.5967  | validation_logloss: 0.60009 | validation_accuracy: 0.65682 | validation_auc: 0.74385 | validation_balanced_accuracy: 0.67934 |  0:01:52s\n",
      "epoch 36 | loss: 0.59788 | validation_logloss: 0.60129 | validation_accuracy: 0.68375 | validation_auc: 0.74557 | validation_balanced_accuracy: 0.68296 |  0:01:55s\n",
      "epoch 37 | loss: 0.59817 | validation_logloss: 0.62272 | validation_accuracy: 0.65804 | validation_auc: 0.74574 | validation_balanced_accuracy: 0.68448 |  0:01:59s\n",
      "epoch 38 | loss: 0.5943  | validation_logloss: 0.58861 | validation_accuracy: 0.68657 | validation_auc: 0.74713 | validation_balanced_accuracy: 0.68461 |  0:02:02s\n",
      "epoch 39 | loss: 0.59372 | validation_logloss: 0.58195 | validation_accuracy: 0.69076 | validation_auc: 0.74709 | validation_balanced_accuracy: 0.68471 |  0:02:05s\n",
      "epoch 40 | loss: 0.59439 | validation_logloss: 0.56146 | validation_accuracy: 0.71371 | validation_auc: 0.74487 | validation_balanced_accuracy: 0.68284 |  0:02:09s\n",
      "epoch 41 | loss: 0.59744 | validation_logloss: 0.5388  | validation_accuracy: 0.72255 | validation_auc: 0.7453  | validation_balanced_accuracy: 0.68236 |  0:02:12s\n",
      "epoch 42 | loss: 0.59652 | validation_logloss: 0.6143  | validation_accuracy: 0.66698 | validation_auc: 0.74553 | validation_balanced_accuracy: 0.68349 |  0:02:15s\n",
      "epoch 43 | loss: 0.59495 | validation_logloss: 0.58212 | validation_accuracy: 0.68883 | validation_auc: 0.74599 | validation_balanced_accuracy: 0.68538 |  0:02:18s\n",
      "epoch 44 | loss: 0.59207 | validation_logloss: 0.60465 | validation_accuracy: 0.67832 | validation_auc: 0.74799 | validation_balanced_accuracy: 0.68736 |  0:02:21s\n",
      "epoch 45 | loss: 0.59237 | validation_logloss: 0.56463 | validation_accuracy: 0.69413 | validation_auc: 0.74685 | validation_balanced_accuracy: 0.68482 |  0:02:25s\n",
      "epoch 46 | loss: 0.59114 | validation_logloss: 0.60591 | validation_accuracy: 0.67228 | validation_auc: 0.74546 | validation_balanced_accuracy: 0.68304 |  0:02:28s\n",
      "epoch 47 | loss: 0.59115 | validation_logloss: 0.56968 | validation_accuracy: 0.69679 | validation_auc: 0.74878 | validation_balanced_accuracy: 0.68615 |  0:02:31s\n",
      "epoch 48 | loss: 0.59124 | validation_logloss: 0.55569 | validation_accuracy: 0.69387 | validation_auc: 0.74795 | validation_balanced_accuracy: 0.68605 |  0:02:34s\n",
      "epoch 49 | loss: 0.58886 | validation_logloss: 0.61288 | validation_accuracy: 0.66133 | validation_auc: 0.74782 | validation_balanced_accuracy: 0.68627 |  0:02:38s\n",
      "epoch 50 | loss: 0.5907  | validation_logloss: 0.5725  | validation_accuracy: 0.67869 | validation_auc: 0.74885 | validation_balanced_accuracy: 0.68469 |  0:02:41s\n",
      "epoch 51 | loss: 0.58872 | validation_logloss: 0.56887 | validation_accuracy: 0.68486 | validation_auc: 0.74797 | validation_balanced_accuracy: 0.68587 |  0:02:44s\n",
      "epoch 52 | loss: 0.58754 | validation_logloss: 0.58485 | validation_accuracy: 0.68533 | validation_auc: 0.74814 | validation_balanced_accuracy: 0.68692 |  0:02:47s\n",
      "epoch 53 | loss: 0.58926 | validation_logloss: 0.50638 | validation_accuracy: 0.73476 | validation_auc: 0.74886 | validation_balanced_accuracy: 0.68878 |  0:02:50s\n",
      "epoch 54 | loss: 0.5895  | validation_logloss: 0.64308 | validation_accuracy: 0.64399 | validation_auc: 0.74842 | validation_balanced_accuracy: 0.68132 |  0:02:53s\n",
      "epoch 55 | loss: 0.58819 | validation_logloss: 0.52322 | validation_accuracy: 0.72996 | validation_auc: 0.75089 | validation_balanced_accuracy: 0.68686 |  0:02:57s\n",
      "epoch 56 | loss: 0.58994 | validation_logloss: 0.53346 | validation_accuracy: 0.71694 | validation_auc: 0.74587 | validation_balanced_accuracy: 0.68138 |  0:03:00s\n",
      "epoch 57 | loss: 0.58807 | validation_logloss: 0.58091 | validation_accuracy: 0.697   | validation_auc: 0.74927 | validation_balanced_accuracy: 0.68799 |  0:03:03s\n",
      "epoch 58 | loss: 0.58747 | validation_logloss: 0.54031 | validation_accuracy: 0.71269 | validation_auc: 0.74919 | validation_balanced_accuracy: 0.68665 |  0:03:06s\n",
      "epoch 59 | loss: 0.58732 | validation_logloss: 0.56401 | validation_accuracy: 0.7023  | validation_auc: 0.74778 | validation_balanced_accuracy: 0.68375 |  0:03:09s\n",
      "epoch 60 | loss: 0.58897 | validation_logloss: 0.62438 | validation_accuracy: 0.67161 | validation_auc: 0.75006 | validation_balanced_accuracy: 0.68635 |  0:03:13s\n",
      "epoch 61 | loss: 0.58535 | validation_logloss: 0.55379 | validation_accuracy: 0.69682 | validation_auc: 0.75109 | validation_balanced_accuracy: 0.68881 |  0:03:16s\n",
      "epoch 62 | loss: 0.58367 | validation_logloss: 0.59396 | validation_accuracy: 0.67261 | validation_auc: 0.75197 | validation_balanced_accuracy: 0.68506 |  0:03:19s\n",
      "epoch 63 | loss: 0.5832  | validation_logloss: 0.55003 | validation_accuracy: 0.68854 | validation_auc: 0.75097 | validation_balanced_accuracy: 0.68637 |  0:03:22s\n",
      "epoch 64 | loss: 0.58531 | validation_logloss: 0.58869 | validation_accuracy: 0.68184 | validation_auc: 0.7484  | validation_balanced_accuracy: 0.68456 |  0:03:26s\n",
      "epoch 65 | loss: 0.58803 | validation_logloss: 0.53345 | validation_accuracy: 0.70795 | validation_auc: 0.74856 | validation_balanced_accuracy: 0.6866  |  0:03:29s\n",
      "epoch 66 | loss: 0.58535 | validation_logloss: 0.593   | validation_accuracy: 0.68637 | validation_auc: 0.75155 | validation_balanced_accuracy: 0.68783 |  0:03:32s\n",
      "epoch 67 | loss: 0.58309 | validation_logloss: 0.56022 | validation_accuracy: 0.70253 | validation_auc: 0.7518  | validation_balanced_accuracy: 0.69053 |  0:03:35s\n",
      "epoch 68 | loss: 0.58349 | validation_logloss: 0.5515  | validation_accuracy: 0.71007 | validation_auc: 0.74962 | validation_balanced_accuracy: 0.68545 |  0:03:38s\n",
      "epoch 69 | loss: 0.58204 | validation_logloss: 0.57007 | validation_accuracy: 0.6944  | validation_auc: 0.75136 | validation_balanced_accuracy: 0.68898 |  0:03:41s\n",
      "epoch 70 | loss: 0.58224 | validation_logloss: 0.54173 | validation_accuracy: 0.73822 | validation_auc: 0.7512  | validation_balanced_accuracy: 0.68767 |  0:03:45s\n",
      "epoch 71 | loss: 0.58134 | validation_logloss: 0.51811 | validation_accuracy: 0.73533 | validation_auc: 0.75202 | validation_balanced_accuracy: 0.6853  |  0:03:48s\n",
      "epoch 72 | loss: 0.58219 | validation_logloss: 0.63046 | validation_accuracy: 0.66344 | validation_auc: 0.75169 | validation_balanced_accuracy: 0.68558 |  0:03:51s\n",
      "epoch 73 | loss: 0.58136 | validation_logloss: 0.59318 | validation_accuracy: 0.66121 | validation_auc: 0.75139 | validation_balanced_accuracy: 0.68379 |  0:03:54s\n",
      "epoch 74 | loss: 0.57908 | validation_logloss: 0.58384 | validation_accuracy: 0.67208 | validation_auc: 0.75099 | validation_balanced_accuracy: 0.68649 |  0:03:57s\n",
      "epoch 75 | loss: 0.58192 | validation_logloss: 0.59182 | validation_accuracy: 0.67999 | validation_auc: 0.74959 | validation_balanced_accuracy: 0.6839  |  0:04:01s\n",
      "epoch 76 | loss: 0.58202 | validation_logloss: 0.59579 | validation_accuracy: 0.67261 | validation_auc: 0.75097 | validation_balanced_accuracy: 0.6885  |  0:04:04s\n",
      "epoch 77 | loss: 0.5796  | validation_logloss: 0.5311  | validation_accuracy: 0.7181  | validation_auc: 0.75281 | validation_balanced_accuracy: 0.68878 |  0:04:07s\n",
      "epoch 78 | loss: 0.57827 | validation_logloss: 0.59712 | validation_accuracy: 0.67596 | validation_auc: 0.74827 | validation_balanced_accuracy: 0.68355 |  0:04:10s\n",
      "epoch 79 | loss: 0.57645 | validation_logloss: 0.53637 | validation_accuracy: 0.72171 | validation_auc: 0.74957 | validation_balanced_accuracy: 0.68708 |  0:04:14s\n",
      "epoch 80 | loss: 0.58005 | validation_logloss: 0.61135 | validation_accuracy: 0.65578 | validation_auc: 0.74729 | validation_balanced_accuracy: 0.68279 |  0:04:17s\n",
      "epoch 81 | loss: 0.58009 | validation_logloss: 0.5431  | validation_accuracy: 0.71368 | validation_auc: 0.74759 | validation_balanced_accuracy: 0.68524 |  0:04:20s\n",
      "epoch 82 | loss: 0.57664 | validation_logloss: 0.57029 | validation_accuracy: 0.68905 | validation_auc: 0.74879 | validation_balanced_accuracy: 0.68757 |  0:04:23s\n",
      "epoch 83 | loss: 0.57889 | validation_logloss: 0.58309 | validation_accuracy: 0.67072 | validation_auc: 0.74511 | validation_balanced_accuracy: 0.67852 |  0:04:27s\n",
      "epoch 84 | loss: 0.5778  | validation_logloss: 0.5698  | validation_accuracy: 0.67586 | validation_auc: 0.74419 | validation_balanced_accuracy: 0.68166 |  0:04:30s\n",
      "epoch 85 | loss: 0.57899 | validation_logloss: 0.5737  | validation_accuracy: 0.6982  | validation_auc: 0.74903 | validation_balanced_accuracy: 0.68554 |  0:04:33s\n",
      "epoch 86 | loss: 0.57455 | validation_logloss: 0.56128 | validation_accuracy: 0.68598 | validation_auc: 0.74908 | validation_balanced_accuracy: 0.68601 |  0:04:36s\n",
      "epoch 87 | loss: 0.57459 | validation_logloss: 0.53842 | validation_accuracy: 0.7009  | validation_auc: 0.74876 | validation_balanced_accuracy: 0.68425 |  0:04:40s\n",
      "\n",
      "Early stopping occurred at epoch 87 with best_epoch = 67 and best_validation_balanced_accuracy = 0.69053\n"
     ]
    },
    {
     "name": "stderr",
     "output_type": "stream",
     "text": [
      "c:\\Users\\ORLab\\main_source\\CreditRiskProject\\venv\\Lib\\site-packages\\pytorch_tabnet\\callbacks.py:172: UserWarning: Best weights from best epoch are automatically used!\n",
      "  warnings.warn(wrn_msg)\n"
     ]
    },
    {
     "name": "stdout",
     "output_type": "stream",
     "text": [
      "Baseline model training completed in 283.50 seconds.\n",
      "\n",
      "--- Baseline TabNet Model Evaluation ---\n",
      "\n",
      "--- Evaluation Metrics for TabNet_highest (Baseline) ---\n",
      "AUC ROC:        0.7538\n",
      "Gini Coefficient: 0.5077\n",
      "KS Statistic:   0.3796\n",
      "Accuracy:       0.7065\n",
      "Precision:      0.1678\n",
      "Recall (TPR):   0.6653\n",
      "F1-Score:       0.2679\n",
      "Brier Score:    0.1878\n",
      "Log Loss:       0.5557\n",
      "\n",
      "Confusion Matrix:\n",
      "[[40151 16386]\n",
      " [ 1662  3303]]\n",
      "ROC curve saved to roc_curve_TabNet_highest_(Baseline).png\n"
     ]
    },
    {
     "data": {
      "image/png": "[encoded data removed]",
      "text/plain": [
       "<Figure size 800x600 with 1 Axes>"
      ]
     },
     "metadata": {},
     "output_type": "display_data"
    },
    {
     "name": "stdout",
     "output_type": "stream",
     "text": [
      "Successfully saved model at ./tabnet_outputs/tabnet_highest_baseline_model.zip\n",
      "Baseline model saved to ./tabnet_outputs/tabnet_highest_baseline_model.zip\n",
      "Baseline results saved to ./tabnet_outputs/tabnet_highest_baseline_results.csv\n",
      "Baseline feature importance saved to ./tabnet_outputs/tabnet_highest_baseline_feature_importance.csv\n"
     ]
    }
   ],
   "source": [
    "# --- Initialize and Train a Baseline TabNet Model ---\n",
    "print(\"\\nTraining Baseline TabNet highest Model without CV...\")\n",
    "\n",
    "TABNET_PARAMS = dict(\n",
    "    n_d=64, n_a=64, n_steps=2, n_independent=6, n_shared=6,\n",
    "    mask_type='sparsemax', gamma=1.7, lambda_sparse=0.01,\n",
    "    optimizer_fn=torch.optim.AdamW, optimizer_params=dict(lr=0.001),\n",
    "    scheduler_fn=torch.optim.lr_scheduler.ReduceLROnPlateau,\n",
    "    scheduler_params=dict(\n",
    "        mode=\"max\", patience=20, min_lr=1e-6, factor=0.5),\n",
    "    seed=SEED, verbose=1, clip_value=1.0, device_name=device_name,\n",
    ")\n",
    "\n",
    "MAX_EPOCHS = 3000\n",
    "PATIENCE = 20\n",
    "BATCH_SIZE = 8192*2\n",
    "VIRTUAL_BATCH_SIZE = 2048*2\n",
    "\n",
    "# Split off a small portion of the training data for validation (early stopping purposes)\n",
    "X_train_base, X_val_base, y_train_base, y_val_base = train_test_split(\n",
    "    X_train_np, y_train, test_size=0.20, random_state=SEED, stratify=y_train\n",
    ")\n",
    "\n",
    "tabnet_baseline = TabNetClassifier(**TABNET_PARAMS)\n",
    "print(f\"TabNet highest model initialized on {device_name}\")\n",
    "print(\"Fitting baseline TabNet highest model...\")\n",
    "start_time = time.time()\n",
    "\n",
    "    \n",
    "tabnet_baseline.fit(\n",
    "    X_train=X_train_base, y_train=y_train_base,\n",
    "    eval_set=[(X_val_base, y_val_base)],\n",
    "    eval_name=['validation'],\n",
    "    eval_metric=['logloss', 'accuracy', 'auc', 'balanced_accuracy'],\n",
    "    max_epochs=MAX_EPOCHS,\n",
    "    patience=PATIENCE,\n",
    "    batch_size=BATCH_SIZE,\n",
    "    virtual_batch_size=VIRTUAL_BATCH_SIZE,\n",
    "    drop_last=False,\n",
    "    loss_fn=weighted_loss,\n",
    "    num_workers=0,\n",
    ")\n",
    "\n",
    "end_time = time.time()\n",
    "print(f\"Baseline model training completed in {(end_time - start_time):.2f} seconds.\")\n",
    "\n",
    "# Make predictions\n",
    "baseline_preds = tabnet_baseline.predict_proba(X_test_np)[:, 1]\n",
    "baseline_binary_preds = (baseline_preds > 0.5).astype(int)\n",
    "\n",
    "# Evaluate the baseline model\n",
    "print(\"\\n--- Baseline TabNet Model Evaluation ---\")\n",
    "baseline_results = evaluate_model(\n",
    "    y_test, baseline_preds, baseline_binary_preds, model_name=\"TabNet_highest (Baseline)\"\n",
    ")\n",
    "\n",
    "# Plot ROC curve\n",
    "plot_roc_curve(y_test, baseline_preds, \"TabNet_highest (Baseline)\")\n",
    "\n",
    "# Save the model\n",
    "baseline_model_path = os.path.join(MODEL_OUTPUT_PATH, \"tabnet_highest_baseline_model\")\n",
    "saved_baseline_path = tabnet_baseline.save_model(baseline_model_path)\n",
    "print(f\"Baseline model saved to {saved_baseline_path}\")\n",
    "\n",
    "# Save baseline results\n",
    "baseline_results_df = pd.DataFrame([baseline_results])\n",
    "baseline_results_filename = os.path.join(MODEL_OUTPUT_PATH, \"tabnet_highest_baseline_results.csv\")\n",
    "baseline_results_df.to_csv(baseline_results_filename, index=False, mode='w+')\n",
    "print(f\"Baseline results saved to {baseline_results_filename}\")\n",
    "\n",
    "# Feature importance from baseline model\n",
    "baseline_importance = tabnet_baseline.feature_importances_\n",
    "baseline_importance_df = pd.DataFrame({'Feature': feature_names, 'Importance': baseline_importance})\n",
    "baseline_importance_df = baseline_importance_df.sort_values(by='Importance', ascending=False)\n",
    "baseline_importance_filename = os.path.join(MODEL_OUTPUT_PATH, \"tabnet_highest_baseline_feature_importance.csv\")\n",
    "baseline_importance_df.to_csv(baseline_importance_filename, index=False, mode='w+')\n",
    "print(f\"Baseline feature importance saved to {baseline_importance_filename}\")"
   ]
  },
  {
   "cell_type": "code",
   "execution_count": 8,
   "metadata": {},
   "outputs": [
    {
     "name": "stdout",
     "output_type": "stream",
     "text": [
      "Optimal threshold based on Youden's J-Statistic (OOF): 0.5332\n",
      "Optimal threshold for validation set: 0.5332\n",
      "\n",
      "--- Baseline TabNet Model Evaluation with Optimal Threshold ---\n",
      "\n",
      "--- Evaluation Metrics for TabNet_Highest (Baseline with Optimal Threshold) ---\n",
      "AUC ROC:        0.7393\n",
      "Gini Coefficient: 0.4786\n",
      "KS Statistic:   0.3586\n",
      "Accuracy:       0.7146\n",
      "Precision:      0.1666\n",
      "Recall (TPR):   0.6334\n",
      "F1-Score:       0.2638\n",
      "Brier Score:    0.2026\n",
      "Log Loss:       0.5877\n",
      "\n",
      "Confusion Matrix:\n",
      "[[40805 15732]\n",
      " [ 1820  3145]]\n",
      "Baseline results with optimal threshold saved to ./tabnet_outputs/tabnet_highest_baseline_results_optimal.csv\n"
     ]
    }
   ],
   "source": [
    "# Get the optimal threshold using the validation set\n",
    "optimal_threshold = find_optimal_threshold_j_statistic(y_val_base, tabnet_baseline.predict_proba(X_val_base)[:, 1])\n",
    "print(f\"Optimal threshold for validation set: {optimal_threshold:.4f}\")\n",
    "\n",
    "# Apply the optimal threshold to the test set predictions\n",
    "baseline_binary_preds_optimal = (baseline_preds > optimal_threshold).astype(int)\n",
    "# Evaluate the model with the optimal threshold\n",
    "print(\"\\n--- Baseline TabNet Model Evaluation with Optimal Threshold ---\")\n",
    "baseline_results_optimal = evaluate_model(\n",
    "    y_test, baseline_preds, baseline_binary_preds_optimal, model_name=\"TabNet_Highest (Baseline with Optimal Threshold)\"\n",
    ")\n",
    "\n",
    "# Save the results with the optimal threshold\n",
    "baseline_results_optimal_df = pd.DataFrame([baseline_results_optimal])\n",
    "baseline_results_optimal_filename = os.path.join(MODEL_OUTPUT_PATH, \"tabnet_highest_baseline_results_optimal.csv\")\n",
    "baseline_results_optimal_df.to_csv(baseline_results_optimal_filename, index=False, mode='w+')\n",
    "print(f\"Baseline results with optimal threshold saved to {baseline_results_optimal_filename}\")"
   ]
  }
 ],
 "metadata": {
  "kernelspec": {
   "display_name": "venv",
   "language": "python",
   "name": "python3"
  },
  "language_info": {
   "codemirror_mode": {
    "name": "ipython",
    "version": 3
   },
   "file_extension": ".py",
   "mimetype": "text/x-python",
   "name": "python",
   "nbconvert_exporter": "python",
   "pygments_lexer": "ipython3",
   "version": "3.12.8"
  }
 },
 "nbformat": 4,
 "nbformat_minor": 2
}
