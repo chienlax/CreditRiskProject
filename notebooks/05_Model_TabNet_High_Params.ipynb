{
 "cells": [
  {
   "cell_type": "markdown",
   "metadata": {},
   "source": [
    "# 0. Library"
   ]
  },
  {
   "cell_type": "code",
   "execution_count": 1,
   "metadata": {},
   "outputs": [],
   "source": [
    "# --- Core Libraries ---\n",
    "import pandas as pd\n",
    "import numpy as np\n",
    "import matplotlib.pyplot as plt\n",
    "import seaborn as sns\n",
    "from datetime import datetime\n",
    "import time\n",
    "import warnings\n",
    "import pickle\n",
    "import os\n",
    "\n",
    "# --- Sklearn ---\n",
    "from sklearn.model_selection import StratifiedKFold\n",
    "from sklearn.preprocessing import StandardScaler\n",
    "from sklearn.metrics import (roc_auc_score, roc_curve, precision_recall_curve, auc,\n",
    "                             accuracy_score, precision_score, recall_score, f1_score,\n",
    "                             confusion_matrix, brier_score_loss, log_loss, classification_report)\n",
    "from sklearn.model_selection import train_test_split\n",
    "from sklearn.feature_selection import VarianceThreshold\n",
    "\n",
    "# --- TabNet & PyTorch ---\n",
    "import torch\n",
    "from pytorch_tabnet.tab_model import TabNetClassifier"
   ]
  },
  {
   "cell_type": "markdown",
   "metadata": {},
   "source": [
    "# 1. Utility functions + Configurations"
   ]
  },
  {
   "cell_type": "markdown",
   "metadata": {},
   "source": [
    "## 1.1 Utility functions"
   ]
  },
  {
   "cell_type": "code",
   "execution_count": 2,
   "metadata": {},
   "outputs": [],
   "source": [
    "# --- Helper Functions (can be imported from a utils file or redefined) ---\n",
    "def calculate_ks(y_true, y_prob):\n",
    "    \"\"\"Calculates the Kolmogorov-Smirnov (KS) statistic.\"\"\"\n",
    "    df = pd.DataFrame({'y_true': y_true, 'y_prob': y_prob})\n",
    "    df = df.sort_values(by='y_prob', ascending=False)\n",
    "    # Ensure y_true sums are not zero before division\n",
    "    sum_true = df['y_true'].sum()\n",
    "    sum_false = len(df) - sum_true\n",
    "    if sum_true == 0 or sum_false == 0:\n",
    "        return 0.0 # KS is 0 if one class is missing\n",
    "    df['cumulative_true'] = df['y_true'].cumsum() / sum_true\n",
    "    df['cumulative_false'] = (1 - df['y_true']).cumsum() / sum_false\n",
    "    ks = max(abs(df['cumulative_true'] - df['cumulative_false']))\n",
    "    return ks\n",
    "\n",
    "def find_optimal_threshold_j_statistic(y_true, y_prob_oof):\n",
    "    \"\"\"Finds the optimal threshold maximizing Youden's J statistic (Sensitivity + Specificity - 1).\"\"\"\n",
    "    fpr, tpr, thresholds = roc_curve(y_true, y_prob_oof)\n",
    "     # Handle cases where thresholds might not be strictly decreasing\n",
    "    valid_indices = np.where(np.isfinite(thresholds))[0]\n",
    "    if len(valid_indices) == 0:\n",
    "        print(\"Warning: No valid thresholds found for J-statistic calculation.\")\n",
    "        return 0.5 # Default fallback\n",
    "    fpr, tpr, thresholds = fpr[valid_indices], tpr[valid_indices], thresholds[valid_indices]\n",
    "\n",
    "    if len(thresholds) == 0:\n",
    "         print(\"Warning: Threshold array is empty after filtering.\")\n",
    "         return 0.5\n",
    "\n",
    "    j_statistic = tpr - fpr\n",
    "    optimal_idx = np.argmax(j_statistic)\n",
    "    optimal_threshold = thresholds[optimal_idx]\n",
    "    # Ensure threshold is within [0, 1] bounds if necessary due to floating point issues\n",
    "    optimal_threshold = max(0.0, min(1.0, optimal_threshold))\n",
    "    print(f\"Optimal threshold based on Youden's J-Statistic (OOF): {optimal_threshold:.4f}\")\n",
    "    return optimal_threshold\n",
    "\n",
    "def evaluate_model(y_true, y_pred_proba, y_pred_binary, model_name=\"Model\"):\n",
    "    \"\"\"Calculates and prints standard classification metrics.\"\"\"\n",
    "    # Add epsilon to probabilities for log_loss if necessary\n",
    "    eps = 1e-15\n",
    "    y_pred_proba = np.clip(y_pred_proba, eps, 1 - eps)\n",
    "\n",
    "    auc_roc = roc_auc_score(y_true, y_pred_proba)\n",
    "    gini = 2 * auc_roc - 1\n",
    "    ks = calculate_ks(y_true, y_pred_proba)\n",
    "    accuracy = accuracy_score(y_true, y_pred_binary)\n",
    "    precision = precision_score(y_true, y_pred_binary, zero_division=0)\n",
    "    recall = recall_score(y_true, y_pred_binary, zero_division=0)\n",
    "    f1 = f1_score(y_true, y_pred_binary, zero_division=0)\n",
    "    brier = brier_score_loss(y_true, y_pred_proba)\n",
    "    logloss = log_loss(y_true, y_pred_proba)\n",
    "    cm = confusion_matrix(y_true, y_pred_binary)\n",
    "\n",
    "    print(f\"\\n--- Evaluation Metrics for {model_name} ---\")\n",
    "    print(f\"AUC ROC:        {auc_roc:.4f}\")\n",
    "    print(f\"Gini Coefficient: {gini:.4f}\")\n",
    "    print(f\"KS Statistic:   {ks:.4f}\")\n",
    "    print(f\"Accuracy:       {accuracy:.4f}\")\n",
    "    print(f\"Precision:      {precision:.4f}\")\n",
    "    print(f\"Recall (TPR):   {recall:.4f}\")\n",
    "    print(f\"F1-Score:       {f1:.4f}\")\n",
    "    print(f\"Brier Score:    {brier:.4f}\")\n",
    "    print(f\"Log Loss:       {logloss:.4f}\")\n",
    "    print(\"\\nConfusion Matrix:\")\n",
    "    print(cm)\n",
    "\n",
    "    results = {\n",
    "        'Model': model_name,\n",
    "        'AUC': auc_roc, 'Gini': gini, 'KS': ks, 'Accuracy': accuracy,\n",
    "        'Precision': precision, 'Recall': recall, 'F1': f1,\n",
    "        'Brier': brier, 'LogLoss': logloss\n",
    "    }\n",
    "    return results\n",
    "\n",
    "def plot_roc_curve(y_true, y_prob, model_name):\n",
    "    \"\"\"Plots the ROC curve.\"\"\"\n",
    "    fpr, tpr, _ = roc_curve(y_true, y_prob)\n",
    "    auc_roc = roc_auc_score(y_true, y_prob)\n",
    "    plt.figure(figsize=(8, 6))\n",
    "    plt.plot(fpr, tpr, label=f'{model_name} (AUC = {auc_roc:.4f})')\n",
    "    plt.plot([0, 1], [0, 1], 'k--') # Diagonal line\n",
    "    plt.xlabel('False Positive Rate')\n",
    "    plt.ylabel('True Positive Rate')\n",
    "    plt.title(f'{model_name} - ROC Curve')\n",
    "    plt.legend()\n",
    "    plt.grid(True)\n",
    "    # Save the plot\n",
    "    plot_filename = f\"roc_curve_{model_name.replace(' ', '_')}.png\"\n",
    "    plt.savefig(plot_filename)\n",
    "    print(f\"ROC curve saved to {plot_filename}\")\n",
    "    plt.show()"
   ]
  },
  {
   "cell_type": "markdown",
   "metadata": {},
   "source": [
    "## 1.2 Configurations"
   ]
  },
  {
   "cell_type": "code",
   "execution_count": 3,
   "metadata": {},
   "outputs": [
    {
     "name": "stdout",
     "output_type": "stream",
     "text": [
      "Using device: cuda\n"
     ]
    }
   ],
   "source": [
    "# --- Configuration ---\n",
    "DATA_PATH = '../data/processed/'\n",
    "MODEL_OUTPUT_PATH = './tabnet_outputs/' # Directory to save model/results\n",
    "os.makedirs(MODEL_OUTPUT_PATH, exist_ok=True)\n",
    "SEED = 42\n",
    "N_SPLITS = 10\n",
    "TARGET = 'TARGET'\n",
    "ID_COL = 'SK_ID_CURR'\n",
    "\n",
    "# TabNet Specific Config\n",
    "TABNET_PARAMS = dict(\n",
    "    # Network architecture\n",
    "    n_d=128,             \n",
    "    n_a=128,              \n",
    "    n_steps=10,          \n",
    "    n_independent=6,    \n",
    "    n_shared=6,     \n",
    "    \n",
    "    # Regularization\n",
    "    gamma=1.7,         \n",
    "    lambda_sparse=5e-4, \n",
    "    \n",
    "    # Optimizer settings\n",
    "    optimizer_fn=torch.optim.Adam,\n",
    "    optimizer_params=dict(lr=1e-2),\n",
    "    \n",
    "    # Learning rate scheduler\n",
    "    scheduler_params=dict(\n",
    "        mode=\"min\", \n",
    "        patience=50,    \n",
    "        min_lr=1e-4, \n",
    "        factor=0.5\n",
    "    ),\n",
    "    scheduler_fn=torch.optim.lr_scheduler.ReduceLROnPlateau,\n",
    "    \n",
    "    mask_type='sparsemax',\n",
    "    verbose=1,\n",
    "    seed=42 \n",
    ")\n",
    "\n",
    "# Training Config\n",
    "MAX_EPOCHS = 100\n",
    "PATIENCE = 20\n",
    "BATCH_SIZE = 4096\n",
    "VIRTUAL_BATCH_SIZE = 1024\n",
    "\n",
    "# --- Check for GPU ---\n",
    "device_name = 'cuda' if torch.cuda.is_available() else 'cpu'\n",
    "print(f\"Using device: {device_name}\")"
   ]
  },
  {
   "cell_type": "markdown",
   "metadata": {},
   "source": [
    "# 2. Load Data and Preprocess"
   ]
  },
  {
   "cell_type": "code",
   "execution_count": 4,
   "metadata": {},
   "outputs": [
    {
     "name": "stdout",
     "output_type": "stream",
     "text": [
      "Loading preprocessed data...\n",
      "Data loaded successfully.\n"
     ]
    }
   ],
   "source": [
    "# --- Load Data ---\n",
    "print(\"Loading preprocessed data...\")\n",
    "try:\n",
    "    train_df = pd.read_csv(DATA_PATH + 'train_final.csv')\n",
    "    test_df = pd.read_csv(DATA_PATH + 'test_final.csv')\n",
    "    print(\"Data loaded successfully.\")\n",
    "except FileNotFoundError as e:\n",
    "    print(f\"Error: {e}. Make sure 'train_final.csv' and 'test_final.csv' are in {DATA_PATH}\")\n",
    "    exit()\n",
    "\n",
    "# --- Prepare Data ---\n",
    "y_train = train_df[TARGET].values # Use .values for numpy arrays\n",
    "y_test = test_df[TARGET].values\n",
    "\n",
    "# Drop Target and potentially ID\n",
    "if ID_COL in train_df.columns:\n",
    "    X_train = train_df.drop(columns=[TARGET, ID_COL])\n",
    "    X_test = test_df.drop(columns=[TARGET, ID_COL])\n",
    "else:\n",
    "    X_train = train_df.drop(columns=[TARGET])\n",
    "    X_test = test_df.drop(columns=[TARGET])\n",
    "\n",
    "# Align columns just in case\n",
    "common_cols = list(X_train.columns.intersection(X_test.columns))\n",
    "X_train = X_train[common_cols]\n",
    "X_test = X_test[common_cols]\n",
    "feature_names = X_train.columns.tolist()"
   ]
  },
  {
   "cell_type": "code",
   "execution_count": 5,
   "metadata": {},
   "outputs": [
    {
     "name": "stdout",
     "output_type": "stream",
     "text": [
      "\n",
      "Applying Low Variance Feature Selection...\n",
      "Original number of features: 773\n",
      "Number of features after variance thresholding: 542\n",
      "Updated X_train shape: (246005, 542)\n",
      "Updated X_test shape: (61502, 542)\n"
     ]
    }
   ],
   "source": [
    "# --- Feature Selection: Low Variance Filter ---\n",
    "print(\"\\nApplying Low Variance Feature Selection...\")\n",
    "var_selector = VarianceThreshold(threshold=0.01)\n",
    "\n",
    "# Fit on training data only\n",
    "var_selector.fit(X_train)\n",
    "\n",
    "# Get the boolean mask of selected features\n",
    "feature_mask = var_selector.get_support()\n",
    "original_feature_names = X_train.columns.tolist() # Get original names before transformation\n",
    "selected_feature_names = [name for name, selected in zip(original_feature_names, feature_mask) if selected]\n",
    "\n",
    "print(f\"Original number of features: {X_train.shape[1]}\")\n",
    "print(f\"Number of features after variance thresholding: {len(selected_feature_names)}\")\n",
    "\n",
    "# Transform both X_train and X_test\n",
    "X_train_np_selected = var_selector.transform(X_train)\n",
    "X_test_np_selected = var_selector.transform(X_test)\n",
    "\n",
    "# Convert back to DataFrame with selected column names\n",
    "X_train = pd.DataFrame(X_train_np_selected, columns=selected_feature_names, index=X_train.index)\n",
    "X_test = pd.DataFrame(X_test_np_selected, columns=selected_feature_names, index=X_test.index)\n",
    "\n",
    "# Update the global feature_names list\n",
    "feature_names = selected_feature_names\n",
    "\n",
    "print(f\"Updated X_train shape: {X_train.shape}\")\n",
    "print(f\"Updated X_test shape: {X_test.shape}\")"
   ]
  },
  {
   "cell_type": "code",
   "execution_count": 6,
   "metadata": {},
   "outputs": [
    {
     "name": "stdout",
     "output_type": "stream",
     "text": [
      "WARNING: Treating all features as numerical for TabNet due to pre-encoded input data.\n",
      "Prepared X_train shape: (246005, 542)\n",
      "Prepared X_test shape: (61502, 542)\n"
     ]
    }
   ],
   "source": [
    "# --- LIMITATION: Treat all features as numerical ---\n",
    "# Ideally, identify original categorical features and pass their indices to TabNet.\n",
    "# Since we are using pre-encoded data, we treat all as numerical.\n",
    "print(\"WARNING: Treating all features as numerical for TabNet due to pre-encoded input data.\")\n",
    "categorical_indices = [] # No categorical indices provided\n",
    "categorical_dims = [] # No specific dimensions needed if indices are empty\n",
    "\n",
    "# Handle infinite values and NaNs\n",
    "# Replace inf with NaN, then fill NaN with median of each column\n",
    "X_train = X_train.replace([np.inf, -np.inf], np.nan).fillna(X_train.median())\n",
    "X_test = X_test.replace([np.inf, -np.inf], np.nan).fillna(X_train.median()) # Use train median for test set\n",
    "\n",
    "# Standardize the data\n",
    "# Note: TabNet can handle raw data, but standardization may help in some cases.\n",
    "# You can comment this out if you prefer to use raw data.\n",
    "scaler = StandardScaler()\n",
    "X_train = scaler.fit_transform(X_train)\n",
    "X_test = scaler.transform(X_test)\n",
    "\n",
    "# Convert to numpy arrays of type float32 for PyTorch\n",
    "X_train_np = X_train.astype(np.float32)\n",
    "X_test_np = X_test.astype(np.float32)\n",
    "\n",
    "print(f\"Prepared X_train shape: {X_train_np.shape}\")\n",
    "print(f\"Prepared X_test shape: {X_test_np.shape}\")"
   ]
  },
  {
   "cell_type": "markdown",
   "metadata": {},
   "source": [
    "# 3. Train and Evaluate"
   ]
  },
  {
   "cell_type": "markdown",
   "metadata": {},
   "source": [
    "## 3.1 Train Baseline Model"
   ]
  },
  {
   "cell_type": "code",
   "execution_count": 7,
   "metadata": {},
   "outputs": [
    {
     "name": "stdout",
     "output_type": "stream",
     "text": [
      "Using class weights: [ 1.       11.386959] to emphasize minority class\n"
     ]
    }
   ],
   "source": [
    "# Calculate class weights inversely proportional to class frequencies\n",
    "class_counts = np.bincount(y_train)\n",
    "total_samples = len(y_train)\n",
    "# More aggressive weighting for minority class\n",
    "class_weights = torch.tensor([1.0, (class_counts[0]/class_counts[1]) * 1.0], dtype=torch.float32)\n",
    "if device_name == 'cuda':\n",
    "    class_weights = class_weights.cuda()\n",
    "\n",
    "print(f\"Using class weights: {class_weights.cpu().numpy()} to emphasize minority class\")\n",
    "\n",
    "# Create weighted loss function\n",
    "weighted_loss = torch.nn.CrossEntropyLoss(weight=class_weights)"
   ]
  },
  {
   "cell_type": "code",
   "execution_count": 8,
   "metadata": {},
   "outputs": [
    {
     "name": "stdout",
     "output_type": "stream",
     "text": [
      "\n",
      "Training Baseline TabNet High Model without CV...\n",
      "CUDA available: True\n",
      "CUDA device count: 1\n",
      "CUDA device name: NVIDIA GeForce RTX 3060\n",
      "Current CUDA device: 0\n",
      "Using device: cuda for TabNet model\n"
     ]
    },
    {
     "name": "stderr",
     "output_type": "stream",
     "text": [
      "c:\\Users\\ORLab\\main_source\\CreditRiskProject\\venv\\Lib\\site-packages\\pytorch_tabnet\\abstract_model.py:82: UserWarning: Device used : cuda\n",
      "  warnings.warn(f\"Device used : {self.device}\")\n"
     ]
    },
    {
     "name": "stdout",
     "output_type": "stream",
     "text": [
      "TabNet High model initialized on cuda\n",
      "Fitting baseline TabNet High model...\n",
      "epoch 0  | loss: 1.96024 | validation_auc: 0.49868 | validation_balanced_accuracy: 0.49475 |  0:00:15s\n",
      "epoch 1  | loss: 1.97337 | validation_auc: 0.48753 | validation_balanced_accuracy: 0.50447 |  0:00:30s\n",
      "epoch 2  | loss: 1.99352 | validation_auc: 0.5023  | validation_balanced_accuracy: 0.50878 |  0:00:49s\n",
      "epoch 3  | loss: 4.71576 | validation_auc: 0.52579 | validation_balanced_accuracy: 0.52257 |  0:01:09s\n",
      "epoch 4  | loss: 1.09281 | validation_auc: 0.54443 | validation_balanced_accuracy: 0.52093 |  0:01:26s\n",
      "epoch 5  | loss: 0.71925 | validation_auc: 0.64722 | validation_balanced_accuracy: 0.59942 |  0:01:41s\n",
      "epoch 6  | loss: 0.6626  | validation_auc: 0.65747 | validation_balanced_accuracy: 0.61022 |  0:01:57s\n",
      "epoch 7  | loss: 0.65705 | validation_auc: 0.66968 | validation_balanced_accuracy: 0.62019 |  0:02:12s\n",
      "epoch 8  | loss: 0.64758 | validation_auc: 0.67301 | validation_balanced_accuracy: 0.62495 |  0:02:27s\n",
      "epoch 9  | loss: 0.64541 | validation_auc: 0.68249 | validation_balanced_accuracy: 0.63439 |  0:02:42s\n",
      "epoch 10 | loss: 0.64196 | validation_auc: 0.68265 | validation_balanced_accuracy: 0.63702 |  0:02:57s\n",
      "epoch 11 | loss: 0.64013 | validation_auc: 0.68054 | validation_balanced_accuracy: 0.6361  |  0:03:12s\n",
      "epoch 12 | loss: 0.6441  | validation_auc: 0.68059 | validation_balanced_accuracy: 0.63013 |  0:03:27s\n",
      "epoch 13 | loss: 0.64274 | validation_auc: 0.68493 | validation_balanced_accuracy: 0.63454 |  0:03:42s\n",
      "epoch 14 | loss: 0.63995 | validation_auc: 0.68539 | validation_balanced_accuracy: 0.63954 |  0:03:57s\n",
      "epoch 15 | loss: 0.64055 | validation_auc: 0.68603 | validation_balanced_accuracy: 0.63522 |  0:04:12s\n",
      "epoch 16 | loss: 0.64013 | validation_auc: 0.68678 | validation_balanced_accuracy: 0.63727 |  0:04:27s\n",
      "epoch 17 | loss: 0.64123 | validation_auc: 0.67014 | validation_balanced_accuracy: 0.6227  |  0:04:42s\n",
      "epoch 18 | loss: 0.64413 | validation_auc: 0.68889 | validation_balanced_accuracy: 0.63781 |  0:04:57s\n",
      "epoch 19 | loss: 0.63965 | validation_auc: 0.68061 | validation_balanced_accuracy: 0.63151 |  0:05:13s\n",
      "epoch 20 | loss: 0.63882 | validation_auc: 0.69014 | validation_balanced_accuracy: 0.6389  |  0:05:32s\n",
      "epoch 21 | loss: 0.6368  | validation_auc: 0.69001 | validation_balanced_accuracy: 0.63941 |  0:05:49s\n",
      "epoch 22 | loss: 0.63729 | validation_auc: 0.69004 | validation_balanced_accuracy: 0.63855 |  0:06:04s\n",
      "epoch 23 | loss: 0.63588 | validation_auc: 0.69311 | validation_balanced_accuracy: 0.64322 |  0:06:19s\n",
      "epoch 24 | loss: 0.63355 | validation_auc: 0.69734 | validation_balanced_accuracy: 0.64916 |  0:06:35s\n",
      "epoch 25 | loss: 0.63003 | validation_auc: 0.70841 | validation_balanced_accuracy: 0.65297 |  0:06:50s\n",
      "epoch 26 | loss: 0.62229 | validation_auc: 0.71741 | validation_balanced_accuracy: 0.66285 |  0:07:05s\n",
      "epoch 27 | loss: 0.6136  | validation_auc: 0.72402 | validation_balanced_accuracy: 0.66964 |  0:07:20s\n",
      "epoch 28 | loss: 0.61012 | validation_auc: 0.72953 | validation_balanced_accuracy: 0.67067 |  0:07:35s\n",
      "epoch 29 | loss: 0.60585 | validation_auc: 0.73322 | validation_balanced_accuracy: 0.67651 |  0:07:50s\n",
      "epoch 30 | loss: 0.60657 | validation_auc: 0.7277  | validation_balanced_accuracy: 0.67044 |  0:08:05s\n",
      "epoch 31 | loss: 0.60369 | validation_auc: 0.7331  | validation_balanced_accuracy: 0.67539 |  0:08:20s\n",
      "epoch 32 | loss: 0.59989 | validation_auc: 0.73564 | validation_balanced_accuracy: 0.68025 |  0:08:35s\n",
      "epoch 33 | loss: 0.5955  | validation_auc: 0.73912 | validation_balanced_accuracy: 0.67767 |  0:08:50s\n",
      "epoch 34 | loss: 0.59422 | validation_auc: 0.74136 | validation_balanced_accuracy: 0.68181 |  0:09:05s\n",
      "epoch 35 | loss: 0.59013 | validation_auc: 0.74292 | validation_balanced_accuracy: 0.68449 |  0:09:21s\n",
      "epoch 36 | loss: 0.58876 | validation_auc: 0.74281 | validation_balanced_accuracy: 0.6811  |  0:09:38s\n",
      "epoch 37 | loss: 0.58671 | validation_auc: 0.74269 | validation_balanced_accuracy: 0.68354 |  0:09:57s\n",
      "epoch 38 | loss: 0.58532 | validation_auc: 0.74489 | validation_balanced_accuracy: 0.68315 |  0:10:16s\n",
      "epoch 39 | loss: 0.58367 | validation_auc: 0.74625 | validation_balanced_accuracy: 0.68285 |  0:10:35s\n",
      "epoch 40 | loss: 0.58178 | validation_auc: 0.74116 | validation_balanced_accuracy: 0.67851 |  0:10:50s\n",
      "epoch 41 | loss: 0.58245 | validation_auc: 0.74815 | validation_balanced_accuracy: 0.68552 |  0:11:07s\n",
      "epoch 42 | loss: 0.57879 | validation_auc: 0.74523 | validation_balanced_accuracy: 0.6847  |  0:11:26s\n",
      "epoch 43 | loss: 0.57885 | validation_auc: 0.74916 | validation_balanced_accuracy: 0.68668 |  0:11:46s\n",
      "epoch 44 | loss: 0.5754  | validation_auc: 0.74827 | validation_balanced_accuracy: 0.68647 |  0:12:02s\n",
      "epoch 45 | loss: 0.57401 | validation_auc: 0.74558 | validation_balanced_accuracy: 0.67963 |  0:12:17s\n",
      "epoch 46 | loss: 0.57084 | validation_auc: 0.74556 | validation_balanced_accuracy: 0.68274 |  0:12:33s\n",
      "epoch 47 | loss: 0.57005 | validation_auc: 0.74609 | validation_balanced_accuracy: 0.68178 |  0:12:48s\n",
      "epoch 48 | loss: 0.57032 | validation_auc: 0.74761 | validation_balanced_accuracy: 0.68415 |  0:13:03s\n",
      "epoch 49 | loss: 0.5652  | validation_auc: 0.74395 | validation_balanced_accuracy: 0.67792 |  0:13:18s\n",
      "epoch 50 | loss: 0.57499 | validation_auc: 0.74317 | validation_balanced_accuracy: 0.68084 |  0:13:36s\n",
      "epoch 51 | loss: 0.56484 | validation_auc: 0.74083 | validation_balanced_accuracy: 0.67663 |  0:13:51s\n",
      "epoch 52 | loss: 0.55555 | validation_auc: 0.74265 | validation_balanced_accuracy: 0.67913 |  0:14:05s\n",
      "epoch 53 | loss: 0.55147 | validation_auc: 0.74604 | validation_balanced_accuracy: 0.6833  |  0:14:20s\n",
      "epoch 54 | loss: 0.55119 | validation_auc: 0.74108 | validation_balanced_accuracy: 0.68203 |  0:14:35s\n",
      "epoch 55 | loss: 0.54765 | validation_auc: 0.74486 | validation_balanced_accuracy: 0.67663 |  0:14:50s\n",
      "epoch 56 | loss: 0.54598 | validation_auc: 0.7386  | validation_balanced_accuracy: 0.67832 |  0:15:05s\n",
      "epoch 57 | loss: 0.55382 | validation_auc: 0.73781 | validation_balanced_accuracy: 0.67868 |  0:15:20s\n",
      "epoch 58 | loss: 0.54425 | validation_auc: 0.73619 | validation_balanced_accuracy: 0.6742  |  0:15:35s\n",
      "epoch 59 | loss: 0.53935 | validation_auc: 0.74118 | validation_balanced_accuracy: 0.67581 |  0:15:50s\n",
      "epoch 60 | loss: 0.54067 | validation_auc: 0.73879 | validation_balanced_accuracy: 0.67609 |  0:16:06s\n",
      "epoch 61 | loss: 0.53296 | validation_auc: 0.73264 | validation_balanced_accuracy: 0.67025 |  0:16:21s\n",
      "epoch 62 | loss: 0.534   | validation_auc: 0.73431 | validation_balanced_accuracy: 0.6722  |  0:16:36s\n",
      "epoch 63 | loss: 0.54303 | validation_auc: 0.72857 | validation_balanced_accuracy: 0.6648  |  0:16:51s\n",
      "\n",
      "Early stopping occurred at epoch 63 with best_epoch = 43 and best_validation_balanced_accuracy = 0.68668\n"
     ]
    },
    {
     "name": "stderr",
     "output_type": "stream",
     "text": [
      "c:\\Users\\ORLab\\main_source\\CreditRiskProject\\venv\\Lib\\site-packages\\pytorch_tabnet\\callbacks.py:172: UserWarning: Best weights from best epoch are automatically used!\n",
      "  warnings.warn(wrn_msg)\n"
     ]
    },
    {
     "name": "stdout",
     "output_type": "stream",
     "text": [
      "Baseline model training completed in 1094.45 seconds.\n",
      "\n",
      "--- Baseline TabNet Model Evaluation ---\n",
      "\n",
      "--- Evaluation Metrics for TabNet_High (Baseline) ---\n",
      "AUC ROC:        0.7557\n",
      "Gini Coefficient: 0.5114\n",
      "KS Statistic:   0.3834\n",
      "Accuracy:       0.6643\n",
      "Precision:      0.1568\n",
      "Recall (TPR):   0.7219\n",
      "F1-Score:       0.2577\n",
      "Brier Score:    0.2104\n",
      "Log Loss:       0.6101\n",
      "\n",
      "Confusion Matrix:\n",
      "[[37271 19266]\n",
      " [ 1381  3584]]\n",
      "ROC curve saved to roc_curve_TabNet_(Baseline).png\n"
     ]
    },
    {
     "data": {
      "image/png": "[encoded data removed]",
      "text/plain": [
       "<Figure size 800x600 with 1 Axes>"
      ]
     },
     "metadata": {},
     "output_type": "display_data"
    },
    {
     "name": "stdout",
     "output_type": "stream",
     "text": [
      "Successfully saved model at ./tabnet_outputs/tabnet_high_baseline_model.zip\n",
      "Baseline model saved to ./tabnet_outputs/tabnet_high_baseline_model.zip\n",
      "Baseline results saved to ./tabnet_outputs/tabnet_high_baseline_results.csv\n",
      "Baseline feature importance saved to ./tabnet_outputs/tabnet_high_baseline_feature_importance.csv\n"
     ]
    }
   ],
   "source": [
    "# --- Initialize and Train a Baseline TabNet Model ---\n",
    "print(\"\\nTraining Baseline TabNet High Model without CV...\")\n",
    "\n",
    "# First, explicitly check and print GPU information\n",
    "print(f\"CUDA available: {torch.cuda.is_available()}\")\n",
    "if torch.cuda.is_available():\n",
    "    print(f\"CUDA device count: {torch.cuda.device_count()}\")\n",
    "    print(f\"CUDA device name: {torch.cuda.get_device_name(0)}\")\n",
    "    print(f\"Current CUDA device: {torch.cuda.current_device()}\")\n",
    "    # Force CUDA device if available\n",
    "    device_name = 'cuda'\n",
    "else:\n",
    "    print(\"Warning: CUDA not available, using CPU\")\n",
    "    device_name = 'cpu'\n",
    "\n",
    "# Make sure TABNET_PARAMS has device_name set correctly\n",
    "TABNET_PARAMS['device_name'] = device_name\n",
    "print(f\"Using device: {device_name} for TabNet model\")\n",
    "\n",
    "# Split off a small portion of the training data for validation (early stopping purposes)\n",
    "X_train_base, X_val_base, y_train_base, y_val_base = train_test_split(\n",
    "    X_train_np, y_train, test_size=0.20, random_state=SEED, stratify=y_train\n",
    ")\n",
    "\n",
    "# Initialize the TabNet model with the parameters defined in TABNET_PARAMS\n",
    "tabnet_baseline = TabNetClassifier(**TABNET_PARAMS)\n",
    "print(f\"TabNet High model initialized on {device_name}\")\n",
    "\n",
    "# Train the model with early stopping based on validation set\n",
    "print(\"Fitting baseline TabNet High model...\")\n",
    "start_time = time.time()\n",
    "\n",
    "tabnet_baseline.fit(\n",
    "    X_train=X_train_base, y_train=y_train_base,\n",
    "    eval_set=[(X_val_base, y_val_base)],\n",
    "    eval_name=['validation'],\n",
    "    eval_metric=['auc', 'balanced_accuracy'],\n",
    "    max_epochs=MAX_EPOCHS,\n",
    "    patience=PATIENCE,\n",
    "    batch_size=BATCH_SIZE,\n",
    "    virtual_batch_size=VIRTUAL_BATCH_SIZE,\n",
    "    drop_last=False,\n",
    "    loss_fn=weighted_loss,\n",
    "    num_workers=0,\n",
    ")\n",
    "\n",
    "end_time = time.time()\n",
    "print(f\"Baseline model training completed in {(end_time - start_time):.2f} seconds.\")\n",
    "\n",
    "# Make predictions\n",
    "baseline_preds = tabnet_baseline.predict_proba(X_test_np)[:, 1]\n",
    "baseline_binary_preds = (baseline_preds > 0.5).astype(int)\n",
    "\n",
    "# Evaluate the baseline model\n",
    "print(\"\\n--- Baseline TabNet Model Evaluation ---\")\n",
    "baseline_results = evaluate_model(\n",
    "    y_test, baseline_preds, baseline_binary_preds, model_name=\"TabNet_High (Baseline)\"\n",
    ")\n",
    "\n",
    "# Plot ROC curve\n",
    "plot_roc_curve(y_test, baseline_preds, \"TabNet (Baseline)\")\n",
    "\n",
    "# Save the model\n",
    "baseline_model_path = os.path.join(MODEL_OUTPUT_PATH, \"tabnet_high_baseline_model\")\n",
    "saved_baseline_path = tabnet_baseline.save_model(baseline_model_path)\n",
    "print(f\"Baseline model saved to {saved_baseline_path}\")\n",
    "\n",
    "# Save baseline results\n",
    "baseline_results_df = pd.DataFrame([baseline_results])\n",
    "baseline_results_filename = os.path.join(MODEL_OUTPUT_PATH, \"tabnet_high_baseline_results.csv\")\n",
    "baseline_results_df.to_csv(baseline_results_filename, index=False, mode='w+')\n",
    "print(f\"Baseline results saved to {baseline_results_filename}\")\n",
    "\n",
    "# Feature importance from baseline model\n",
    "baseline_importance = tabnet_baseline.feature_importances_\n",
    "baseline_importance_df = pd.DataFrame({'Feature': feature_names, 'Importance': baseline_importance})\n",
    "baseline_importance_df = baseline_importance_df.sort_values(by='Importance', ascending=False)\n",
    "baseline_importance_filename = os.path.join(MODEL_OUTPUT_PATH, \"tabnet_high_baseline_feature_importance.csv\")\n",
    "baseline_importance_df.to_csv(baseline_importance_filename, index=False, mode='w+')\n",
    "print(f\"Baseline feature importance saved to {baseline_importance_filename}\")"
   ]
  },
  {
   "cell_type": "code",
   "execution_count": 9,
   "metadata": {},
   "outputs": [
    {
     "name": "stdout",
     "output_type": "stream",
     "text": [
      "Optimal threshold based on Youden's J-Statistic (OOF): 0.4937\n",
      "Optimal threshold for validation set: 0.4937\n",
      "\n",
      "--- Baseline TabNet Model Evaluation with Optimal Threshold ---\n",
      "\n",
      "--- Evaluation Metrics for TabNet_High (Baseline with Optimal Threshold) ---\n",
      "AUC ROC:        0.7557\n",
      "Gini Coefficient: 0.5114\n",
      "KS Statistic:   0.3834\n",
      "Accuracy:       0.6565\n",
      "Precision:      0.1550\n",
      "Recall (TPR):   0.7309\n",
      "F1-Score:       0.2557\n",
      "Brier Score:    0.2104\n",
      "Log Loss:       0.6101\n",
      "\n",
      "Confusion Matrix:\n",
      "[[36746 19791]\n",
      " [ 1336  3629]]\n",
      "Baseline results with optimal threshold saved to ./tabnet_outputs/tabnet_high_baseline_results_optimal.csv\n"
     ]
    }
   ],
   "source": [
    "# Get the optimal threshold using the validation set\n",
    "optimal_threshold = find_optimal_threshold_j_statistic(y_val_base, tabnet_baseline.predict_proba(X_val_base)[:, 1])\n",
    "print(f\"Optimal threshold for validation set: {optimal_threshold:.4f}\")\n",
    "\n",
    "# Apply the optimal threshold to the test set predictions\n",
    "baseline_binary_preds_optimal = (baseline_preds > optimal_threshold).astype(int)\n",
    "# Evaluate the model with the optimal threshold\n",
    "print(\"\\n--- Baseline TabNet Model Evaluation with Optimal Threshold ---\")\n",
    "baseline_results_optimal = evaluate_model(\n",
    "    y_test, baseline_preds, baseline_binary_preds_optimal, model_name=\"TabNet_High (Baseline with Optimal Threshold)\"\n",
    ")\n",
    "\n",
    "# Save the results with the optimal threshold\n",
    "baseline_results_optimal_df = pd.DataFrame([baseline_results_optimal])\n",
    "baseline_results_optimal_filename = os.path.join(MODEL_OUTPUT_PATH, \"tabnet_high_baseline_results_optimal.csv\")\n",
    "baseline_results_optimal_df.to_csv(baseline_results_optimal_filename, index=False, mode='w+')\n",
    "print(f\"Baseline results with optimal threshold saved to {baseline_results_optimal_filename}\")"
   ]
  }
 ],
 "metadata": {
  "kernelspec": {
   "display_name": "venv",
   "language": "python",
   "name": "python3"
  },
  "language_info": {
   "codemirror_mode": {
    "name": "ipython",
    "version": 3
   },
   "file_extension": ".py",
   "mimetype": "text/x-python",
   "name": "python",
   "nbconvert_exporter": "python",
   "pygments_lexer": "ipython3",
   "version": "3.12.8"
  }
 },
 "nbformat": 4,
 "nbformat_minor": 2
}
