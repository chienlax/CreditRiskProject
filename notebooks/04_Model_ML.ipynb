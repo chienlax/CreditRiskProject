{
 "cells": [
  {
   "cell_type": "markdown",
   "metadata": {},
   "source": [
    "# 0. Library"
   ]
  },
  {
   "cell_type": "code",
   "execution_count": 1,
   "metadata": {},
   "outputs": [
    {
     "name": "stderr",
     "output_type": "stream",
     "text": [
      "c:\\Users\\ORLab\\main_source\\CreditRiskProject\\venv\\Lib\\site-packages\\tqdm\\auto.py:21: TqdmWarning: IProgress not found. Please update jupyter and ipywidgets. See https://ipywidgets.readthedocs.io/en/stable/user_install.html\n",
      "  from .autonotebook import tqdm as notebook_tqdm\n"
     ]
    }
   ],
   "source": [
    "# --- Core Libraries ---\n",
    "import pandas as pd\n",
    "import numpy as np\n",
    "import matplotlib.pyplot as plt\n",
    "import seaborn as sns\n",
    "from datetime import datetime\n",
    "import warnings\n",
    "import time\n",
    "import pickle\n",
    "import os\n",
    "import torch\n",
    "\n",
    "# --- Sklearn ---\n",
    "from sklearn.model_selection import StratifiedKFold, cross_val_score, cross_val_predict # Added cross_val_score\n",
    "from sklearn.linear_model import LogisticRegression, SGDClassifier\n",
    "from sklearn.preprocessing import StandardScaler\n",
    "from sklearn.metrics import (roc_auc_score, roc_curve, precision_recall_curve, auc,\n",
    "                             accuracy_score, precision_score, recall_score, f1_score,\n",
    "                             confusion_matrix, brier_score_loss, log_loss, classification_report)\n",
    "from sklearn.pipeline import Pipeline as SklearnPipeline\n",
    "from sklearn.ensemble import StackingClassifier\n",
    "from sklearn.base import clone\n",
    "from sklearn.feature_selection import VarianceThreshold # Added for feature selection\n",
    "\n",
    "# --- Imbalanced Learn ---\n",
    "from imblearn.pipeline import Pipeline as ImblearnPipeline\n",
    "from imblearn.over_sampling import SMOTE, ADASYN, BorderlineSMOTE\n",
    "\n",
    "# --- Model Specific Libraries ---\n",
    "import xgboost as xgb\n",
    "import lightgbm as lgb\n",
    "\n",
    "# --- WOE/Scorecard Library ---\n",
    "# import scorecardpy as sc # For LR+WOE variant (Keep commented if not using)\n",
    "\n",
    "# --- Bayesian Optimization ---\n",
    "import optuna # Added Optuna\n",
    "\n",
    "# --- Display Options ---\n",
    "# Set display options (optional but helpful)\n",
    "pd.set_option('display.max_columns', None) # Show all columns\n",
    "pd.set_option('display.max_rows', 100)    # Show more rows\n",
    "pd.set_option('display.float_format', lambda x: '%.5f' % x) # Format floats\n",
    "warnings.filterwarnings('ignore', category=FutureWarning) # Ignore specific warnings if needed\n",
    "warnings.filterwarnings('ignore', category=UserWarning)"
   ]
  },
  {
   "cell_type": "markdown",
   "metadata": {},
   "source": [
    "# 1. Utility Function + Configuration"
   ]
  },
  {
   "cell_type": "markdown",
   "metadata": {},
   "source": [
    "## 1.1 Helper Function"
   ]
  },
  {
   "cell_type": "code",
   "execution_count": 2,
   "metadata": {},
   "outputs": [],
   "source": [
    "# --- Helper Functions ---\n",
    "def calculate_ks(y_true, y_prob):\n",
    "    \"\"\"Calculates the Kolmogorov-Smirnov (KS) statistic.\"\"\"\n",
    "    df = pd.DataFrame({'y_true': y_true, 'y_prob': y_prob})\n",
    "    df = df.sort_values(by='y_prob', ascending=False)\n",
    "    df['cumulative_true'] = df['y_true'].cumsum() / df['y_true'].sum()\n",
    "    df['cumulative_false'] = (1 - df['y_true']).cumsum() / (1 - df['y_true']).sum()\n",
    "    ks = max(abs(df['cumulative_true'] - df['cumulative_false']))\n",
    "    return ks\n",
    "\n",
    "def find_optimal_threshold_j_statistic(y_true, y_prob_oof):\n",
    "    \"\"\"Finds the optimal threshold maximizing Youden's J statistic (Sensitivity + Specificity - 1).\"\"\"\n",
    "    fpr, tpr, thresholds = roc_curve(y_true, y_prob_oof)\n",
    "    j_statistic = tpr - fpr\n",
    "    optimal_idx = np.argmax(j_statistic)\n",
    "    optimal_threshold = thresholds[optimal_idx]\n",
    "    print(f\"Optimal threshold based on Youden's J-Statistic (OOF): {optimal_threshold:.4f}\")\n",
    "    return optimal_threshold\n",
    "\n",
    "def evaluate_model(y_true, y_pred_proba, y_pred_binary, model_name=\"Model\"):\n",
    "    \"\"\"Calculates and prints standard classification metrics.\"\"\"\n",
    "    auc_roc = roc_auc_score(y_true, y_pred_proba)\n",
    "    gini = 2 * auc_roc - 1\n",
    "    ks = calculate_ks(y_true, y_pred_proba)\n",
    "    accuracy = accuracy_score(y_true, y_pred_binary)\n",
    "    precision = precision_score(y_true, y_pred_binary)\n",
    "    recall = recall_score(y_true, y_pred_binary)\n",
    "    f1 = f1_score(y_true, y_pred_binary)\n",
    "    brier = brier_score_loss(y_true, y_pred_proba)\n",
    "    logloss = log_loss(y_true, y_pred_proba)\n",
    "    cm = confusion_matrix(y_true, y_pred_binary)\n",
    "\n",
    "    print(f\"\\n--- Evaluation Metrics for {model_name} ---\")\n",
    "    print(f\"AUC ROC:        {auc_roc:.4f}\")\n",
    "    print(f\"Gini Coefficient: {gini:.4f}\")\n",
    "    print(f\"KS Statistic:   {ks:.4f}\")\n",
    "    print(f\"Accuracy:       {accuracy:.4f}\")\n",
    "    print(f\"Precision:      {precision:.4f}\")\n",
    "    print(f\"Recall (TPR):   {recall:.4f}\")\n",
    "    print(f\"F1-Score:       {f1:.4f}\")\n",
    "    print(f\"Brier Score:    {brier:.4f}\")\n",
    "    print(f\"Log Loss:       {logloss:.4f}\")\n",
    "    print(\"\\nConfusion Matrix:\")\n",
    "    print(cm)\n",
    "    # print(\"\\nClassification Report:\")\n",
    "    # print(classification_report(y_true, y_pred_binary))\n",
    "\n",
    "    results = {\n",
    "        'Model': model_name,\n",
    "        'AUC': auc_roc,\n",
    "        'Gini': gini,\n",
    "        'KS': ks,\n",
    "        'Accuracy': accuracy,\n",
    "        'Precision': precision,\n",
    "        'Recall': recall,\n",
    "        'F1': f1,\n",
    "        'Brier': brier,\n",
    "        'LogLoss': logloss\n",
    "    }\n",
    "    return results\n",
    "\n",
    "def plot_roc_curve(y_true, y_prob, model_name):\n",
    "    \"\"\"Plots the ROC curve.\"\"\"\n",
    "    fpr, tpr, _ = roc_curve(y_true, y_prob)\n",
    "    auc_roc = roc_auc_score(y_true, y_prob)\n",
    "    plt.figure(figsize=(8, 6))\n",
    "    plt.plot(fpr, tpr, label=f'{model_name} (AUC = {auc_roc:.4f})')\n",
    "    plt.plot([0, 1], [0, 1], 'k--') # Diagonal line\n",
    "    plt.xlabel('False Positive Rate')\n",
    "    plt.ylabel('True Positive Rate')\n",
    "    plt.title(f'{model_name} - ROC Curve')\n",
    "    plt.legend()\n",
    "    plt.grid(True)\n",
    "    plt.show()\n",
    "\n",
    "def get_feature_importance(model, feature_names, top_n=50):\n",
    "    \"\"\"Extracts and displays feature importances.\"\"\"\n",
    "    print(f\"\\n--- Top {top_n} Feature Importances ---\")\n",
    "    try:\n",
    "        if hasattr(model, 'feature_importances_'):\n",
    "            importances = model.feature_importances_\n",
    "        elif hasattr(model, 'coef_'):\n",
    "            # For linear models, use absolute coefficient values\n",
    "            importances = np.abs(model.coef_[0]) # Assuming binary classification coef_[0]\n",
    "        else:\n",
    "            print(\"Model does not have standard feature_importances_ or coef_ attribute.\")\n",
    "            return None\n",
    "\n",
    "        feature_importance_df = pd.DataFrame({'feature': feature_names, 'importance': importances})\n",
    "        feature_importance_df = feature_importance_df.sort_values(by='importance', ascending=False)\n",
    "\n",
    "        # Check if importance sum is close to 1 (typical for tree models)\n",
    "        print(f\"Sum of importances: {feature_importance_df['importance'].sum():.4f}\")\n",
    "\n",
    "        display(feature_importance_df.head(top_n))\n",
    "        return feature_importance_df\n",
    "\n",
    "    except Exception as e:\n",
    "        print(f\"Could not get feature importances: {e}\")\n",
    "        return None\n"
   ]
  },
  {
   "cell_type": "markdown",
   "metadata": {},
   "source": [
    "## 1.2 Early Stopping"
   ]
  },
  {
   "cell_type": "code",
   "execution_count": 3,
   "metadata": {},
   "outputs": [],
   "source": [
    "# Define custom early stopping callbacks for Optuna\n",
    "class EarlyStoppingCallback:\n",
    "    def __init__(self, patience=5, min_improvement=0.001):\n",
    "        self.patience = patience\n",
    "        self.min_improvement = min_improvement\n",
    "        self.best_score = None\n",
    "        self.no_improvement_count = 0\n",
    "        self.trial_history = []\n",
    "        print(f\"EarlyStoppingCallback initialized: patience={patience}, min_improvement={min_improvement}\")\n",
    "        \n",
    "    def __call__(self, study, trial):\n",
    "        current_score = trial.value\n",
    "        trial_number = trial.number\n",
    "        \n",
    "        # Skip if the trial failed\n",
    "        if current_score is None:\n",
    "            print(f\"Trial {trial_number} failed, skipping\")\n",
    "            return False\n",
    "        \n",
    "        # Initialize best_score for the first time\n",
    "        if self.best_score is None:\n",
    "            self.best_score = current_score\n",
    "            print(f\"First trial, best_score initialized to {self.best_score:.4f}\")\n",
    "            self.trial_history.append((trial_number, current_score, \"first\"))\n",
    "            return False\n",
    "            \n",
    "        # Check if current score improved\n",
    "        improvement = current_score - self.best_score if study.direction == optuna.study.StudyDirection.MAXIMIZE else self.best_score - current_score\n",
    "        \n",
    "        if improvement > self.min_improvement:\n",
    "            old_best = self.best_score\n",
    "            self.best_score = current_score\n",
    "            self.no_improvement_count = 0\n",
    "            print(f\"Trial {trial_number}: New best {self.best_score:.4f} (improved by {improvement:.4f})\")\n",
    "            self.trial_history.append((trial_number, current_score, \"improved\"))\n",
    "        else:\n",
    "            self.no_improvement_count += 1\n",
    "            print(f\"Trial {trial_number}: No improvement ({self.no_improvement_count}/{self.patience}). Score: {current_score:.4f}, Best: {self.best_score:.4f}\")\n",
    "            self.trial_history.append((trial_number, current_score, \"no_imp\"))\n",
    "            \n",
    "        # Stop if no improvement for patience trials\n",
    "        if self.no_improvement_count >= self.patience:\n",
    "            print(f\"EARLY STOPPING TRIGGERED after {self.patience} trials without {self.min_improvement:.4f} improvement\")\n",
    "            print(f\"Trial history: {self.trial_history}\")\n",
    "            return True\n",
    "            \n",
    "        return False\n",
    "\n",
    "class TimeoutCallback:\n",
    "    \"\"\"Stop optimization after a specified amount of time.\"\"\"\n",
    "    def __init__(self, timeout=3600):  # timeout in seconds (default: 1 hour)\n",
    "        self.start_time = time.time()\n",
    "        self.timeout = timeout\n",
    "        \n",
    "    def __call__(self, study, trial):\n",
    "        elapsed_time = time.time() - self.start_time\n",
    "        if elapsed_time > self.timeout:\n",
    "            print(f\"Timeout: optimization stopped after {elapsed_time/60:.2f} minutes\")\n",
    "            return True\n",
    "        return False"
   ]
  },
  {
   "cell_type": "markdown",
   "metadata": {},
   "source": [
    "## 1.3 Configuration"
   ]
  },
  {
   "cell_type": "code",
   "execution_count": 4,
   "metadata": {},
   "outputs": [
    {
     "name": "stdout",
     "output_type": "stream",
     "text": [
      "Using GPU: NVIDIA GeForce RTX 3060\n",
      "GPU Memory: 12.88 GB\n",
      "CUDA Version: 12.6\n",
      "GPU Memory Allocated: 0.00 GB\n",
      "GPU Memory Reserved: 0.00 GB\n"
     ]
    }
   ],
   "source": [
    "# --- GPU Configuration for PyTorch ---\n",
    "def setup_device():\n",
    "    \"\"\"Setup and configure PyTorch device (GPU if available)\"\"\"\n",
    "    if torch.cuda.is_available():\n",
    "        device = torch.device(\"cuda\")\n",
    "        # Print GPU information\n",
    "        gpu_props = torch.cuda.get_device_properties(0)\n",
    "        print(f\"Using GPU: {torch.cuda.get_device_name(0)}\")\n",
    "        print(f\"GPU Memory: {gpu_props.total_memory / 1e9:.2f} GB\")\n",
    "        print(f\"CUDA Version: {torch.version.cuda}\")\n",
    "        \n",
    "        # Set memory usage behavior\n",
    "        torch.backends.cudnn.benchmark = True  # May speed up training if input sizes don't vary\n",
    "        # torch.backends.cudnn.deterministic = True  # Uncomment for full reproducibility (but slower)\n",
    "        \n",
    "        # Optional: Set PyTorch to allocate memory as needed rather than all at once\n",
    "        if hasattr(torch.cuda, 'set_per_process_memory_fraction'):\n",
    "            torch.cuda.set_per_process_memory_fraction(0.9)  # Use up to 90% of GPU memory\n",
    "            \n",
    "        # Print memory usage\n",
    "        print(f\"GPU Memory Allocated: {torch.cuda.memory_allocated(0) / 1e9:.2f} GB\")\n",
    "        print(f\"GPU Memory Reserved: {torch.cuda.memory_reserved(0) / 1e9:.2f} GB\")\n",
    "    else:\n",
    "        device = torch.device(\"cpu\")\n",
    "        print(\"No GPU available, using CPU\")\n",
    "        \n",
    "        # Check if MPS is available (Apple Silicon GPU)\n",
    "        if hasattr(torch.backends, 'mps') and torch.backends.mps.is_available():\n",
    "            device = torch.device(\"mps\")\n",
    "            print(\"Using Apple Silicon GPU (MPS)\")\n",
    "    \n",
    "    # Set default dtype for better numerical precision if needed\n",
    "    # torch.set_default_dtype(torch.float32)  # Default is already float32\n",
    "    # For reproducibility\n",
    "    SEED = 42\n",
    "    torch.manual_seed(SEED)\n",
    "    np.random.seed(SEED)\n",
    "    if torch.cuda.is_available():\n",
    "        torch.cuda.manual_seed_all(SEED)\n",
    "    \n",
    "    return device\n",
    "\n",
    "# Set up device\n",
    "device = setup_device()"
   ]
  },
  {
   "cell_type": "code",
   "execution_count": 5,
   "metadata": {},
   "outputs": [
    {
     "name": "stdout",
     "output_type": "stream",
     "text": [
      "Using device: cuda\n"
     ]
    }
   ],
   "source": [
    "# --- Configuration ---\n",
    "DATA_PATH = '../data/processed/'\n",
    "MODEL_OUTPUT_PATH = './model_outputs/' # Directory to save Optuna studies, results\n",
    "os.makedirs(MODEL_OUTPUT_PATH, exist_ok=True) # Create output dir if needed\n",
    "SEED = 42\n",
    "N_SPLITS = 5 # Number of folds for Cross-Validation\n",
    "OPTUNA_N_TRIALS = 40 # Number of trials for Optuna optimization (adjust as needed)\n",
    "\n",
    "# --- Check for GPU ---\n",
    "# Define device_name globally before any model uses it\n",
    "device_name = 'cuda' if torch.cuda.is_available() else 'cpu'\n",
    "print(f\"Using device: {device_name}\")"
   ]
  },
  {
   "cell_type": "markdown",
   "metadata": {},
   "source": [
    "# 2. Data Loading and Preprocessing"
   ]
  },
  {
   "cell_type": "markdown",
   "metadata": {},
   "source": [
    "## 2.1 Loading, Preprocess"
   ]
  },
  {
   "cell_type": "code",
   "execution_count": 6,
   "metadata": {},
   "outputs": [
    {
     "name": "stdout",
     "output_type": "stream",
     "text": [
      "Loading preprocessed data...\n",
      "Data loaded successfully.\n",
      "Train shape: (246005, 114)\n",
      "Test shape: (61502, 114)\n"
     ]
    }
   ],
   "source": [
    "print(\"Loading preprocessed data...\")\n",
    "try:\n",
    "    train_df = pd.read_csv(DATA_PATH + 'train.csv')\n",
    "    test_df = pd.read_csv(DATA_PATH + 'test.csv')\n",
    "    print(\"Data loaded successfully.\")\n",
    "    print(f\"Train shape: {train_df.shape}\")\n",
    "    print(f\"Test shape: {test_df.shape}\")\n",
    "except FileNotFoundError as e:\n",
    "    print(f\"Error: {e}. Make sure 'train.csv' and 'test.csv' are in {DATA_PATH}\")\n",
    "    # Exit or raise error if files not found\n",
    "    raise FileNotFoundError(f\"Data files not found in {DATA_PATH}\")\n",
    "except Exception as e:\n",
    "    print(f\"An error occurred while loading data: {e}\")\n",
    "    raise # Exit or raise error if any other issue occurs"
   ]
  },
  {
   "cell_type": "code",
   "execution_count": 7,
   "metadata": {},
   "outputs": [
    {
     "name": "stdout",
     "output_type": "stream",
     "text": [
      "Prepared X_train shape: (246005, 112)\n",
      "Prepared X_test shape: (61502, 112)\n",
      "Number of features: 112\n"
     ]
    }
   ],
   "source": [
    "# --- Prepare Data for Modeling ---\n",
    "TARGET = 'TARGET'\n",
    "ID_COL = 'SK_ID_CURR' # Assuming ID column might still be present\n",
    "\n",
    "# Align columns - crucial if feature engineering created different cols slightly\n",
    "train_labels = train_df[TARGET]\n",
    "test_labels = test_df[TARGET]\n",
    "\n",
    "# Drop Target and potentially ID from features\n",
    "if ID_COL in train_df.columns:\n",
    "    train_ids = train_df[ID_COL]\n",
    "    test_ids = test_df[ID_COL]\n",
    "    train_df = train_df.drop(columns=[TARGET, ID_COL])\n",
    "    test_df = test_df.drop(columns=[TARGET, ID_COL])\n",
    "else:\n",
    "    train_df = train_df.drop(columns=[TARGET])\n",
    "    test_df = test_df.drop(columns=[TARGET])\n",
    "\n",
    "# Ensure columns are in the same order\n",
    "common_cols = list(train_df.columns.intersection(test_df.columns))\n",
    "X_train = train_df[common_cols].copy()\n",
    "X_test = test_df[common_cols].copy()\n",
    "y_train = train_labels.copy()\n",
    "y_test = test_labels.copy()\n",
    "\n",
    "# Capture feature names for later use\n",
    "feature_names = X_train.columns.tolist()\n",
    "\n",
    "print(f\"Prepared X_train shape: {X_train.shape}\")\n",
    "print(f\"Prepared X_test shape: {X_test.shape}\")\n",
    "print(f\"Number of features: {len(feature_names)}\")\n",
    "\n",
    "# --- Cross-Validation Setup ---\n",
    "cv = StratifiedKFold(n_splits=N_SPLITS, shuffle=True, random_state=SEED)\n",
    "\n",
    "# --- Results Storage ---\n",
    "baseline_results = []\n",
    "tuned_results = []\n",
    "model_objects = {} # To store best tuned models for stacking"
   ]
  },
  {
   "cell_type": "markdown",
   "metadata": {},
   "source": [
    "# 4. Model 2: Logistic Regression with SGD"
   ]
  },
  {
   "cell_type": "code",
   "execution_count": 8,
   "metadata": {},
   "outputs": [
    {
     "name": "stdout",
     "output_type": "stream",
     "text": [
      "\n",
      "Class distribution in training data:\n",
      "TARGET\n",
      "0   0.92\n",
      "1   0.08\n",
      "\n",
      "Class distribution in test data:\n",
      "TARGET\n",
      "0   0.92\n",
      "1   0.08\n",
      "\n",
      "============================================================\n"
     ]
    }
   ],
   "source": [
    "# print out the class distribution\n",
    "print(\"\\nClass distribution in training data:\")\n",
    "print(y_train.value_counts(normalize=True).to_string(float_format='%.2f'))\n",
    "print(\"\\nClass distribution in test data:\")\n",
    "print(y_test.value_counts(normalize=True).to_string(float_format='%.2f'))\n",
    "print(\"\\n\" + \"=\"*60)"
   ]
  },
  {
   "cell_type": "code",
   "execution_count": 9,
   "metadata": {},
   "outputs": [
    {
     "name": "stdout",
     "output_type": "stream",
     "text": [
      "\n",
      "============================================================\n",
      "Model 2: SGDClassifier with Optuna Optimization\n",
      "============================================================\n",
      "\n",
      "--- Baseline SGDClassifier Training ---\n",
      "\n",
      "--- Evaluation Metrics for SGDClassifier (Baseline) ---\n",
      "AUC ROC:        0.7305\n",
      "Gini Coefficient: 0.4611\n",
      "KS Statistic:   0.3427\n",
      "Accuracy:       0.6548\n",
      "Precision:      0.1481\n",
      "Recall (TPR):   0.6892\n",
      "F1-Score:       0.2438\n",
      "Brier Score:    0.2220\n",
      "Log Loss:       0.6396\n",
      "\n",
      "Confusion Matrix:\n",
      "[[36850 19687]\n",
      " [ 1543  3422]]\n"
     ]
    },
    {
     "data": {
      "image/png": "[encoded data removed]",
      "text/plain": [
       "<Figure size 800x600 with 1 Axes>"
      ]
     },
     "metadata": {},
     "output_type": "display_data"
    },
    {
     "name": "stdout",
     "output_type": "stream",
     "text": [
      "\n",
      "--- Optuna Optimization for SGDClassifier ---\n"
     ]
    },
    {
     "name": "stderr",
     "output_type": "stream",
     "text": [
      "[I 2025-04-09 10:55:01,822] Using an existing study with name 'sgd_optimization' instead of creating a new one.\n"
     ]
    },
    {
     "name": "stdout",
     "output_type": "stream",
     "text": [
      "EarlyStoppingCallback initialized: patience=5, min_improvement=0.002\n",
      "Starting Optuna optimization for SGD with max 40 trials (early stopping enabled)...\n"
     ]
    },
    {
     "name": "stderr",
     "output_type": "stream",
     "text": [
      "[I 2025-04-09 10:55:10,376] Trial 222 finished with value: 0.6981427043406301 and parameters: {'alpha': 0.0011775926322523836, 'max_iter': 1328, 'loss': 'log_loss', 'penalty': 'elasticnet', 'class_weight': 'balanced', 'learning_rate': 'constant', 'eta0': 0.0130444216322366}. Best is trial 138 with value: 0.7524510482039067.\n"
     ]
    },
    {
     "name": "stdout",
     "output_type": "stream",
     "text": [
      "First trial, best_score initialized to 0.6981\n"
     ]
    },
    {
     "name": "stderr",
     "output_type": "stream",
     "text": [
      "[I 2025-04-09 10:55:23,390] Trial 223 finished with value: 0.7489746795300194 and parameters: {'alpha': 0.00039121957934722205, 'max_iter': 1387, 'loss': 'log_loss', 'penalty': 'elasticnet', 'class_weight': 'balanced', 'learning_rate': 'adaptive', 'eta0': 0.004362031048850333}. Best is trial 138 with value: 0.7524510482039067.\n"
     ]
    },
    {
     "name": "stdout",
     "output_type": "stream",
     "text": [
      "Trial 223: New best 0.7490 (improved by 0.0508)\n"
     ]
    },
    {
     "name": "stderr",
     "output_type": "stream",
     "text": [
      "[I 2025-04-09 10:55:32,118] Trial 224 finished with value: 0.7488777597419259 and parameters: {'alpha': 0.0015509277434913886, 'max_iter': 1580, 'loss': 'log_loss', 'penalty': 'l2', 'class_weight': 'balanced', 'learning_rate': 'adaptive', 'eta0': 0.0031427781949124826}. Best is trial 138 with value: 0.7524510482039067.\n"
     ]
    },
    {
     "name": "stdout",
     "output_type": "stream",
     "text": [
      "Trial 224: No improvement (1/5). Score: 0.7489, Best: 0.7490\n",
      "Timeout: optimization stopped after 0.50 minutes\n"
     ]
    },
    {
     "name": "stderr",
     "output_type": "stream",
     "text": [
      "[I 2025-04-09 10:55:45,575] Trial 225 finished with value: 0.7489685631786698 and parameters: {'alpha': 0.0010568690138763382, 'max_iter': 1693, 'loss': 'log_loss', 'penalty': 'elasticnet', 'class_weight': 'balanced', 'learning_rate': 'adaptive', 'eta0': 0.02225707024102417}. Best is trial 138 with value: 0.7524510482039067.\n"
     ]
    },
    {
     "name": "stdout",
     "output_type": "stream",
     "text": [
      "Trial 225: No improvement (2/5). Score: 0.7490, Best: 0.7490\n",
      "Timeout: optimization stopped after 0.73 minutes\n"
     ]
    },
    {
     "name": "stderr",
     "output_type": "stream",
     "text": [
      "[I 2025-04-09 10:55:55,840] Trial 226 finished with value: 0.7476905340857225 and parameters: {'alpha': 0.0020344346599256427, 'max_iter': 1745, 'loss': 'log_loss', 'penalty': 'elasticnet', 'class_weight': 'balanced', 'learning_rate': 'invscaling', 'eta0': 0.005883671223927586}. Best is trial 138 with value: 0.7524510482039067.\n"
     ]
    },
    {
     "name": "stdout",
     "output_type": "stream",
     "text": [
      "Trial 226: No improvement (3/5). Score: 0.7477, Best: 0.7490\n",
      "Timeout: optimization stopped after 0.90 minutes\n"
     ]
    },
    {
     "name": "stderr",
     "output_type": "stream",
     "text": [
      "[I 2025-04-09 10:56:09,252] Trial 227 finished with value: 0.7489645375640939 and parameters: {'alpha': 0.0009515537280302247, 'max_iter': 1556, 'loss': 'log_loss', 'penalty': 'elasticnet', 'class_weight': 'balanced', 'learning_rate': 'adaptive', 'eta0': 0.011126077738864995}. Best is trial 138 with value: 0.7524510482039067.\n"
     ]
    },
    {
     "name": "stdout",
     "output_type": "stream",
     "text": [
      "Trial 227: No improvement (4/5). Score: 0.7490, Best: 0.7490\n",
      "Timeout: optimization stopped after 1.12 minutes\n"
     ]
    },
    {
     "name": "stderr",
     "output_type": "stream",
     "text": [
      "[I 2025-04-09 10:56:23,856] Trial 228 finished with value: 0.7489323426669923 and parameters: {'alpha': 0.0013423999134683363, 'max_iter': 1514, 'loss': 'log_loss', 'penalty': 'elasticnet', 'class_weight': 'balanced', 'learning_rate': 'adaptive', 'eta0': 0.01269259247738517}. Best is trial 138 with value: 0.7524510482039067.\n"
     ]
    },
    {
     "name": "stdout",
     "output_type": "stream",
     "text": [
      "Trial 228: No improvement (5/5). Score: 0.7489, Best: 0.7490\n",
      "EARLY STOPPING TRIGGERED after 5 trials without 0.0020 improvement\n",
      "Trial history: [(222, 0.6981427043406301, 'first'), (223, 0.7489746795300194, 'improved'), (224, 0.7488777597419259, 'no_imp'), (225, 0.7489685631786698, 'no_imp'), (226, 0.7476905340857225, 'no_imp'), (227, 0.7489645375640939, 'no_imp'), (228, 0.7489323426669923, 'no_imp')]\n",
      "Timeout: optimization stopped after 1.37 minutes\n"
     ]
    },
    {
     "name": "stderr",
     "output_type": "stream",
     "text": [
      "[I 2025-04-09 10:56:38,096] Trial 229 finished with value: 0.7489864034645045 and parameters: {'alpha': 0.0007293669902800511, 'max_iter': 1458, 'loss': 'log_loss', 'penalty': 'elasticnet', 'class_weight': 'balanced', 'learning_rate': 'adaptive', 'eta0': 0.01650109284062438}. Best is trial 138 with value: 0.7524510482039067.\n"
     ]
    },
    {
     "name": "stdout",
     "output_type": "stream",
     "text": [
      "Trial 229: No improvement (6/5). Score: 0.7490, Best: 0.7490\n",
      "EARLY STOPPING TRIGGERED after 5 trials without 0.0020 improvement\n",
      "Trial history: [(222, 0.6981427043406301, 'first'), (223, 0.7489746795300194, 'improved'), (224, 0.7488777597419259, 'no_imp'), (225, 0.7489685631786698, 'no_imp'), (226, 0.7476905340857225, 'no_imp'), (227, 0.7489645375640939, 'no_imp'), (228, 0.7489323426669923, 'no_imp'), (229, 0.7489864034645045, 'no_imp')]\n",
      "Timeout: optimization stopped after 1.60 minutes\n"
     ]
    },
    {
     "name": "stderr",
     "output_type": "stream",
     "text": [
      "[I 2025-04-09 10:56:51,138] Trial 230 finished with value: 0.748939069094887 and parameters: {'alpha': 0.0010921236222547165, 'max_iter': 1657, 'loss': 'log_loss', 'penalty': 'elasticnet', 'class_weight': 'balanced', 'learning_rate': 'adaptive', 'eta0': 0.009249628439117842}. Best is trial 138 with value: 0.7524510482039067.\n"
     ]
    },
    {
     "name": "stdout",
     "output_type": "stream",
     "text": [
      "Trial 230: No improvement (7/5). Score: 0.7489, Best: 0.7490\n",
      "EARLY STOPPING TRIGGERED after 5 trials without 0.0020 improvement\n",
      "Trial history: [(222, 0.6981427043406301, 'first'), (223, 0.7489746795300194, 'improved'), (224, 0.7488777597419259, 'no_imp'), (225, 0.7489685631786698, 'no_imp'), (226, 0.7476905340857225, 'no_imp'), (227, 0.7489645375640939, 'no_imp'), (228, 0.7489323426669923, 'no_imp'), (229, 0.7489864034645045, 'no_imp'), (230, 0.748939069094887, 'no_imp')]\n",
      "Timeout: optimization stopped after 1.82 minutes\n"
     ]
    },
    {
     "name": "stderr",
     "output_type": "stream",
     "text": [
      "[I 2025-04-09 10:57:04,843] Trial 231 finished with value: 0.7489999609684606 and parameters: {'alpha': 0.0008406705981698865, 'max_iter': 1505, 'loss': 'log_loss', 'penalty': 'elasticnet', 'class_weight': 'balanced', 'learning_rate': 'adaptive', 'eta0': 0.013708900955619604}. Best is trial 138 with value: 0.7524510482039067.\n"
     ]
    },
    {
     "name": "stdout",
     "output_type": "stream",
     "text": [
      "Trial 231: No improvement (8/5). Score: 0.7490, Best: 0.7490\n",
      "EARLY STOPPING TRIGGERED after 5 trials without 0.0020 improvement\n",
      "Trial history: [(222, 0.6981427043406301, 'first'), (223, 0.7489746795300194, 'improved'), (224, 0.7488777597419259, 'no_imp'), (225, 0.7489685631786698, 'no_imp'), (226, 0.7476905340857225, 'no_imp'), (227, 0.7489645375640939, 'no_imp'), (228, 0.7489323426669923, 'no_imp'), (229, 0.7489864034645045, 'no_imp'), (230, 0.748939069094887, 'no_imp'), (231, 0.7489999609684606, 'no_imp')]\n",
      "Timeout: optimization stopped after 2.05 minutes\n"
     ]
    },
    {
     "name": "stderr",
     "output_type": "stream",
     "text": [
      "[I 2025-04-09 10:57:17,328] Trial 232 finished with value: 0.7488925429653643 and parameters: {'alpha': 0.0015826126769879002, 'max_iter': 1621, 'loss': 'log_loss', 'penalty': 'elasticnet', 'class_weight': 'balanced', 'learning_rate': 'adaptive', 'eta0': 0.008333757534554445}. Best is trial 138 with value: 0.7524510482039067.\n"
     ]
    },
    {
     "name": "stdout",
     "output_type": "stream",
     "text": [
      "Trial 232: No improvement (9/5). Score: 0.7489, Best: 0.7490\n",
      "EARLY STOPPING TRIGGERED after 5 trials without 0.0020 improvement\n",
      "Trial history: [(222, 0.6981427043406301, 'first'), (223, 0.7489746795300194, 'improved'), (224, 0.7488777597419259, 'no_imp'), (225, 0.7489685631786698, 'no_imp'), (226, 0.7476905340857225, 'no_imp'), (227, 0.7489645375640939, 'no_imp'), (228, 0.7489323426669923, 'no_imp'), (229, 0.7489864034645045, 'no_imp'), (230, 0.748939069094887, 'no_imp'), (231, 0.7489999609684606, 'no_imp'), (232, 0.7488925429653643, 'no_imp')]\n",
      "Timeout: optimization stopped after 2.26 minutes\n"
     ]
    },
    {
     "name": "stderr",
     "output_type": "stream",
     "text": [
      "[I 2025-04-09 10:57:29,825] Trial 233 finished with value: 0.7487320059982548 and parameters: {'alpha': 0.0005236364237952833, 'max_iter': 1892, 'loss': 'log_loss', 'penalty': 'elasticnet', 'class_weight': None, 'learning_rate': 'adaptive', 'eta0': 0.015429449545633852}. Best is trial 138 with value: 0.7524510482039067.\n"
     ]
    },
    {
     "name": "stdout",
     "output_type": "stream",
     "text": [
      "Trial 233: No improvement (10/5). Score: 0.7487, Best: 0.7490\n",
      "EARLY STOPPING TRIGGERED after 5 trials without 0.0020 improvement\n",
      "Trial history: [(222, 0.6981427043406301, 'first'), (223, 0.7489746795300194, 'improved'), (224, 0.7488777597419259, 'no_imp'), (225, 0.7489685631786698, 'no_imp'), (226, 0.7476905340857225, 'no_imp'), (227, 0.7489645375640939, 'no_imp'), (228, 0.7489323426669923, 'no_imp'), (229, 0.7489864034645045, 'no_imp'), (230, 0.748939069094887, 'no_imp'), (231, 0.7489999609684606, 'no_imp'), (232, 0.7488925429653643, 'no_imp'), (233, 0.7487320059982548, 'no_imp')]\n",
      "Timeout: optimization stopped after 2.47 minutes\n"
     ]
    },
    {
     "name": "stderr",
     "output_type": "stream",
     "text": [
      "[I 2025-04-09 10:57:43,910] Trial 234 finished with value: 0.7489110178198682 and parameters: {'alpha': 0.0012348536142078232, 'max_iter': 1402, 'loss': 'log_loss', 'penalty': 'elasticnet', 'class_weight': 'balanced', 'learning_rate': 'adaptive', 'eta0': 0.02943110045967082}. Best is trial 138 with value: 0.7524510482039067.\n"
     ]
    },
    {
     "name": "stdout",
     "output_type": "stream",
     "text": [
      "Trial 234: No improvement (11/5). Score: 0.7489, Best: 0.7490\n",
      "EARLY STOPPING TRIGGERED after 5 trials without 0.0020 improvement\n",
      "Trial history: [(222, 0.6981427043406301, 'first'), (223, 0.7489746795300194, 'improved'), (224, 0.7488777597419259, 'no_imp'), (225, 0.7489685631786698, 'no_imp'), (226, 0.7476905340857225, 'no_imp'), (227, 0.7489645375640939, 'no_imp'), (228, 0.7489323426669923, 'no_imp'), (229, 0.7489864034645045, 'no_imp'), (230, 0.748939069094887, 'no_imp'), (231, 0.7489999609684606, 'no_imp'), (232, 0.7488925429653643, 'no_imp'), (233, 0.7487320059982548, 'no_imp'), (234, 0.7489110178198682, 'no_imp')]\n",
      "Timeout: optimization stopped after 2.70 minutes\n"
     ]
    },
    {
     "name": "stderr",
     "output_type": "stream",
     "text": [
      "[I 2025-04-09 10:57:59,950] Trial 235 finished with value: 0.7490029890856194 and parameters: {'alpha': 0.0009483901403691759, 'max_iter': 1563, 'loss': 'modified_huber', 'penalty': 'elasticnet', 'class_weight': 'balanced', 'learning_rate': 'adaptive', 'eta0': 0.018762780664110898}. Best is trial 138 with value: 0.7524510482039067.\n"
     ]
    },
    {
     "name": "stdout",
     "output_type": "stream",
     "text": [
      "Trial 235: No improvement (12/5). Score: 0.7490, Best: 0.7490\n",
      "EARLY STOPPING TRIGGERED after 5 trials without 0.0020 improvement\n",
      "Trial history: [(222, 0.6981427043406301, 'first'), (223, 0.7489746795300194, 'improved'), (224, 0.7488777597419259, 'no_imp'), (225, 0.7489685631786698, 'no_imp'), (226, 0.7476905340857225, 'no_imp'), (227, 0.7489645375640939, 'no_imp'), (228, 0.7489323426669923, 'no_imp'), (229, 0.7489864034645045, 'no_imp'), (230, 0.748939069094887, 'no_imp'), (231, 0.7489999609684606, 'no_imp'), (232, 0.7488925429653643, 'no_imp'), (233, 0.7487320059982548, 'no_imp'), (234, 0.7489110178198682, 'no_imp'), (235, 0.7490029890856194, 'no_imp')]\n",
      "Timeout: optimization stopped after 2.97 minutes\n"
     ]
    },
    {
     "name": "stderr",
     "output_type": "stream",
     "text": [
      "[I 2025-04-09 10:58:11,236] Trial 236 finished with value: 0.7489906294691864 and parameters: {'alpha': 0.0006696939400875617, 'max_iter': 2996, 'loss': 'log_loss', 'penalty': 'elasticnet', 'class_weight': 'balanced', 'learning_rate': 'adaptive', 'eta0': 0.0038498513847219106}. Best is trial 138 with value: 0.7524510482039067.\n"
     ]
    },
    {
     "name": "stdout",
     "output_type": "stream",
     "text": [
      "Trial 236: No improvement (13/5). Score: 0.7490, Best: 0.7490\n",
      "EARLY STOPPING TRIGGERED after 5 trials without 0.0020 improvement\n",
      "Trial history: [(222, 0.6981427043406301, 'first'), (223, 0.7489746795300194, 'improved'), (224, 0.7488777597419259, 'no_imp'), (225, 0.7489685631786698, 'no_imp'), (226, 0.7476905340857225, 'no_imp'), (227, 0.7489645375640939, 'no_imp'), (228, 0.7489323426669923, 'no_imp'), (229, 0.7489864034645045, 'no_imp'), (230, 0.748939069094887, 'no_imp'), (231, 0.7489999609684606, 'no_imp'), (232, 0.7488925429653643, 'no_imp'), (233, 0.7487320059982548, 'no_imp'), (234, 0.7489110178198682, 'no_imp'), (235, 0.7490029890856194, 'no_imp'), (236, 0.7489906294691864, 'no_imp')]\n",
      "Timeout: optimization stopped after 3.16 minutes\n"
     ]
    },
    {
     "name": "stderr",
     "output_type": "stream",
     "text": [
      "[I 2025-04-09 10:58:24,390] Trial 237 finished with value: 0.7488521153747372 and parameters: {'alpha': 0.0018574478486136892, 'max_iter': 1710, 'loss': 'log_loss', 'penalty': 'elasticnet', 'class_weight': 'balanced', 'learning_rate': 'adaptive', 'eta0': 0.006982373514135774}. Best is trial 138 with value: 0.7524510482039067.\n"
     ]
    },
    {
     "name": "stdout",
     "output_type": "stream",
     "text": [
      "Trial 237: No improvement (14/5). Score: 0.7489, Best: 0.7490\n",
      "EARLY STOPPING TRIGGERED after 5 trials without 0.0020 improvement\n",
      "Trial history: [(222, 0.6981427043406301, 'first'), (223, 0.7489746795300194, 'improved'), (224, 0.7488777597419259, 'no_imp'), (225, 0.7489685631786698, 'no_imp'), (226, 0.7476905340857225, 'no_imp'), (227, 0.7489645375640939, 'no_imp'), (228, 0.7489323426669923, 'no_imp'), (229, 0.7489864034645045, 'no_imp'), (230, 0.748939069094887, 'no_imp'), (231, 0.7489999609684606, 'no_imp'), (232, 0.7488925429653643, 'no_imp'), (233, 0.7487320059982548, 'no_imp'), (234, 0.7489110178198682, 'no_imp'), (235, 0.7490029890856194, 'no_imp'), (236, 0.7489906294691864, 'no_imp'), (237, 0.7488521153747372, 'no_imp')]\n",
      "Timeout: optimization stopped after 3.38 minutes\n"
     ]
    },
    {
     "name": "stderr",
     "output_type": "stream",
     "text": [
      "[I 2025-04-09 10:58:36,414] Trial 238 finished with value: 0.7489220270296417 and parameters: {'alpha': 0.0014574882597582412, 'max_iter': 2120, 'loss': 'log_loss', 'penalty': 'elasticnet', 'class_weight': 'balanced', 'learning_rate': 'adaptive', 'eta0': 0.007139734513217184}. Best is trial 138 with value: 0.7524510482039067.\n"
     ]
    },
    {
     "name": "stdout",
     "output_type": "stream",
     "text": [
      "Trial 238: No improvement (15/5). Score: 0.7489, Best: 0.7490\n",
      "EARLY STOPPING TRIGGERED after 5 trials without 0.0020 improvement\n",
      "Trial history: [(222, 0.6981427043406301, 'first'), (223, 0.7489746795300194, 'improved'), (224, 0.7488777597419259, 'no_imp'), (225, 0.7489685631786698, 'no_imp'), (226, 0.7476905340857225, 'no_imp'), (227, 0.7489645375640939, 'no_imp'), (228, 0.7489323426669923, 'no_imp'), (229, 0.7489864034645045, 'no_imp'), (230, 0.748939069094887, 'no_imp'), (231, 0.7489999609684606, 'no_imp'), (232, 0.7488925429653643, 'no_imp'), (233, 0.7487320059982548, 'no_imp'), (234, 0.7489110178198682, 'no_imp'), (235, 0.7490029890856194, 'no_imp'), (236, 0.7489906294691864, 'no_imp'), (237, 0.7488521153747372, 'no_imp'), (238, 0.7489220270296417, 'no_imp')]\n",
      "Timeout: optimization stopped after 3.58 minutes\n"
     ]
    },
    {
     "name": "stderr",
     "output_type": "stream",
     "text": [
      "[I 2025-04-09 10:58:47,823] Trial 239 finished with value: 0.748871596632885 and parameters: {'alpha': 0.0018225115134742234, 'max_iter': 2249, 'loss': 'log_loss', 'penalty': 'elasticnet', 'class_weight': 'balanced', 'learning_rate': 'adaptive', 'eta0': 0.005586966319165451}. Best is trial 138 with value: 0.7524510482039067.\n"
     ]
    },
    {
     "name": "stdout",
     "output_type": "stream",
     "text": [
      "Trial 239: No improvement (16/5). Score: 0.7489, Best: 0.7490\n",
      "EARLY STOPPING TRIGGERED after 5 trials without 0.0020 improvement\n",
      "Trial history: [(222, 0.6981427043406301, 'first'), (223, 0.7489746795300194, 'improved'), (224, 0.7488777597419259, 'no_imp'), (225, 0.7489685631786698, 'no_imp'), (226, 0.7476905340857225, 'no_imp'), (227, 0.7489645375640939, 'no_imp'), (228, 0.7489323426669923, 'no_imp'), (229, 0.7489864034645045, 'no_imp'), (230, 0.748939069094887, 'no_imp'), (231, 0.7489999609684606, 'no_imp'), (232, 0.7488925429653643, 'no_imp'), (233, 0.7487320059982548, 'no_imp'), (234, 0.7489110178198682, 'no_imp'), (235, 0.7490029890856194, 'no_imp'), (236, 0.7489906294691864, 'no_imp'), (237, 0.7488521153747372, 'no_imp'), (238, 0.7489220270296417, 'no_imp'), (239, 0.748871596632885, 'no_imp')]\n",
      "Timeout: optimization stopped after 3.77 minutes\n"
     ]
    },
    {
     "name": "stderr",
     "output_type": "stream",
     "text": [
      "[I 2025-04-09 10:59:01,258] Trial 240 finished with value: 0.7489483627426966 and parameters: {'alpha': 0.0011290844376201043, 'max_iter': 2183, 'loss': 'log_loss', 'penalty': 'elasticnet', 'class_weight': 'balanced', 'learning_rate': 'adaptive', 'eta0': 0.010003894260707524}. Best is trial 138 with value: 0.7524510482039067.\n"
     ]
    },
    {
     "name": "stdout",
     "output_type": "stream",
     "text": [
      "Trial 240: No improvement (17/5). Score: 0.7489, Best: 0.7490\n",
      "EARLY STOPPING TRIGGERED after 5 trials without 0.0020 improvement\n",
      "Trial history: [(222, 0.6981427043406301, 'first'), (223, 0.7489746795300194, 'improved'), (224, 0.7488777597419259, 'no_imp'), (225, 0.7489685631786698, 'no_imp'), (226, 0.7476905340857225, 'no_imp'), (227, 0.7489645375640939, 'no_imp'), (228, 0.7489323426669923, 'no_imp'), (229, 0.7489864034645045, 'no_imp'), (230, 0.748939069094887, 'no_imp'), (231, 0.7489999609684606, 'no_imp'), (232, 0.7488925429653643, 'no_imp'), (233, 0.7487320059982548, 'no_imp'), (234, 0.7489110178198682, 'no_imp'), (235, 0.7490029890856194, 'no_imp'), (236, 0.7489906294691864, 'no_imp'), (237, 0.7488521153747372, 'no_imp'), (238, 0.7489220270296417, 'no_imp'), (239, 0.748871596632885, 'no_imp'), (240, 0.7489483627426966, 'no_imp')]\n",
      "Timeout: optimization stopped after 3.99 minutes\n"
     ]
    },
    {
     "name": "stderr",
     "output_type": "stream",
     "text": [
      "[I 2025-04-09 10:59:15,390] Trial 241 finished with value: 0.7489263677019955 and parameters: {'alpha': 0.0013446911071219286, 'max_iter': 2026, 'loss': 'log_loss', 'penalty': 'elasticnet', 'class_weight': 'balanced', 'learning_rate': 'adaptive', 'eta0': 0.011938634346495778}. Best is trial 138 with value: 0.7524510482039067.\n"
     ]
    },
    {
     "name": "stdout",
     "output_type": "stream",
     "text": [
      "Trial 241: No improvement (18/5). Score: 0.7489, Best: 0.7490\n",
      "EARLY STOPPING TRIGGERED after 5 trials without 0.0020 improvement\n",
      "Trial history: [(222, 0.6981427043406301, 'first'), (223, 0.7489746795300194, 'improved'), (224, 0.7488777597419259, 'no_imp'), (225, 0.7489685631786698, 'no_imp'), (226, 0.7476905340857225, 'no_imp'), (227, 0.7489645375640939, 'no_imp'), (228, 0.7489323426669923, 'no_imp'), (229, 0.7489864034645045, 'no_imp'), (230, 0.748939069094887, 'no_imp'), (231, 0.7489999609684606, 'no_imp'), (232, 0.7488925429653643, 'no_imp'), (233, 0.7487320059982548, 'no_imp'), (234, 0.7489110178198682, 'no_imp'), (235, 0.7490029890856194, 'no_imp'), (236, 0.7489906294691864, 'no_imp'), (237, 0.7488521153747372, 'no_imp'), (238, 0.7489220270296417, 'no_imp'), (239, 0.748871596632885, 'no_imp'), (240, 0.7489483627426966, 'no_imp'), (241, 0.7489263677019955, 'no_imp')]\n",
      "Timeout: optimization stopped after 4.23 minutes\n"
     ]
    },
    {
     "name": "stderr",
     "output_type": "stream",
     "text": [
      "[I 2025-04-09 10:59:31,793] Trial 242 finished with value: 0.7489918217903175 and parameters: {'alpha': 0.0008626172977909279, 'max_iter': 2078, 'loss': 'log_loss', 'penalty': 'elasticnet', 'class_weight': 'balanced', 'learning_rate': 'adaptive', 'eta0': 0.039868526220883556}. Best is trial 138 with value: 0.7524510482039067.\n"
     ]
    },
    {
     "name": "stdout",
     "output_type": "stream",
     "text": [
      "Trial 242: No improvement (19/5). Score: 0.7490, Best: 0.7490\n",
      "EARLY STOPPING TRIGGERED after 5 trials without 0.0020 improvement\n",
      "Trial history: [(222, 0.6981427043406301, 'first'), (223, 0.7489746795300194, 'improved'), (224, 0.7488777597419259, 'no_imp'), (225, 0.7489685631786698, 'no_imp'), (226, 0.7476905340857225, 'no_imp'), (227, 0.7489645375640939, 'no_imp'), (228, 0.7489323426669923, 'no_imp'), (229, 0.7489864034645045, 'no_imp'), (230, 0.748939069094887, 'no_imp'), (231, 0.7489999609684606, 'no_imp'), (232, 0.7488925429653643, 'no_imp'), (233, 0.7487320059982548, 'no_imp'), (234, 0.7489110178198682, 'no_imp'), (235, 0.7490029890856194, 'no_imp'), (236, 0.7489906294691864, 'no_imp'), (237, 0.7488521153747372, 'no_imp'), (238, 0.7489220270296417, 'no_imp'), (239, 0.748871596632885, 'no_imp'), (240, 0.7489483627426966, 'no_imp'), (241, 0.7489263677019955, 'no_imp'), (242, 0.7489918217903175, 'no_imp')]\n",
      "Timeout: optimization stopped after 4.50 minutes\n"
     ]
    },
    {
     "name": "stderr",
     "output_type": "stream",
     "text": [
      "[I 2025-04-09 10:59:42,596] Trial 243 finished with value: 0.7489712105546271 and parameters: {'alpha': 0.00104382183176428, 'max_iter': 1652, 'loss': 'log_loss', 'penalty': 'elasticnet', 'class_weight': 'balanced', 'learning_rate': 'adaptive', 'eta0': 0.0020267557817502963}. Best is trial 138 with value: 0.7524510482039067.\n"
     ]
    },
    {
     "name": "stdout",
     "output_type": "stream",
     "text": [
      "Trial 243: No improvement (20/5). Score: 0.7490, Best: 0.7490\n",
      "EARLY STOPPING TRIGGERED after 5 trials without 0.0020 improvement\n",
      "Trial history: [(222, 0.6981427043406301, 'first'), (223, 0.7489746795300194, 'improved'), (224, 0.7488777597419259, 'no_imp'), (225, 0.7489685631786698, 'no_imp'), (226, 0.7476905340857225, 'no_imp'), (227, 0.7489645375640939, 'no_imp'), (228, 0.7489323426669923, 'no_imp'), (229, 0.7489864034645045, 'no_imp'), (230, 0.748939069094887, 'no_imp'), (231, 0.7489999609684606, 'no_imp'), (232, 0.7488925429653643, 'no_imp'), (233, 0.7487320059982548, 'no_imp'), (234, 0.7489110178198682, 'no_imp'), (235, 0.7490029890856194, 'no_imp'), (236, 0.7489906294691864, 'no_imp'), (237, 0.7488521153747372, 'no_imp'), (238, 0.7489220270296417, 'no_imp'), (239, 0.748871596632885, 'no_imp'), (240, 0.7489483627426966, 'no_imp'), (241, 0.7489263677019955, 'no_imp'), (242, 0.7489918217903175, 'no_imp'), (243, 0.7489712105546271, 'no_imp')]\n",
      "Timeout: optimization stopped after 4.68 minutes\n"
     ]
    },
    {
     "name": "stderr",
     "output_type": "stream",
     "text": [
      "[I 2025-04-09 10:59:54,922] Trial 244 finished with value: 0.7488731084649078 and parameters: {'alpha': 0.00173279193400787, 'max_iter': 1954, 'loss': 'log_loss', 'penalty': 'elasticnet', 'class_weight': 'balanced', 'learning_rate': 'adaptive', 'eta0': 0.00820522720880378}. Best is trial 138 with value: 0.7524510482039067.\n"
     ]
    },
    {
     "name": "stdout",
     "output_type": "stream",
     "text": [
      "Trial 244: No improvement (21/5). Score: 0.7489, Best: 0.7490\n",
      "EARLY STOPPING TRIGGERED after 5 trials without 0.0020 improvement\n",
      "Trial history: [(222, 0.6981427043406301, 'first'), (223, 0.7489746795300194, 'improved'), (224, 0.7488777597419259, 'no_imp'), (225, 0.7489685631786698, 'no_imp'), (226, 0.7476905340857225, 'no_imp'), (227, 0.7489645375640939, 'no_imp'), (228, 0.7489323426669923, 'no_imp'), (229, 0.7489864034645045, 'no_imp'), (230, 0.748939069094887, 'no_imp'), (231, 0.7489999609684606, 'no_imp'), (232, 0.7488925429653643, 'no_imp'), (233, 0.7487320059982548, 'no_imp'), (234, 0.7489110178198682, 'no_imp'), (235, 0.7490029890856194, 'no_imp'), (236, 0.7489906294691864, 'no_imp'), (237, 0.7488521153747372, 'no_imp'), (238, 0.7489220270296417, 'no_imp'), (239, 0.748871596632885, 'no_imp'), (240, 0.7489483627426966, 'no_imp'), (241, 0.7489263677019955, 'no_imp'), (242, 0.7489918217903175, 'no_imp'), (243, 0.7489712105546271, 'no_imp'), (244, 0.7488731084649078, 'no_imp')]\n",
      "Timeout: optimization stopped after 4.88 minutes\n"
     ]
    },
    {
     "name": "stderr",
     "output_type": "stream",
     "text": [
      "[I 2025-04-09 11:00:07,280] Trial 245 finished with value: 0.7489892156056601 and parameters: {'alpha': 0.0007631959312832759, 'max_iter': 1758, 'loss': 'log_loss', 'penalty': 'elasticnet', 'class_weight': 'balanced', 'learning_rate': 'adaptive', 'eta0': 0.00528971032947666}. Best is trial 138 with value: 0.7524510482039067.\n"
     ]
    },
    {
     "name": "stdout",
     "output_type": "stream",
     "text": [
      "Trial 245: No improvement (22/5). Score: 0.7490, Best: 0.7490\n",
      "EARLY STOPPING TRIGGERED after 5 trials without 0.0020 improvement\n",
      "Trial history: [(222, 0.6981427043406301, 'first'), (223, 0.7489746795300194, 'improved'), (224, 0.7488777597419259, 'no_imp'), (225, 0.7489685631786698, 'no_imp'), (226, 0.7476905340857225, 'no_imp'), (227, 0.7489645375640939, 'no_imp'), (228, 0.7489323426669923, 'no_imp'), (229, 0.7489864034645045, 'no_imp'), (230, 0.748939069094887, 'no_imp'), (231, 0.7489999609684606, 'no_imp'), (232, 0.7488925429653643, 'no_imp'), (233, 0.7487320059982548, 'no_imp'), (234, 0.7489110178198682, 'no_imp'), (235, 0.7490029890856194, 'no_imp'), (236, 0.7489906294691864, 'no_imp'), (237, 0.7488521153747372, 'no_imp'), (238, 0.7489220270296417, 'no_imp'), (239, 0.748871596632885, 'no_imp'), (240, 0.7489483627426966, 'no_imp'), (241, 0.7489263677019955, 'no_imp'), (242, 0.7489918217903175, 'no_imp'), (243, 0.7489712105546271, 'no_imp'), (244, 0.7488731084649078, 'no_imp'), (245, 0.7489892156056601, 'no_imp')]\n",
      "Timeout: optimization stopped after 5.09 minutes\n"
     ]
    },
    {
     "name": "stderr",
     "output_type": "stream",
     "text": [
      "[I 2025-04-09 11:00:20,836] Trial 246 finished with value: 0.7487731293878614 and parameters: {'alpha': 0.0022034681724359922, 'max_iter': 1590, 'loss': 'log_loss', 'penalty': 'elasticnet', 'class_weight': 'balanced', 'learning_rate': 'adaptive', 'eta0': 0.022869860861019383}. Best is trial 138 with value: 0.7524510482039067.\n"
     ]
    },
    {
     "name": "stdout",
     "output_type": "stream",
     "text": [
      "Trial 246: No improvement (23/5). Score: 0.7488, Best: 0.7490\n",
      "EARLY STOPPING TRIGGERED after 5 trials without 0.0020 improvement\n",
      "Trial history: [(222, 0.6981427043406301, 'first'), (223, 0.7489746795300194, 'improved'), (224, 0.7488777597419259, 'no_imp'), (225, 0.7489685631786698, 'no_imp'), (226, 0.7476905340857225, 'no_imp'), (227, 0.7489645375640939, 'no_imp'), (228, 0.7489323426669923, 'no_imp'), (229, 0.7489864034645045, 'no_imp'), (230, 0.748939069094887, 'no_imp'), (231, 0.7489999609684606, 'no_imp'), (232, 0.7488925429653643, 'no_imp'), (233, 0.7487320059982548, 'no_imp'), (234, 0.7489110178198682, 'no_imp'), (235, 0.7490029890856194, 'no_imp'), (236, 0.7489906294691864, 'no_imp'), (237, 0.7488521153747372, 'no_imp'), (238, 0.7489220270296417, 'no_imp'), (239, 0.748871596632885, 'no_imp'), (240, 0.7489483627426966, 'no_imp'), (241, 0.7489263677019955, 'no_imp'), (242, 0.7489918217903175, 'no_imp'), (243, 0.7489712105546271, 'no_imp'), (244, 0.7488731084649078, 'no_imp'), (245, 0.7489892156056601, 'no_imp'), (246, 0.7487731293878614, 'no_imp')]\n",
      "Timeout: optimization stopped after 5.32 minutes\n"
     ]
    },
    {
     "name": "stderr",
     "output_type": "stream",
     "text": [
      "[I 2025-04-09 11:00:33,129] Trial 247 finished with value: 0.7489044917820797 and parameters: {'alpha': 0.0015016072030171069, 'max_iter': 1627, 'loss': 'log_loss', 'penalty': 'elasticnet', 'class_weight': 'balanced', 'learning_rate': 'adaptive', 'eta0': 0.011489715919587223}. Best is trial 138 with value: 0.7524510482039067.\n"
     ]
    },
    {
     "name": "stdout",
     "output_type": "stream",
     "text": [
      "Trial 247: No improvement (24/5). Score: 0.7489, Best: 0.7490\n",
      "EARLY STOPPING TRIGGERED after 5 trials without 0.0020 improvement\n",
      "Trial history: [(222, 0.6981427043406301, 'first'), (223, 0.7489746795300194, 'improved'), (224, 0.7488777597419259, 'no_imp'), (225, 0.7489685631786698, 'no_imp'), (226, 0.7476905340857225, 'no_imp'), (227, 0.7489645375640939, 'no_imp'), (228, 0.7489323426669923, 'no_imp'), (229, 0.7489864034645045, 'no_imp'), (230, 0.748939069094887, 'no_imp'), (231, 0.7489999609684606, 'no_imp'), (232, 0.7488925429653643, 'no_imp'), (233, 0.7487320059982548, 'no_imp'), (234, 0.7489110178198682, 'no_imp'), (235, 0.7490029890856194, 'no_imp'), (236, 0.7489906294691864, 'no_imp'), (237, 0.7488521153747372, 'no_imp'), (238, 0.7489220270296417, 'no_imp'), (239, 0.748871596632885, 'no_imp'), (240, 0.7489483627426966, 'no_imp'), (241, 0.7489263677019955, 'no_imp'), (242, 0.7489918217903175, 'no_imp'), (243, 0.7489712105546271, 'no_imp'), (244, 0.7488731084649078, 'no_imp'), (245, 0.7489892156056601, 'no_imp'), (246, 0.7487731293878614, 'no_imp'), (247, 0.7489044917820797, 'no_imp')]\n",
      "Timeout: optimization stopped after 5.52 minutes\n"
     ]
    },
    {
     "name": "stderr",
     "output_type": "stream",
     "text": [
      "[I 2025-04-09 11:00:46,531] Trial 248 finished with value: 0.7489568180918955 and parameters: {'alpha': 0.001168233646955406, 'max_iter': 1673, 'loss': 'log_loss', 'penalty': 'elasticnet', 'class_weight': 'balanced', 'learning_rate': 'adaptive', 'eta0': 0.009631210911775216}. Best is trial 138 with value: 0.7524510482039067.\n"
     ]
    },
    {
     "name": "stdout",
     "output_type": "stream",
     "text": [
      "Trial 248: No improvement (25/5). Score: 0.7490, Best: 0.7490\n",
      "EARLY STOPPING TRIGGERED after 5 trials without 0.0020 improvement\n",
      "Trial history: [(222, 0.6981427043406301, 'first'), (223, 0.7489746795300194, 'improved'), (224, 0.7488777597419259, 'no_imp'), (225, 0.7489685631786698, 'no_imp'), (226, 0.7476905340857225, 'no_imp'), (227, 0.7489645375640939, 'no_imp'), (228, 0.7489323426669923, 'no_imp'), (229, 0.7489864034645045, 'no_imp'), (230, 0.748939069094887, 'no_imp'), (231, 0.7489999609684606, 'no_imp'), (232, 0.7488925429653643, 'no_imp'), (233, 0.7487320059982548, 'no_imp'), (234, 0.7489110178198682, 'no_imp'), (235, 0.7490029890856194, 'no_imp'), (236, 0.7489906294691864, 'no_imp'), (237, 0.7488521153747372, 'no_imp'), (238, 0.7489220270296417, 'no_imp'), (239, 0.748871596632885, 'no_imp'), (240, 0.7489483627426966, 'no_imp'), (241, 0.7489263677019955, 'no_imp'), (242, 0.7489918217903175, 'no_imp'), (243, 0.7489712105546271, 'no_imp'), (244, 0.7488731084649078, 'no_imp'), (245, 0.7489892156056601, 'no_imp'), (246, 0.7487731293878614, 'no_imp'), (247, 0.7489044917820797, 'no_imp'), (248, 0.7489568180918955, 'no_imp')]\n",
      "Timeout: optimization stopped after 5.75 minutes\n"
     ]
    },
    {
     "name": "stderr",
     "output_type": "stream",
     "text": [
      "[I 2025-04-09 11:01:02,170] Trial 249 finished with value: 0.7488782061665512 and parameters: {'alpha': 0.0016689310816681538, 'max_iter': 1479, 'loss': 'log_loss', 'penalty': 'elasticnet', 'class_weight': 'balanced', 'learning_rate': 'adaptive', 'eta0': 0.013860290403528451}. Best is trial 138 with value: 0.7524510482039067.\n"
     ]
    },
    {
     "name": "stdout",
     "output_type": "stream",
     "text": [
      "Trial 249: No improvement (26/5). Score: 0.7489, Best: 0.7490\n",
      "EARLY STOPPING TRIGGERED after 5 trials without 0.0020 improvement\n",
      "Trial history: [(222, 0.6981427043406301, 'first'), (223, 0.7489746795300194, 'improved'), (224, 0.7488777597419259, 'no_imp'), (225, 0.7489685631786698, 'no_imp'), (226, 0.7476905340857225, 'no_imp'), (227, 0.7489645375640939, 'no_imp'), (228, 0.7489323426669923, 'no_imp'), (229, 0.7489864034645045, 'no_imp'), (230, 0.748939069094887, 'no_imp'), (231, 0.7489999609684606, 'no_imp'), (232, 0.7488925429653643, 'no_imp'), (233, 0.7487320059982548, 'no_imp'), (234, 0.7489110178198682, 'no_imp'), (235, 0.7490029890856194, 'no_imp'), (236, 0.7489906294691864, 'no_imp'), (237, 0.7488521153747372, 'no_imp'), (238, 0.7489220270296417, 'no_imp'), (239, 0.748871596632885, 'no_imp'), (240, 0.7489483627426966, 'no_imp'), (241, 0.7489263677019955, 'no_imp'), (242, 0.7489918217903175, 'no_imp'), (243, 0.7489712105546271, 'no_imp'), (244, 0.7488731084649078, 'no_imp'), (245, 0.7489892156056601, 'no_imp'), (246, 0.7487731293878614, 'no_imp'), (247, 0.7489044917820797, 'no_imp'), (248, 0.7489568180918955, 'no_imp'), (249, 0.7488782061665512, 'no_imp')]\n",
      "Timeout: optimization stopped after 6.01 minutes\n"
     ]
    },
    {
     "name": "stderr",
     "output_type": "stream",
     "text": [
      "[I 2025-04-09 11:01:15,727] Trial 250 finished with value: 0.7489637938941447 and parameters: {'alpha': 0.000964915289484543, 'max_iter': 1710, 'loss': 'log_loss', 'penalty': 'elasticnet', 'class_weight': 'balanced', 'learning_rate': 'adaptive', 'eta0': 0.011228754371805445}. Best is trial 138 with value: 0.7524510482039067.\n"
     ]
    },
    {
     "name": "stdout",
     "output_type": "stream",
     "text": [
      "Trial 250: No improvement (27/5). Score: 0.7490, Best: 0.7490\n",
      "EARLY STOPPING TRIGGERED after 5 trials without 0.0020 improvement\n",
      "Trial history: [(222, 0.6981427043406301, 'first'), (223, 0.7489746795300194, 'improved'), (224, 0.7488777597419259, 'no_imp'), (225, 0.7489685631786698, 'no_imp'), (226, 0.7476905340857225, 'no_imp'), (227, 0.7489645375640939, 'no_imp'), (228, 0.7489323426669923, 'no_imp'), (229, 0.7489864034645045, 'no_imp'), (230, 0.748939069094887, 'no_imp'), (231, 0.7489999609684606, 'no_imp'), (232, 0.7488925429653643, 'no_imp'), (233, 0.7487320059982548, 'no_imp'), (234, 0.7489110178198682, 'no_imp'), (235, 0.7490029890856194, 'no_imp'), (236, 0.7489906294691864, 'no_imp'), (237, 0.7488521153747372, 'no_imp'), (238, 0.7489220270296417, 'no_imp'), (239, 0.748871596632885, 'no_imp'), (240, 0.7489483627426966, 'no_imp'), (241, 0.7489263677019955, 'no_imp'), (242, 0.7489918217903175, 'no_imp'), (243, 0.7489712105546271, 'no_imp'), (244, 0.7488731084649078, 'no_imp'), (245, 0.7489892156056601, 'no_imp'), (246, 0.7487731293878614, 'no_imp'), (247, 0.7489044917820797, 'no_imp'), (248, 0.7489568180918955, 'no_imp'), (249, 0.7488782061665512, 'no_imp'), (250, 0.7489637938941447, 'no_imp')]\n",
      "Timeout: optimization stopped after 6.23 minutes\n"
     ]
    },
    {
     "name": "stderr",
     "output_type": "stream",
     "text": [
      "[I 2025-04-09 11:01:29,455] Trial 251 finished with value: 0.7489039017445451 and parameters: {'alpha': 0.0014580370014620559, 'max_iter': 1542, 'loss': 'log_loss', 'penalty': 'elasticnet', 'class_weight': 'balanced', 'learning_rate': 'adaptive', 'eta0': 0.016662407376994023}. Best is trial 138 with value: 0.7524510482039067.\n"
     ]
    },
    {
     "name": "stdout",
     "output_type": "stream",
     "text": [
      "Trial 251: No improvement (28/5). Score: 0.7489, Best: 0.7490\n",
      "EARLY STOPPING TRIGGERED after 5 trials without 0.0020 improvement\n",
      "Trial history: [(222, 0.6981427043406301, 'first'), (223, 0.7489746795300194, 'improved'), (224, 0.7488777597419259, 'no_imp'), (225, 0.7489685631786698, 'no_imp'), (226, 0.7476905340857225, 'no_imp'), (227, 0.7489645375640939, 'no_imp'), (228, 0.7489323426669923, 'no_imp'), (229, 0.7489864034645045, 'no_imp'), (230, 0.748939069094887, 'no_imp'), (231, 0.7489999609684606, 'no_imp'), (232, 0.7488925429653643, 'no_imp'), (233, 0.7487320059982548, 'no_imp'), (234, 0.7489110178198682, 'no_imp'), (235, 0.7490029890856194, 'no_imp'), (236, 0.7489906294691864, 'no_imp'), (237, 0.7488521153747372, 'no_imp'), (238, 0.7489220270296417, 'no_imp'), (239, 0.748871596632885, 'no_imp'), (240, 0.7489483627426966, 'no_imp'), (241, 0.7489263677019955, 'no_imp'), (242, 0.7489918217903175, 'no_imp'), (243, 0.7489712105546271, 'no_imp'), (244, 0.7488731084649078, 'no_imp'), (245, 0.7489892156056601, 'no_imp'), (246, 0.7487731293878614, 'no_imp'), (247, 0.7489044917820797, 'no_imp'), (248, 0.7489568180918955, 'no_imp'), (249, 0.7488782061665512, 'no_imp'), (250, 0.7489637938941447, 'no_imp'), (251, 0.7489039017445451, 'no_imp')]\n",
      "Timeout: optimization stopped after 6.46 minutes\n"
     ]
    },
    {
     "name": "stderr",
     "output_type": "stream",
     "text": [
      "[I 2025-04-09 11:01:42,162] Trial 252 finished with value: 0.7489603048797417 and parameters: {'alpha': 0.0012672132049714939, 'max_iter': 1614, 'loss': 'log_loss', 'penalty': 'elasticnet', 'class_weight': 'balanced', 'learning_rate': 'adaptive', 'eta0': 0.0077353660122692364}. Best is trial 138 with value: 0.7524510482039067.\n"
     ]
    },
    {
     "name": "stdout",
     "output_type": "stream",
     "text": [
      "Trial 252: No improvement (29/5). Score: 0.7490, Best: 0.7490\n",
      "EARLY STOPPING TRIGGERED after 5 trials without 0.0020 improvement\n",
      "Trial history: [(222, 0.6981427043406301, 'first'), (223, 0.7489746795300194, 'improved'), (224, 0.7488777597419259, 'no_imp'), (225, 0.7489685631786698, 'no_imp'), (226, 0.7476905340857225, 'no_imp'), (227, 0.7489645375640939, 'no_imp'), (228, 0.7489323426669923, 'no_imp'), (229, 0.7489864034645045, 'no_imp'), (230, 0.748939069094887, 'no_imp'), (231, 0.7489999609684606, 'no_imp'), (232, 0.7488925429653643, 'no_imp'), (233, 0.7487320059982548, 'no_imp'), (234, 0.7489110178198682, 'no_imp'), (235, 0.7490029890856194, 'no_imp'), (236, 0.7489906294691864, 'no_imp'), (237, 0.7488521153747372, 'no_imp'), (238, 0.7489220270296417, 'no_imp'), (239, 0.748871596632885, 'no_imp'), (240, 0.7489483627426966, 'no_imp'), (241, 0.7489263677019955, 'no_imp'), (242, 0.7489918217903175, 'no_imp'), (243, 0.7489712105546271, 'no_imp'), (244, 0.7488731084649078, 'no_imp'), (245, 0.7489892156056601, 'no_imp'), (246, 0.7487731293878614, 'no_imp'), (247, 0.7489044917820797, 'no_imp'), (248, 0.7489568180918955, 'no_imp'), (249, 0.7488782061665512, 'no_imp'), (250, 0.7489637938941447, 'no_imp'), (251, 0.7489039017445451, 'no_imp'), (252, 0.7489603048797417, 'no_imp')]\n",
      "Timeout: optimization stopped after 6.67 minutes\n"
     ]
    },
    {
     "name": "stderr",
     "output_type": "stream",
     "text": [
      "[I 2025-04-09 11:01:53,399] Trial 253 finished with value: 0.7487517900681187 and parameters: {'alpha': 0.002434488262787235, 'max_iter': 1804, 'loss': 'log_loss', 'penalty': 'elasticnet', 'class_weight': 'balanced', 'learning_rate': 'adaptive', 'eta0': 0.002614664296175027}. Best is trial 138 with value: 0.7524510482039067.\n"
     ]
    },
    {
     "name": "stdout",
     "output_type": "stream",
     "text": [
      "Trial 253: No improvement (30/5). Score: 0.7488, Best: 0.7490\n",
      "EARLY STOPPING TRIGGERED after 5 trials without 0.0020 improvement\n",
      "Trial history: [(222, 0.6981427043406301, 'first'), (223, 0.7489746795300194, 'improved'), (224, 0.7488777597419259, 'no_imp'), (225, 0.7489685631786698, 'no_imp'), (226, 0.7476905340857225, 'no_imp'), (227, 0.7489645375640939, 'no_imp'), (228, 0.7489323426669923, 'no_imp'), (229, 0.7489864034645045, 'no_imp'), (230, 0.748939069094887, 'no_imp'), (231, 0.7489999609684606, 'no_imp'), (232, 0.7488925429653643, 'no_imp'), (233, 0.7487320059982548, 'no_imp'), (234, 0.7489110178198682, 'no_imp'), (235, 0.7490029890856194, 'no_imp'), (236, 0.7489906294691864, 'no_imp'), (237, 0.7488521153747372, 'no_imp'), (238, 0.7489220270296417, 'no_imp'), (239, 0.748871596632885, 'no_imp'), (240, 0.7489483627426966, 'no_imp'), (241, 0.7489263677019955, 'no_imp'), (242, 0.7489918217903175, 'no_imp'), (243, 0.7489712105546271, 'no_imp'), (244, 0.7488731084649078, 'no_imp'), (245, 0.7489892156056601, 'no_imp'), (246, 0.7487731293878614, 'no_imp'), (247, 0.7489044917820797, 'no_imp'), (248, 0.7489568180918955, 'no_imp'), (249, 0.7488782061665512, 'no_imp'), (250, 0.7489637938941447, 'no_imp'), (251, 0.7489039017445451, 'no_imp'), (252, 0.7489603048797417, 'no_imp'), (253, 0.7487517900681187, 'no_imp')]\n",
      "Timeout: optimization stopped after 6.86 minutes\n"
     ]
    },
    {
     "name": "stderr",
     "output_type": "stream",
     "text": [
      "[I 2025-04-09 11:02:00,389] Trial 254 finished with value: 0.7466081625525354 and parameters: {'alpha': 0.0009026388537773326, 'max_iter': 1677, 'loss': 'log_loss', 'penalty': 'elasticnet', 'class_weight': 'balanced', 'learning_rate': 'optimal'}. Best is trial 138 with value: 0.7524510482039067.\n"
     ]
    },
    {
     "name": "stdout",
     "output_type": "stream",
     "text": [
      "Trial 254: No improvement (31/5). Score: 0.7466, Best: 0.7490\n",
      "EARLY STOPPING TRIGGERED after 5 trials without 0.0020 improvement\n",
      "Trial history: [(222, 0.6981427043406301, 'first'), (223, 0.7489746795300194, 'improved'), (224, 0.7488777597419259, 'no_imp'), (225, 0.7489685631786698, 'no_imp'), (226, 0.7476905340857225, 'no_imp'), (227, 0.7489645375640939, 'no_imp'), (228, 0.7489323426669923, 'no_imp'), (229, 0.7489864034645045, 'no_imp'), (230, 0.748939069094887, 'no_imp'), (231, 0.7489999609684606, 'no_imp'), (232, 0.7488925429653643, 'no_imp'), (233, 0.7487320059982548, 'no_imp'), (234, 0.7489110178198682, 'no_imp'), (235, 0.7490029890856194, 'no_imp'), (236, 0.7489906294691864, 'no_imp'), (237, 0.7488521153747372, 'no_imp'), (238, 0.7489220270296417, 'no_imp'), (239, 0.748871596632885, 'no_imp'), (240, 0.7489483627426966, 'no_imp'), (241, 0.7489263677019955, 'no_imp'), (242, 0.7489918217903175, 'no_imp'), (243, 0.7489712105546271, 'no_imp'), (244, 0.7488731084649078, 'no_imp'), (245, 0.7489892156056601, 'no_imp'), (246, 0.7487731293878614, 'no_imp'), (247, 0.7489044917820797, 'no_imp'), (248, 0.7489568180918955, 'no_imp'), (249, 0.7488782061665512, 'no_imp'), (250, 0.7489637938941447, 'no_imp'), (251, 0.7489039017445451, 'no_imp'), (252, 0.7489603048797417, 'no_imp'), (253, 0.7487517900681187, 'no_imp'), (254, 0.7466081625525354, 'no_imp')]\n",
      "Timeout: optimization stopped after 6.98 minutes\n"
     ]
    },
    {
     "name": "stderr",
     "output_type": "stream",
     "text": [
      "[I 2025-04-09 11:02:12,936] Trial 255 finished with value: 0.7489490529752842 and parameters: {'alpha': 0.001130186023234637, 'max_iter': 1525, 'loss': 'log_loss', 'penalty': 'elasticnet', 'class_weight': 'balanced', 'learning_rate': 'adaptive', 'eta0': 0.006328247604885015}. Best is trial 138 with value: 0.7524510482039067.\n"
     ]
    },
    {
     "name": "stdout",
     "output_type": "stream",
     "text": [
      "Trial 255: No improvement (32/5). Score: 0.7489, Best: 0.7490\n",
      "EARLY STOPPING TRIGGERED after 5 trials without 0.0020 improvement\n",
      "Trial history: [(222, 0.6981427043406301, 'first'), (223, 0.7489746795300194, 'improved'), (224, 0.7488777597419259, 'no_imp'), (225, 0.7489685631786698, 'no_imp'), (226, 0.7476905340857225, 'no_imp'), (227, 0.7489645375640939, 'no_imp'), (228, 0.7489323426669923, 'no_imp'), (229, 0.7489864034645045, 'no_imp'), (230, 0.748939069094887, 'no_imp'), (231, 0.7489999609684606, 'no_imp'), (232, 0.7488925429653643, 'no_imp'), (233, 0.7487320059982548, 'no_imp'), (234, 0.7489110178198682, 'no_imp'), (235, 0.7490029890856194, 'no_imp'), (236, 0.7489906294691864, 'no_imp'), (237, 0.7488521153747372, 'no_imp'), (238, 0.7489220270296417, 'no_imp'), (239, 0.748871596632885, 'no_imp'), (240, 0.7489483627426966, 'no_imp'), (241, 0.7489263677019955, 'no_imp'), (242, 0.7489918217903175, 'no_imp'), (243, 0.7489712105546271, 'no_imp'), (244, 0.7488731084649078, 'no_imp'), (245, 0.7489892156056601, 'no_imp'), (246, 0.7487731293878614, 'no_imp'), (247, 0.7489044917820797, 'no_imp'), (248, 0.7489568180918955, 'no_imp'), (249, 0.7488782061665512, 'no_imp'), (250, 0.7489637938941447, 'no_imp'), (251, 0.7489039017445451, 'no_imp'), (252, 0.7489603048797417, 'no_imp'), (253, 0.7487517900681187, 'no_imp'), (254, 0.7466081625525354, 'no_imp'), (255, 0.7489490529752842, 'no_imp')]\n",
      "Timeout: optimization stopped after 7.19 minutes\n"
     ]
    },
    {
     "name": "stderr",
     "output_type": "stream",
     "text": [
      "[I 2025-04-09 11:02:29,940] Trial 256 finished with value: 0.7490234433490601 and parameters: {'alpha': 0.0006406656463485986, 'max_iter': 1608, 'loss': 'log_loss', 'penalty': 'elasticnet', 'class_weight': 'balanced', 'learning_rate': 'adaptive', 'eta0': 0.09771044522957403}. Best is trial 138 with value: 0.7524510482039067.\n"
     ]
    },
    {
     "name": "stdout",
     "output_type": "stream",
     "text": [
      "Trial 256: No improvement (33/5). Score: 0.7490, Best: 0.7490\n",
      "EARLY STOPPING TRIGGERED after 5 trials without 0.0020 improvement\n",
      "Trial history: [(222, 0.6981427043406301, 'first'), (223, 0.7489746795300194, 'improved'), (224, 0.7488777597419259, 'no_imp'), (225, 0.7489685631786698, 'no_imp'), (226, 0.7476905340857225, 'no_imp'), (227, 0.7489645375640939, 'no_imp'), (228, 0.7489323426669923, 'no_imp'), (229, 0.7489864034645045, 'no_imp'), (230, 0.748939069094887, 'no_imp'), (231, 0.7489999609684606, 'no_imp'), (232, 0.7488925429653643, 'no_imp'), (233, 0.7487320059982548, 'no_imp'), (234, 0.7489110178198682, 'no_imp'), (235, 0.7490029890856194, 'no_imp'), (236, 0.7489906294691864, 'no_imp'), (237, 0.7488521153747372, 'no_imp'), (238, 0.7489220270296417, 'no_imp'), (239, 0.748871596632885, 'no_imp'), (240, 0.7489483627426966, 'no_imp'), (241, 0.7489263677019955, 'no_imp'), (242, 0.7489918217903175, 'no_imp'), (243, 0.7489712105546271, 'no_imp'), (244, 0.7488731084649078, 'no_imp'), (245, 0.7489892156056601, 'no_imp'), (246, 0.7487731293878614, 'no_imp'), (247, 0.7489044917820797, 'no_imp'), (248, 0.7489568180918955, 'no_imp'), (249, 0.7488782061665512, 'no_imp'), (250, 0.7489637938941447, 'no_imp'), (251, 0.7489039017445451, 'no_imp'), (252, 0.7489603048797417, 'no_imp'), (253, 0.7487517900681187, 'no_imp'), (254, 0.7466081625525354, 'no_imp'), (255, 0.7489490529752842, 'no_imp'), (256, 0.7490234433490601, 'no_imp')]\n",
      "Timeout: optimization stopped after 7.47 minutes\n"
     ]
    },
    {
     "name": "stderr",
     "output_type": "stream",
     "text": [
      "[I 2025-04-09 11:02:38,551] Trial 257 finished with value: 0.7488808691284057 and parameters: {'alpha': 0.0017815248695005857, 'max_iter': 1759, 'loss': 'log_loss', 'penalty': 'l2', 'class_weight': 'balanced', 'learning_rate': 'adaptive', 'eta0': 0.01233419274740706}. Best is trial 138 with value: 0.7524510482039067.\n"
     ]
    },
    {
     "name": "stdout",
     "output_type": "stream",
     "text": [
      "Trial 257: No improvement (34/5). Score: 0.7489, Best: 0.7490\n",
      "EARLY STOPPING TRIGGERED after 5 trials without 0.0020 improvement\n",
      "Trial history: [(222, 0.6981427043406301, 'first'), (223, 0.7489746795300194, 'improved'), (224, 0.7488777597419259, 'no_imp'), (225, 0.7489685631786698, 'no_imp'), (226, 0.7476905340857225, 'no_imp'), (227, 0.7489645375640939, 'no_imp'), (228, 0.7489323426669923, 'no_imp'), (229, 0.7489864034645045, 'no_imp'), (230, 0.748939069094887, 'no_imp'), (231, 0.7489999609684606, 'no_imp'), (232, 0.7488925429653643, 'no_imp'), (233, 0.7487320059982548, 'no_imp'), (234, 0.7489110178198682, 'no_imp'), (235, 0.7490029890856194, 'no_imp'), (236, 0.7489906294691864, 'no_imp'), (237, 0.7488521153747372, 'no_imp'), (238, 0.7489220270296417, 'no_imp'), (239, 0.748871596632885, 'no_imp'), (240, 0.7489483627426966, 'no_imp'), (241, 0.7489263677019955, 'no_imp'), (242, 0.7489918217903175, 'no_imp'), (243, 0.7489712105546271, 'no_imp'), (244, 0.7488731084649078, 'no_imp'), (245, 0.7489892156056601, 'no_imp'), (246, 0.7487731293878614, 'no_imp'), (247, 0.7489044917820797, 'no_imp'), (248, 0.7489568180918955, 'no_imp'), (249, 0.7488782061665512, 'no_imp'), (250, 0.7489637938941447, 'no_imp'), (251, 0.7489039017445451, 'no_imp'), (252, 0.7489603048797417, 'no_imp'), (253, 0.7487517900681187, 'no_imp'), (254, 0.7466081625525354, 'no_imp'), (255, 0.7489490529752842, 'no_imp'), (256, 0.7490234433490601, 'no_imp'), (257, 0.7488808691284057, 'no_imp')]\n",
      "Timeout: optimization stopped after 7.61 minutes\n"
     ]
    },
    {
     "name": "stderr",
     "output_type": "stream",
     "text": [
      "[I 2025-04-09 11:02:53,158] Trial 258 finished with value: 0.7490025070360862 and parameters: {'alpha': 0.0007983174245613516, 'max_iter': 1435, 'loss': 'log_loss', 'penalty': 'elasticnet', 'class_weight': 'balanced', 'learning_rate': 'adaptive', 'eta0': 0.009475185401185816}. Best is trial 138 with value: 0.7524510482039067.\n"
     ]
    },
    {
     "name": "stdout",
     "output_type": "stream",
     "text": [
      "Trial 258: No improvement (35/5). Score: 0.7490, Best: 0.7490\n",
      "EARLY STOPPING TRIGGERED after 5 trials without 0.0020 improvement\n",
      "Trial history: [(222, 0.6981427043406301, 'first'), (223, 0.7489746795300194, 'improved'), (224, 0.7488777597419259, 'no_imp'), (225, 0.7489685631786698, 'no_imp'), (226, 0.7476905340857225, 'no_imp'), (227, 0.7489645375640939, 'no_imp'), (228, 0.7489323426669923, 'no_imp'), (229, 0.7489864034645045, 'no_imp'), (230, 0.748939069094887, 'no_imp'), (231, 0.7489999609684606, 'no_imp'), (232, 0.7488925429653643, 'no_imp'), (233, 0.7487320059982548, 'no_imp'), (234, 0.7489110178198682, 'no_imp'), (235, 0.7490029890856194, 'no_imp'), (236, 0.7489906294691864, 'no_imp'), (237, 0.7488521153747372, 'no_imp'), (238, 0.7489220270296417, 'no_imp'), (239, 0.748871596632885, 'no_imp'), (240, 0.7489483627426966, 'no_imp'), (241, 0.7489263677019955, 'no_imp'), (242, 0.7489918217903175, 'no_imp'), (243, 0.7489712105546271, 'no_imp'), (244, 0.7488731084649078, 'no_imp'), (245, 0.7489892156056601, 'no_imp'), (246, 0.7487731293878614, 'no_imp'), (247, 0.7489044917820797, 'no_imp'), (248, 0.7489568180918955, 'no_imp'), (249, 0.7488782061665512, 'no_imp'), (250, 0.7489637938941447, 'no_imp'), (251, 0.7489039017445451, 'no_imp'), (252, 0.7489603048797417, 'no_imp'), (253, 0.7487517900681187, 'no_imp'), (254, 0.7466081625525354, 'no_imp'), (255, 0.7489490529752842, 'no_imp'), (256, 0.7490234433490601, 'no_imp'), (257, 0.7488808691284057, 'no_imp'), (258, 0.7490025070360862, 'no_imp')]\n",
      "Timeout: optimization stopped after 7.86 minutes\n"
     ]
    },
    {
     "name": "stderr",
     "output_type": "stream",
     "text": [
      "[I 2025-04-09 11:02:59,337] Trial 259 finished with value: 0.6752206612352487 and parameters: {'alpha': 0.0013519250774668774, 'max_iter': 1970, 'loss': 'log_loss', 'penalty': 'elasticnet', 'class_weight': 'balanced', 'learning_rate': 'constant', 'eta0': 0.0521051203318572}. Best is trial 138 with value: 0.7524510482039067.\n"
     ]
    },
    {
     "name": "stdout",
     "output_type": "stream",
     "text": [
      "Trial 259: No improvement (36/5). Score: 0.6752, Best: 0.7490\n",
      "EARLY STOPPING TRIGGERED after 5 trials without 0.0020 improvement\n",
      "Trial history: [(222, 0.6981427043406301, 'first'), (223, 0.7489746795300194, 'improved'), (224, 0.7488777597419259, 'no_imp'), (225, 0.7489685631786698, 'no_imp'), (226, 0.7476905340857225, 'no_imp'), (227, 0.7489645375640939, 'no_imp'), (228, 0.7489323426669923, 'no_imp'), (229, 0.7489864034645045, 'no_imp'), (230, 0.748939069094887, 'no_imp'), (231, 0.7489999609684606, 'no_imp'), (232, 0.7488925429653643, 'no_imp'), (233, 0.7487320059982548, 'no_imp'), (234, 0.7489110178198682, 'no_imp'), (235, 0.7490029890856194, 'no_imp'), (236, 0.7489906294691864, 'no_imp'), (237, 0.7488521153747372, 'no_imp'), (238, 0.7489220270296417, 'no_imp'), (239, 0.748871596632885, 'no_imp'), (240, 0.7489483627426966, 'no_imp'), (241, 0.7489263677019955, 'no_imp'), (242, 0.7489918217903175, 'no_imp'), (243, 0.7489712105546271, 'no_imp'), (244, 0.7488731084649078, 'no_imp'), (245, 0.7489892156056601, 'no_imp'), (246, 0.7487731293878614, 'no_imp'), (247, 0.7489044917820797, 'no_imp'), (248, 0.7489568180918955, 'no_imp'), (249, 0.7488782061665512, 'no_imp'), (250, 0.7489637938941447, 'no_imp'), (251, 0.7489039017445451, 'no_imp'), (252, 0.7489603048797417, 'no_imp'), (253, 0.7487517900681187, 'no_imp'), (254, 0.7466081625525354, 'no_imp'), (255, 0.7489490529752842, 'no_imp'), (256, 0.7490234433490601, 'no_imp'), (257, 0.7488808691284057, 'no_imp'), (258, 0.7490025070360862, 'no_imp'), (259, 0.6752206612352487, 'no_imp')]\n",
      "Timeout: optimization stopped after 7.96 minutes\n"
     ]
    },
    {
     "name": "stderr",
     "output_type": "stream",
     "text": [
      "[I 2025-04-09 11:03:12,992] Trial 260 finished with value: 0.7489656797876988 and parameters: {'alpha': 0.0009818364787946723, 'max_iter': 2097, 'loss': 'log_loss', 'penalty': 'elasticnet', 'class_weight': 'balanced', 'learning_rate': 'adaptive', 'eta0': 0.014867428192720888}. Best is trial 138 with value: 0.7524510482039067.\n"
     ]
    },
    {
     "name": "stdout",
     "output_type": "stream",
     "text": [
      "Trial 260: No improvement (37/5). Score: 0.7490, Best: 0.7490\n",
      "EARLY STOPPING TRIGGERED after 5 trials without 0.0020 improvement\n",
      "Trial history: [(222, 0.6981427043406301, 'first'), (223, 0.7489746795300194, 'improved'), (224, 0.7488777597419259, 'no_imp'), (225, 0.7489685631786698, 'no_imp'), (226, 0.7476905340857225, 'no_imp'), (227, 0.7489645375640939, 'no_imp'), (228, 0.7489323426669923, 'no_imp'), (229, 0.7489864034645045, 'no_imp'), (230, 0.748939069094887, 'no_imp'), (231, 0.7489999609684606, 'no_imp'), (232, 0.7488925429653643, 'no_imp'), (233, 0.7487320059982548, 'no_imp'), (234, 0.7489110178198682, 'no_imp'), (235, 0.7490029890856194, 'no_imp'), (236, 0.7489906294691864, 'no_imp'), (237, 0.7488521153747372, 'no_imp'), (238, 0.7489220270296417, 'no_imp'), (239, 0.748871596632885, 'no_imp'), (240, 0.7489483627426966, 'no_imp'), (241, 0.7489263677019955, 'no_imp'), (242, 0.7489918217903175, 'no_imp'), (243, 0.7489712105546271, 'no_imp'), (244, 0.7488731084649078, 'no_imp'), (245, 0.7489892156056601, 'no_imp'), (246, 0.7487731293878614, 'no_imp'), (247, 0.7489044917820797, 'no_imp'), (248, 0.7489568180918955, 'no_imp'), (249, 0.7488782061665512, 'no_imp'), (250, 0.7489637938941447, 'no_imp'), (251, 0.7489039017445451, 'no_imp'), (252, 0.7489603048797417, 'no_imp'), (253, 0.7487517900681187, 'no_imp'), (254, 0.7466081625525354, 'no_imp'), (255, 0.7489490529752842, 'no_imp'), (256, 0.7490234433490601, 'no_imp'), (257, 0.7488808691284057, 'no_imp'), (258, 0.7490025070360862, 'no_imp'), (259, 0.6752206612352487, 'no_imp'), (260, 0.7489656797876988, 'no_imp')]\n",
      "Timeout: optimization stopped after 8.19 minutes\n"
     ]
    },
    {
     "name": "stderr",
     "output_type": "stream",
     "text": [
      "[I 2025-04-09 11:03:26,945] Trial 261 finished with value: 0.7489078850545431 and parameters: {'alpha': 0.0012106510415130383, 'max_iter': 1653, 'loss': 'log_loss', 'penalty': 'elasticnet', 'class_weight': 'balanced', 'learning_rate': 'adaptive', 'eta0': 0.02609064363647672}. Best is trial 138 with value: 0.7524510482039067.\n"
     ]
    },
    {
     "name": "stdout",
     "output_type": "stream",
     "text": [
      "Trial 261: No improvement (38/5). Score: 0.7489, Best: 0.7490\n",
      "EARLY STOPPING TRIGGERED after 5 trials without 0.0020 improvement\n",
      "Trial history: [(222, 0.6981427043406301, 'first'), (223, 0.7489746795300194, 'improved'), (224, 0.7488777597419259, 'no_imp'), (225, 0.7489685631786698, 'no_imp'), (226, 0.7476905340857225, 'no_imp'), (227, 0.7489645375640939, 'no_imp'), (228, 0.7489323426669923, 'no_imp'), (229, 0.7489864034645045, 'no_imp'), (230, 0.748939069094887, 'no_imp'), (231, 0.7489999609684606, 'no_imp'), (232, 0.7488925429653643, 'no_imp'), (233, 0.7487320059982548, 'no_imp'), (234, 0.7489110178198682, 'no_imp'), (235, 0.7490029890856194, 'no_imp'), (236, 0.7489906294691864, 'no_imp'), (237, 0.7488521153747372, 'no_imp'), (238, 0.7489220270296417, 'no_imp'), (239, 0.748871596632885, 'no_imp'), (240, 0.7489483627426966, 'no_imp'), (241, 0.7489263677019955, 'no_imp'), (242, 0.7489918217903175, 'no_imp'), (243, 0.7489712105546271, 'no_imp'), (244, 0.7488731084649078, 'no_imp'), (245, 0.7489892156056601, 'no_imp'), (246, 0.7487731293878614, 'no_imp'), (247, 0.7489044917820797, 'no_imp'), (248, 0.7489568180918955, 'no_imp'), (249, 0.7488782061665512, 'no_imp'), (250, 0.7489637938941447, 'no_imp'), (251, 0.7489039017445451, 'no_imp'), (252, 0.7489603048797417, 'no_imp'), (253, 0.7487517900681187, 'no_imp'), (254, 0.7466081625525354, 'no_imp'), (255, 0.7489490529752842, 'no_imp'), (256, 0.7490234433490601, 'no_imp'), (257, 0.7488808691284057, 'no_imp'), (258, 0.7490025070360862, 'no_imp'), (259, 0.6752206612352487, 'no_imp'), (260, 0.7489656797876988, 'no_imp'), (261, 0.7489078850545431, 'no_imp')]\n",
      "Timeout: optimization stopped after 8.42 minutes\n",
      "Optuna optimization completed in 8.42 minutes\n",
      "\n",
      "Best Params (SGDClassifier): {'alpha': 0.0012153669823511818, 'max_iter': 1712, 'loss': 'log_loss', 'penalty': 'elasticnet', 'class_weight': 'balanced', 'learning_rate': 'adaptive', 'eta0': 0.02123148730450329}\n",
      "Best CV ROC AUC score: 0.7525\n",
      "\n",
      "Fitting best SGD pipeline on full training data...\n",
      "\n",
      "Evaluating tuned SGD model...\n",
      "Optimal threshold based on Youden's J-Statistic (OOF): 0.5012\n",
      "\n",
      "--- Evaluation Metrics for SGDClassifier (Optuna Tuned) ---\n",
      "AUC ROC:        0.7527\n",
      "Gini Coefficient: 0.5053\n",
      "KS Statistic:   0.3774\n",
      "Accuracy:       0.6913\n",
      "Precision:      0.1634\n",
      "Recall (TPR):   0.6850\n",
      "F1-Score:       0.2638\n",
      "Brier Score:    0.2021\n",
      "Log Loss:       0.5905\n",
      "\n",
      "Confusion Matrix:\n",
      "[[39118 17419]\n",
      " [ 1564  3401]]\n"
     ]
    },
    {
     "data": {
      "image/png": "[encoded data removed]",
      "text/plain": [
       "<Figure size 800x600 with 1 Axes>"
      ]
     },
     "metadata": {},
     "output_type": "display_data"
    },
    {
     "name": "stdout",
     "output_type": "stream",
     "text": [
      "\n",
      "--- Top 50 Feature Importances ---\n",
      "Sum of importances: 5.0649\n"
     ]
    },
    {
     "data": {
      "text/html": [
       "<div>\n",
       "<style scoped>\n",
       "    .dataframe tbody tr th:only-of-type {\n",
       "        vertical-align: middle;\n",
       "    }\n",
       "\n",
       "    .dataframe tbody tr th {\n",
       "        vertical-align: top;\n",
       "    }\n",
       "\n",
       "    .dataframe thead th {\n",
       "        text-align: right;\n",
       "    }\n",
       "</style>\n",
       "<table border=\"1\" class=\"dataframe\">\n",
       "  <thead>\n",
       "    <tr style=\"text-align: right;\">\n",
       "      <th></th>\n",
       "      <th>feature</th>\n",
       "      <th>importance</th>\n",
       "    </tr>\n",
       "  </thead>\n",
       "  <tbody>\n",
       "    <tr>\n",
       "      <th>0</th>\n",
       "      <td>WEIGHTED_EXT_SOURCE</td>\n",
       "      <td>0.35930</td>\n",
       "    </tr>\n",
       "    <tr>\n",
       "      <th>5</th>\n",
       "      <td>EXT_SOURCE_1</td>\n",
       "      <td>0.24308</td>\n",
       "    </tr>\n",
       "    <tr>\n",
       "      <th>16</th>\n",
       "      <td>DAYS_BIRTH</td>\n",
       "      <td>0.20637</td>\n",
       "    </tr>\n",
       "    <tr>\n",
       "      <th>35</th>\n",
       "      <td>ANNUITY_INCOME_RATIO_MAX_AGG_CODE_GENDER_FLAG_...</td>\n",
       "      <td>0.20352</td>\n",
       "    </tr>\n",
       "    <tr>\n",
       "      <th>3</th>\n",
       "      <td>EXT_SOURCE_3</td>\n",
       "      <td>0.20285</td>\n",
       "    </tr>\n",
       "    <tr>\n",
       "      <th>70</th>\n",
       "      <td>AGE_EMPLOYED_DIFF_MIN_AGG_NAME_EDUCATION_TYPE_...</td>\n",
       "      <td>0.17668</td>\n",
       "    </tr>\n",
       "    <tr>\n",
       "      <th>25</th>\n",
       "      <td>AGE_EMPLOYED_DIFF_MEAN_AGG_NAME_EDUCATION_TYPE...</td>\n",
       "      <td>0.17004</td>\n",
       "    </tr>\n",
       "    <tr>\n",
       "      <th>45</th>\n",
       "      <td>AGE_EMPLOYED_DIFF_MEAN_AGG_OCCUPATION_TYPE_ORG...</td>\n",
       "      <td>0.16645</td>\n",
       "    </tr>\n",
       "    <tr>\n",
       "      <th>42</th>\n",
       "      <td>AMT_INCOME_TOTAL_MEAN_AGG_NAME_EDUCATION_TYPE_...</td>\n",
       "      <td>0.16323</td>\n",
       "    </tr>\n",
       "    <tr>\n",
       "      <th>4</th>\n",
       "      <td>EXT_SOURCE_2</td>\n",
       "      <td>0.15021</td>\n",
       "    </tr>\n",
       "    <tr>\n",
       "      <th>15</th>\n",
       "      <td>B_B_CURRENT_CREDIT_DEBT_DIFF_MEAN_OVERALL</td>\n",
       "      <td>0.14440</td>\n",
       "    </tr>\n",
       "    <tr>\n",
       "      <th>13</th>\n",
       "      <td>B_CREDIT_ACTIVE_CLOSED_MEAN</td>\n",
       "      <td>0.14414</td>\n",
       "    </tr>\n",
       "    <tr>\n",
       "      <th>10</th>\n",
       "      <td>DAYS_EMPLOYED</td>\n",
       "      <td>0.12485</td>\n",
       "    </tr>\n",
       "    <tr>\n",
       "      <th>106</th>\n",
       "      <td>AMT_ANNUITY</td>\n",
       "      <td>0.12390</td>\n",
       "    </tr>\n",
       "    <tr>\n",
       "      <th>50</th>\n",
       "      <td>DEF_30_CREDIT_RATIO</td>\n",
       "      <td>0.10455</td>\n",
       "    </tr>\n",
       "    <tr>\n",
       "      <th>73</th>\n",
       "      <td>AGE_EMPLOYED_DIFF_MEAN_AGG_CODE_GENDER_FLAG_OW...</td>\n",
       "      <td>0.10034</td>\n",
       "    </tr>\n",
       "    <tr>\n",
       "      <th>30</th>\n",
       "      <td>AMT_INCOME_TOTAL_MEAN_AGG_CODE_GENDER_FLAG_OWN...</td>\n",
       "      <td>0.09654</td>\n",
       "    </tr>\n",
       "    <tr>\n",
       "      <th>17</th>\n",
       "      <td>B_DAYS_CREDIT_MAX_OVERALL</td>\n",
       "      <td>0.09393</td>\n",
       "    </tr>\n",
       "    <tr>\n",
       "      <th>87</th>\n",
       "      <td>CREDIT_GOODS_DIFF</td>\n",
       "      <td>0.09304</td>\n",
       "    </tr>\n",
       "    <tr>\n",
       "      <th>20</th>\n",
       "      <td>CREDIT_GOODS_RATIO</td>\n",
       "      <td>0.08013</td>\n",
       "    </tr>\n",
       "    <tr>\n",
       "      <th>14</th>\n",
       "      <td>B_DAYS_CREDIT_UPDATE_MEAN_OVERALL</td>\n",
       "      <td>0.07391</td>\n",
       "    </tr>\n",
       "    <tr>\n",
       "      <th>64</th>\n",
       "      <td>AMT_INCOME_TOTAL_MEAN_AGG_FLAG_OWN_CAR_FLAG_OW...</td>\n",
       "      <td>0.06700</td>\n",
       "    </tr>\n",
       "    <tr>\n",
       "      <th>34</th>\n",
       "      <td>B_DAYS_CREDIT_MAX_CA_ACTIVE</td>\n",
       "      <td>0.06681</td>\n",
       "    </tr>\n",
       "    <tr>\n",
       "      <th>107</th>\n",
       "      <td>B_B_CREDIT_DURATION_SUM_OVERALL</td>\n",
       "      <td>0.06644</td>\n",
       "    </tr>\n",
       "    <tr>\n",
       "      <th>7</th>\n",
       "      <td>B_DAYS_CREDIT_MEAN_OVERALL</td>\n",
       "      <td>0.06614</td>\n",
       "    </tr>\n",
       "    <tr>\n",
       "      <th>40</th>\n",
       "      <td>ANNUITY_INCOME_RATIO_MAX_AGG_FLAG_OWN_CAR_FLAG...</td>\n",
       "      <td>0.06484</td>\n",
       "    </tr>\n",
       "    <tr>\n",
       "      <th>77</th>\n",
       "      <td>B_B_CREDIT_DURATION_MAX_CA_CLOSED</td>\n",
       "      <td>0.06444</td>\n",
       "    </tr>\n",
       "    <tr>\n",
       "      <th>53</th>\n",
       "      <td>B_DAYS_CREDIT_MAX_CA_CLOSED</td>\n",
       "      <td>0.06256</td>\n",
       "    </tr>\n",
       "    <tr>\n",
       "      <th>55</th>\n",
       "      <td>REGION_RATING_MUL</td>\n",
       "      <td>0.06221</td>\n",
       "    </tr>\n",
       "    <tr>\n",
       "      <th>101</th>\n",
       "      <td>FLAG_DOCUMENT_3</td>\n",
       "      <td>0.06048</td>\n",
       "    </tr>\n",
       "    <tr>\n",
       "      <th>82</th>\n",
       "      <td>AMT_INCOME_TOTAL_MIN_AGG_NAME_CONTRACT_TYPE_NA...</td>\n",
       "      <td>0.05695</td>\n",
       "    </tr>\n",
       "    <tr>\n",
       "      <th>76</th>\n",
       "      <td>B_B_CREDIT_DURATION_MEAN_CA_CLOSED</td>\n",
       "      <td>0.05183</td>\n",
       "    </tr>\n",
       "    <tr>\n",
       "      <th>1</th>\n",
       "      <td>EXT_SOURCE_MIN</td>\n",
       "      <td>0.05067</td>\n",
       "    </tr>\n",
       "    <tr>\n",
       "      <th>51</th>\n",
       "      <td>B_AMT_CREDIT_SUM_SUM_CA_CLOSED</td>\n",
       "      <td>0.05057</td>\n",
       "    </tr>\n",
       "    <tr>\n",
       "      <th>32</th>\n",
       "      <td>AMT_ANNUITY_MEAN_AGG_NAME_CONTRACT_TYPE_NAME_I...</td>\n",
       "      <td>0.04912</td>\n",
       "    </tr>\n",
       "    <tr>\n",
       "      <th>49</th>\n",
       "      <td>AGE_EMPLOYED_DIFF_MIN_AGG_FLAG_OWN_CAR_FLAG_OW...</td>\n",
       "      <td>0.04835</td>\n",
       "    </tr>\n",
       "    <tr>\n",
       "      <th>89</th>\n",
       "      <td>FLOORSMAX_MEDI</td>\n",
       "      <td>0.04823</td>\n",
       "    </tr>\n",
       "    <tr>\n",
       "      <th>59</th>\n",
       "      <td>AMT_INCOME_TOTAL_MAX_AGG_FLAG_OWN_CAR_FLAG_OWN...</td>\n",
       "      <td>0.04585</td>\n",
       "    </tr>\n",
       "    <tr>\n",
       "      <th>83</th>\n",
       "      <td>AMT_ANNUITY_MEAN_AGG_CODE_GENDER_NAME_FAMILY_S...</td>\n",
       "      <td>0.04466</td>\n",
       "    </tr>\n",
       "    <tr>\n",
       "      <th>88</th>\n",
       "      <td>AMT_INCOME_TOTAL_MEAN_AGG_NAME_CONTRACT_TYPE_N...</td>\n",
       "      <td>0.04024</td>\n",
       "    </tr>\n",
       "    <tr>\n",
       "      <th>108</th>\n",
       "      <td>REG_CITY_NOT_LIVE_CITY</td>\n",
       "      <td>0.03843</td>\n",
       "    </tr>\n",
       "    <tr>\n",
       "      <th>56</th>\n",
       "      <td>AGE_EMPLOYED_DIFF_MEAN_AGG_FLAG_OWN_CAR_FLAG_O...</td>\n",
       "      <td>0.03719</td>\n",
       "    </tr>\n",
       "    <tr>\n",
       "      <th>84</th>\n",
       "      <td>AGE_EMPLOYED_DIFF</td>\n",
       "      <td>0.03468</td>\n",
       "    </tr>\n",
       "    <tr>\n",
       "      <th>24</th>\n",
       "      <td>B_DAYS_CREDIT_ENDDATE_MEAN_OVERALL</td>\n",
       "      <td>0.03405</td>\n",
       "    </tr>\n",
       "    <tr>\n",
       "      <th>105</th>\n",
       "      <td>B_AMT_CREDIT_SUM_MEAN_OVERALL</td>\n",
       "      <td>0.03215</td>\n",
       "    </tr>\n",
       "    <tr>\n",
       "      <th>33</th>\n",
       "      <td>B_CREDIT_ACTIVE_ACTIVE_MEAN</td>\n",
       "      <td>0.03159</td>\n",
       "    </tr>\n",
       "    <tr>\n",
       "      <th>31</th>\n",
       "      <td>AMT_INCOME_TOTAL_MAX_AGG_NAME_EDUCATION_TYPE_N...</td>\n",
       "      <td>0.03140</td>\n",
       "    </tr>\n",
       "    <tr>\n",
       "      <th>39</th>\n",
       "      <td>DAYS_DETAILS_CHANGE_SUM</td>\n",
       "      <td>0.02866</td>\n",
       "    </tr>\n",
       "    <tr>\n",
       "      <th>9</th>\n",
       "      <td>B_B_CURRENT_CREDIT_DEBT_DIFF_MIN_OVERALL</td>\n",
       "      <td>0.02623</td>\n",
       "    </tr>\n",
       "    <tr>\n",
       "      <th>41</th>\n",
       "      <td>AMT_ANNUITY_MIN_AGG_CODE_GENDER_FLAG_OWN_CAR_F...</td>\n",
       "      <td>0.02613</td>\n",
       "    </tr>\n",
       "  </tbody>\n",
       "</table>\n",
       "</div>"
      ],
      "text/plain": [
       "                                               feature  importance\n",
       "0                                  WEIGHTED_EXT_SOURCE     0.35930\n",
       "5                                         EXT_SOURCE_1     0.24308\n",
       "16                                          DAYS_BIRTH     0.20637\n",
       "35   ANNUITY_INCOME_RATIO_MAX_AGG_CODE_GENDER_FLAG_...     0.20352\n",
       "3                                         EXT_SOURCE_3     0.20285\n",
       "70   AGE_EMPLOYED_DIFF_MIN_AGG_NAME_EDUCATION_TYPE_...     0.17668\n",
       "25   AGE_EMPLOYED_DIFF_MEAN_AGG_NAME_EDUCATION_TYPE...     0.17004\n",
       "45   AGE_EMPLOYED_DIFF_MEAN_AGG_OCCUPATION_TYPE_ORG...     0.16645\n",
       "42   AMT_INCOME_TOTAL_MEAN_AGG_NAME_EDUCATION_TYPE_...     0.16323\n",
       "4                                         EXT_SOURCE_2     0.15021\n",
       "15           B_B_CURRENT_CREDIT_DEBT_DIFF_MEAN_OVERALL     0.14440\n",
       "13                         B_CREDIT_ACTIVE_CLOSED_MEAN     0.14414\n",
       "10                                       DAYS_EMPLOYED     0.12485\n",
       "106                                        AMT_ANNUITY     0.12390\n",
       "50                                 DEF_30_CREDIT_RATIO     0.10455\n",
       "73   AGE_EMPLOYED_DIFF_MEAN_AGG_CODE_GENDER_FLAG_OW...     0.10034\n",
       "30   AMT_INCOME_TOTAL_MEAN_AGG_CODE_GENDER_FLAG_OWN...     0.09654\n",
       "17                           B_DAYS_CREDIT_MAX_OVERALL     0.09393\n",
       "87                                   CREDIT_GOODS_DIFF     0.09304\n",
       "20                                  CREDIT_GOODS_RATIO     0.08013\n",
       "14                   B_DAYS_CREDIT_UPDATE_MEAN_OVERALL     0.07391\n",
       "64   AMT_INCOME_TOTAL_MEAN_AGG_FLAG_OWN_CAR_FLAG_OW...     0.06700\n",
       "34                         B_DAYS_CREDIT_MAX_CA_ACTIVE     0.06681\n",
       "107                    B_B_CREDIT_DURATION_SUM_OVERALL     0.06644\n",
       "7                           B_DAYS_CREDIT_MEAN_OVERALL     0.06614\n",
       "40   ANNUITY_INCOME_RATIO_MAX_AGG_FLAG_OWN_CAR_FLAG...     0.06484\n",
       "77                   B_B_CREDIT_DURATION_MAX_CA_CLOSED     0.06444\n",
       "53                         B_DAYS_CREDIT_MAX_CA_CLOSED     0.06256\n",
       "55                                   REGION_RATING_MUL     0.06221\n",
       "101                                    FLAG_DOCUMENT_3     0.06048\n",
       "82   AMT_INCOME_TOTAL_MIN_AGG_NAME_CONTRACT_TYPE_NA...     0.05695\n",
       "76                  B_B_CREDIT_DURATION_MEAN_CA_CLOSED     0.05183\n",
       "1                                       EXT_SOURCE_MIN     0.05067\n",
       "51                      B_AMT_CREDIT_SUM_SUM_CA_CLOSED     0.05057\n",
       "32   AMT_ANNUITY_MEAN_AGG_NAME_CONTRACT_TYPE_NAME_I...     0.04912\n",
       "49   AGE_EMPLOYED_DIFF_MIN_AGG_FLAG_OWN_CAR_FLAG_OW...     0.04835\n",
       "89                                      FLOORSMAX_MEDI     0.04823\n",
       "59   AMT_INCOME_TOTAL_MAX_AGG_FLAG_OWN_CAR_FLAG_OWN...     0.04585\n",
       "83   AMT_ANNUITY_MEAN_AGG_CODE_GENDER_NAME_FAMILY_S...     0.04466\n",
       "88   AMT_INCOME_TOTAL_MEAN_AGG_NAME_CONTRACT_TYPE_N...     0.04024\n",
       "108                             REG_CITY_NOT_LIVE_CITY     0.03843\n",
       "56   AGE_EMPLOYED_DIFF_MEAN_AGG_FLAG_OWN_CAR_FLAG_O...     0.03719\n",
       "84                                   AGE_EMPLOYED_DIFF     0.03468\n",
       "24                  B_DAYS_CREDIT_ENDDATE_MEAN_OVERALL     0.03405\n",
       "105                      B_AMT_CREDIT_SUM_MEAN_OVERALL     0.03215\n",
       "33                         B_CREDIT_ACTIVE_ACTIVE_MEAN     0.03159\n",
       "31   AMT_INCOME_TOTAL_MAX_AGG_NAME_EDUCATION_TYPE_N...     0.03140\n",
       "39                             DAYS_DETAILS_CHANGE_SUM     0.02866\n",
       "9             B_B_CURRENT_CREDIT_DEBT_DIFF_MIN_OVERALL     0.02623\n",
       "41   AMT_ANNUITY_MIN_AGG_CODE_GENDER_FLAG_OWN_CAR_F...     0.02613"
      ]
     },
     "metadata": {},
     "output_type": "display_data"
    }
   ],
   "source": [
    "# --- Model 2: SGDClassifier with Optuna Optimization ---\n",
    "print(\"\\n\" + \"=\"*60)\n",
    "print(\"Model 2: SGDClassifier with Optuna Optimization\")\n",
    "print(\"=\"*60)\n",
    "\n",
    "# Step 2.1: Baseline Pipeline (No change needed here)\n",
    "print(\"\\n--- Baseline SGDClassifier Training ---\")\n",
    "sgd_base_pipeline = ImblearnPipeline([\n",
    "    # ('smote', SMOTE_VARIANT), # Keep SMOTE here\n",
    "    ('scaler', StandardScaler()),\n",
    "    ('model', SGDClassifier(loss='log_loss', penalty='l2', random_state=SEED,\n",
    "                            class_weight='balanced', n_jobs=8, tol=1e-5))\n",
    "])\n",
    "\n",
    "sgd_base_pipeline.fit(X_train, y_train)\n",
    "y_pred_proba_test_base = sgd_base_pipeline.predict_proba(X_test)[:, 1]\n",
    "y_pred_bin_test_base = (y_pred_proba_test_base >= 0.5).astype(int)\n",
    "baseline_results.append(evaluate_model(y_test, y_pred_proba_test_base, y_pred_bin_test_base, \"SGDClassifier (Baseline)\"))\n",
    "plot_roc_curve(y_test, y_pred_proba_test_base, \"SGDClassifier (Baseline)\")\n",
    "\n",
    "# Step 2.2: Optuna Hyperparameter Optimization\n",
    "print(\"\\n--- Optuna Optimization for SGDClassifier ---\")\n",
    "\n",
    "# Define the objective function for Optuna\n",
    "def objective_sgd(trial):\n",
    "    # Define hyperparameters to tune\n",
    "    alpha = trial.suggest_float('alpha', 1e-5, 1.0, log=True)\n",
    "    max_iter = trial.suggest_int('max_iter', 500, 3000)\n",
    "    loss = trial.suggest_categorical('loss', ['log_loss', 'modified_huber'])\n",
    "    penalty = trial.suggest_categorical('penalty', ['l2', 'elasticnet'])\n",
    "    l1_ratio = 0.15 # Default if penalty is elasticnet, fixed here for simplicity, could also tune\n",
    "    class_weight_opt = trial.suggest_categorical('class_weight', ['balanced', None])\n",
    "    learning_rate = trial.suggest_categorical('learning_rate', ['optimal', 'constant', 'invscaling', 'adaptive'])\n",
    "    eta0 = 0.01 \n",
    "    if learning_rate != 'optimal':\n",
    "        eta0 = trial.suggest_float('eta0', 1e-4, 0.5, log=True)\n",
    "\n",
    "    # Create the pipeline with suggested parameters\n",
    "    pipeline = ImblearnPipeline([\n",
    "        #('smote', SMOTE_VARIANT),\n",
    "        ('scaler', StandardScaler()),\n",
    "        ('model', SGDClassifier(\n",
    "            loss=loss,\n",
    "            penalty=penalty,\n",
    "            alpha=alpha,\n",
    "            l1_ratio=l1_ratio if penalty == 'elasticnet' else 0.15, # Apply l1_ratio only if relevant\n",
    "            max_iter=max_iter,\n",
    "            class_weight=class_weight_opt,\n",
    "            learning_rate=learning_rate,\n",
    "            eta0=eta0,\n",
    "            random_state=SEED,\n",
    "            n_jobs=5,\n",
    "            tol=1e-5 # Use tolerance for convergence\n",
    "        ))\n",
    "    ])\n",
    "\n",
    "    # Evaluate using cross-validation\n",
    "    try:\n",
    "        # Using roc_auc as the optimization target\n",
    "        scores = cross_val_score(pipeline, X_train, y_train, cv=cv, scoring='roc_auc', n_jobs=5)\n",
    "        auc_score = np.mean(scores)\n",
    "        # Handle potential errors during CV\n",
    "        if np.isnan(auc_score):\n",
    "            return 0.0 # Return low score if CV fails\n",
    "        return auc_score\n",
    "    except Exception as e:\n",
    "        print(f\"Trial failed with error: {e}\")\n",
    "        return 0.0 # Return low score for failed trials\n",
    "\n",
    "# Create an Optuna study\n",
    "study_sgd = optuna.create_study(direction='maximize',\n",
    "                                study_name='sgd_optimization',\n",
    "                                storage=f'sqlite:///{MODEL_OUTPUT_PATH}optuna_studies.db', # Save study progress\n",
    "                                load_if_exists=True) # Resume if exists\n",
    "\n",
    "# Create callbacks\n",
    "early_stopping = EarlyStoppingCallback(patience=5, min_improvement=0.002)  \n",
    "timeout = TimeoutCallback(timeout=30)\n",
    "\n",
    "# Run optimization with callbacks\n",
    "print(f\"Starting Optuna optimization for SGD with max {OPTUNA_N_TRIALS} trials (early stopping enabled)...\")\n",
    "start_time = time.time()\n",
    "study_sgd.optimize(objective_sgd, n_trials=OPTUNA_N_TRIALS, callbacks=[early_stopping, timeout], n_jobs=1)\n",
    "end_time = time.time()\n",
    "print(f\"Optuna optimization completed in {(end_time - start_time)/60:.2f} minutes\")\n",
    "\n",
    "# Get best parameters and build the final pipeline\n",
    "best_params_sgd_raw = study_sgd.best_params\n",
    "# Need to prefix with 'model__' for pipeline\n",
    "best_params_sgd = {f'model__{k}': v for k, v in best_params_sgd_raw.items()}\n",
    "print(f\"\\nBest Params (SGDClassifier): {best_params_sgd_raw}\")\n",
    "print(f\"Best CV ROC AUC score: {study_sgd.best_value:.4f}\")\n",
    "\n",
    "best_sgd_pipeline = ImblearnPipeline([\n",
    "    ('scaler', StandardScaler()),\n",
    "    ('model', SGDClassifier(random_state=SEED, n_jobs=8, tol=1e-5, class_weight='balanced'))\n",
    "])\n",
    "best_sgd_pipeline.set_params(**best_params_sgd)\n",
    "\n",
    "# Fit the best pipeline on the full training data\n",
    "print(\"\\nFitting best SGD pipeline on full training data...\")\n",
    "best_sgd_pipeline.fit(X_train, y_train)\n",
    "\n",
    "# Step 2.3: Optimal Threshold and Evaluation\n",
    "print(\"\\nEvaluating tuned SGD model...\")\n",
    "y_prob_oof_sgd = cross_val_predict(best_sgd_pipeline, X_train, y_train, cv=cv, method='predict_proba', n_jobs=-1)[:, 1]\n",
    "optimal_threshold_sgd = find_optimal_threshold_j_statistic(y_train, y_prob_oof_sgd)\n",
    "\n",
    "y_pred_proba_test_tuned = best_sgd_pipeline.predict_proba(X_test)[:, 1]\n",
    "y_pred_bin_test_tuned = (y_pred_proba_test_tuned >= optimal_threshold_sgd).astype(int)\n",
    "tuned_results.append(evaluate_model(y_test, y_pred_proba_test_tuned, y_pred_bin_test_tuned, \"SGDClassifier (Optuna Tuned)\"))\n",
    "plot_roc_curve(y_test, y_pred_proba_test_tuned, \"SGDClassifier (Optuna Tuned)\")\n",
    "\n",
    "# Feature importance via coefficients\n",
    "final_sgd_model = best_sgd_pipeline.named_steps['model']\n",
    "if hasattr(final_sgd_model, 'coef_'):\n",
    "     get_feature_importance(final_sgd_model, feature_names)\n",
    "\n",
    "model_objects['SGD'] = best_sgd_pipeline # Store the best pipeline"
   ]
  },
  {
   "cell_type": "markdown",
   "metadata": {},
   "source": [
    "# 5. Model 3: XGBoost"
   ]
  },
  {
   "cell_type": "code",
   "execution_count": 10,
   "metadata": {},
   "outputs": [
    {
     "name": "stdout",
     "output_type": "stream",
     "text": [
      "\n",
      "============================================================\n",
      "Model 3: XGBoost with Optuna Optimization & GPU\n",
      "============================================================\n",
      "\n",
      "--- Baseline XGBoost Training ---\n",
      "\n",
      "--- Evaluation Metrics for XGBoost (Baseline) ---\n",
      "AUC ROC:        0.7603\n",
      "Gini Coefficient: 0.5206\n",
      "KS Statistic:   0.3954\n",
      "Accuracy:       0.7497\n",
      "Precision:      0.1858\n",
      "Recall (TPR):   0.6207\n",
      "F1-Score:       0.2859\n",
      "Brier Score:    0.1667\n",
      "Log Loss:       0.5001\n",
      "\n",
      "Confusion Matrix:\n",
      "[[43027 13510]\n",
      " [ 1883  3082]]\n"
     ]
    },
    {
     "data": {
      "image/png": "[encoded data removed]",
      "text/plain": [
       "<Figure size 800x600 with 1 Axes>"
      ]
     },
     "metadata": {},
     "output_type": "display_data"
    },
    {
     "name": "stdout",
     "output_type": "stream",
     "text": [
      "\n",
      "--- Top 50 Feature Importances ---\n",
      "Sum of importances: 1.0000\n"
     ]
    },
    {
     "data": {
      "text/html": [
       "<div>\n",
       "<style scoped>\n",
       "    .dataframe tbody tr th:only-of-type {\n",
       "        vertical-align: middle;\n",
       "    }\n",
       "\n",
       "    .dataframe tbody tr th {\n",
       "        vertical-align: top;\n",
       "    }\n",
       "\n",
       "    .dataframe thead th {\n",
       "        text-align: right;\n",
       "    }\n",
       "</style>\n",
       "<table border=\"1\" class=\"dataframe\">\n",
       "  <thead>\n",
       "    <tr style=\"text-align: right;\">\n",
       "      <th></th>\n",
       "      <th>feature</th>\n",
       "      <th>importance</th>\n",
       "    </tr>\n",
       "  </thead>\n",
       "  <tbody>\n",
       "    <tr>\n",
       "      <th>0</th>\n",
       "      <td>WEIGHTED_EXT_SOURCE</td>\n",
       "      <td>0.11121</td>\n",
       "    </tr>\n",
       "    <tr>\n",
       "      <th>35</th>\n",
       "      <td>ANNUITY_INCOME_RATIO_MAX_AGG_CODE_GENDER_FLAG_...</td>\n",
       "      <td>0.02006</td>\n",
       "    </tr>\n",
       "    <tr>\n",
       "      <th>15</th>\n",
       "      <td>B_B_CURRENT_CREDIT_DEBT_DIFF_MEAN_OVERALL</td>\n",
       "      <td>0.01694</td>\n",
       "    </tr>\n",
       "    <tr>\n",
       "      <th>20</th>\n",
       "      <td>CREDIT_GOODS_RATIO</td>\n",
       "      <td>0.01663</td>\n",
       "    </tr>\n",
       "    <tr>\n",
       "      <th>101</th>\n",
       "      <td>FLAG_DOCUMENT_3</td>\n",
       "      <td>0.01457</td>\n",
       "    </tr>\n",
       "    <tr>\n",
       "      <th>6</th>\n",
       "      <td>CREDIT_ANNUITY_RATIO</td>\n",
       "      <td>0.01457</td>\n",
       "    </tr>\n",
       "    <tr>\n",
       "      <th>42</th>\n",
       "      <td>AMT_INCOME_TOTAL_MEAN_AGG_NAME_EDUCATION_TYPE_...</td>\n",
       "      <td>0.01389</td>\n",
       "    </tr>\n",
       "    <tr>\n",
       "      <th>25</th>\n",
       "      <td>AGE_EMPLOYED_DIFF_MEAN_AGG_NAME_EDUCATION_TYPE...</td>\n",
       "      <td>0.01373</td>\n",
       "    </tr>\n",
       "    <tr>\n",
       "      <th>87</th>\n",
       "      <td>CREDIT_GOODS_DIFF</td>\n",
       "      <td>0.01208</td>\n",
       "    </tr>\n",
       "    <tr>\n",
       "      <th>64</th>\n",
       "      <td>AMT_INCOME_TOTAL_MEAN_AGG_FLAG_OWN_CAR_FLAG_OW...</td>\n",
       "      <td>0.01201</td>\n",
       "    </tr>\n",
       "    <tr>\n",
       "      <th>19</th>\n",
       "      <td>AMT_ANNUITY_MIN_AGG_NAME_CONTRACT_TYPE_NAME_IN...</td>\n",
       "      <td>0.01173</td>\n",
       "    </tr>\n",
       "    <tr>\n",
       "      <th>84</th>\n",
       "      <td>AGE_EMPLOYED_DIFF</td>\n",
       "      <td>0.01160</td>\n",
       "    </tr>\n",
       "    <tr>\n",
       "      <th>9</th>\n",
       "      <td>B_B_CURRENT_CREDIT_DEBT_DIFF_MIN_OVERALL</td>\n",
       "      <td>0.01156</td>\n",
       "    </tr>\n",
       "    <tr>\n",
       "      <th>99</th>\n",
       "      <td>AMT_ANNUITY_MAX_AGG_CODE_GENDER_FLAG_OWN_CAR_F...</td>\n",
       "      <td>0.01102</td>\n",
       "    </tr>\n",
       "    <tr>\n",
       "      <th>97</th>\n",
       "      <td>CAR_EMPLOYED_DIFF</td>\n",
       "      <td>0.01100</td>\n",
       "    </tr>\n",
       "    <tr>\n",
       "      <th>38</th>\n",
       "      <td>ANNUITY_INCOME_RATIO_MAX_AGG_CODE_GENDER_NAME_...</td>\n",
       "      <td>0.01042</td>\n",
       "    </tr>\n",
       "    <tr>\n",
       "      <th>106</th>\n",
       "      <td>AMT_ANNUITY</td>\n",
       "      <td>0.00995</td>\n",
       "    </tr>\n",
       "    <tr>\n",
       "      <th>10</th>\n",
       "      <td>DAYS_EMPLOYED</td>\n",
       "      <td>0.00977</td>\n",
       "    </tr>\n",
       "    <tr>\n",
       "      <th>13</th>\n",
       "      <td>B_CREDIT_ACTIVE_CLOSED_MEAN</td>\n",
       "      <td>0.00957</td>\n",
       "    </tr>\n",
       "    <tr>\n",
       "      <th>55</th>\n",
       "      <td>REGION_RATING_MUL</td>\n",
       "      <td>0.00942</td>\n",
       "    </tr>\n",
       "    <tr>\n",
       "      <th>7</th>\n",
       "      <td>B_DAYS_CREDIT_MEAN_OVERALL</td>\n",
       "      <td>0.00937</td>\n",
       "    </tr>\n",
       "    <tr>\n",
       "      <th>72</th>\n",
       "      <td>B_DAYS_ENDDATE_FACT_STD_OVERALL</td>\n",
       "      <td>0.00912</td>\n",
       "    </tr>\n",
       "    <tr>\n",
       "      <th>111</th>\n",
       "      <td>B_AMT_CREDIT_SUM_DEBT_MEAN_OVERALL</td>\n",
       "      <td>0.00904</td>\n",
       "    </tr>\n",
       "    <tr>\n",
       "      <th>46</th>\n",
       "      <td>B_B_CURRENT_CREDIT_DEBT_DIFF_MAX_OVERALL</td>\n",
       "      <td>0.00896</td>\n",
       "    </tr>\n",
       "    <tr>\n",
       "      <th>102</th>\n",
       "      <td>B_AMT_CREDIT_SUM_MAX_OVERALL</td>\n",
       "      <td>0.00896</td>\n",
       "    </tr>\n",
       "    <tr>\n",
       "      <th>16</th>\n",
       "      <td>DAYS_BIRTH</td>\n",
       "      <td>0.00895</td>\n",
       "    </tr>\n",
       "    <tr>\n",
       "      <th>5</th>\n",
       "      <td>EXT_SOURCE_1</td>\n",
       "      <td>0.00892</td>\n",
       "    </tr>\n",
       "    <tr>\n",
       "      <th>91</th>\n",
       "      <td>CAR_AGE_DIFF</td>\n",
       "      <td>0.00877</td>\n",
       "    </tr>\n",
       "    <tr>\n",
       "      <th>18</th>\n",
       "      <td>B_B_CURRENT_DEBT_TO_CREDIT_RATIO_SUM_OVERALL</td>\n",
       "      <td>0.00870</td>\n",
       "    </tr>\n",
       "    <tr>\n",
       "      <th>45</th>\n",
       "      <td>AGE_EMPLOYED_DIFF_MEAN_AGG_OCCUPATION_TYPE_ORG...</td>\n",
       "      <td>0.00868</td>\n",
       "    </tr>\n",
       "    <tr>\n",
       "      <th>1</th>\n",
       "      <td>EXT_SOURCE_MIN</td>\n",
       "      <td>0.00839</td>\n",
       "    </tr>\n",
       "    <tr>\n",
       "      <th>65</th>\n",
       "      <td>ANNUITY_INCOME_RATIO_MAX_AGG_NAME_EDUCATION_TY...</td>\n",
       "      <td>0.00823</td>\n",
       "    </tr>\n",
       "    <tr>\n",
       "      <th>50</th>\n",
       "      <td>DEF_30_CREDIT_RATIO</td>\n",
       "      <td>0.00816</td>\n",
       "    </tr>\n",
       "    <tr>\n",
       "      <th>37</th>\n",
       "      <td>AMT_INCOME_TOTAL_MAX_AGG_CODE_GENDER_FLAG_OWN_...</td>\n",
       "      <td>0.00815</td>\n",
       "    </tr>\n",
       "    <tr>\n",
       "      <th>22</th>\n",
       "      <td>ANNUITY_INCOME_RATIO_MAX_AGG_NAME_CONTRACT_TYP...</td>\n",
       "      <td>0.00809</td>\n",
       "    </tr>\n",
       "    <tr>\n",
       "      <th>94</th>\n",
       "      <td>INCOME_APARTMENT_MODE_MUL</td>\n",
       "      <td>0.00807</td>\n",
       "    </tr>\n",
       "    <tr>\n",
       "      <th>98</th>\n",
       "      <td>APARTMENTS_SUM_MODE</td>\n",
       "      <td>0.00804</td>\n",
       "    </tr>\n",
       "    <tr>\n",
       "      <th>4</th>\n",
       "      <td>EXT_SOURCE_2</td>\n",
       "      <td>0.00801</td>\n",
       "    </tr>\n",
       "    <tr>\n",
       "      <th>62</th>\n",
       "      <td>B_DAYS_CREDIT_SUM_OVERALL</td>\n",
       "      <td>0.00798</td>\n",
       "    </tr>\n",
       "    <tr>\n",
       "      <th>105</th>\n",
       "      <td>B_AMT_CREDIT_SUM_MEAN_OVERALL</td>\n",
       "      <td>0.00790</td>\n",
       "    </tr>\n",
       "    <tr>\n",
       "      <th>34</th>\n",
       "      <td>B_DAYS_CREDIT_MAX_CA_ACTIVE</td>\n",
       "      <td>0.00788</td>\n",
       "    </tr>\n",
       "    <tr>\n",
       "      <th>69</th>\n",
       "      <td>B_B_CREDIT_DURATION_MIN_CA_CLOSED</td>\n",
       "      <td>0.00785</td>\n",
       "    </tr>\n",
       "    <tr>\n",
       "      <th>88</th>\n",
       "      <td>AMT_INCOME_TOTAL_MEAN_AGG_NAME_CONTRACT_TYPE_N...</td>\n",
       "      <td>0.00780</td>\n",
       "    </tr>\n",
       "    <tr>\n",
       "      <th>73</th>\n",
       "      <td>AGE_EMPLOYED_DIFF_MEAN_AGG_CODE_GENDER_FLAG_OW...</td>\n",
       "      <td>0.00780</td>\n",
       "    </tr>\n",
       "    <tr>\n",
       "      <th>78</th>\n",
       "      <td>AMT_ANNUITY_MIN_AGG_FLAG_OWN_CAR_FLAG_OWN_REAL...</td>\n",
       "      <td>0.00779</td>\n",
       "    </tr>\n",
       "    <tr>\n",
       "      <th>14</th>\n",
       "      <td>B_DAYS_CREDIT_UPDATE_MEAN_OVERALL</td>\n",
       "      <td>0.00767</td>\n",
       "    </tr>\n",
       "    <tr>\n",
       "      <th>52</th>\n",
       "      <td>B_AMT_CREDIT_SUM_MEAN_CA_CLOSED</td>\n",
       "      <td>0.00760</td>\n",
       "    </tr>\n",
       "    <tr>\n",
       "      <th>21</th>\n",
       "      <td>AMT_ANNUITY_MAX_AGG_NAME_EDUCATION_TYPE_NAME_I...</td>\n",
       "      <td>0.00755</td>\n",
       "    </tr>\n",
       "    <tr>\n",
       "      <th>57</th>\n",
       "      <td>AMT_INCOME_TOTAL_MEAN_AGG_OCCUPATION_TYPE_ORGA...</td>\n",
       "      <td>0.00749</td>\n",
       "    </tr>\n",
       "    <tr>\n",
       "      <th>40</th>\n",
       "      <td>ANNUITY_INCOME_RATIO_MAX_AGG_FLAG_OWN_CAR_FLAG...</td>\n",
       "      <td>0.00744</td>\n",
       "    </tr>\n",
       "  </tbody>\n",
       "</table>\n",
       "</div>"
      ],
      "text/plain": [
       "                                               feature  importance\n",
       "0                                  WEIGHTED_EXT_SOURCE     0.11121\n",
       "35   ANNUITY_INCOME_RATIO_MAX_AGG_CODE_GENDER_FLAG_...     0.02006\n",
       "15           B_B_CURRENT_CREDIT_DEBT_DIFF_MEAN_OVERALL     0.01694\n",
       "20                                  CREDIT_GOODS_RATIO     0.01663\n",
       "101                                    FLAG_DOCUMENT_3     0.01457\n",
       "6                                 CREDIT_ANNUITY_RATIO     0.01457\n",
       "42   AMT_INCOME_TOTAL_MEAN_AGG_NAME_EDUCATION_TYPE_...     0.01389\n",
       "25   AGE_EMPLOYED_DIFF_MEAN_AGG_NAME_EDUCATION_TYPE...     0.01373\n",
       "87                                   CREDIT_GOODS_DIFF     0.01208\n",
       "64   AMT_INCOME_TOTAL_MEAN_AGG_FLAG_OWN_CAR_FLAG_OW...     0.01201\n",
       "19   AMT_ANNUITY_MIN_AGG_NAME_CONTRACT_TYPE_NAME_IN...     0.01173\n",
       "84                                   AGE_EMPLOYED_DIFF     0.01160\n",
       "9             B_B_CURRENT_CREDIT_DEBT_DIFF_MIN_OVERALL     0.01156\n",
       "99   AMT_ANNUITY_MAX_AGG_CODE_GENDER_FLAG_OWN_CAR_F...     0.01102\n",
       "97                                   CAR_EMPLOYED_DIFF     0.01100\n",
       "38   ANNUITY_INCOME_RATIO_MAX_AGG_CODE_GENDER_NAME_...     0.01042\n",
       "106                                        AMT_ANNUITY     0.00995\n",
       "10                                       DAYS_EMPLOYED     0.00977\n",
       "13                         B_CREDIT_ACTIVE_CLOSED_MEAN     0.00957\n",
       "55                                   REGION_RATING_MUL     0.00942\n",
       "7                           B_DAYS_CREDIT_MEAN_OVERALL     0.00937\n",
       "72                     B_DAYS_ENDDATE_FACT_STD_OVERALL     0.00912\n",
       "111                 B_AMT_CREDIT_SUM_DEBT_MEAN_OVERALL     0.00904\n",
       "46            B_B_CURRENT_CREDIT_DEBT_DIFF_MAX_OVERALL     0.00896\n",
       "102                       B_AMT_CREDIT_SUM_MAX_OVERALL     0.00896\n",
       "16                                          DAYS_BIRTH     0.00895\n",
       "5                                         EXT_SOURCE_1     0.00892\n",
       "91                                        CAR_AGE_DIFF     0.00877\n",
       "18        B_B_CURRENT_DEBT_TO_CREDIT_RATIO_SUM_OVERALL     0.00870\n",
       "45   AGE_EMPLOYED_DIFF_MEAN_AGG_OCCUPATION_TYPE_ORG...     0.00868\n",
       "1                                       EXT_SOURCE_MIN     0.00839\n",
       "65   ANNUITY_INCOME_RATIO_MAX_AGG_NAME_EDUCATION_TY...     0.00823\n",
       "50                                 DEF_30_CREDIT_RATIO     0.00816\n",
       "37   AMT_INCOME_TOTAL_MAX_AGG_CODE_GENDER_FLAG_OWN_...     0.00815\n",
       "22   ANNUITY_INCOME_RATIO_MAX_AGG_NAME_CONTRACT_TYP...     0.00809\n",
       "94                           INCOME_APARTMENT_MODE_MUL     0.00807\n",
       "98                                 APARTMENTS_SUM_MODE     0.00804\n",
       "4                                         EXT_SOURCE_2     0.00801\n",
       "62                           B_DAYS_CREDIT_SUM_OVERALL     0.00798\n",
       "105                      B_AMT_CREDIT_SUM_MEAN_OVERALL     0.00790\n",
       "34                         B_DAYS_CREDIT_MAX_CA_ACTIVE     0.00788\n",
       "69                   B_B_CREDIT_DURATION_MIN_CA_CLOSED     0.00785\n",
       "88   AMT_INCOME_TOTAL_MEAN_AGG_NAME_CONTRACT_TYPE_N...     0.00780\n",
       "73   AGE_EMPLOYED_DIFF_MEAN_AGG_CODE_GENDER_FLAG_OW...     0.00780\n",
       "78   AMT_ANNUITY_MIN_AGG_FLAG_OWN_CAR_FLAG_OWN_REAL...     0.00779\n",
       "14                   B_DAYS_CREDIT_UPDATE_MEAN_OVERALL     0.00767\n",
       "52                     B_AMT_CREDIT_SUM_MEAN_CA_CLOSED     0.00760\n",
       "21   AMT_ANNUITY_MAX_AGG_NAME_EDUCATION_TYPE_NAME_I...     0.00755\n",
       "57   AMT_INCOME_TOTAL_MEAN_AGG_OCCUPATION_TYPE_ORGA...     0.00749\n",
       "40   ANNUITY_INCOME_RATIO_MAX_AGG_FLAG_OWN_CAR_FLAG...     0.00744"
      ]
     },
     "metadata": {},
     "output_type": "display_data"
    },
    {
     "name": "stderr",
     "output_type": "stream",
     "text": [
      "[I 2025-04-09 11:03:59,779] Using an existing study with name 'xgb_optimization' instead of creating a new one.\n"
     ]
    },
    {
     "name": "stdout",
     "output_type": "stream",
     "text": [
      "\n",
      "--- Optuna Optimization for XGBoost ---\n",
      "EarlyStoppingCallback initialized: patience=5, min_improvement=0.001\n",
      "Starting Optuna optimization for XGBoost with max 40 trials (early stopping enabled)...\n"
     ]
    },
    {
     "name": "stderr",
     "output_type": "stream",
     "text": [
      "[I 2025-04-09 11:04:59,323] Trial 157 finished with value: 0.7663459628975046 and parameters: {'n_estimators': 887, 'max_depth': 7, 'learning_rate': 0.012324780222989277, 'subsample': 0.9882564536617595, 'colsample_bytree': 0.6029839896348109, 'gamma': 0.34493341743664774, 'reg_alpha': 0.18137684767865953, 'reg_lambda': 1.584086764719359e-08}. Best is trial 135 with value: 0.7746124371852164.\n"
     ]
    },
    {
     "name": "stdout",
     "output_type": "stream",
     "text": [
      "First trial, best_score initialized to 0.7663\n"
     ]
    },
    {
     "name": "stderr",
     "output_type": "stream",
     "text": [
      "[I 2025-04-09 11:06:08,538] Trial 158 finished with value: 0.7635855852895137 and parameters: {'n_estimators': 757, 'max_depth': 8, 'learning_rate': 0.013213071505017394, 'subsample': 0.9413922154440972, 'colsample_bytree': 0.6539921527126831, 'gamma': 0.3116902267177235, 'reg_alpha': 0.2813357599151315, 'reg_lambda': 3.533994737169687e-08}. Best is trial 135 with value: 0.7746124371852164.\n"
     ]
    },
    {
     "name": "stdout",
     "output_type": "stream",
     "text": [
      "Trial 158: No improvement (1/5). Score: 0.7636, Best: 0.7663\n",
      "Timeout: optimization stopped after 2.15 minutes\n"
     ]
    },
    {
     "name": "stderr",
     "output_type": "stream",
     "text": [
      "[I 2025-04-09 11:07:37,013] Trial 159 finished with value: 0.7590683514398041 and parameters: {'n_estimators': 958, 'max_depth': 8, 'learning_rate': 0.017119620702672936, 'subsample': 0.963458736761557, 'colsample_bytree': 0.8843759764979985, 'gamma': 0.32733671028781836, 'reg_alpha': 0.11158339772065806, 'reg_lambda': 1.1147609206366299e-08}. Best is trial 135 with value: 0.7746124371852164.\n"
     ]
    },
    {
     "name": "stdout",
     "output_type": "stream",
     "text": [
      "Trial 159: No improvement (2/5). Score: 0.7591, Best: 0.7663\n",
      "Timeout: optimization stopped after 3.62 minutes\n"
     ]
    },
    {
     "name": "stderr",
     "output_type": "stream",
     "text": [
      "[I 2025-04-09 11:08:22,060] Trial 160 finished with value: 0.7674510146942279 and parameters: {'n_estimators': 840, 'max_depth': 6, 'learning_rate': 0.01449102101609168, 'subsample': 0.9995169789500222, 'colsample_bytree': 0.6425321371890125, 'gamma': 0.2966237719076303, 'reg_alpha': 0.6819683153671305, 'reg_lambda': 7.823088306680941e-08}. Best is trial 135 with value: 0.7746124371852164.\n"
     ]
    },
    {
     "name": "stdout",
     "output_type": "stream",
     "text": [
      "Trial 160: New best 0.7675 (improved by 0.0011)\n",
      "Timeout: optimization stopped after 4.37 minutes\n"
     ]
    },
    {
     "name": "stderr",
     "output_type": "stream",
     "text": [
      "[I 2025-04-09 11:10:10,696] Trial 161 finished with value: 0.7587364709124743 and parameters: {'n_estimators': 934, 'max_depth': 9, 'learning_rate': 0.011833875136790791, 'subsample': 0.9760627125385024, 'colsample_bytree': 0.6248613157100927, 'gamma': 0.35418016115825773, 'reg_alpha': 0.46034883512264896, 'reg_lambda': 2.1292384126679938e-08}. Best is trial 135 with value: 0.7746124371852164.\n"
     ]
    },
    {
     "name": "stdout",
     "output_type": "stream",
     "text": [
      "Trial 161: No improvement (1/5). Score: 0.7587, Best: 0.7675\n",
      "Timeout: optimization stopped after 6.18 minutes\n"
     ]
    },
    {
     "name": "stderr",
     "output_type": "stream",
     "text": [
      "[I 2025-04-09 11:11:27,557] Trial 162 finished with value: 0.7631577479598783 and parameters: {'n_estimators': 872, 'max_depth': 8, 'learning_rate': 0.013410800766404598, 'subsample': 0.9543906524896314, 'colsample_bytree': 0.636187298192431, 'gamma': 0.3015813951909521, 'reg_alpha': 0.12918280493300963, 'reg_lambda': 3.778809525165956e-08}. Best is trial 135 with value: 0.7746124371852164.\n"
     ]
    },
    {
     "name": "stdout",
     "output_type": "stream",
     "text": [
      "Trial 162: No improvement (2/5). Score: 0.7632, Best: 0.7675\n",
      "Timeout: optimization stopped after 7.46 minutes\n"
     ]
    },
    {
     "name": "stderr",
     "output_type": "stream",
     "text": [
      "[I 2025-04-09 11:11:47,312] Trial 163 finished with value: 0.7566394218504972 and parameters: {'n_estimators': 136, 'max_depth': 8, 'learning_rate': 0.01586221425513233, 'subsample': 0.9631146503807374, 'colsample_bytree': 0.6213499216198721, 'gamma': 0.30719984573203557, 'reg_alpha': 0.17665919431938956, 'reg_lambda': 2.8888506623309744e-08}. Best is trial 135 with value: 0.7746124371852164.\n"
     ]
    },
    {
     "name": "stdout",
     "output_type": "stream",
     "text": [
      "Trial 163: No improvement (3/5). Score: 0.7566, Best: 0.7675\n",
      "Timeout: optimization stopped after 7.79 minutes\n"
     ]
    },
    {
     "name": "stderr",
     "output_type": "stream",
     "text": [
      "[I 2025-04-09 11:13:03,086] Trial 164 finished with value: 0.7628413247460383 and parameters: {'n_estimators': 863, 'max_depth': 8, 'learning_rate': 0.013688220455853708, 'subsample': 0.9643012547959697, 'colsample_bytree': 0.6178413034950538, 'gamma': 0.33546951235948647, 'reg_alpha': 0.995948650106501, 'reg_lambda': 5.153727755257866e-08}. Best is trial 135 with value: 0.7746124371852164.\n"
     ]
    },
    {
     "name": "stdout",
     "output_type": "stream",
     "text": [
      "Trial 164: No improvement (4/5). Score: 0.7628, Best: 0.7675\n",
      "Timeout: optimization stopped after 9.06 minutes\n"
     ]
    },
    {
     "name": "stderr",
     "output_type": "stream",
     "text": [
      "[I 2025-04-09 11:14:20,214] Trial 165 finished with value: 0.7617028228308544 and parameters: {'n_estimators': 905, 'max_depth': 8, 'learning_rate': 0.014740184861682286, 'subsample': 0.9734237215052373, 'colsample_bytree': 0.6271442153681501, 'gamma': 0.28642344185115404, 'reg_alpha': 0.2094132535361737, 'reg_lambda': 1.6304340860896594e-08}. Best is trial 135 with value: 0.7746124371852164.\n"
     ]
    },
    {
     "name": "stdout",
     "output_type": "stream",
     "text": [
      "Trial 165: No improvement (5/5). Score: 0.7617, Best: 0.7675\n",
      "EARLY STOPPING TRIGGERED after 5 trials without 0.0010 improvement\n",
      "Trial history: [(157, 0.7663459628975046, 'first'), (158, 0.7635855852895137, 'no_imp'), (159, 0.7590683514398041, 'no_imp'), (160, 0.7674510146942279, 'improved'), (161, 0.7587364709124743, 'no_imp'), (162, 0.7631577479598783, 'no_imp'), (163, 0.7566394218504972, 'no_imp'), (164, 0.7628413247460383, 'no_imp'), (165, 0.7617028228308544, 'no_imp')]\n",
      "Timeout: optimization stopped after 10.34 minutes\n"
     ]
    },
    {
     "name": "stderr",
     "output_type": "stream",
     "text": [
      "[I 2025-04-09 11:15:23,926] Trial 166 finished with value: 0.7664645971801505 and parameters: {'n_estimators': 896, 'max_depth': 7, 'learning_rate': 0.010796513939365952, 'subsample': 0.9307892836473778, 'colsample_bytree': 0.7995174091503784, 'gamma': 0.3208757057928176, 'reg_alpha': 0.3517461127744135, 'reg_lambda': 2.8830286218901404e-08}. Best is trial 135 with value: 0.7746124371852164.\n"
     ]
    },
    {
     "name": "stdout",
     "output_type": "stream",
     "text": [
      "Trial 166: No improvement (6/5). Score: 0.7665, Best: 0.7675\n",
      "EARLY STOPPING TRIGGERED after 5 trials without 0.0010 improvement\n",
      "Trial history: [(157, 0.7663459628975046, 'first'), (158, 0.7635855852895137, 'no_imp'), (159, 0.7590683514398041, 'no_imp'), (160, 0.7674510146942279, 'improved'), (161, 0.7587364709124743, 'no_imp'), (162, 0.7631577479598783, 'no_imp'), (163, 0.7566394218504972, 'no_imp'), (164, 0.7628413247460383, 'no_imp'), (165, 0.7617028228308544, 'no_imp'), (166, 0.7664645971801505, 'no_imp')]\n",
      "Timeout: optimization stopped after 11.40 minutes\n"
     ]
    },
    {
     "name": "stderr",
     "output_type": "stream",
     "text": [
      "[I 2025-04-09 11:16:38,999] Trial 167 finished with value: 0.7584245575892999 and parameters: {'n_estimators': 826, 'max_depth': 8, 'learning_rate': 0.020291025160944578, 'subsample': 0.9810260506033063, 'colsample_bytree': 0.8718795118078625, 'gamma': 0.30436190417191034, 'reg_alpha': 0.5833497342447312, 'reg_lambda': 1.0046180761487123e-08}. Best is trial 135 with value: 0.7746124371852164.\n"
     ]
    },
    {
     "name": "stdout",
     "output_type": "stream",
     "text": [
      "Trial 167: No improvement (7/5). Score: 0.7584, Best: 0.7675\n",
      "EARLY STOPPING TRIGGERED after 5 trials without 0.0010 improvement\n",
      "Trial history: [(157, 0.7663459628975046, 'first'), (158, 0.7635855852895137, 'no_imp'), (159, 0.7590683514398041, 'no_imp'), (160, 0.7674510146942279, 'improved'), (161, 0.7587364709124743, 'no_imp'), (162, 0.7631577479598783, 'no_imp'), (163, 0.7566394218504972, 'no_imp'), (164, 0.7628413247460383, 'no_imp'), (165, 0.7617028228308544, 'no_imp'), (166, 0.7664645971801505, 'no_imp'), (167, 0.7584245575892999, 'no_imp')]\n",
      "Timeout: optimization stopped after 12.65 minutes\n"
     ]
    },
    {
     "name": "stderr",
     "output_type": "stream",
     "text": [
      "[I 2025-04-09 11:17:25,083] Trial 168 finished with value: 0.7671978184553365 and parameters: {'n_estimators': 850, 'max_depth': 6, 'learning_rate': 0.01291814217246495, 'subsample': 0.9874929659228215, 'colsample_bytree': 0.6086188893904534, 'gamma': 0.27860925650578766, 'reg_alpha': 0.07723326471561828, 'reg_lambda': 1.0253506313857963e-07}. Best is trial 135 with value: 0.7746124371852164.\n"
     ]
    },
    {
     "name": "stdout",
     "output_type": "stream",
     "text": [
      "Trial 168: No improvement (8/5). Score: 0.7672, Best: 0.7675\n",
      "EARLY STOPPING TRIGGERED after 5 trials without 0.0010 improvement\n",
      "Trial history: [(157, 0.7663459628975046, 'first'), (158, 0.7635855852895137, 'no_imp'), (159, 0.7590683514398041, 'no_imp'), (160, 0.7674510146942279, 'improved'), (161, 0.7587364709124743, 'no_imp'), (162, 0.7631577479598783, 'no_imp'), (163, 0.7566394218504972, 'no_imp'), (164, 0.7628413247460383, 'no_imp'), (165, 0.7617028228308544, 'no_imp'), (166, 0.7664645971801505, 'no_imp'), (167, 0.7584245575892999, 'no_imp'), (168, 0.7671978184553365, 'no_imp')]\n",
      "Timeout: optimization stopped after 13.42 minutes\n"
     ]
    },
    {
     "name": "stderr",
     "output_type": "stream",
     "text": [
      "[I 2025-04-09 11:18:26,153] Trial 169 finished with value: 0.7647334303933945 and parameters: {'n_estimators': 958, 'max_depth': 7, 'learning_rate': 0.01800904274816566, 'subsample': 0.9467911520603024, 'colsample_bytree': 0.616652894968064, 'gamma': 0.3140130494682747, 'reg_alpha': 0.2716559513221291, 'reg_lambda': 4.930382637281618e-08}. Best is trial 135 with value: 0.7746124371852164.\n"
     ]
    },
    {
     "name": "stdout",
     "output_type": "stream",
     "text": [
      "Trial 169: No improvement (9/5). Score: 0.7647, Best: 0.7675\n",
      "EARLY STOPPING TRIGGERED after 5 trials without 0.0010 improvement\n",
      "Trial history: [(157, 0.7663459628975046, 'first'), (158, 0.7635855852895137, 'no_imp'), (159, 0.7590683514398041, 'no_imp'), (160, 0.7674510146942279, 'improved'), (161, 0.7587364709124743, 'no_imp'), (162, 0.7631577479598783, 'no_imp'), (163, 0.7566394218504972, 'no_imp'), (164, 0.7628413247460383, 'no_imp'), (165, 0.7617028228308544, 'no_imp'), (166, 0.7664645971801505, 'no_imp'), (167, 0.7584245575892999, 'no_imp'), (168, 0.7671978184553365, 'no_imp'), (169, 0.7647334303933945, 'no_imp')]\n",
      "Timeout: optimization stopped after 14.44 minutes\n"
     ]
    },
    {
     "name": "stderr",
     "output_type": "stream",
     "text": [
      "[I 2025-04-09 11:19:09,712] Trial 170 finished with value: 0.7639587600946793 and parameters: {'n_estimators': 431, 'max_depth': 8, 'learning_rate': 0.016131418900299874, 'subsample': 0.9567844850642919, 'colsample_bytree': 0.6345754492519254, 'gamma': 0.3395952971603671, 'reg_alpha': 0.030167867546576917, 'reg_lambda': 2.7184369245212497e-08}. Best is trial 135 with value: 0.7746124371852164.\n"
     ]
    },
    {
     "name": "stdout",
     "output_type": "stream",
     "text": [
      "Trial 170: No improvement (10/5). Score: 0.7640, Best: 0.7675\n",
      "EARLY STOPPING TRIGGERED after 5 trials without 0.0010 improvement\n",
      "Trial history: [(157, 0.7663459628975046, 'first'), (158, 0.7635855852895137, 'no_imp'), (159, 0.7590683514398041, 'no_imp'), (160, 0.7674510146942279, 'improved'), (161, 0.7587364709124743, 'no_imp'), (162, 0.7631577479598783, 'no_imp'), (163, 0.7566394218504972, 'no_imp'), (164, 0.7628413247460383, 'no_imp'), (165, 0.7617028228308544, 'no_imp'), (166, 0.7664645971801505, 'no_imp'), (167, 0.7584245575892999, 'no_imp'), (168, 0.7671978184553365, 'no_imp'), (169, 0.7647334303933945, 'no_imp'), (170, 0.7639587600946793, 'no_imp')]\n",
      "Timeout: optimization stopped after 15.17 minutes\n"
     ]
    },
    {
     "name": "stderr",
     "output_type": "stream",
     "text": [
      "[I 2025-04-09 11:19:58,635] Trial 171 finished with value: 0.7674868984391993 and parameters: {'n_estimators': 923, 'max_depth': 6, 'learning_rate': 0.014246222131623772, 'subsample': 0.9683658385563869, 'colsample_bytree': 0.649389638265908, 'gamma': 0.29370500905546887, 'reg_alpha': 0.16874082759753503, 'reg_lambda': 0.005792027330489577}. Best is trial 135 with value: 0.7746124371852164.\n"
     ]
    },
    {
     "name": "stdout",
     "output_type": "stream",
     "text": [
      "Trial 171: No improvement (11/5). Score: 0.7675, Best: 0.7675\n",
      "EARLY STOPPING TRIGGERED after 5 trials without 0.0010 improvement\n",
      "Trial history: [(157, 0.7663459628975046, 'first'), (158, 0.7635855852895137, 'no_imp'), (159, 0.7590683514398041, 'no_imp'), (160, 0.7674510146942279, 'improved'), (161, 0.7587364709124743, 'no_imp'), (162, 0.7631577479598783, 'no_imp'), (163, 0.7566394218504972, 'no_imp'), (164, 0.7628413247460383, 'no_imp'), (165, 0.7617028228308544, 'no_imp'), (166, 0.7664645971801505, 'no_imp'), (167, 0.7584245575892999, 'no_imp'), (168, 0.7671978184553365, 'no_imp'), (169, 0.7647334303933945, 'no_imp'), (170, 0.7639587600946793, 'no_imp'), (171, 0.7674868984391993, 'no_imp')]\n",
      "Timeout: optimization stopped after 15.98 minutes\n"
     ]
    },
    {
     "name": "stderr",
     "output_type": "stream",
     "text": [
      "[I 2025-04-09 11:21:16,326] Trial 172 finished with value: 0.7609059899430439 and parameters: {'n_estimators': 935, 'max_depth': 8, 'learning_rate': 0.01550119580521237, 'subsample': 0.9761186637965596, 'colsample_bytree': 0.6065634795717355, 'gamma': 0.4965107451069212, 'reg_alpha': 0.408063523898309, 'reg_lambda': 5.085912620525117e-08}. Best is trial 135 with value: 0.7746124371852164.\n"
     ]
    },
    {
     "name": "stdout",
     "output_type": "stream",
     "text": [
      "Trial 172: No improvement (12/5). Score: 0.7609, Best: 0.7675\n",
      "EARLY STOPPING TRIGGERED after 5 trials without 0.0010 improvement\n",
      "Trial history: [(157, 0.7663459628975046, 'first'), (158, 0.7635855852895137, 'no_imp'), (159, 0.7590683514398041, 'no_imp'), (160, 0.7674510146942279, 'improved'), (161, 0.7587364709124743, 'no_imp'), (162, 0.7631577479598783, 'no_imp'), (163, 0.7566394218504972, 'no_imp'), (164, 0.7628413247460383, 'no_imp'), (165, 0.7617028228308544, 'no_imp'), (166, 0.7664645971801505, 'no_imp'), (167, 0.7584245575892999, 'no_imp'), (168, 0.7671978184553365, 'no_imp'), (169, 0.7647334303933945, 'no_imp'), (170, 0.7639587600946793, 'no_imp'), (171, 0.7674868984391993, 'no_imp'), (172, 0.7609059899430439, 'no_imp')]\n",
      "Timeout: optimization stopped after 17.28 minutes\n"
     ]
    },
    {
     "name": "stderr",
     "output_type": "stream",
     "text": [
      "[I 2025-04-09 11:22:33,580] Trial 173 finished with value: 0.7614757724910562 and parameters: {'n_estimators': 918, 'max_depth': 8, 'learning_rate': 0.015282626593970585, 'subsample': 0.9743061250687481, 'colsample_bytree': 0.60048196991698, 'gamma': 0.2958150728985446, 'reg_alpha': 0.4759838600929722, 'reg_lambda': 0.0482425252703859}. Best is trial 135 with value: 0.7746124371852164.\n"
     ]
    },
    {
     "name": "stdout",
     "output_type": "stream",
     "text": [
      "Trial 173: No improvement (13/5). Score: 0.7615, Best: 0.7675\n",
      "EARLY STOPPING TRIGGERED after 5 trials without 0.0010 improvement\n",
      "Trial history: [(157, 0.7663459628975046, 'first'), (158, 0.7635855852895137, 'no_imp'), (159, 0.7590683514398041, 'no_imp'), (160, 0.7674510146942279, 'improved'), (161, 0.7587364709124743, 'no_imp'), (162, 0.7631577479598783, 'no_imp'), (163, 0.7566394218504972, 'no_imp'), (164, 0.7628413247460383, 'no_imp'), (165, 0.7617028228308544, 'no_imp'), (166, 0.7664645971801505, 'no_imp'), (167, 0.7584245575892999, 'no_imp'), (168, 0.7671978184553365, 'no_imp'), (169, 0.7647334303933945, 'no_imp'), (170, 0.7639587600946793, 'no_imp'), (171, 0.7674868984391993, 'no_imp'), (172, 0.7609059899430439, 'no_imp'), (173, 0.7614757724910562, 'no_imp')]\n",
      "Timeout: optimization stopped after 18.56 minutes\n"
     ]
    },
    {
     "name": "stderr",
     "output_type": "stream",
     "text": [
      "[I 2025-04-09 11:23:50,681] Trial 174 finished with value: 0.7633268961351584 and parameters: {'n_estimators': 884, 'max_depth': 8, 'learning_rate': 0.013500916930610807, 'subsample': 0.9597184610602694, 'colsample_bytree': 0.616221398558719, 'gamma': 0.306797296641638, 'reg_alpha': 0.6469231118934329, 'reg_lambda': 6.109049363789273e-08}. Best is trial 135 with value: 0.7746124371852164.\n"
     ]
    },
    {
     "name": "stdout",
     "output_type": "stream",
     "text": [
      "Trial 174: No improvement (14/5). Score: 0.7633, Best: 0.7675\n",
      "EARLY STOPPING TRIGGERED after 5 trials without 0.0010 improvement\n",
      "Trial history: [(157, 0.7663459628975046, 'first'), (158, 0.7635855852895137, 'no_imp'), (159, 0.7590683514398041, 'no_imp'), (160, 0.7674510146942279, 'improved'), (161, 0.7587364709124743, 'no_imp'), (162, 0.7631577479598783, 'no_imp'), (163, 0.7566394218504972, 'no_imp'), (164, 0.7628413247460383, 'no_imp'), (165, 0.7617028228308544, 'no_imp'), (166, 0.7664645971801505, 'no_imp'), (167, 0.7584245575892999, 'no_imp'), (168, 0.7671978184553365, 'no_imp'), (169, 0.7647334303933945, 'no_imp'), (170, 0.7639587600946793, 'no_imp'), (171, 0.7674868984391993, 'no_imp'), (172, 0.7609059899430439, 'no_imp'), (173, 0.7614757724910562, 'no_imp'), (174, 0.7633268961351584, 'no_imp')]\n",
      "Timeout: optimization stopped after 19.85 minutes\n"
     ]
    },
    {
     "name": "stderr",
     "output_type": "stream",
     "text": [
      "[I 2025-04-09 11:25:03,906] Trial 175 finished with value: 0.7269096787463826 and parameters: {'n_estimators': 945, 'max_depth': 8, 'learning_rate': 0.0880596658241539, 'subsample': 0.9902833468477394, 'colsample_bytree': 0.6268707044463998, 'gamma': 0.322174432785652, 'reg_alpha': 0.3591246336683926, 'reg_lambda': 1.7595233094945536e-08}. Best is trial 135 with value: 0.7746124371852164.\n"
     ]
    },
    {
     "name": "stdout",
     "output_type": "stream",
     "text": [
      "Trial 175: No improvement (15/5). Score: 0.7269, Best: 0.7675\n",
      "EARLY STOPPING TRIGGERED after 5 trials without 0.0010 improvement\n",
      "Trial history: [(157, 0.7663459628975046, 'first'), (158, 0.7635855852895137, 'no_imp'), (159, 0.7590683514398041, 'no_imp'), (160, 0.7674510146942279, 'improved'), (161, 0.7587364709124743, 'no_imp'), (162, 0.7631577479598783, 'no_imp'), (163, 0.7566394218504972, 'no_imp'), (164, 0.7628413247460383, 'no_imp'), (165, 0.7617028228308544, 'no_imp'), (166, 0.7664645971801505, 'no_imp'), (167, 0.7584245575892999, 'no_imp'), (168, 0.7671978184553365, 'no_imp'), (169, 0.7647334303933945, 'no_imp'), (170, 0.7639587600946793, 'no_imp'), (171, 0.7674868984391993, 'no_imp'), (172, 0.7609059899430439, 'no_imp'), (173, 0.7614757724910562, 'no_imp'), (174, 0.7633268961351584, 'no_imp'), (175, 0.7269096787463826, 'no_imp')]\n",
      "Timeout: optimization stopped after 21.07 minutes\n"
     ]
    },
    {
     "name": "stderr",
     "output_type": "stream",
     "text": [
      "[I 2025-04-09 11:26:29,303] Trial 176 finished with value: 0.7592130035945308 and parameters: {'n_estimators': 975, 'max_depth': 8, 'learning_rate': 0.01738257862780313, 'subsample': 0.9512162345364931, 'colsample_bytree': 0.7680985889948161, 'gamma': 0.32918119987273886, 'reg_alpha': 0.26456307112165317, 'reg_lambda': 7.900286155962818e-08}. Best is trial 135 with value: 0.7746124371852164.\n"
     ]
    },
    {
     "name": "stdout",
     "output_type": "stream",
     "text": [
      "Trial 176: No improvement (16/5). Score: 0.7592, Best: 0.7675\n",
      "EARLY STOPPING TRIGGERED after 5 trials without 0.0010 improvement\n",
      "Trial history: [(157, 0.7663459628975046, 'first'), (158, 0.7635855852895137, 'no_imp'), (159, 0.7590683514398041, 'no_imp'), (160, 0.7674510146942279, 'improved'), (161, 0.7587364709124743, 'no_imp'), (162, 0.7631577479598783, 'no_imp'), (163, 0.7566394218504972, 'no_imp'), (164, 0.7628413247460383, 'no_imp'), (165, 0.7617028228308544, 'no_imp'), (166, 0.7664645971801505, 'no_imp'), (167, 0.7584245575892999, 'no_imp'), (168, 0.7671978184553365, 'no_imp'), (169, 0.7647334303933945, 'no_imp'), (170, 0.7639587600946793, 'no_imp'), (171, 0.7674868984391993, 'no_imp'), (172, 0.7609059899430439, 'no_imp'), (173, 0.7614757724910562, 'no_imp'), (174, 0.7633268961351584, 'no_imp'), (175, 0.7269096787463826, 'no_imp'), (176, 0.7592130035945308, 'no_imp')]\n",
      "Timeout: optimization stopped after 22.49 minutes\n"
     ]
    },
    {
     "name": "stderr",
     "output_type": "stream",
     "text": [
      "[I 2025-04-09 11:27:33,517] Trial 177 finished with value: 0.7661598121783613 and parameters: {'n_estimators': 901, 'max_depth': 7, 'learning_rate': 0.012420759969933857, 'subsample': 0.9663912761310332, 'colsample_bytree': 0.8815965464474983, 'gamma': 0.2727997880780656, 'reg_alpha': 0.7367164517847173, 'reg_lambda': 1.4659376728473158e-07}. Best is trial 135 with value: 0.7746124371852164.\n"
     ]
    },
    {
     "name": "stdout",
     "output_type": "stream",
     "text": [
      "Trial 177: No improvement (17/5). Score: 0.7662, Best: 0.7675\n",
      "EARLY STOPPING TRIGGERED after 5 trials without 0.0010 improvement\n",
      "Trial history: [(157, 0.7663459628975046, 'first'), (158, 0.7635855852895137, 'no_imp'), (159, 0.7590683514398041, 'no_imp'), (160, 0.7674510146942279, 'improved'), (161, 0.7587364709124743, 'no_imp'), (162, 0.7631577479598783, 'no_imp'), (163, 0.7566394218504972, 'no_imp'), (164, 0.7628413247460383, 'no_imp'), (165, 0.7617028228308544, 'no_imp'), (166, 0.7664645971801505, 'no_imp'), (167, 0.7584245575892999, 'no_imp'), (168, 0.7671978184553365, 'no_imp'), (169, 0.7647334303933945, 'no_imp'), (170, 0.7639587600946793, 'no_imp'), (171, 0.7674868984391993, 'no_imp'), (172, 0.7609059899430439, 'no_imp'), (173, 0.7614757724910562, 'no_imp'), (174, 0.7633268961351584, 'no_imp'), (175, 0.7269096787463826, 'no_imp'), (176, 0.7592130035945308, 'no_imp'), (177, 0.7661598121783613, 'no_imp')]\n",
      "Timeout: optimization stopped after 23.56 minutes\n"
     ]
    },
    {
     "name": "stderr",
     "output_type": "stream",
     "text": [
      "[I 2025-04-09 11:28:48,649] Trial 178 finished with value: 0.7620407484597181 and parameters: {'n_estimators': 875, 'max_depth': 8, 'learning_rate': 0.01431830052430722, 'subsample': 0.9802485550432365, 'colsample_bytree': 0.6319130698265422, 'gamma': 0.2843337935892167, 'reg_alpha': 0.15932066360760563, 'reg_lambda': 3.4873220714746506e-08}. Best is trial 135 with value: 0.7746124371852164.\n"
     ]
    },
    {
     "name": "stdout",
     "output_type": "stream",
     "text": [
      "Trial 178: No improvement (18/5). Score: 0.7620, Best: 0.7675\n",
      "EARLY STOPPING TRIGGERED after 5 trials without 0.0010 improvement\n",
      "Trial history: [(157, 0.7663459628975046, 'first'), (158, 0.7635855852895137, 'no_imp'), (159, 0.7590683514398041, 'no_imp'), (160, 0.7674510146942279, 'improved'), (161, 0.7587364709124743, 'no_imp'), (162, 0.7631577479598783, 'no_imp'), (163, 0.7566394218504972, 'no_imp'), (164, 0.7628413247460383, 'no_imp'), (165, 0.7617028228308544, 'no_imp'), (166, 0.7664645971801505, 'no_imp'), (167, 0.7584245575892999, 'no_imp'), (168, 0.7671978184553365, 'no_imp'), (169, 0.7647334303933945, 'no_imp'), (170, 0.7639587600946793, 'no_imp'), (171, 0.7674868984391993, 'no_imp'), (172, 0.7609059899430439, 'no_imp'), (173, 0.7614757724910562, 'no_imp'), (174, 0.7633268961351584, 'no_imp'), (175, 0.7269096787463826, 'no_imp'), (176, 0.7592130035945308, 'no_imp'), (177, 0.7661598121783613, 'no_imp'), (178, 0.7620407484597181, 'no_imp')]\n",
      "Timeout: optimization stopped after 24.81 minutes\n"
     ]
    },
    {
     "name": "stderr",
     "output_type": "stream",
     "text": [
      "[I 2025-04-09 11:29:19,638] Trial 179 finished with value: 0.7620745320050497 and parameters: {'n_estimators': 932, 'max_depth': 3, 'learning_rate': 0.01179662137316252, 'subsample': 0.9444507190066306, 'colsample_bytree': 0.6011897971746306, 'gamma': 0.3124207031620511, 'reg_alpha': 0.9947087462794131, 'reg_lambda': 2.212405175168087e-08}. Best is trial 135 with value: 0.7746124371852164.\n"
     ]
    },
    {
     "name": "stdout",
     "output_type": "stream",
     "text": [
      "Trial 179: No improvement (19/5). Score: 0.7621, Best: 0.7675\n",
      "EARLY STOPPING TRIGGERED after 5 trials without 0.0010 improvement\n",
      "Trial history: [(157, 0.7663459628975046, 'first'), (158, 0.7635855852895137, 'no_imp'), (159, 0.7590683514398041, 'no_imp'), (160, 0.7674510146942279, 'improved'), (161, 0.7587364709124743, 'no_imp'), (162, 0.7631577479598783, 'no_imp'), (163, 0.7566394218504972, 'no_imp'), (164, 0.7628413247460383, 'no_imp'), (165, 0.7617028228308544, 'no_imp'), (166, 0.7664645971801505, 'no_imp'), (167, 0.7584245575892999, 'no_imp'), (168, 0.7671978184553365, 'no_imp'), (169, 0.7647334303933945, 'no_imp'), (170, 0.7639587600946793, 'no_imp'), (171, 0.7674868984391993, 'no_imp'), (172, 0.7609059899430439, 'no_imp'), (173, 0.7614757724910562, 'no_imp'), (174, 0.7633268961351584, 'no_imp'), (175, 0.7269096787463826, 'no_imp'), (176, 0.7592130035945308, 'no_imp'), (177, 0.7661598121783613, 'no_imp'), (178, 0.7620407484597181, 'no_imp'), (179, 0.7620745320050497, 'no_imp')]\n",
      "Timeout: optimization stopped after 25.33 minutes\n"
     ]
    },
    {
     "name": "stderr",
     "output_type": "stream",
     "text": [
      "[I 2025-04-09 11:30:11,369] Trial 180 finished with value: 0.7673095531953015 and parameters: {'n_estimators': 959, 'max_depth': 6, 'learning_rate': 0.016729046461626228, 'subsample': 0.9573327383375861, 'colsample_bytree': 0.8879817932652314, 'gamma': 0.2988275557857457, 'reg_alpha': 0.47689608367657355, 'reg_lambda': 3.858994827076552e-08}. Best is trial 135 with value: 0.7746124371852164.\n"
     ]
    },
    {
     "name": "stdout",
     "output_type": "stream",
     "text": [
      "Trial 180: No improvement (20/5). Score: 0.7673, Best: 0.7675\n",
      "EARLY STOPPING TRIGGERED after 5 trials without 0.0010 improvement\n",
      "Trial history: [(157, 0.7663459628975046, 'first'), (158, 0.7635855852895137, 'no_imp'), (159, 0.7590683514398041, 'no_imp'), (160, 0.7674510146942279, 'improved'), (161, 0.7587364709124743, 'no_imp'), (162, 0.7631577479598783, 'no_imp'), (163, 0.7566394218504972, 'no_imp'), (164, 0.7628413247460383, 'no_imp'), (165, 0.7617028228308544, 'no_imp'), (166, 0.7664645971801505, 'no_imp'), (167, 0.7584245575892999, 'no_imp'), (168, 0.7671978184553365, 'no_imp'), (169, 0.7647334303933945, 'no_imp'), (170, 0.7639587600946793, 'no_imp'), (171, 0.7674868984391993, 'no_imp'), (172, 0.7609059899430439, 'no_imp'), (173, 0.7614757724910562, 'no_imp'), (174, 0.7633268961351584, 'no_imp'), (175, 0.7269096787463826, 'no_imp'), (176, 0.7592130035945308, 'no_imp'), (177, 0.7661598121783613, 'no_imp'), (178, 0.7620407484597181, 'no_imp'), (179, 0.7620745320050497, 'no_imp'), (180, 0.7673095531953015, 'no_imp')]\n",
      "Timeout: optimization stopped after 26.19 minutes\n"
     ]
    },
    {
     "name": "stderr",
     "output_type": "stream",
     "text": [
      "[I 2025-04-09 11:31:10,005] Trial 181 finished with value: 0.7638861637689924 and parameters: {'n_estimators': 860, 'max_depth': 7, 'learning_rate': 0.0186957086856599, 'subsample': 0.972494631126693, 'colsample_bytree': 0.8689225438015286, 'gamma': 0.33549934661018255, 'reg_alpha': 0.22990915246283258, 'reg_lambda': 1.4311321718591888e-08}. Best is trial 135 with value: 0.7746124371852164.\n"
     ]
    },
    {
     "name": "stdout",
     "output_type": "stream",
     "text": [
      "Trial 181: No improvement (21/5). Score: 0.7639, Best: 0.7675\n",
      "EARLY STOPPING TRIGGERED after 5 trials without 0.0010 improvement\n",
      "Trial history: [(157, 0.7663459628975046, 'first'), (158, 0.7635855852895137, 'no_imp'), (159, 0.7590683514398041, 'no_imp'), (160, 0.7674510146942279, 'improved'), (161, 0.7587364709124743, 'no_imp'), (162, 0.7631577479598783, 'no_imp'), (163, 0.7566394218504972, 'no_imp'), (164, 0.7628413247460383, 'no_imp'), (165, 0.7617028228308544, 'no_imp'), (166, 0.7664645971801505, 'no_imp'), (167, 0.7584245575892999, 'no_imp'), (168, 0.7671978184553365, 'no_imp'), (169, 0.7647334303933945, 'no_imp'), (170, 0.7639587600946793, 'no_imp'), (171, 0.7674868984391993, 'no_imp'), (172, 0.7609059899430439, 'no_imp'), (173, 0.7614757724910562, 'no_imp'), (174, 0.7633268961351584, 'no_imp'), (175, 0.7269096787463826, 'no_imp'), (176, 0.7592130035945308, 'no_imp'), (177, 0.7661598121783613, 'no_imp'), (178, 0.7620407484597181, 'no_imp'), (179, 0.7620745320050497, 'no_imp'), (180, 0.7673095531953015, 'no_imp'), (181, 0.7638861637689924, 'no_imp')]\n",
      "Timeout: optimization stopped after 27.17 minutes\n"
     ]
    },
    {
     "name": "stderr",
     "output_type": "stream",
     "text": [
      "[I 2025-04-09 11:32:38,882] Trial 182 finished with value: 0.7598632015788425 and parameters: {'n_estimators': 982, 'max_depth': 8, 'learning_rate': 0.015447376467733687, 'subsample': 0.9377872291185381, 'colsample_bytree': 0.8610360666973953, 'gamma': 0.30618452258298134, 'reg_alpha': 0.3896259857261105, 'reg_lambda': 3.0000238179088805e-08}. Best is trial 135 with value: 0.7746124371852164.\n"
     ]
    },
    {
     "name": "stdout",
     "output_type": "stream",
     "text": [
      "Trial 182: No improvement (22/5). Score: 0.7599, Best: 0.7675\n",
      "EARLY STOPPING TRIGGERED after 5 trials without 0.0010 improvement\n",
      "Trial history: [(157, 0.7663459628975046, 'first'), (158, 0.7635855852895137, 'no_imp'), (159, 0.7590683514398041, 'no_imp'), (160, 0.7674510146942279, 'improved'), (161, 0.7587364709124743, 'no_imp'), (162, 0.7631577479598783, 'no_imp'), (163, 0.7566394218504972, 'no_imp'), (164, 0.7628413247460383, 'no_imp'), (165, 0.7617028228308544, 'no_imp'), (166, 0.7664645971801505, 'no_imp'), (167, 0.7584245575892999, 'no_imp'), (168, 0.7671978184553365, 'no_imp'), (169, 0.7647334303933945, 'no_imp'), (170, 0.7639587600946793, 'no_imp'), (171, 0.7674868984391993, 'no_imp'), (172, 0.7609059899430439, 'no_imp'), (173, 0.7614757724910562, 'no_imp'), (174, 0.7633268961351584, 'no_imp'), (175, 0.7269096787463826, 'no_imp'), (176, 0.7592130035945308, 'no_imp'), (177, 0.7661598121783613, 'no_imp'), (178, 0.7620407484597181, 'no_imp'), (179, 0.7620745320050497, 'no_imp'), (180, 0.7673095531953015, 'no_imp'), (181, 0.7638861637689924, 'no_imp'), (182, 0.7598632015788425, 'no_imp')]\n",
      "Timeout: optimization stopped after 28.65 minutes\n"
     ]
    },
    {
     "name": "stderr",
     "output_type": "stream",
     "text": [
      "[I 2025-04-09 11:33:32,688] Trial 183 finished with value: 0.7672292457470039 and parameters: {'n_estimators': 982, 'max_depth': 6, 'learning_rate': 0.013104940429343204, 'subsample': 0.9661591859254234, 'colsample_bytree': 0.9001383925526514, 'gamma': 0.3177538641294458, 'reg_alpha': 0.6047553920219397, 'reg_lambda': 6.368495475046735e-08}. Best is trial 135 with value: 0.7746124371852164.\n"
     ]
    },
    {
     "name": "stdout",
     "output_type": "stream",
     "text": [
      "Trial 183: No improvement (23/5). Score: 0.7672, Best: 0.7675\n",
      "EARLY STOPPING TRIGGERED after 5 trials without 0.0010 improvement\n",
      "Trial history: [(157, 0.7663459628975046, 'first'), (158, 0.7635855852895137, 'no_imp'), (159, 0.7590683514398041, 'no_imp'), (160, 0.7674510146942279, 'improved'), (161, 0.7587364709124743, 'no_imp'), (162, 0.7631577479598783, 'no_imp'), (163, 0.7566394218504972, 'no_imp'), (164, 0.7628413247460383, 'no_imp'), (165, 0.7617028228308544, 'no_imp'), (166, 0.7664645971801505, 'no_imp'), (167, 0.7584245575892999, 'no_imp'), (168, 0.7671978184553365, 'no_imp'), (169, 0.7647334303933945, 'no_imp'), (170, 0.7639587600946793, 'no_imp'), (171, 0.7674868984391993, 'no_imp'), (172, 0.7609059899430439, 'no_imp'), (173, 0.7614757724910562, 'no_imp'), (174, 0.7633268961351584, 'no_imp'), (175, 0.7269096787463826, 'no_imp'), (176, 0.7592130035945308, 'no_imp'), (177, 0.7661598121783613, 'no_imp'), (178, 0.7620407484597181, 'no_imp'), (179, 0.7620745320050497, 'no_imp'), (180, 0.7673095531953015, 'no_imp'), (181, 0.7638861637689924, 'no_imp'), (182, 0.7598632015788425, 'no_imp'), (183, 0.7672292457470039, 'no_imp')]\n",
      "Timeout: optimization stopped after 29.55 minutes\n"
     ]
    },
    {
     "name": "stderr",
     "output_type": "stream",
     "text": [
      "[I 2025-04-09 11:35:00,853] Trial 184 finished with value: 0.7602791730310008 and parameters: {'n_estimators': 965, 'max_depth': 8, 'learning_rate': 0.014298270909171507, 'subsample': 0.9812505432799933, 'colsample_bytree': 0.9061444892018058, 'gamma': 0.45398687823973094, 'reg_alpha': 0.13586780205122476, 'reg_lambda': 2.4156389770136424e-08}. Best is trial 135 with value: 0.7746124371852164.\n"
     ]
    },
    {
     "name": "stdout",
     "output_type": "stream",
     "text": [
      "Trial 184: No improvement (24/5). Score: 0.7603, Best: 0.7675\n",
      "EARLY STOPPING TRIGGERED after 5 trials without 0.0010 improvement\n",
      "Trial history: [(157, 0.7663459628975046, 'first'), (158, 0.7635855852895137, 'no_imp'), (159, 0.7590683514398041, 'no_imp'), (160, 0.7674510146942279, 'improved'), (161, 0.7587364709124743, 'no_imp'), (162, 0.7631577479598783, 'no_imp'), (163, 0.7566394218504972, 'no_imp'), (164, 0.7628413247460383, 'no_imp'), (165, 0.7617028228308544, 'no_imp'), (166, 0.7664645971801505, 'no_imp'), (167, 0.7584245575892999, 'no_imp'), (168, 0.7671978184553365, 'no_imp'), (169, 0.7647334303933945, 'no_imp'), (170, 0.7639587600946793, 'no_imp'), (171, 0.7674868984391993, 'no_imp'), (172, 0.7609059899430439, 'no_imp'), (173, 0.7614757724910562, 'no_imp'), (174, 0.7633268961351584, 'no_imp'), (175, 0.7269096787463826, 'no_imp'), (176, 0.7592130035945308, 'no_imp'), (177, 0.7661598121783613, 'no_imp'), (178, 0.7620407484597181, 'no_imp'), (179, 0.7620745320050497, 'no_imp'), (180, 0.7673095531953015, 'no_imp'), (181, 0.7638861637689924, 'no_imp'), (182, 0.7598632015788425, 'no_imp'), (183, 0.7672292457470039, 'no_imp'), (184, 0.7602791730310008, 'no_imp')]\n",
      "Timeout: optimization stopped after 31.02 minutes\n"
     ]
    },
    {
     "name": "stderr",
     "output_type": "stream",
     "text": [
      "[I 2025-04-09 11:36:26,872] Trial 185 finished with value: 0.7598936452890726 and parameters: {'n_estimators': 941, 'max_depth': 8, 'learning_rate': 0.01630048363216377, 'subsample': 0.9488644308704693, 'colsample_bytree': 0.8920888172475356, 'gamma': 0.29103695399191304, 'reg_alpha': 0.29494998710435594, 'reg_lambda': 4.151146890958304e-08}. Best is trial 135 with value: 0.7746124371852164.\n"
     ]
    },
    {
     "name": "stdout",
     "output_type": "stream",
     "text": [
      "Trial 185: No improvement (25/5). Score: 0.7599, Best: 0.7675\n",
      "EARLY STOPPING TRIGGERED after 5 trials without 0.0010 improvement\n",
      "Trial history: [(157, 0.7663459628975046, 'first'), (158, 0.7635855852895137, 'no_imp'), (159, 0.7590683514398041, 'no_imp'), (160, 0.7674510146942279, 'improved'), (161, 0.7587364709124743, 'no_imp'), (162, 0.7631577479598783, 'no_imp'), (163, 0.7566394218504972, 'no_imp'), (164, 0.7628413247460383, 'no_imp'), (165, 0.7617028228308544, 'no_imp'), (166, 0.7664645971801505, 'no_imp'), (167, 0.7584245575892999, 'no_imp'), (168, 0.7671978184553365, 'no_imp'), (169, 0.7647334303933945, 'no_imp'), (170, 0.7639587600946793, 'no_imp'), (171, 0.7674868984391993, 'no_imp'), (172, 0.7609059899430439, 'no_imp'), (173, 0.7614757724910562, 'no_imp'), (174, 0.7633268961351584, 'no_imp'), (175, 0.7269096787463826, 'no_imp'), (176, 0.7592130035945308, 'no_imp'), (177, 0.7661598121783613, 'no_imp'), (178, 0.7620407484597181, 'no_imp'), (179, 0.7620745320050497, 'no_imp'), (180, 0.7673095531953015, 'no_imp'), (181, 0.7638861637689924, 'no_imp'), (182, 0.7598632015788425, 'no_imp'), (183, 0.7672292457470039, 'no_imp'), (184, 0.7602791730310008, 'no_imp'), (185, 0.7598936452890726, 'no_imp')]\n",
      "Timeout: optimization stopped after 32.45 minutes\n"
     ]
    },
    {
     "name": "stderr",
     "output_type": "stream",
     "text": [
      "[I 2025-04-09 11:37:29,476] Trial 186 finished with value: 0.7645613080949565 and parameters: {'n_estimators': 914, 'max_depth': 7, 'learning_rate': 0.01533068467244187, 'subsample': 0.9922447370993085, 'colsample_bytree': 0.8772536908531356, 'gamma': 0.32477813178312637, 'reg_alpha': 0.48797788826961136, 'reg_lambda': 9.691934677477661e-08}. Best is trial 135 with value: 0.7746124371852164.\n"
     ]
    },
    {
     "name": "stdout",
     "output_type": "stream",
     "text": [
      "Trial 186: No improvement (26/5). Score: 0.7646, Best: 0.7675\n",
      "EARLY STOPPING TRIGGERED after 5 trials without 0.0010 improvement\n",
      "Trial history: [(157, 0.7663459628975046, 'first'), (158, 0.7635855852895137, 'no_imp'), (159, 0.7590683514398041, 'no_imp'), (160, 0.7674510146942279, 'improved'), (161, 0.7587364709124743, 'no_imp'), (162, 0.7631577479598783, 'no_imp'), (163, 0.7566394218504972, 'no_imp'), (164, 0.7628413247460383, 'no_imp'), (165, 0.7617028228308544, 'no_imp'), (166, 0.7664645971801505, 'no_imp'), (167, 0.7584245575892999, 'no_imp'), (168, 0.7671978184553365, 'no_imp'), (169, 0.7647334303933945, 'no_imp'), (170, 0.7639587600946793, 'no_imp'), (171, 0.7674868984391993, 'no_imp'), (172, 0.7609059899430439, 'no_imp'), (173, 0.7614757724910562, 'no_imp'), (174, 0.7633268961351584, 'no_imp'), (175, 0.7269096787463826, 'no_imp'), (176, 0.7592130035945308, 'no_imp'), (177, 0.7661598121783613, 'no_imp'), (178, 0.7620407484597181, 'no_imp'), (179, 0.7620745320050497, 'no_imp'), (180, 0.7673095531953015, 'no_imp'), (181, 0.7638861637689924, 'no_imp'), (182, 0.7598632015788425, 'no_imp'), (183, 0.7672292457470039, 'no_imp'), (184, 0.7602791730310008, 'no_imp'), (185, 0.7598936452890726, 'no_imp'), (186, 0.7645613080949565, 'no_imp')]\n",
      "Timeout: optimization stopped after 33.49 minutes\n"
     ]
    },
    {
     "name": "stderr",
     "output_type": "stream",
     "text": [
      "[I 2025-04-09 11:38:20,983] Trial 187 finished with value: 0.7678739842142026 and parameters: {'n_estimators': 986, 'max_depth': 6, 'learning_rate': 0.01347455367902731, 'subsample': 0.957726912738526, 'colsample_bytree': 0.6439567334885058, 'gamma': 0.30477656734202485, 'reg_alpha': 0.09018846983331957, 'reg_lambda': 1.8186963483042774e-08}. Best is trial 135 with value: 0.7746124371852164.\n"
     ]
    },
    {
     "name": "stdout",
     "output_type": "stream",
     "text": [
      "Trial 187: No improvement (27/5). Score: 0.7679, Best: 0.7675\n",
      "EARLY STOPPING TRIGGERED after 5 trials without 0.0010 improvement\n",
      "Trial history: [(157, 0.7663459628975046, 'first'), (158, 0.7635855852895137, 'no_imp'), (159, 0.7590683514398041, 'no_imp'), (160, 0.7674510146942279, 'improved'), (161, 0.7587364709124743, 'no_imp'), (162, 0.7631577479598783, 'no_imp'), (163, 0.7566394218504972, 'no_imp'), (164, 0.7628413247460383, 'no_imp'), (165, 0.7617028228308544, 'no_imp'), (166, 0.7664645971801505, 'no_imp'), (167, 0.7584245575892999, 'no_imp'), (168, 0.7671978184553365, 'no_imp'), (169, 0.7647334303933945, 'no_imp'), (170, 0.7639587600946793, 'no_imp'), (171, 0.7674868984391993, 'no_imp'), (172, 0.7609059899430439, 'no_imp'), (173, 0.7614757724910562, 'no_imp'), (174, 0.7633268961351584, 'no_imp'), (175, 0.7269096787463826, 'no_imp'), (176, 0.7592130035945308, 'no_imp'), (177, 0.7661598121783613, 'no_imp'), (178, 0.7620407484597181, 'no_imp'), (179, 0.7620745320050497, 'no_imp'), (180, 0.7673095531953015, 'no_imp'), (181, 0.7638861637689924, 'no_imp'), (182, 0.7598632015788425, 'no_imp'), (183, 0.7672292457470039, 'no_imp'), (184, 0.7602791730310008, 'no_imp'), (185, 0.7598936452890726, 'no_imp'), (186, 0.7645613080949565, 'no_imp'), (187, 0.7678739842142026, 'no_imp')]\n",
      "Timeout: optimization stopped after 34.35 minutes\n"
     ]
    },
    {
     "name": "stderr",
     "output_type": "stream",
     "text": [
      "[I 2025-04-09 11:39:43,947] Trial 188 finished with value: 0.7634913178871303 and parameters: {'n_estimators': 959, 'max_depth': 8, 'learning_rate': 0.01131207949283667, 'subsample': 0.9729980806837454, 'colsample_bytree': 0.6140018203929745, 'gamma': 0.34481128913416265, 'reg_alpha': 0.7107394590032612, 'reg_lambda': 1.0088487638107695e-08}. Best is trial 135 with value: 0.7746124371852164.\n"
     ]
    },
    {
     "name": "stdout",
     "output_type": "stream",
     "text": [
      "Trial 188: No improvement (28/5). Score: 0.7635, Best: 0.7675\n",
      "EARLY STOPPING TRIGGERED after 5 trials without 0.0010 improvement\n",
      "Trial history: [(157, 0.7663459628975046, 'first'), (158, 0.7635855852895137, 'no_imp'), (159, 0.7590683514398041, 'no_imp'), (160, 0.7674510146942279, 'improved'), (161, 0.7587364709124743, 'no_imp'), (162, 0.7631577479598783, 'no_imp'), (163, 0.7566394218504972, 'no_imp'), (164, 0.7628413247460383, 'no_imp'), (165, 0.7617028228308544, 'no_imp'), (166, 0.7664645971801505, 'no_imp'), (167, 0.7584245575892999, 'no_imp'), (168, 0.7671978184553365, 'no_imp'), (169, 0.7647334303933945, 'no_imp'), (170, 0.7639587600946793, 'no_imp'), (171, 0.7674868984391993, 'no_imp'), (172, 0.7609059899430439, 'no_imp'), (173, 0.7614757724910562, 'no_imp'), (174, 0.7633268961351584, 'no_imp'), (175, 0.7269096787463826, 'no_imp'), (176, 0.7592130035945308, 'no_imp'), (177, 0.7661598121783613, 'no_imp'), (178, 0.7620407484597181, 'no_imp'), (179, 0.7620745320050497, 'no_imp'), (180, 0.7673095531953015, 'no_imp'), (181, 0.7638861637689924, 'no_imp'), (182, 0.7598632015788425, 'no_imp'), (183, 0.7672292457470039, 'no_imp'), (184, 0.7602791730310008, 'no_imp'), (185, 0.7598936452890726, 'no_imp'), (186, 0.7645613080949565, 'no_imp'), (187, 0.7678739842142026, 'no_imp'), (188, 0.7634913178871303, 'no_imp')]\n",
      "Timeout: optimization stopped after 35.74 minutes\n"
     ]
    },
    {
     "name": "stderr",
     "output_type": "stream",
     "text": [
      "[I 2025-04-09 11:40:43,324] Trial 189 finished with value: 0.7663420831223949 and parameters: {'n_estimators': 896, 'max_depth': 7, 'learning_rate': 0.012239776027008613, 'subsample': 0.9849677438181017, 'colsample_bytree': 0.6201644536255754, 'gamma': 0.29693332380758447, 'reg_alpha': 0.22106287004262767, 'reg_lambda': 5.39467131868336e-08}. Best is trial 135 with value: 0.7746124371852164.\n"
     ]
    },
    {
     "name": "stdout",
     "output_type": "stream",
     "text": [
      "Trial 189: No improvement (29/5). Score: 0.7663, Best: 0.7675\n",
      "EARLY STOPPING TRIGGERED after 5 trials without 0.0010 improvement\n",
      "Trial history: [(157, 0.7663459628975046, 'first'), (158, 0.7635855852895137, 'no_imp'), (159, 0.7590683514398041, 'no_imp'), (160, 0.7674510146942279, 'improved'), (161, 0.7587364709124743, 'no_imp'), (162, 0.7631577479598783, 'no_imp'), (163, 0.7566394218504972, 'no_imp'), (164, 0.7628413247460383, 'no_imp'), (165, 0.7617028228308544, 'no_imp'), (166, 0.7664645971801505, 'no_imp'), (167, 0.7584245575892999, 'no_imp'), (168, 0.7671978184553365, 'no_imp'), (169, 0.7647334303933945, 'no_imp'), (170, 0.7639587600946793, 'no_imp'), (171, 0.7674868984391993, 'no_imp'), (172, 0.7609059899430439, 'no_imp'), (173, 0.7614757724910562, 'no_imp'), (174, 0.7633268961351584, 'no_imp'), (175, 0.7269096787463826, 'no_imp'), (176, 0.7592130035945308, 'no_imp'), (177, 0.7661598121783613, 'no_imp'), (178, 0.7620407484597181, 'no_imp'), (179, 0.7620745320050497, 'no_imp'), (180, 0.7673095531953015, 'no_imp'), (181, 0.7638861637689924, 'no_imp'), (182, 0.7598632015788425, 'no_imp'), (183, 0.7672292457470039, 'no_imp'), (184, 0.7602791730310008, 'no_imp'), (185, 0.7598936452890726, 'no_imp'), (186, 0.7645613080949565, 'no_imp'), (187, 0.7678739842142026, 'no_imp'), (188, 0.7634913178871303, 'no_imp'), (189, 0.7663420831223949, 'no_imp')]\n",
      "Timeout: optimization stopped after 36.73 minutes\n"
     ]
    },
    {
     "name": "stderr",
     "output_type": "stream",
     "text": [
      "[I 2025-04-09 11:42:34,363] Trial 190 finished with value: 0.7538396096961826 and parameters: {'n_estimators': 924, 'max_depth': 9, 'learning_rate': 0.014793715583545577, 'subsample': 0.9995960972762004, 'colsample_bytree': 0.8554619817215547, 'gamma': 0.358732634015948, 'reg_alpha': 0.3520804698716752, 'reg_lambda': 3.191692706848083e-08}. Best is trial 135 with value: 0.7746124371852164.\n"
     ]
    },
    {
     "name": "stdout",
     "output_type": "stream",
     "text": [
      "Trial 190: No improvement (30/5). Score: 0.7538, Best: 0.7675\n",
      "EARLY STOPPING TRIGGERED after 5 trials without 0.0010 improvement\n",
      "Trial history: [(157, 0.7663459628975046, 'first'), (158, 0.7635855852895137, 'no_imp'), (159, 0.7590683514398041, 'no_imp'), (160, 0.7674510146942279, 'improved'), (161, 0.7587364709124743, 'no_imp'), (162, 0.7631577479598783, 'no_imp'), (163, 0.7566394218504972, 'no_imp'), (164, 0.7628413247460383, 'no_imp'), (165, 0.7617028228308544, 'no_imp'), (166, 0.7664645971801505, 'no_imp'), (167, 0.7584245575892999, 'no_imp'), (168, 0.7671978184553365, 'no_imp'), (169, 0.7647334303933945, 'no_imp'), (170, 0.7639587600946793, 'no_imp'), (171, 0.7674868984391993, 'no_imp'), (172, 0.7609059899430439, 'no_imp'), (173, 0.7614757724910562, 'no_imp'), (174, 0.7633268961351584, 'no_imp'), (175, 0.7269096787463826, 'no_imp'), (176, 0.7592130035945308, 'no_imp'), (177, 0.7661598121783613, 'no_imp'), (178, 0.7620407484597181, 'no_imp'), (179, 0.7620745320050497, 'no_imp'), (180, 0.7673095531953015, 'no_imp'), (181, 0.7638861637689924, 'no_imp'), (182, 0.7598632015788425, 'no_imp'), (183, 0.7672292457470039, 'no_imp'), (184, 0.7602791730310008, 'no_imp'), (185, 0.7598936452890726, 'no_imp'), (186, 0.7645613080949565, 'no_imp'), (187, 0.7678739842142026, 'no_imp'), (188, 0.7634913178871303, 'no_imp'), (189, 0.7663420831223949, 'no_imp'), (190, 0.7538396096961826, 'no_imp')]\n",
      "Timeout: optimization stopped after 38.58 minutes\n"
     ]
    },
    {
     "name": "stderr",
     "output_type": "stream",
     "text": [
      "[I 2025-04-09 11:43:50,302] Trial 191 finished with value: 0.7588683543209684 and parameters: {'n_estimators': 848, 'max_depth': 8, 'learning_rate': 0.02000223414416904, 'subsample': 0.9303357925910035, 'colsample_bytree': 0.8196381223628371, 'gamma': 0.3118206321623259, 'reg_alpha': 0.7377696227990298, 'reg_lambda': 7.435084188249016e-08}. Best is trial 135 with value: 0.7746124371852164.\n"
     ]
    },
    {
     "name": "stdout",
     "output_type": "stream",
     "text": [
      "Trial 191: No improvement (31/5). Score: 0.7589, Best: 0.7675\n",
      "EARLY STOPPING TRIGGERED after 5 trials without 0.0010 improvement\n",
      "Trial history: [(157, 0.7663459628975046, 'first'), (158, 0.7635855852895137, 'no_imp'), (159, 0.7590683514398041, 'no_imp'), (160, 0.7674510146942279, 'improved'), (161, 0.7587364709124743, 'no_imp'), (162, 0.7631577479598783, 'no_imp'), (163, 0.7566394218504972, 'no_imp'), (164, 0.7628413247460383, 'no_imp'), (165, 0.7617028228308544, 'no_imp'), (166, 0.7664645971801505, 'no_imp'), (167, 0.7584245575892999, 'no_imp'), (168, 0.7671978184553365, 'no_imp'), (169, 0.7647334303933945, 'no_imp'), (170, 0.7639587600946793, 'no_imp'), (171, 0.7674868984391993, 'no_imp'), (172, 0.7609059899430439, 'no_imp'), (173, 0.7614757724910562, 'no_imp'), (174, 0.7633268961351584, 'no_imp'), (175, 0.7269096787463826, 'no_imp'), (176, 0.7592130035945308, 'no_imp'), (177, 0.7661598121783613, 'no_imp'), (178, 0.7620407484597181, 'no_imp'), (179, 0.7620745320050497, 'no_imp'), (180, 0.7673095531953015, 'no_imp'), (181, 0.7638861637689924, 'no_imp'), (182, 0.7598632015788425, 'no_imp'), (183, 0.7672292457470039, 'no_imp'), (184, 0.7602791730310008, 'no_imp'), (185, 0.7598936452890726, 'no_imp'), (186, 0.7645613080949565, 'no_imp'), (187, 0.7678739842142026, 'no_imp'), (188, 0.7634913178871303, 'no_imp'), (189, 0.7663420831223949, 'no_imp'), (190, 0.7538396096961826, 'no_imp'), (191, 0.7588683543209684, 'no_imp')]\n",
      "Timeout: optimization stopped after 39.84 minutes\n"
     ]
    },
    {
     "name": "stderr",
     "output_type": "stream",
     "text": [
      "[I 2025-04-09 11:44:34,649] Trial 192 finished with value: 0.7669258011323691 and parameters: {'n_estimators': 791, 'max_depth': 6, 'learning_rate': 0.010503269401338104, 'subsample': 0.9478062532395299, 'colsample_bytree': 0.6112080914626684, 'gamma': 0.3254781882101513, 'reg_alpha': 0.9067035801006312, 'reg_lambda': 1.2800926973217114e-07}. Best is trial 135 with value: 0.7746124371852164.\n"
     ]
    },
    {
     "name": "stdout",
     "output_type": "stream",
     "text": [
      "Trial 192: No improvement (32/5). Score: 0.7669, Best: 0.7675\n",
      "EARLY STOPPING TRIGGERED after 5 trials without 0.0010 improvement\n",
      "Trial history: [(157, 0.7663459628975046, 'first'), (158, 0.7635855852895137, 'no_imp'), (159, 0.7590683514398041, 'no_imp'), (160, 0.7674510146942279, 'improved'), (161, 0.7587364709124743, 'no_imp'), (162, 0.7631577479598783, 'no_imp'), (163, 0.7566394218504972, 'no_imp'), (164, 0.7628413247460383, 'no_imp'), (165, 0.7617028228308544, 'no_imp'), (166, 0.7664645971801505, 'no_imp'), (167, 0.7584245575892999, 'no_imp'), (168, 0.7671978184553365, 'no_imp'), (169, 0.7647334303933945, 'no_imp'), (170, 0.7639587600946793, 'no_imp'), (171, 0.7674868984391993, 'no_imp'), (172, 0.7609059899430439, 'no_imp'), (173, 0.7614757724910562, 'no_imp'), (174, 0.7633268961351584, 'no_imp'), (175, 0.7269096787463826, 'no_imp'), (176, 0.7592130035945308, 'no_imp'), (177, 0.7661598121783613, 'no_imp'), (178, 0.7620407484597181, 'no_imp'), (179, 0.7620745320050497, 'no_imp'), (180, 0.7673095531953015, 'no_imp'), (181, 0.7638861637689924, 'no_imp'), (182, 0.7598632015788425, 'no_imp'), (183, 0.7672292457470039, 'no_imp'), (184, 0.7602791730310008, 'no_imp'), (185, 0.7598936452890726, 'no_imp'), (186, 0.7645613080949565, 'no_imp'), (187, 0.7678739842142026, 'no_imp'), (188, 0.7634913178871303, 'no_imp'), (189, 0.7663420831223949, 'no_imp'), (190, 0.7538396096961826, 'no_imp'), (191, 0.7588683543209684, 'no_imp'), (192, 0.7669258011323691, 'no_imp')]\n",
      "Timeout: optimization stopped after 40.58 minutes\n"
     ]
    },
    {
     "name": "stderr",
     "output_type": "stream",
     "text": [
      "[I 2025-04-09 11:45:31,006] Trial 193 finished with value: 0.7664977227779671 and parameters: {'n_estimators': 828, 'max_depth': 7, 'learning_rate': 0.011899187771508033, 'subsample': 0.9648508767528579, 'colsample_bytree': 0.6052928776872412, 'gamma': 0.3311563181875088, 'reg_alpha': 0.9815854716142898, 'reg_lambda': 4.082335876985563e-08}. Best is trial 135 with value: 0.7746124371852164.\n"
     ]
    },
    {
     "name": "stdout",
     "output_type": "stream",
     "text": [
      "Trial 193: No improvement (33/5). Score: 0.7665, Best: 0.7675\n",
      "EARLY STOPPING TRIGGERED after 5 trials without 0.0010 improvement\n",
      "Trial history: [(157, 0.7663459628975046, 'first'), (158, 0.7635855852895137, 'no_imp'), (159, 0.7590683514398041, 'no_imp'), (160, 0.7674510146942279, 'improved'), (161, 0.7587364709124743, 'no_imp'), (162, 0.7631577479598783, 'no_imp'), (163, 0.7566394218504972, 'no_imp'), (164, 0.7628413247460383, 'no_imp'), (165, 0.7617028228308544, 'no_imp'), (166, 0.7664645971801505, 'no_imp'), (167, 0.7584245575892999, 'no_imp'), (168, 0.7671978184553365, 'no_imp'), (169, 0.7647334303933945, 'no_imp'), (170, 0.7639587600946793, 'no_imp'), (171, 0.7674868984391993, 'no_imp'), (172, 0.7609059899430439, 'no_imp'), (173, 0.7614757724910562, 'no_imp'), (174, 0.7633268961351584, 'no_imp'), (175, 0.7269096787463826, 'no_imp'), (176, 0.7592130035945308, 'no_imp'), (177, 0.7661598121783613, 'no_imp'), (178, 0.7620407484597181, 'no_imp'), (179, 0.7620745320050497, 'no_imp'), (180, 0.7673095531953015, 'no_imp'), (181, 0.7638861637689924, 'no_imp'), (182, 0.7598632015788425, 'no_imp'), (183, 0.7672292457470039, 'no_imp'), (184, 0.7602791730310008, 'no_imp'), (185, 0.7598936452890726, 'no_imp'), (186, 0.7645613080949565, 'no_imp'), (187, 0.7678739842142026, 'no_imp'), (188, 0.7634913178871303, 'no_imp'), (189, 0.7663420831223949, 'no_imp'), (190, 0.7538396096961826, 'no_imp'), (191, 0.7588683543209684, 'no_imp'), (192, 0.7669258011323691, 'no_imp'), (193, 0.7664977227779671, 'no_imp')]\n",
      "Timeout: optimization stopped after 41.52 minutes\n"
     ]
    },
    {
     "name": "stderr",
     "output_type": "stream",
     "text": [
      "[I 2025-04-09 11:46:26,405] Trial 194 finished with value: 0.7669399008028897 and parameters: {'n_estimators': 814, 'max_depth': 7, 'learning_rate': 0.012674977668683128, 'subsample': 0.9512620384631896, 'colsample_bytree': 0.6249829448186475, 'gamma': 0.3177891101211112, 'reg_alpha': 0.5191043769018545, 'reg_lambda': 8.443611800671884e-08}. Best is trial 135 with value: 0.7746124371852164.\n"
     ]
    },
    {
     "name": "stdout",
     "output_type": "stream",
     "text": [
      "Trial 194: No improvement (34/5). Score: 0.7669, Best: 0.7675\n",
      "EARLY STOPPING TRIGGERED after 5 trials without 0.0010 improvement\n",
      "Trial history: [(157, 0.7663459628975046, 'first'), (158, 0.7635855852895137, 'no_imp'), (159, 0.7590683514398041, 'no_imp'), (160, 0.7674510146942279, 'improved'), (161, 0.7587364709124743, 'no_imp'), (162, 0.7631577479598783, 'no_imp'), (163, 0.7566394218504972, 'no_imp'), (164, 0.7628413247460383, 'no_imp'), (165, 0.7617028228308544, 'no_imp'), (166, 0.7664645971801505, 'no_imp'), (167, 0.7584245575892999, 'no_imp'), (168, 0.7671978184553365, 'no_imp'), (169, 0.7647334303933945, 'no_imp'), (170, 0.7639587600946793, 'no_imp'), (171, 0.7674868984391993, 'no_imp'), (172, 0.7609059899430439, 'no_imp'), (173, 0.7614757724910562, 'no_imp'), (174, 0.7633268961351584, 'no_imp'), (175, 0.7269096787463826, 'no_imp'), (176, 0.7592130035945308, 'no_imp'), (177, 0.7661598121783613, 'no_imp'), (178, 0.7620407484597181, 'no_imp'), (179, 0.7620745320050497, 'no_imp'), (180, 0.7673095531953015, 'no_imp'), (181, 0.7638861637689924, 'no_imp'), (182, 0.7598632015788425, 'no_imp'), (183, 0.7672292457470039, 'no_imp'), (184, 0.7602791730310008, 'no_imp'), (185, 0.7598936452890726, 'no_imp'), (186, 0.7645613080949565, 'no_imp'), (187, 0.7678739842142026, 'no_imp'), (188, 0.7634913178871303, 'no_imp'), (189, 0.7663420831223949, 'no_imp'), (190, 0.7538396096961826, 'no_imp'), (191, 0.7588683543209684, 'no_imp'), (192, 0.7669258011323691, 'no_imp'), (193, 0.7664977227779671, 'no_imp'), (194, 0.7669399008028897, 'no_imp')]\n",
      "Timeout: optimization stopped after 42.44 minutes\n"
     ]
    },
    {
     "name": "stderr",
     "output_type": "stream",
     "text": [
      "[I 2025-04-09 11:47:33,718] Trial 195 finished with value: 0.765378292434492 and parameters: {'n_estimators': 1000, 'max_depth': 7, 'learning_rate': 0.013782628989924108, 'subsample': 0.9419847371595866, 'colsample_bytree': 0.7819982311036457, 'gamma': 0.2829750614095276, 'reg_alpha': 0.3658193900356104, 'reg_lambda': 2.074530132189235e-07}. Best is trial 135 with value: 0.7746124371852164.\n"
     ]
    },
    {
     "name": "stdout",
     "output_type": "stream",
     "text": [
      "Trial 195: No improvement (35/5). Score: 0.7654, Best: 0.7675\n",
      "EARLY STOPPING TRIGGERED after 5 trials without 0.0010 improvement\n",
      "Trial history: [(157, 0.7663459628975046, 'first'), (158, 0.7635855852895137, 'no_imp'), (159, 0.7590683514398041, 'no_imp'), (160, 0.7674510146942279, 'improved'), (161, 0.7587364709124743, 'no_imp'), (162, 0.7631577479598783, 'no_imp'), (163, 0.7566394218504972, 'no_imp'), (164, 0.7628413247460383, 'no_imp'), (165, 0.7617028228308544, 'no_imp'), (166, 0.7664645971801505, 'no_imp'), (167, 0.7584245575892999, 'no_imp'), (168, 0.7671978184553365, 'no_imp'), (169, 0.7647334303933945, 'no_imp'), (170, 0.7639587600946793, 'no_imp'), (171, 0.7674868984391993, 'no_imp'), (172, 0.7609059899430439, 'no_imp'), (173, 0.7614757724910562, 'no_imp'), (174, 0.7633268961351584, 'no_imp'), (175, 0.7269096787463826, 'no_imp'), (176, 0.7592130035945308, 'no_imp'), (177, 0.7661598121783613, 'no_imp'), (178, 0.7620407484597181, 'no_imp'), (179, 0.7620745320050497, 'no_imp'), (180, 0.7673095531953015, 'no_imp'), (181, 0.7638861637689924, 'no_imp'), (182, 0.7598632015788425, 'no_imp'), (183, 0.7672292457470039, 'no_imp'), (184, 0.7602791730310008, 'no_imp'), (185, 0.7598936452890726, 'no_imp'), (186, 0.7645613080949565, 'no_imp'), (187, 0.7678739842142026, 'no_imp'), (188, 0.7634913178871303, 'no_imp'), (189, 0.7663420831223949, 'no_imp'), (190, 0.7538396096961826, 'no_imp'), (191, 0.7588683543209684, 'no_imp'), (192, 0.7669258011323691, 'no_imp'), (193, 0.7664977227779671, 'no_imp'), (194, 0.7669399008028897, 'no_imp'), (195, 0.765378292434492, 'no_imp')]\n",
      "Timeout: optimization stopped after 43.57 minutes\n"
     ]
    },
    {
     "name": "stderr",
     "output_type": "stream",
     "text": [
      "[I 2025-04-09 11:47:59,615] Trial 196 finished with value: 0.7598516095678438 and parameters: {'n_estimators': 284, 'max_depth': 7, 'learning_rate': 0.011311824742564036, 'subsample': 0.961853674540194, 'colsample_bytree': 0.6381181110228331, 'gamma': 0.30188707683902805, 'reg_alpha': 0.1820078590841246, 'reg_lambda': 2.1082185754348732e-08}. Best is trial 135 with value: 0.7746124371852164.\n"
     ]
    },
    {
     "name": "stdout",
     "output_type": "stream",
     "text": [
      "Trial 196: No improvement (36/5). Score: 0.7599, Best: 0.7675\n",
      "EARLY STOPPING TRIGGERED after 5 trials without 0.0010 improvement\n",
      "Trial history: [(157, 0.7663459628975046, 'first'), (158, 0.7635855852895137, 'no_imp'), (159, 0.7590683514398041, 'no_imp'), (160, 0.7674510146942279, 'improved'), (161, 0.7587364709124743, 'no_imp'), (162, 0.7631577479598783, 'no_imp'), (163, 0.7566394218504972, 'no_imp'), (164, 0.7628413247460383, 'no_imp'), (165, 0.7617028228308544, 'no_imp'), (166, 0.7664645971801505, 'no_imp'), (167, 0.7584245575892999, 'no_imp'), (168, 0.7671978184553365, 'no_imp'), (169, 0.7647334303933945, 'no_imp'), (170, 0.7639587600946793, 'no_imp'), (171, 0.7674868984391993, 'no_imp'), (172, 0.7609059899430439, 'no_imp'), (173, 0.7614757724910562, 'no_imp'), (174, 0.7633268961351584, 'no_imp'), (175, 0.7269096787463826, 'no_imp'), (176, 0.7592130035945308, 'no_imp'), (177, 0.7661598121783613, 'no_imp'), (178, 0.7620407484597181, 'no_imp'), (179, 0.7620745320050497, 'no_imp'), (180, 0.7673095531953015, 'no_imp'), (181, 0.7638861637689924, 'no_imp'), (182, 0.7598632015788425, 'no_imp'), (183, 0.7672292457470039, 'no_imp'), (184, 0.7602791730310008, 'no_imp'), (185, 0.7598936452890726, 'no_imp'), (186, 0.7645613080949565, 'no_imp'), (187, 0.7678739842142026, 'no_imp'), (188, 0.7634913178871303, 'no_imp'), (189, 0.7663420831223949, 'no_imp'), (190, 0.7538396096961826, 'no_imp'), (191, 0.7588683543209684, 'no_imp'), (192, 0.7669258011323691, 'no_imp'), (193, 0.7664977227779671, 'no_imp'), (194, 0.7669399008028897, 'no_imp'), (195, 0.765378292434492, 'no_imp'), (196, 0.7598516095678438, 'no_imp')]\n",
      "Timeout: optimization stopped after 44.00 minutes\n",
      "Optuna optimization completed in 44.00 minutes\n",
      "\n",
      "Best Params (XGBoost): {'n_estimators': 903, 'max_depth': 7, 'learning_rate': 0.018373749408140936, 'subsample': 0.9736004766137231, 'colsample_bytree': 0.6572788486775967, 'gamma': 0.3520495537145163, 'reg_alpha': 0.3631181510834995, 'reg_lambda': 1.570732200197017e-08}\n",
      "Best CV ROC AUC score: 0.7746\n",
      "\n",
      "Fitting best XGBoost pipeline on full training data...\n",
      "\n",
      "Evaluating tuned XGBoost model...\n",
      "Optimal threshold based on Youden's J-Statistic (OOF): 0.0765\n",
      "\n",
      "--- Evaluation Metrics for XGBoost (Optuna Tuned) ---\n",
      "AUC ROC:        0.7757\n",
      "Gini Coefficient: 0.5514\n",
      "KS Statistic:   0.4122\n",
      "Accuracy:       0.7000\n",
      "Precision:      0.1720\n",
      "Recall (TPR):   0.7120\n",
      "F1-Score:       0.2770\n",
      "Brier Score:    0.0665\n",
      "Log Loss:       0.2403\n",
      "\n",
      "Confusion Matrix:\n",
      "[[39518 17019]\n",
      " [ 1430  3535]]\n"
     ]
    },
    {
     "data": {
      "image/png": "[encoded data removed]",
      "text/plain": [
       "<Figure size 800x600 with 1 Axes>"
      ]
     },
     "metadata": {},
     "output_type": "display_data"
    },
    {
     "name": "stdout",
     "output_type": "stream",
     "text": [
      "\n",
      "--- Top 50 Feature Importances ---\n",
      "Sum of importances: 1.0000\n"
     ]
    },
    {
     "data": {
      "text/html": [
       "<div>\n",
       "<style scoped>\n",
       "    .dataframe tbody tr th:only-of-type {\n",
       "        vertical-align: middle;\n",
       "    }\n",
       "\n",
       "    .dataframe tbody tr th {\n",
       "        vertical-align: top;\n",
       "    }\n",
       "\n",
       "    .dataframe thead th {\n",
       "        text-align: right;\n",
       "    }\n",
       "</style>\n",
       "<table border=\"1\" class=\"dataframe\">\n",
       "  <thead>\n",
       "    <tr style=\"text-align: right;\">\n",
       "      <th></th>\n",
       "      <th>feature</th>\n",
       "      <th>importance</th>\n",
       "    </tr>\n",
       "  </thead>\n",
       "  <tbody>\n",
       "    <tr>\n",
       "      <th>0</th>\n",
       "      <td>WEIGHTED_EXT_SOURCE</td>\n",
       "      <td>0.11246</td>\n",
       "    </tr>\n",
       "    <tr>\n",
       "      <th>1</th>\n",
       "      <td>EXT_SOURCE_MIN</td>\n",
       "      <td>0.03936</td>\n",
       "    </tr>\n",
       "    <tr>\n",
       "      <th>2</th>\n",
       "      <td>EXT_SOURCE_MAX</td>\n",
       "      <td>0.02602</td>\n",
       "    </tr>\n",
       "    <tr>\n",
       "      <th>20</th>\n",
       "      <td>CREDIT_GOODS_RATIO</td>\n",
       "      <td>0.01404</td>\n",
       "    </tr>\n",
       "    <tr>\n",
       "      <th>35</th>\n",
       "      <td>ANNUITY_INCOME_RATIO_MAX_AGG_CODE_GENDER_FLAG_...</td>\n",
       "      <td>0.01393</td>\n",
       "    </tr>\n",
       "    <tr>\n",
       "      <th>101</th>\n",
       "      <td>FLAG_DOCUMENT_3</td>\n",
       "      <td>0.01369</td>\n",
       "    </tr>\n",
       "    <tr>\n",
       "      <th>6</th>\n",
       "      <td>CREDIT_ANNUITY_RATIO</td>\n",
       "      <td>0.01350</td>\n",
       "    </tr>\n",
       "    <tr>\n",
       "      <th>9</th>\n",
       "      <td>B_B_CURRENT_CREDIT_DEBT_DIFF_MIN_OVERALL</td>\n",
       "      <td>0.01163</td>\n",
       "    </tr>\n",
       "    <tr>\n",
       "      <th>15</th>\n",
       "      <td>B_B_CURRENT_CREDIT_DEBT_DIFF_MEAN_OVERALL</td>\n",
       "      <td>0.01142</td>\n",
       "    </tr>\n",
       "    <tr>\n",
       "      <th>3</th>\n",
       "      <td>EXT_SOURCE_3</td>\n",
       "      <td>0.01100</td>\n",
       "    </tr>\n",
       "    <tr>\n",
       "      <th>87</th>\n",
       "      <td>CREDIT_GOODS_DIFF</td>\n",
       "      <td>0.01098</td>\n",
       "    </tr>\n",
       "    <tr>\n",
       "      <th>25</th>\n",
       "      <td>AGE_EMPLOYED_DIFF_MEAN_AGG_NAME_EDUCATION_TYPE...</td>\n",
       "      <td>0.01086</td>\n",
       "    </tr>\n",
       "    <tr>\n",
       "      <th>99</th>\n",
       "      <td>AMT_ANNUITY_MAX_AGG_CODE_GENDER_FLAG_OWN_CAR_F...</td>\n",
       "      <td>0.01075</td>\n",
       "    </tr>\n",
       "    <tr>\n",
       "      <th>42</th>\n",
       "      <td>AMT_INCOME_TOTAL_MEAN_AGG_NAME_EDUCATION_TYPE_...</td>\n",
       "      <td>0.01065</td>\n",
       "    </tr>\n",
       "    <tr>\n",
       "      <th>84</th>\n",
       "      <td>AGE_EMPLOYED_DIFF</td>\n",
       "      <td>0.01041</td>\n",
       "    </tr>\n",
       "    <tr>\n",
       "      <th>55</th>\n",
       "      <td>REGION_RATING_MUL</td>\n",
       "      <td>0.00978</td>\n",
       "    </tr>\n",
       "    <tr>\n",
       "      <th>4</th>\n",
       "      <td>EXT_SOURCE_2</td>\n",
       "      <td>0.00943</td>\n",
       "    </tr>\n",
       "    <tr>\n",
       "      <th>95</th>\n",
       "      <td>AMT_INCOME_TOTAL_MIN_AGG_CODE_GENDER_FLAG_OWN_...</td>\n",
       "      <td>0.00936</td>\n",
       "    </tr>\n",
       "    <tr>\n",
       "      <th>13</th>\n",
       "      <td>B_CREDIT_ACTIVE_CLOSED_MEAN</td>\n",
       "      <td>0.00933</td>\n",
       "    </tr>\n",
       "    <tr>\n",
       "      <th>5</th>\n",
       "      <td>EXT_SOURCE_1</td>\n",
       "      <td>0.00914</td>\n",
       "    </tr>\n",
       "    <tr>\n",
       "      <th>64</th>\n",
       "      <td>AMT_INCOME_TOTAL_MEAN_AGG_FLAG_OWN_CAR_FLAG_OW...</td>\n",
       "      <td>0.00897</td>\n",
       "    </tr>\n",
       "    <tr>\n",
       "      <th>19</th>\n",
       "      <td>AMT_ANNUITY_MIN_AGG_NAME_CONTRACT_TYPE_NAME_IN...</td>\n",
       "      <td>0.00885</td>\n",
       "    </tr>\n",
       "    <tr>\n",
       "      <th>45</th>\n",
       "      <td>AGE_EMPLOYED_DIFF_MEAN_AGG_OCCUPATION_TYPE_ORG...</td>\n",
       "      <td>0.00874</td>\n",
       "    </tr>\n",
       "    <tr>\n",
       "      <th>46</th>\n",
       "      <td>B_B_CURRENT_CREDIT_DEBT_DIFF_MAX_OVERALL</td>\n",
       "      <td>0.00871</td>\n",
       "    </tr>\n",
       "    <tr>\n",
       "      <th>106</th>\n",
       "      <td>AMT_ANNUITY</td>\n",
       "      <td>0.00864</td>\n",
       "    </tr>\n",
       "    <tr>\n",
       "      <th>18</th>\n",
       "      <td>B_B_CURRENT_DEBT_TO_CREDIT_RATIO_SUM_OVERALL</td>\n",
       "      <td>0.00842</td>\n",
       "    </tr>\n",
       "    <tr>\n",
       "      <th>111</th>\n",
       "      <td>B_AMT_CREDIT_SUM_DEBT_MEAN_OVERALL</td>\n",
       "      <td>0.00837</td>\n",
       "    </tr>\n",
       "    <tr>\n",
       "      <th>38</th>\n",
       "      <td>ANNUITY_INCOME_RATIO_MAX_AGG_CODE_GENDER_NAME_...</td>\n",
       "      <td>0.00824</td>\n",
       "    </tr>\n",
       "    <tr>\n",
       "      <th>16</th>\n",
       "      <td>DAYS_BIRTH</td>\n",
       "      <td>0.00817</td>\n",
       "    </tr>\n",
       "    <tr>\n",
       "      <th>97</th>\n",
       "      <td>CAR_EMPLOYED_DIFF</td>\n",
       "      <td>0.00800</td>\n",
       "    </tr>\n",
       "    <tr>\n",
       "      <th>11</th>\n",
       "      <td>B_B_CURRENT_DEBT_TO_CREDIT_RATIO_MAX_OVERALL</td>\n",
       "      <td>0.00794</td>\n",
       "    </tr>\n",
       "    <tr>\n",
       "      <th>34</th>\n",
       "      <td>B_DAYS_CREDIT_MAX_CA_ACTIVE</td>\n",
       "      <td>0.00783</td>\n",
       "    </tr>\n",
       "    <tr>\n",
       "      <th>12</th>\n",
       "      <td>CREDIT_EXT_RATIO</td>\n",
       "      <td>0.00782</td>\n",
       "    </tr>\n",
       "    <tr>\n",
       "      <th>50</th>\n",
       "      <td>DEF_30_CREDIT_RATIO</td>\n",
       "      <td>0.00771</td>\n",
       "    </tr>\n",
       "    <tr>\n",
       "      <th>102</th>\n",
       "      <td>B_AMT_CREDIT_SUM_MAX_OVERALL</td>\n",
       "      <td>0.00762</td>\n",
       "    </tr>\n",
       "    <tr>\n",
       "      <th>7</th>\n",
       "      <td>B_DAYS_CREDIT_MEAN_OVERALL</td>\n",
       "      <td>0.00760</td>\n",
       "    </tr>\n",
       "    <tr>\n",
       "      <th>91</th>\n",
       "      <td>CAR_AGE_DIFF</td>\n",
       "      <td>0.00757</td>\n",
       "    </tr>\n",
       "    <tr>\n",
       "      <th>10</th>\n",
       "      <td>DAYS_EMPLOYED</td>\n",
       "      <td>0.00747</td>\n",
       "    </tr>\n",
       "    <tr>\n",
       "      <th>89</th>\n",
       "      <td>FLOORSMAX_MEDI</td>\n",
       "      <td>0.00747</td>\n",
       "    </tr>\n",
       "    <tr>\n",
       "      <th>17</th>\n",
       "      <td>B_DAYS_CREDIT_MAX_OVERALL</td>\n",
       "      <td>0.00743</td>\n",
       "    </tr>\n",
       "    <tr>\n",
       "      <th>108</th>\n",
       "      <td>REG_CITY_NOT_LIVE_CITY</td>\n",
       "      <td>0.00738</td>\n",
       "    </tr>\n",
       "    <tr>\n",
       "      <th>54</th>\n",
       "      <td>MISSING_VALS_TOTAL_APP</td>\n",
       "      <td>0.00716</td>\n",
       "    </tr>\n",
       "    <tr>\n",
       "      <th>48</th>\n",
       "      <td>B_AMT_CREDIT_SUM_MAX_CA_CLOSED</td>\n",
       "      <td>0.00712</td>\n",
       "    </tr>\n",
       "    <tr>\n",
       "      <th>22</th>\n",
       "      <td>ANNUITY_INCOME_RATIO_MAX_AGG_NAME_CONTRACT_TYP...</td>\n",
       "      <td>0.00710</td>\n",
       "    </tr>\n",
       "    <tr>\n",
       "      <th>51</th>\n",
       "      <td>B_AMT_CREDIT_SUM_SUM_CA_CLOSED</td>\n",
       "      <td>0.00703</td>\n",
       "    </tr>\n",
       "    <tr>\n",
       "      <th>94</th>\n",
       "      <td>INCOME_APARTMENT_MODE_MUL</td>\n",
       "      <td>0.00702</td>\n",
       "    </tr>\n",
       "    <tr>\n",
       "      <th>76</th>\n",
       "      <td>B_B_CREDIT_DURATION_MEAN_CA_CLOSED</td>\n",
       "      <td>0.00701</td>\n",
       "    </tr>\n",
       "    <tr>\n",
       "      <th>78</th>\n",
       "      <td>AMT_ANNUITY_MIN_AGG_FLAG_OWN_CAR_FLAG_OWN_REAL...</td>\n",
       "      <td>0.00699</td>\n",
       "    </tr>\n",
       "    <tr>\n",
       "      <th>109</th>\n",
       "      <td>B_CREDIT_TYPE_CONSUMER CREDIT_MEAN</td>\n",
       "      <td>0.00695</td>\n",
       "    </tr>\n",
       "    <tr>\n",
       "      <th>14</th>\n",
       "      <td>B_DAYS_CREDIT_UPDATE_MEAN_OVERALL</td>\n",
       "      <td>0.00694</td>\n",
       "    </tr>\n",
       "  </tbody>\n",
       "</table>\n",
       "</div>"
      ],
      "text/plain": [
       "                                               feature  importance\n",
       "0                                  WEIGHTED_EXT_SOURCE     0.11246\n",
       "1                                       EXT_SOURCE_MIN     0.03936\n",
       "2                                       EXT_SOURCE_MAX     0.02602\n",
       "20                                  CREDIT_GOODS_RATIO     0.01404\n",
       "35   ANNUITY_INCOME_RATIO_MAX_AGG_CODE_GENDER_FLAG_...     0.01393\n",
       "101                                    FLAG_DOCUMENT_3     0.01369\n",
       "6                                 CREDIT_ANNUITY_RATIO     0.01350\n",
       "9             B_B_CURRENT_CREDIT_DEBT_DIFF_MIN_OVERALL     0.01163\n",
       "15           B_B_CURRENT_CREDIT_DEBT_DIFF_MEAN_OVERALL     0.01142\n",
       "3                                         EXT_SOURCE_3     0.01100\n",
       "87                                   CREDIT_GOODS_DIFF     0.01098\n",
       "25   AGE_EMPLOYED_DIFF_MEAN_AGG_NAME_EDUCATION_TYPE...     0.01086\n",
       "99   AMT_ANNUITY_MAX_AGG_CODE_GENDER_FLAG_OWN_CAR_F...     0.01075\n",
       "42   AMT_INCOME_TOTAL_MEAN_AGG_NAME_EDUCATION_TYPE_...     0.01065\n",
       "84                                   AGE_EMPLOYED_DIFF     0.01041\n",
       "55                                   REGION_RATING_MUL     0.00978\n",
       "4                                         EXT_SOURCE_2     0.00943\n",
       "95   AMT_INCOME_TOTAL_MIN_AGG_CODE_GENDER_FLAG_OWN_...     0.00936\n",
       "13                         B_CREDIT_ACTIVE_CLOSED_MEAN     0.00933\n",
       "5                                         EXT_SOURCE_1     0.00914\n",
       "64   AMT_INCOME_TOTAL_MEAN_AGG_FLAG_OWN_CAR_FLAG_OW...     0.00897\n",
       "19   AMT_ANNUITY_MIN_AGG_NAME_CONTRACT_TYPE_NAME_IN...     0.00885\n",
       "45   AGE_EMPLOYED_DIFF_MEAN_AGG_OCCUPATION_TYPE_ORG...     0.00874\n",
       "46            B_B_CURRENT_CREDIT_DEBT_DIFF_MAX_OVERALL     0.00871\n",
       "106                                        AMT_ANNUITY     0.00864\n",
       "18        B_B_CURRENT_DEBT_TO_CREDIT_RATIO_SUM_OVERALL     0.00842\n",
       "111                 B_AMT_CREDIT_SUM_DEBT_MEAN_OVERALL     0.00837\n",
       "38   ANNUITY_INCOME_RATIO_MAX_AGG_CODE_GENDER_NAME_...     0.00824\n",
       "16                                          DAYS_BIRTH     0.00817\n",
       "97                                   CAR_EMPLOYED_DIFF     0.00800\n",
       "11        B_B_CURRENT_DEBT_TO_CREDIT_RATIO_MAX_OVERALL     0.00794\n",
       "34                         B_DAYS_CREDIT_MAX_CA_ACTIVE     0.00783\n",
       "12                                    CREDIT_EXT_RATIO     0.00782\n",
       "50                                 DEF_30_CREDIT_RATIO     0.00771\n",
       "102                       B_AMT_CREDIT_SUM_MAX_OVERALL     0.00762\n",
       "7                           B_DAYS_CREDIT_MEAN_OVERALL     0.00760\n",
       "91                                        CAR_AGE_DIFF     0.00757\n",
       "10                                       DAYS_EMPLOYED     0.00747\n",
       "89                                      FLOORSMAX_MEDI     0.00747\n",
       "17                           B_DAYS_CREDIT_MAX_OVERALL     0.00743\n",
       "108                             REG_CITY_NOT_LIVE_CITY     0.00738\n",
       "54                              MISSING_VALS_TOTAL_APP     0.00716\n",
       "48                      B_AMT_CREDIT_SUM_MAX_CA_CLOSED     0.00712\n",
       "22   ANNUITY_INCOME_RATIO_MAX_AGG_NAME_CONTRACT_TYP...     0.00710\n",
       "51                      B_AMT_CREDIT_SUM_SUM_CA_CLOSED     0.00703\n",
       "94                           INCOME_APARTMENT_MODE_MUL     0.00702\n",
       "76                  B_B_CREDIT_DURATION_MEAN_CA_CLOSED     0.00701\n",
       "78   AMT_ANNUITY_MIN_AGG_FLAG_OWN_CAR_FLAG_OWN_REAL...     0.00699\n",
       "109                 B_CREDIT_TYPE_CONSUMER CREDIT_MEAN     0.00695\n",
       "14                   B_DAYS_CREDIT_UPDATE_MEAN_OVERALL     0.00694"
      ]
     },
     "metadata": {},
     "output_type": "display_data"
    }
   ],
   "source": [
    "# --- Model 3: XGBoost with Optuna Optimization & GPU ---\n",
    "print(\"\\n\" + \"=\"*60)\n",
    "print(\"Model 3: XGBoost with Optuna Optimization & GPU\")\n",
    "print(\"=\"*60)\n",
    "\n",
    "# Step 3.1: Baseline Pipeline (Add GPU option)\n",
    "print(\"\\n--- Baseline XGBoost Training ---\")\n",
    "xgb_base_pipeline = ImblearnPipeline([\n",
    "    #('smote', SMOTE_VARIANT),\n",
    "    ('scaler', StandardScaler()),\n",
    "    ('model', xgb.XGBClassifier(objective='binary:logistic', eval_metric='auc', scale_pos_weight=11.5,\n",
    "                                use_label_encoder=False, random_state=SEED, n_jobs=6,\n",
    "                                tree_method='gpu_hist' if device_name == 'cuda' else 'hist' # Enable GPU if available\n",
    "                               ))\n",
    "])\n",
    "xgb_base_pipeline.fit(X_train, y_train)\n",
    "y_pred_proba_test_base = xgb_base_pipeline.predict_proba(X_test)[:, 1]\n",
    "y_pred_bin_test_base = (y_pred_proba_test_base >= 0.5).astype(int)\n",
    "baseline_results.append(evaluate_model(y_test, y_pred_proba_test_base, y_pred_bin_test_base, \"XGBoost (Baseline)\"))\n",
    "plot_roc_curve(y_test, y_pred_proba_test_base, \"XGBoost (Baseline)\")\n",
    "get_feature_importance(xgb_base_pipeline.named_steps['model'], feature_names)\n",
    "\n",
    "# Step 3.2: Optuna Hyperparameter Optimization\n",
    "print(\"\\n--- Optuna Optimization for XGBoost ---\")\n",
    "\n",
    "def objective_xgb(trial):\n",
    "    # Define hyperparameters\n",
    "    param = {\n",
    "        'n_estimators': trial.suggest_int('n_estimators', 100, 1000),\n",
    "        'max_depth': trial.suggest_int('max_depth', 3, 10),\n",
    "        'learning_rate': trial.suggest_float('learning_rate', 0.01, 0.3, log=True),\n",
    "        'subsample': trial.suggest_float('subsample', 0.6, 1.0),\n",
    "        'colsample_bytree': trial.suggest_float('colsample_bytree', 0.6, 1.0),\n",
    "        'gamma': trial.suggest_float('gamma', 0, 0.5),\n",
    "        'reg_alpha': trial.suggest_float('reg_alpha', 1e-8, 1.0, log=True),\n",
    "        'reg_lambda': trial.suggest_float('reg_lambda', 1e-8, 1.0, log=True),\n",
    "        'objective': 'binary:logistic',\n",
    "        'eval_metric': 'auc',\n",
    "        'use_label_encoder': False,\n",
    "        'random_state': SEED,\n",
    "        'n_jobs': 6,\n",
    "        'scale_pos_weight' : 11.5,\n",
    "        'tree_method': 'gpu_hist' if device_name == 'cuda' else 'hist' # Enable GPU\n",
    "    }\n",
    "\n",
    "    pipeline = ImblearnPipeline([\n",
    "        #('smote', SMOTE_VARIANT),\n",
    "        ('scaler', StandardScaler()),\n",
    "        ('model', xgb.XGBClassifier(**param))\n",
    "    ])\n",
    "\n",
    "    # Evaluate using cross-validation\n",
    "    try:\n",
    "        scores = cross_val_score(pipeline, X_train, y_train, cv=cv, scoring='roc_auc', n_jobs=-1)\n",
    "        auc_score = np.mean(scores)\n",
    "        if np.isnan(auc_score): return 0.0\n",
    "        return auc_score\n",
    "    except Exception as e:\n",
    "        print(f\"Trial failed with error: {e}\")\n",
    "        return 0.0\n",
    "\n",
    "# Create and run study\n",
    "study_xgb = optuna.create_study(direction='maximize',\n",
    "                                study_name='xgb_optimization',\n",
    "                                storage=f'sqlite:///{MODEL_OUTPUT_PATH}optuna_studies.db',\n",
    "                                load_if_exists=True)\n",
    "\n",
    "# Create callbacks\n",
    "early_stopping = EarlyStoppingCallback(patience=5, min_improvement=0.001)\n",
    "timeout = TimeoutCallback(timeout=60)  # 1 min timeout\n",
    "\n",
    "# Run optimization with callbacks\n",
    "print(f\"Starting Optuna optimization for XGBoost with max {OPTUNA_N_TRIALS} trials (early stopping enabled)...\")\n",
    "start_time = time.time()\n",
    "study_xgb.optimize(objective_xgb, n_trials=OPTUNA_N_TRIALS, callbacks=[early_stopping, timeout], n_jobs=1)\n",
    "end_time = time.time()\n",
    "print(f\"Optuna optimization completed in {(end_time - start_time)/60:.2f} minutes\")\n",
    "\n",
    "# Get best parameters and build final pipeline\n",
    "best_params_xgb_raw = study_xgb.best_params\n",
    "best_params_xgb = {f'model__{k}': v for k, v in best_params_xgb_raw.items()}\n",
    "print(f\"\\nBest Params (XGBoost): {best_params_xgb_raw}\")\n",
    "print(f\"Best CV ROC AUC score: {study_xgb.best_value:.4f}\")\n",
    "\n",
    "best_xgb_pipeline = ImblearnPipeline([\n",
    "    #('smote', SMOTE_VARIANT),\n",
    "    ('scaler', StandardScaler()),\n",
    "    ('model', xgb.XGBClassifier(objective='binary:logistic', eval_metric='auc',\n",
    "                                use_label_encoder=False, random_state=SEED, n_jobs=6,\n",
    "                                tree_method='gpu_hist' if device_name == 'cuda' else 'hist'))\n",
    "])\n",
    "# Update only the tuned parameters\n",
    "best_xgb_pipeline.set_params(**best_params_xgb)\n",
    "\n",
    "print(\"\\nFitting best XGBoost pipeline on full training data...\")\n",
    "best_xgb_pipeline.fit(X_train, y_train)\n",
    "\n",
    "# Step 3.3: Optimal Threshold and Evaluation\n",
    "print(\"\\nEvaluating tuned XGBoost model...\")\n",
    "y_prob_oof_xgb = cross_val_predict(best_xgb_pipeline, X_train, y_train, cv=cv, method='predict_proba', n_jobs=-1)[:, 1]\n",
    "optimal_threshold_xgb = find_optimal_threshold_j_statistic(y_train, y_prob_oof_xgb)\n",
    "\n",
    "y_pred_proba_test_tuned = best_xgb_pipeline.predict_proba(X_test)[:, 1]\n",
    "y_pred_bin_test_tuned = (y_pred_proba_test_tuned >= optimal_threshold_xgb).astype(int)\n",
    "tuned_results.append(evaluate_model(y_test, y_pred_proba_test_tuned, y_pred_bin_test_tuned, \"XGBoost (Optuna Tuned)\"))\n",
    "plot_roc_curve(y_test, y_pred_proba_test_tuned, \"XGBoost (Optuna Tuned)\")\n",
    "get_feature_importance(best_xgb_pipeline.named_steps['model'], feature_names)\n",
    "model_objects['XGB'] = best_xgb_pipeline # Store the best pipeline  "
   ]
  },
  {
   "cell_type": "markdown",
   "metadata": {},
   "source": [
    "# 6. Model 4: LightGBM"
   ]
  },
  {
   "cell_type": "code",
   "execution_count": 11,
   "metadata": {},
   "outputs": [
    {
     "name": "stdout",
     "output_type": "stream",
     "text": [
      "\n",
      "============================================================\n",
      "Model 4: LightGBM with Optuna Optimization & GPU\n",
      "============================================================\n",
      "\n",
      "--- Baseline LightGBM Training ---\n",
      "[LightGBM] [Info] Number of positive: 19860, number of negative: 226145\n",
      "[LightGBM] [Info] This is the GPU trainer!!\n",
      "[LightGBM] [Info] Total Bins 18944\n",
      "[LightGBM] [Info] Number of data points in the train set: 246005, number of used features: 112\n",
      "[LightGBM] [Info] Using GPU Device: Intel(R) UHD Graphics 770, Vendor: Intel(R) Corporation\n",
      "[LightGBM] [Info] Compiling OpenCL Kernel with 256 bins...\n",
      "[LightGBM] [Info] GPU programs have been built\n",
      "[LightGBM] [Info] Size of histogram bin entry: 8\n",
      "[LightGBM] [Info] 108 dense feature groups (25.34 MB) transferred to GPU in 0.012738 secs. 1 sparse feature groups\n",
      "[LightGBM] [Info] [binary:BoostFromScore]: pavg=0.080730 -> initscore=-2.432469\n",
      "[LightGBM] [Info] Start training from score -2.432469\n",
      "\n",
      "--- Evaluation Metrics for LightGBM (Baseline) ---\n",
      "AUC ROC:        0.7739\n",
      "Gini Coefficient: 0.5479\n",
      "KS Statistic:   0.4079\n",
      "Accuracy:       0.7093\n",
      "Precision:      0.1742\n",
      "Recall (TPR):   0.6951\n",
      "F1-Score:       0.2785\n",
      "Brier Score:    0.1870\n",
      "Log Loss:       0.5507\n",
      "\n",
      "Confusion Matrix:\n",
      "[[40172 16365]\n",
      " [ 1514  3451]]\n"
     ]
    },
    {
     "data": {
      "image/png": "[encoded data removed]",
      "text/plain": [
       "<Figure size 800x600 with 1 Axes>"
      ]
     },
     "metadata": {},
     "output_type": "display_data"
    },
    {
     "name": "stdout",
     "output_type": "stream",
     "text": [
      "\n",
      "--- Top 50 Feature Importances ---\n",
      "Sum of importances: 3000.0000\n"
     ]
    },
    {
     "data": {
      "text/html": [
       "<div>\n",
       "<style scoped>\n",
       "    .dataframe tbody tr th:only-of-type {\n",
       "        vertical-align: middle;\n",
       "    }\n",
       "\n",
       "    .dataframe tbody tr th {\n",
       "        vertical-align: top;\n",
       "    }\n",
       "\n",
       "    .dataframe thead th {\n",
       "        text-align: right;\n",
       "    }\n",
       "</style>\n",
       "<table border=\"1\" class=\"dataframe\">\n",
       "  <thead>\n",
       "    <tr style=\"text-align: right;\">\n",
       "      <th></th>\n",
       "      <th>feature</th>\n",
       "      <th>importance</th>\n",
       "    </tr>\n",
       "  </thead>\n",
       "  <tbody>\n",
       "    <tr>\n",
       "      <th>6</th>\n",
       "      <td>CREDIT_ANNUITY_RATIO</td>\n",
       "      <td>295</td>\n",
       "    </tr>\n",
       "    <tr>\n",
       "      <th>0</th>\n",
       "      <td>WEIGHTED_EXT_SOURCE</td>\n",
       "      <td>109</td>\n",
       "    </tr>\n",
       "    <tr>\n",
       "      <th>16</th>\n",
       "      <td>DAYS_BIRTH</td>\n",
       "      <td>89</td>\n",
       "    </tr>\n",
       "    <tr>\n",
       "      <th>106</th>\n",
       "      <td>AMT_ANNUITY</td>\n",
       "      <td>85</td>\n",
       "    </tr>\n",
       "    <tr>\n",
       "      <th>20</th>\n",
       "      <td>CREDIT_GOODS_RATIO</td>\n",
       "      <td>65</td>\n",
       "    </tr>\n",
       "    <tr>\n",
       "      <th>10</th>\n",
       "      <td>DAYS_EMPLOYED</td>\n",
       "      <td>65</td>\n",
       "    </tr>\n",
       "    <tr>\n",
       "      <th>5</th>\n",
       "      <td>EXT_SOURCE_1</td>\n",
       "      <td>64</td>\n",
       "    </tr>\n",
       "    <tr>\n",
       "      <th>11</th>\n",
       "      <td>B_B_CURRENT_DEBT_TO_CREDIT_RATIO_MAX_OVERALL</td>\n",
       "      <td>63</td>\n",
       "    </tr>\n",
       "    <tr>\n",
       "      <th>4</th>\n",
       "      <td>EXT_SOURCE_2</td>\n",
       "      <td>58</td>\n",
       "    </tr>\n",
       "    <tr>\n",
       "      <th>1</th>\n",
       "      <td>EXT_SOURCE_MIN</td>\n",
       "      <td>57</td>\n",
       "    </tr>\n",
       "    <tr>\n",
       "      <th>84</th>\n",
       "      <td>AGE_EMPLOYED_DIFF</td>\n",
       "      <td>55</td>\n",
       "    </tr>\n",
       "    <tr>\n",
       "      <th>102</th>\n",
       "      <td>B_AMT_CREDIT_SUM_MAX_OVERALL</td>\n",
       "      <td>54</td>\n",
       "    </tr>\n",
       "    <tr>\n",
       "      <th>50</th>\n",
       "      <td>DEF_30_CREDIT_RATIO</td>\n",
       "      <td>49</td>\n",
       "    </tr>\n",
       "    <tr>\n",
       "      <th>45</th>\n",
       "      <td>AGE_EMPLOYED_DIFF_MEAN_AGG_OCCUPATION_TYPE_ORG...</td>\n",
       "      <td>46</td>\n",
       "    </tr>\n",
       "    <tr>\n",
       "      <th>90</th>\n",
       "      <td>DAYS_ID_PUBLISH</td>\n",
       "      <td>46</td>\n",
       "    </tr>\n",
       "    <tr>\n",
       "      <th>36</th>\n",
       "      <td>B_B_CURRENT_DEBT_TO_CREDIT_RATIO_STD_OVERALL</td>\n",
       "      <td>44</td>\n",
       "    </tr>\n",
       "    <tr>\n",
       "      <th>74</th>\n",
       "      <td>DAYS_LAST_PHONE_CHANGE</td>\n",
       "      <td>44</td>\n",
       "    </tr>\n",
       "    <tr>\n",
       "      <th>8</th>\n",
       "      <td>INCOME_EXT_RATIO</td>\n",
       "      <td>44</td>\n",
       "    </tr>\n",
       "    <tr>\n",
       "      <th>87</th>\n",
       "      <td>CREDIT_GOODS_DIFF</td>\n",
       "      <td>43</td>\n",
       "    </tr>\n",
       "    <tr>\n",
       "      <th>12</th>\n",
       "      <td>CREDIT_EXT_RATIO</td>\n",
       "      <td>42</td>\n",
       "    </tr>\n",
       "    <tr>\n",
       "      <th>2</th>\n",
       "      <td>EXT_SOURCE_MAX</td>\n",
       "      <td>40</td>\n",
       "    </tr>\n",
       "    <tr>\n",
       "      <th>25</th>\n",
       "      <td>AGE_EMPLOYED_DIFF_MEAN_AGG_NAME_EDUCATION_TYPE...</td>\n",
       "      <td>37</td>\n",
       "    </tr>\n",
       "    <tr>\n",
       "      <th>15</th>\n",
       "      <td>B_B_CURRENT_CREDIT_DEBT_DIFF_MEAN_OVERALL</td>\n",
       "      <td>37</td>\n",
       "    </tr>\n",
       "    <tr>\n",
       "      <th>3</th>\n",
       "      <td>EXT_SOURCE_3</td>\n",
       "      <td>37</td>\n",
       "    </tr>\n",
       "    <tr>\n",
       "      <th>92</th>\n",
       "      <td>HOUR_PROCESS_CREDIT_MUL</td>\n",
       "      <td>37</td>\n",
       "    </tr>\n",
       "    <tr>\n",
       "      <th>42</th>\n",
       "      <td>AMT_INCOME_TOTAL_MEAN_AGG_NAME_EDUCATION_TYPE_...</td>\n",
       "      <td>35</td>\n",
       "    </tr>\n",
       "    <tr>\n",
       "      <th>38</th>\n",
       "      <td>ANNUITY_INCOME_RATIO_MAX_AGG_CODE_GENDER_NAME_...</td>\n",
       "      <td>35</td>\n",
       "    </tr>\n",
       "    <tr>\n",
       "      <th>55</th>\n",
       "      <td>REGION_RATING_MUL</td>\n",
       "      <td>33</td>\n",
       "    </tr>\n",
       "    <tr>\n",
       "      <th>34</th>\n",
       "      <td>B_DAYS_CREDIT_MAX_CA_ACTIVE</td>\n",
       "      <td>32</td>\n",
       "    </tr>\n",
       "    <tr>\n",
       "      <th>39</th>\n",
       "      <td>DAYS_DETAILS_CHANGE_SUM</td>\n",
       "      <td>31</td>\n",
       "    </tr>\n",
       "    <tr>\n",
       "      <th>97</th>\n",
       "      <td>CAR_EMPLOYED_DIFF</td>\n",
       "      <td>31</td>\n",
       "    </tr>\n",
       "    <tr>\n",
       "      <th>9</th>\n",
       "      <td>B_B_CURRENT_CREDIT_DEBT_DIFF_MIN_OVERALL</td>\n",
       "      <td>31</td>\n",
       "    </tr>\n",
       "    <tr>\n",
       "      <th>103</th>\n",
       "      <td>OBS_60_CREDIT_RATIO</td>\n",
       "      <td>30</td>\n",
       "    </tr>\n",
       "    <tr>\n",
       "      <th>57</th>\n",
       "      <td>AMT_INCOME_TOTAL_MEAN_AGG_OCCUPATION_TYPE_ORGA...</td>\n",
       "      <td>28</td>\n",
       "    </tr>\n",
       "    <tr>\n",
       "      <th>19</th>\n",
       "      <td>AMT_ANNUITY_MIN_AGG_NAME_CONTRACT_TYPE_NAME_IN...</td>\n",
       "      <td>28</td>\n",
       "    </tr>\n",
       "    <tr>\n",
       "      <th>85</th>\n",
       "      <td>B_DAYS_ENDDATE_FACT_MAX_OVERALL</td>\n",
       "      <td>28</td>\n",
       "    </tr>\n",
       "    <tr>\n",
       "      <th>17</th>\n",
       "      <td>B_DAYS_CREDIT_MAX_OVERALL</td>\n",
       "      <td>27</td>\n",
       "    </tr>\n",
       "    <tr>\n",
       "      <th>7</th>\n",
       "      <td>B_DAYS_CREDIT_MEAN_OVERALL</td>\n",
       "      <td>27</td>\n",
       "    </tr>\n",
       "    <tr>\n",
       "      <th>18</th>\n",
       "      <td>B_B_CURRENT_DEBT_TO_CREDIT_RATIO_SUM_OVERALL</td>\n",
       "      <td>26</td>\n",
       "    </tr>\n",
       "    <tr>\n",
       "      <th>81</th>\n",
       "      <td>AMT_INCOME_TOTAL_MAX_AGG_OCCUPATION_TYPE_ORGAN...</td>\n",
       "      <td>25</td>\n",
       "    </tr>\n",
       "    <tr>\n",
       "      <th>14</th>\n",
       "      <td>B_DAYS_CREDIT_UPDATE_MEAN_OVERALL</td>\n",
       "      <td>25</td>\n",
       "    </tr>\n",
       "    <tr>\n",
       "      <th>69</th>\n",
       "      <td>B_B_CREDIT_DURATION_MIN_CA_CLOSED</td>\n",
       "      <td>24</td>\n",
       "    </tr>\n",
       "    <tr>\n",
       "      <th>109</th>\n",
       "      <td>B_CREDIT_TYPE_CONSUMER CREDIT_MEAN</td>\n",
       "      <td>24</td>\n",
       "    </tr>\n",
       "    <tr>\n",
       "      <th>105</th>\n",
       "      <td>B_AMT_CREDIT_SUM_MEAN_OVERALL</td>\n",
       "      <td>24</td>\n",
       "    </tr>\n",
       "    <tr>\n",
       "      <th>52</th>\n",
       "      <td>B_AMT_CREDIT_SUM_MEAN_CA_CLOSED</td>\n",
       "      <td>23</td>\n",
       "    </tr>\n",
       "    <tr>\n",
       "      <th>53</th>\n",
       "      <td>B_DAYS_CREDIT_MAX_CA_CLOSED</td>\n",
       "      <td>23</td>\n",
       "    </tr>\n",
       "    <tr>\n",
       "      <th>66</th>\n",
       "      <td>AMT_ANNUITY_MIN_AGG_NAME_EDUCATION_TYPE_NAME_I...</td>\n",
       "      <td>23</td>\n",
       "    </tr>\n",
       "    <tr>\n",
       "      <th>35</th>\n",
       "      <td>ANNUITY_INCOME_RATIO_MAX_AGG_CODE_GENDER_FLAG_...</td>\n",
       "      <td>23</td>\n",
       "    </tr>\n",
       "    <tr>\n",
       "      <th>72</th>\n",
       "      <td>B_DAYS_ENDDATE_FACT_STD_OVERALL</td>\n",
       "      <td>22</td>\n",
       "    </tr>\n",
       "    <tr>\n",
       "      <th>48</th>\n",
       "      <td>B_AMT_CREDIT_SUM_MAX_CA_CLOSED</td>\n",
       "      <td>22</td>\n",
       "    </tr>\n",
       "  </tbody>\n",
       "</table>\n",
       "</div>"
      ],
      "text/plain": [
       "                                               feature  importance\n",
       "6                                 CREDIT_ANNUITY_RATIO         295\n",
       "0                                  WEIGHTED_EXT_SOURCE         109\n",
       "16                                          DAYS_BIRTH          89\n",
       "106                                        AMT_ANNUITY          85\n",
       "20                                  CREDIT_GOODS_RATIO          65\n",
       "10                                       DAYS_EMPLOYED          65\n",
       "5                                         EXT_SOURCE_1          64\n",
       "11        B_B_CURRENT_DEBT_TO_CREDIT_RATIO_MAX_OVERALL          63\n",
       "4                                         EXT_SOURCE_2          58\n",
       "1                                       EXT_SOURCE_MIN          57\n",
       "84                                   AGE_EMPLOYED_DIFF          55\n",
       "102                       B_AMT_CREDIT_SUM_MAX_OVERALL          54\n",
       "50                                 DEF_30_CREDIT_RATIO          49\n",
       "45   AGE_EMPLOYED_DIFF_MEAN_AGG_OCCUPATION_TYPE_ORG...          46\n",
       "90                                     DAYS_ID_PUBLISH          46\n",
       "36        B_B_CURRENT_DEBT_TO_CREDIT_RATIO_STD_OVERALL          44\n",
       "74                              DAYS_LAST_PHONE_CHANGE          44\n",
       "8                                     INCOME_EXT_RATIO          44\n",
       "87                                   CREDIT_GOODS_DIFF          43\n",
       "12                                    CREDIT_EXT_RATIO          42\n",
       "2                                       EXT_SOURCE_MAX          40\n",
       "25   AGE_EMPLOYED_DIFF_MEAN_AGG_NAME_EDUCATION_TYPE...          37\n",
       "15           B_B_CURRENT_CREDIT_DEBT_DIFF_MEAN_OVERALL          37\n",
       "3                                         EXT_SOURCE_3          37\n",
       "92                             HOUR_PROCESS_CREDIT_MUL          37\n",
       "42   AMT_INCOME_TOTAL_MEAN_AGG_NAME_EDUCATION_TYPE_...          35\n",
       "38   ANNUITY_INCOME_RATIO_MAX_AGG_CODE_GENDER_NAME_...          35\n",
       "55                                   REGION_RATING_MUL          33\n",
       "34                         B_DAYS_CREDIT_MAX_CA_ACTIVE          32\n",
       "39                             DAYS_DETAILS_CHANGE_SUM          31\n",
       "97                                   CAR_EMPLOYED_DIFF          31\n",
       "9             B_B_CURRENT_CREDIT_DEBT_DIFF_MIN_OVERALL          31\n",
       "103                                OBS_60_CREDIT_RATIO          30\n",
       "57   AMT_INCOME_TOTAL_MEAN_AGG_OCCUPATION_TYPE_ORGA...          28\n",
       "19   AMT_ANNUITY_MIN_AGG_NAME_CONTRACT_TYPE_NAME_IN...          28\n",
       "85                     B_DAYS_ENDDATE_FACT_MAX_OVERALL          28\n",
       "17                           B_DAYS_CREDIT_MAX_OVERALL          27\n",
       "7                           B_DAYS_CREDIT_MEAN_OVERALL          27\n",
       "18        B_B_CURRENT_DEBT_TO_CREDIT_RATIO_SUM_OVERALL          26\n",
       "81   AMT_INCOME_TOTAL_MAX_AGG_OCCUPATION_TYPE_ORGAN...          25\n",
       "14                   B_DAYS_CREDIT_UPDATE_MEAN_OVERALL          25\n",
       "69                   B_B_CREDIT_DURATION_MIN_CA_CLOSED          24\n",
       "109                 B_CREDIT_TYPE_CONSUMER CREDIT_MEAN          24\n",
       "105                      B_AMT_CREDIT_SUM_MEAN_OVERALL          24\n",
       "52                     B_AMT_CREDIT_SUM_MEAN_CA_CLOSED          23\n",
       "53                         B_DAYS_CREDIT_MAX_CA_CLOSED          23\n",
       "66   AMT_ANNUITY_MIN_AGG_NAME_EDUCATION_TYPE_NAME_I...          23\n",
       "35   ANNUITY_INCOME_RATIO_MAX_AGG_CODE_GENDER_FLAG_...          23\n",
       "72                     B_DAYS_ENDDATE_FACT_STD_OVERALL          22\n",
       "48                      B_AMT_CREDIT_SUM_MAX_CA_CLOSED          22"
      ]
     },
     "metadata": {},
     "output_type": "display_data"
    },
    {
     "name": "stderr",
     "output_type": "stream",
     "text": [
      "[I 2025-04-09 11:49:14,625] Using an existing study with name 'lgbm_optimization' instead of creating a new one.\n"
     ]
    },
    {
     "name": "stdout",
     "output_type": "stream",
     "text": [
      "\n",
      "--- Optuna Optimization for LightGBM ---\n",
      "EarlyStoppingCallback initialized: patience=5, min_improvement=0.001\n",
      "Starting Optuna optimization for LightGBM with max 40 trials (early stopping enabled)...\n"
     ]
    },
    {
     "name": "stderr",
     "output_type": "stream",
     "text": [
      "[I 2025-04-09 11:51:16,491] Trial 64 finished with value: 0.7703859203952085 and parameters: {'n_estimators': 699, 'learning_rate': 0.016088624922168504, 'num_leaves': 40, 'max_depth': 9, 'subsample': 0.9227579537005057, 'colsample_bytree': 0.6789087828343252, 'reg_alpha': 1.1559985089079616e-05, 'reg_lambda': 0.07352874777866501}. Best is trial 39 with value: 0.7736317691972663.\n"
     ]
    },
    {
     "name": "stdout",
     "output_type": "stream",
     "text": [
      "First trial, best_score initialized to 0.7704\n",
      "Timeout: optimization stopped after 2.03 minutes\n"
     ]
    },
    {
     "name": "stderr",
     "output_type": "stream",
     "text": [
      "[I 2025-04-09 11:53:53,018] Trial 65 finished with value: 0.7688770296539728 and parameters: {'n_estimators': 920, 'learning_rate': 0.023105304526681403, 'num_leaves': 43, 'max_depth': 11, 'subsample': 0.9781651000681235, 'colsample_bytree': 0.6918983476774453, 'reg_alpha': 2.979677332065154e-07, 'reg_lambda': 0.4701503166858939}. Best is trial 39 with value: 0.7736317691972663.\n"
     ]
    },
    {
     "name": "stdout",
     "output_type": "stream",
     "text": [
      "Trial 65: No improvement (1/5). Score: 0.7689, Best: 0.7704\n",
      "Timeout: optimization stopped after 4.64 minutes\n"
     ]
    },
    {
     "name": "stderr",
     "output_type": "stream",
     "text": [
      "[I 2025-04-09 11:56:08,262] Trial 66 finished with value: 0.7690684088849677 and parameters: {'n_estimators': 824, 'learning_rate': 0.028015689367904932, 'num_leaves': 35, 'max_depth': 10, 'subsample': 0.9423426127985531, 'colsample_bytree': 0.641506289449096, 'reg_alpha': 0.10797976323917512, 'reg_lambda': 0.03561633826725236}. Best is trial 39 with value: 0.7736317691972663.\n"
     ]
    },
    {
     "name": "stdout",
     "output_type": "stream",
     "text": [
      "Trial 66: No improvement (2/5). Score: 0.7691, Best: 0.7704\n",
      "Timeout: optimization stopped after 6.89 minutes\n"
     ]
    },
    {
     "name": "stderr",
     "output_type": "stream",
     "text": [
      "[I 2025-04-09 11:57:57,746] Trial 67 finished with value: 0.7676164055550186 and parameters: {'n_estimators': 641, 'learning_rate': 0.034399675204619666, 'num_leaves': 55, 'max_depth': 6, 'subsample': 0.8839840035747951, 'colsample_bytree': 0.6999536239591815, 'reg_alpha': 6.982327501909822e-06, 'reg_lambda': 0.15280625123255231}. Best is trial 39 with value: 0.7736317691972663.\n"
     ]
    },
    {
     "name": "stdout",
     "output_type": "stream",
     "text": [
      "Trial 67: No improvement (3/5). Score: 0.7676, Best: 0.7704\n",
      "Timeout: optimization stopped after 8.72 minutes\n"
     ]
    },
    {
     "name": "stderr",
     "output_type": "stream",
     "text": [
      "[I 2025-04-09 12:00:24,715] Trial 68 finished with value: 0.7700359735865356 and parameters: {'n_estimators': 751, 'learning_rate': 0.012624971710527033, 'num_leaves': 29, 'max_depth': 9, 'subsample': 0.7825636139874793, 'colsample_bytree': 0.6125867629723023, 'reg_alpha': 9.713536797807537e-08, 'reg_lambda': 0.0041456079722799735}. Best is trial 39 with value: 0.7736317691972663.\n"
     ]
    },
    {
     "name": "stdout",
     "output_type": "stream",
     "text": [
      "Trial 68: No improvement (4/5). Score: 0.7700, Best: 0.7704\n",
      "Timeout: optimization stopped after 11.17 minutes\n"
     ]
    },
    {
     "name": "stderr",
     "output_type": "stream",
     "text": [
      "[I 2025-04-09 12:03:28,292] Trial 69 finished with value: 0.7687333644205184 and parameters: {'n_estimators': 795, 'learning_rate': 0.019131273584572783, 'num_leaves': 81, 'max_depth': 11, 'subsample': 0.964936692496124, 'colsample_bytree': 0.6686229953059529, 'reg_alpha': 2.0228570588126155e-06, 'reg_lambda': 0.25959903892938596}. Best is trial 39 with value: 0.7736317691972663.\n"
     ]
    },
    {
     "name": "stdout",
     "output_type": "stream",
     "text": [
      "Trial 69: No improvement (5/5). Score: 0.7687, Best: 0.7704\n",
      "EARLY STOPPING TRIGGERED after 5 trials without 0.0010 improvement\n",
      "Trial history: [(64, 0.7703859203952085, 'first'), (65, 0.7688770296539728, 'no_imp'), (66, 0.7690684088849677, 'no_imp'), (67, 0.7676164055550186, 'no_imp'), (68, 0.7700359735865356, 'no_imp'), (69, 0.7687333644205184, 'no_imp')]\n",
      "Timeout: optimization stopped after 14.23 minutes\n"
     ]
    },
    {
     "name": "stderr",
     "output_type": "stream",
     "text": [
      "[I 2025-04-09 12:05:43,779] Trial 70 finished with value: 0.7677102749603856 and parameters: {'n_estimators': 961, 'learning_rate': 0.03799978049449259, 'num_leaves': 44, 'max_depth': 5, 'subsample': 0.684903746434147, 'colsample_bytree': 0.723810070822774, 'reg_alpha': 2.1393373922449914e-08, 'reg_lambda': 0.013787975454478093}. Best is trial 39 with value: 0.7736317691972663.\n"
     ]
    },
    {
     "name": "stdout",
     "output_type": "stream",
     "text": [
      "Trial 70: No improvement (6/5). Score: 0.7677, Best: 0.7704\n",
      "EARLY STOPPING TRIGGERED after 5 trials without 0.0010 improvement\n",
      "Trial history: [(64, 0.7703859203952085, 'first'), (65, 0.7688770296539728, 'no_imp'), (66, 0.7690684088849677, 'no_imp'), (67, 0.7676164055550186, 'no_imp'), (68, 0.7700359735865356, 'no_imp'), (69, 0.7687333644205184, 'no_imp'), (70, 0.7677102749603856, 'no_imp')]\n",
      "Timeout: optimization stopped after 16.49 minutes\n"
     ]
    },
    {
     "name": "stderr",
     "output_type": "stream",
     "text": [
      "[I 2025-04-09 12:08:02,798] Trial 71 finished with value: 0.7593276117059616 and parameters: {'n_estimators': 863, 'learning_rate': 0.05172654911429236, 'num_leaves': 49, 'max_depth': 12, 'subsample': 0.8050320726238297, 'colsample_bytree': 0.7545471705604986, 'reg_alpha': 3.0822302430675966e-05, 'reg_lambda': 0.021389783953347688}. Best is trial 39 with value: 0.7736317691972663.\n"
     ]
    },
    {
     "name": "stdout",
     "output_type": "stream",
     "text": [
      "Trial 71: No improvement (7/5). Score: 0.7593, Best: 0.7704\n",
      "EARLY STOPPING TRIGGERED after 5 trials without 0.0010 improvement\n",
      "Trial history: [(64, 0.7703859203952085, 'first'), (65, 0.7688770296539728, 'no_imp'), (66, 0.7690684088849677, 'no_imp'), (67, 0.7676164055550186, 'no_imp'), (68, 0.7700359735865356, 'no_imp'), (69, 0.7687333644205184, 'no_imp'), (70, 0.7677102749603856, 'no_imp'), (71, 0.7593276117059616, 'no_imp')]\n",
      "Timeout: optimization stopped after 18.80 minutes\n"
     ]
    },
    {
     "name": "stderr",
     "output_type": "stream",
     "text": [
      "[I 2025-04-09 12:10:18,928] Trial 72 finished with value: 0.7693472428113778 and parameters: {'n_estimators': 905, 'learning_rate': 0.026612781735506522, 'num_leaves': 26, 'max_depth': 12, 'subsample': 0.9727889582257773, 'colsample_bytree': 0.6529572746776094, 'reg_alpha': 4.6642883466383145e-05, 'reg_lambda': 0.0270550150690842}. Best is trial 39 with value: 0.7736317691972663.\n"
     ]
    },
    {
     "name": "stdout",
     "output_type": "stream",
     "text": [
      "Trial 72: No improvement (8/5). Score: 0.7693, Best: 0.7704\n",
      "EARLY STOPPING TRIGGERED after 5 trials without 0.0010 improvement\n",
      "Trial history: [(64, 0.7703859203952085, 'first'), (65, 0.7688770296539728, 'no_imp'), (66, 0.7690684088849677, 'no_imp'), (67, 0.7676164055550186, 'no_imp'), (68, 0.7700359735865356, 'no_imp'), (69, 0.7687333644205184, 'no_imp'), (70, 0.7677102749603856, 'no_imp'), (71, 0.7593276117059616, 'no_imp'), (72, 0.7693472428113778, 'no_imp')]\n",
      "Timeout: optimization stopped after 21.07 minutes\n"
     ]
    },
    {
     "name": "stderr",
     "output_type": "stream",
     "text": [
      "[I 2025-04-09 12:12:50,864] Trial 73 finished with value: 0.7690968364480748 and parameters: {'n_estimators': 980, 'learning_rate': 0.02883873408292201, 'num_leaves': 32, 'max_depth': 12, 'subsample': 0.9931977963548501, 'colsample_bytree': 0.6240586321152033, 'reg_alpha': 0.0002471412149683583, 'reg_lambda': 0.08415616282910607}. Best is trial 39 with value: 0.7736317691972663.\n"
     ]
    },
    {
     "name": "stdout",
     "output_type": "stream",
     "text": [
      "Trial 73: No improvement (9/5). Score: 0.7691, Best: 0.7704\n",
      "EARLY STOPPING TRIGGERED after 5 trials without 0.0010 improvement\n",
      "Trial history: [(64, 0.7703859203952085, 'first'), (65, 0.7688770296539728, 'no_imp'), (66, 0.7690684088849677, 'no_imp'), (67, 0.7676164055550186, 'no_imp'), (68, 0.7700359735865356, 'no_imp'), (69, 0.7687333644205184, 'no_imp'), (70, 0.7677102749603856, 'no_imp'), (71, 0.7593276117059616, 'no_imp'), (72, 0.7693472428113778, 'no_imp'), (73, 0.7690968364480748, 'no_imp')]\n",
      "Timeout: optimization stopped after 23.60 minutes\n"
     ]
    },
    {
     "name": "stderr",
     "output_type": "stream",
     "text": [
      "[I 2025-04-09 12:14:47,711] Trial 74 finished with value: 0.7699614551857475 and parameters: {'n_estimators': 722, 'learning_rate': 0.023703676196113202, 'num_leaves': 23, 'max_depth': 11, 'subsample': 0.9668613964383429, 'colsample_bytree': 0.6376120488337828, 'reg_alpha': 1.395108413824573e-05, 'reg_lambda': 0.48224603909871144}. Best is trial 39 with value: 0.7736317691972663.\n"
     ]
    },
    {
     "name": "stdout",
     "output_type": "stream",
     "text": [
      "Trial 74: No improvement (10/5). Score: 0.7700, Best: 0.7704\n",
      "EARLY STOPPING TRIGGERED after 5 trials without 0.0010 improvement\n",
      "Trial history: [(64, 0.7703859203952085, 'first'), (65, 0.7688770296539728, 'no_imp'), (66, 0.7690684088849677, 'no_imp'), (67, 0.7676164055550186, 'no_imp'), (68, 0.7700359735865356, 'no_imp'), (69, 0.7687333644205184, 'no_imp'), (70, 0.7677102749603856, 'no_imp'), (71, 0.7593276117059616, 'no_imp'), (72, 0.7693472428113778, 'no_imp'), (73, 0.7690968364480748, 'no_imp'), (74, 0.7699614551857475, 'no_imp')]\n",
      "Timeout: optimization stopped after 25.55 minutes\n"
     ]
    },
    {
     "name": "stderr",
     "output_type": "stream",
     "text": [
      "[I 2025-04-09 12:16:29,939] Trial 75 finished with value: 0.7685346130601759 and parameters: {'n_estimators': 589, 'learning_rate': 0.033344868489432966, 'num_leaves': 37, 'max_depth': 10, 'subsample': 0.949467185055127, 'colsample_bytree': 0.677308340492627, 'reg_alpha': 0.00011008849629648081, 'reg_lambda': 0.05153652582340519}. Best is trial 39 with value: 0.7736317691972663.\n"
     ]
    },
    {
     "name": "stdout",
     "output_type": "stream",
     "text": [
      "Trial 75: No improvement (11/5). Score: 0.7685, Best: 0.7704\n",
      "EARLY STOPPING TRIGGERED after 5 trials without 0.0010 improvement\n",
      "Trial history: [(64, 0.7703859203952085, 'first'), (65, 0.7688770296539728, 'no_imp'), (66, 0.7690684088849677, 'no_imp'), (67, 0.7676164055550186, 'no_imp'), (68, 0.7700359735865356, 'no_imp'), (69, 0.7687333644205184, 'no_imp'), (70, 0.7677102749603856, 'no_imp'), (71, 0.7593276117059616, 'no_imp'), (72, 0.7693472428113778, 'no_imp'), (73, 0.7690968364480748, 'no_imp'), (74, 0.7699614551857475, 'no_imp'), (75, 0.7685346130601759, 'no_imp')]\n",
      "Timeout: optimization stopped after 27.26 minutes\n"
     ]
    },
    {
     "name": "stderr",
     "output_type": "stream",
     "text": [
      "[I 2025-04-09 12:18:32,368] Trial 76 finished with value: 0.7605261649695516 and parameters: {'n_estimators': 929, 'learning_rate': 0.0703757720539939, 'num_leaves': 29, 'max_depth': 7, 'subsample': 0.913191209659982, 'colsample_bytree': 0.6090408195133703, 'reg_alpha': 4.796604375501899e-07, 'reg_lambda': 0.12472751783543563}. Best is trial 39 with value: 0.7736317691972663.\n"
     ]
    },
    {
     "name": "stdout",
     "output_type": "stream",
     "text": [
      "Trial 76: No improvement (12/5). Score: 0.7605, Best: 0.7704\n",
      "EARLY STOPPING TRIGGERED after 5 trials without 0.0010 improvement\n",
      "Trial history: [(64, 0.7703859203952085, 'first'), (65, 0.7688770296539728, 'no_imp'), (66, 0.7690684088849677, 'no_imp'), (67, 0.7676164055550186, 'no_imp'), (68, 0.7700359735865356, 'no_imp'), (69, 0.7687333644205184, 'no_imp'), (70, 0.7677102749603856, 'no_imp'), (71, 0.7593276117059616, 'no_imp'), (72, 0.7693472428113778, 'no_imp'), (73, 0.7690968364480748, 'no_imp'), (74, 0.7699614551857475, 'no_imp'), (75, 0.7685346130601759, 'no_imp'), (76, 0.7605261649695516, 'no_imp')]\n",
      "Timeout: optimization stopped after 29.30 minutes\n"
     ]
    },
    {
     "name": "stderr",
     "output_type": "stream",
     "text": [
      "[I 2025-04-09 12:20:37,263] Trial 77 finished with value: 0.77010697625424 and parameters: {'n_estimators': 673, 'learning_rate': 0.018166198137336692, 'num_leaves': 33, 'max_depth': 10, 'subsample': 0.9292331188716404, 'colsample_bytree': 0.7033580107464344, 'reg_alpha': 0.0008026011374932838, 'reg_lambda': 0.00456476195368282}. Best is trial 39 with value: 0.7736317691972663.\n"
     ]
    },
    {
     "name": "stdout",
     "output_type": "stream",
     "text": [
      "Trial 77: No improvement (13/5). Score: 0.7701, Best: 0.7704\n",
      "EARLY STOPPING TRIGGERED after 5 trials without 0.0010 improvement\n",
      "Trial history: [(64, 0.7703859203952085, 'first'), (65, 0.7688770296539728, 'no_imp'), (66, 0.7690684088849677, 'no_imp'), (67, 0.7676164055550186, 'no_imp'), (68, 0.7700359735865356, 'no_imp'), (69, 0.7687333644205184, 'no_imp'), (70, 0.7677102749603856, 'no_imp'), (71, 0.7593276117059616, 'no_imp'), (72, 0.7693472428113778, 'no_imp'), (73, 0.7690968364480748, 'no_imp'), (74, 0.7699614551857475, 'no_imp'), (75, 0.7685346130601759, 'no_imp'), (76, 0.7605261649695516, 'no_imp'), (77, 0.77010697625424, 'no_imp')]\n",
      "Timeout: optimization stopped after 31.38 minutes\n"
     ]
    },
    {
     "name": "stderr",
     "output_type": "stream",
     "text": [
      "[I 2025-04-09 12:23:39,951] Trial 78 finished with value: 0.7684316147721976 and parameters: {'n_estimators': 891, 'learning_rate': 0.020969846560623246, 'num_leaves': 62, 'max_depth': 12, 'subsample': 0.8247084914779739, 'colsample_bytree': 0.640757693867997, 'reg_alpha': 6.492804520764706e-08, 'reg_lambda': 0.0013907818991074278}. Best is trial 39 with value: 0.7736317691972663.\n"
     ]
    },
    {
     "name": "stdout",
     "output_type": "stream",
     "text": [
      "Trial 78: No improvement (14/5). Score: 0.7684, Best: 0.7704\n",
      "EARLY STOPPING TRIGGERED after 5 trials without 0.0010 improvement\n",
      "Trial history: [(64, 0.7703859203952085, 'first'), (65, 0.7688770296539728, 'no_imp'), (66, 0.7690684088849677, 'no_imp'), (67, 0.7676164055550186, 'no_imp'), (68, 0.7700359735865356, 'no_imp'), (69, 0.7687333644205184, 'no_imp'), (70, 0.7677102749603856, 'no_imp'), (71, 0.7593276117059616, 'no_imp'), (72, 0.7693472428113778, 'no_imp'), (73, 0.7690968364480748, 'no_imp'), (74, 0.7699614551857475, 'no_imp'), (75, 0.7685346130601759, 'no_imp'), (76, 0.7605261649695516, 'no_imp'), (77, 0.77010697625424, 'no_imp'), (78, 0.7684316147721976, 'no_imp')]\n",
      "Timeout: optimization stopped after 34.42 minutes\n"
     ]
    },
    {
     "name": "stderr",
     "output_type": "stream",
     "text": [
      "[I 2025-04-09 12:25:21,435] Trial 79 finished with value: 0.7694778325904094 and parameters: {'n_estimators': 774, 'learning_rate': 0.024903219183054447, 'num_leaves': 40, 'max_depth': 4, 'subsample': 0.8963885131859557, 'colsample_bytree': 0.6630021656692285, 'reg_alpha': 3.363932924907743e-05, 'reg_lambda': 0.00022078003737057317}. Best is trial 39 with value: 0.7736317691972663.\n"
     ]
    },
    {
     "name": "stdout",
     "output_type": "stream",
     "text": [
      "Trial 79: No improvement (15/5). Score: 0.7695, Best: 0.7704\n",
      "EARLY STOPPING TRIGGERED after 5 trials without 0.0010 improvement\n",
      "Trial history: [(64, 0.7703859203952085, 'first'), (65, 0.7688770296539728, 'no_imp'), (66, 0.7690684088849677, 'no_imp'), (67, 0.7676164055550186, 'no_imp'), (68, 0.7700359735865356, 'no_imp'), (69, 0.7687333644205184, 'no_imp'), (70, 0.7677102749603856, 'no_imp'), (71, 0.7593276117059616, 'no_imp'), (72, 0.7693472428113778, 'no_imp'), (73, 0.7690968364480748, 'no_imp'), (74, 0.7699614551857475, 'no_imp'), (75, 0.7685346130601759, 'no_imp'), (76, 0.7605261649695516, 'no_imp'), (77, 0.77010697625424, 'no_imp'), (78, 0.7684316147721976, 'no_imp'), (79, 0.7694778325904094, 'no_imp')]\n",
      "Timeout: optimization stopped after 36.11 minutes\n"
     ]
    },
    {
     "name": "stderr",
     "output_type": "stream",
     "text": [
      "[I 2025-04-09 12:27:47,809] Trial 80 finished with value: 0.7703754288598758 and parameters: {'n_estimators': 839, 'learning_rate': 0.01562207519516044, 'num_leaves': 27, 'max_depth': 9, 'subsample': 0.7220607941366388, 'colsample_bytree': 0.7379139531947622, 'reg_alpha': 0.7265038216919424, 'reg_lambda': 0.014787825729667404}. Best is trial 39 with value: 0.7736317691972663.\n"
     ]
    },
    {
     "name": "stdout",
     "output_type": "stream",
     "text": [
      "Trial 80: No improvement (16/5). Score: 0.7704, Best: 0.7704\n",
      "EARLY STOPPING TRIGGERED after 5 trials without 0.0010 improvement\n",
      "Trial history: [(64, 0.7703859203952085, 'first'), (65, 0.7688770296539728, 'no_imp'), (66, 0.7690684088849677, 'no_imp'), (67, 0.7676164055550186, 'no_imp'), (68, 0.7700359735865356, 'no_imp'), (69, 0.7687333644205184, 'no_imp'), (70, 0.7677102749603856, 'no_imp'), (71, 0.7593276117059616, 'no_imp'), (72, 0.7693472428113778, 'no_imp'), (73, 0.7690968364480748, 'no_imp'), (74, 0.7699614551857475, 'no_imp'), (75, 0.7685346130601759, 'no_imp'), (76, 0.7605261649695516, 'no_imp'), (77, 0.77010697625424, 'no_imp'), (78, 0.7684316147721976, 'no_imp'), (79, 0.7694778325904094, 'no_imp'), (80, 0.7703754288598758, 'no_imp')]\n",
      "Timeout: optimization stopped after 38.55 minutes\n"
     ]
    },
    {
     "name": "stderr",
     "output_type": "stream",
     "text": [
      "[I 2025-04-09 12:29:40,062] Trial 81 finished with value: 0.7675828992160005 and parameters: {'n_estimators': 808, 'learning_rate': 0.0473046044541406, 'num_leaves': 23, 'max_depth': 11, 'subsample': 0.7559623613905367, 'colsample_bytree': 0.7153326460793363, 'reg_alpha': 9.201346939969571e-05, 'reg_lambda': 3.922528812948564e-06}. Best is trial 39 with value: 0.7736317691972663.\n"
     ]
    },
    {
     "name": "stdout",
     "output_type": "stream",
     "text": [
      "Trial 81: No improvement (17/5). Score: 0.7676, Best: 0.7704\n",
      "EARLY STOPPING TRIGGERED after 5 trials without 0.0010 improvement\n",
      "Trial history: [(64, 0.7703859203952085, 'first'), (65, 0.7688770296539728, 'no_imp'), (66, 0.7690684088849677, 'no_imp'), (67, 0.7676164055550186, 'no_imp'), (68, 0.7700359735865356, 'no_imp'), (69, 0.7687333644205184, 'no_imp'), (70, 0.7677102749603856, 'no_imp'), (71, 0.7593276117059616, 'no_imp'), (72, 0.7693472428113778, 'no_imp'), (73, 0.7690968364480748, 'no_imp'), (74, 0.7699614551857475, 'no_imp'), (75, 0.7685346130601759, 'no_imp'), (76, 0.7605261649695516, 'no_imp'), (77, 0.77010697625424, 'no_imp'), (78, 0.7684316147721976, 'no_imp'), (79, 0.7694778325904094, 'no_imp'), (80, 0.7703754288598758, 'no_imp'), (81, 0.7675828992160005, 'no_imp')]\n",
      "Timeout: optimization stopped after 40.42 minutes\n"
     ]
    },
    {
     "name": "stderr",
     "output_type": "stream",
     "text": [
      "[I 2025-04-09 12:31:46,398] Trial 82 finished with value: 0.7680049731035287 and parameters: {'n_estimators': 871, 'learning_rate': 0.03856052529717883, 'num_leaves': 40, 'max_depth': 5, 'subsample': 0.7392301874862027, 'colsample_bytree': 0.6840795252931842, 'reg_alpha': 5.3156020290376046e-08, 'reg_lambda': 0.06704912502954477}. Best is trial 39 with value: 0.7736317691972663.\n"
     ]
    },
    {
     "name": "stdout",
     "output_type": "stream",
     "text": [
      "Trial 82: No improvement (18/5). Score: 0.7680, Best: 0.7704\n",
      "EARLY STOPPING TRIGGERED after 5 trials without 0.0010 improvement\n",
      "Trial history: [(64, 0.7703859203952085, 'first'), (65, 0.7688770296539728, 'no_imp'), (66, 0.7690684088849677, 'no_imp'), (67, 0.7676164055550186, 'no_imp'), (68, 0.7700359735865356, 'no_imp'), (69, 0.7687333644205184, 'no_imp'), (70, 0.7677102749603856, 'no_imp'), (71, 0.7593276117059616, 'no_imp'), (72, 0.7693472428113778, 'no_imp'), (73, 0.7690968364480748, 'no_imp'), (74, 0.7699614551857475, 'no_imp'), (75, 0.7685346130601759, 'no_imp'), (76, 0.7605261649695516, 'no_imp'), (77, 0.77010697625424, 'no_imp'), (78, 0.7684316147721976, 'no_imp'), (79, 0.7694778325904094, 'no_imp'), (80, 0.7703754288598758, 'no_imp'), (81, 0.7675828992160005, 'no_imp'), (82, 0.7680049731035287, 'no_imp')]\n",
      "Timeout: optimization stopped after 42.53 minutes\n"
     ]
    },
    {
     "name": "stderr",
     "output_type": "stream",
     "text": [
      "[I 2025-04-09 12:33:43,226] Trial 83 finished with value: 0.7688839809640978 and parameters: {'n_estimators': 803, 'learning_rate': 0.03179012302203438, 'num_leaves': 42, 'max_depth': 5, 'subsample': 0.7482931298834747, 'colsample_bytree': 0.6962546373906396, 'reg_alpha': 1.7416080274449417e-07, 'reg_lambda': 0.031218427282258418}. Best is trial 39 with value: 0.7736317691972663.\n"
     ]
    },
    {
     "name": "stdout",
     "output_type": "stream",
     "text": [
      "Trial 83: No improvement (19/5). Score: 0.7689, Best: 0.7704\n",
      "EARLY STOPPING TRIGGERED after 5 trials without 0.0010 improvement\n",
      "Trial history: [(64, 0.7703859203952085, 'first'), (65, 0.7688770296539728, 'no_imp'), (66, 0.7690684088849677, 'no_imp'), (67, 0.7676164055550186, 'no_imp'), (68, 0.7700359735865356, 'no_imp'), (69, 0.7687333644205184, 'no_imp'), (70, 0.7677102749603856, 'no_imp'), (71, 0.7593276117059616, 'no_imp'), (72, 0.7693472428113778, 'no_imp'), (73, 0.7690968364480748, 'no_imp'), (74, 0.7699614551857475, 'no_imp'), (75, 0.7685346130601759, 'no_imp'), (76, 0.7605261649695516, 'no_imp'), (77, 0.77010697625424, 'no_imp'), (78, 0.7684316147721976, 'no_imp'), (79, 0.7694778325904094, 'no_imp'), (80, 0.7703754288598758, 'no_imp'), (81, 0.7675828992160005, 'no_imp'), (82, 0.7680049731035287, 'no_imp'), (83, 0.7688839809640978, 'no_imp')]\n",
      "Timeout: optimization stopped after 44.48 minutes\n"
     ]
    },
    {
     "name": "stderr",
     "output_type": "stream",
     "text": [
      "[I 2025-04-09 12:35:29,851] Trial 84 finished with value: 0.7697234496301768 and parameters: {'n_estimators': 903, 'learning_rate': 0.04392766020904582, 'num_leaves': 34, 'max_depth': 4, 'subsample': 0.7128333192142746, 'colsample_bytree': 0.6607369981532446, 'reg_alpha': 3.426535734722541e-08, 'reg_lambda': 0.21542482304536292}. Best is trial 39 with value: 0.7736317691972663.\n"
     ]
    },
    {
     "name": "stdout",
     "output_type": "stream",
     "text": [
      "Trial 84: No improvement (20/5). Score: 0.7697, Best: 0.7704\n",
      "EARLY STOPPING TRIGGERED after 5 trials without 0.0010 improvement\n",
      "Trial history: [(64, 0.7703859203952085, 'first'), (65, 0.7688770296539728, 'no_imp'), (66, 0.7690684088849677, 'no_imp'), (67, 0.7676164055550186, 'no_imp'), (68, 0.7700359735865356, 'no_imp'), (69, 0.7687333644205184, 'no_imp'), (70, 0.7677102749603856, 'no_imp'), (71, 0.7593276117059616, 'no_imp'), (72, 0.7693472428113778, 'no_imp'), (73, 0.7690968364480748, 'no_imp'), (74, 0.7699614551857475, 'no_imp'), (75, 0.7685346130601759, 'no_imp'), (76, 0.7605261649695516, 'no_imp'), (77, 0.77010697625424, 'no_imp'), (78, 0.7684316147721976, 'no_imp'), (79, 0.7694778325904094, 'no_imp'), (80, 0.7703754288598758, 'no_imp'), (81, 0.7675828992160005, 'no_imp'), (82, 0.7680049731035287, 'no_imp'), (83, 0.7688839809640978, 'no_imp'), (84, 0.7697234496301768, 'no_imp')]\n",
      "Timeout: optimization stopped after 46.25 minutes\n"
     ]
    },
    {
     "name": "stderr",
     "output_type": "stream",
     "text": [
      "[I 2025-04-09 12:37:27,448] Trial 85 finished with value: 0.7694260974314063 and parameters: {'n_estimators': 735, 'learning_rate': 0.025457315064771634, 'num_leaves': 31, 'max_depth': 6, 'subsample': 0.8685306696566483, 'colsample_bytree': 0.7360492072957189, 'reg_alpha': 1.9292359936325692e-08, 'reg_lambda': 0.05262279861433474}. Best is trial 39 with value: 0.7736317691972663.\n"
     ]
    },
    {
     "name": "stdout",
     "output_type": "stream",
     "text": [
      "Trial 85: No improvement (21/5). Score: 0.7694, Best: 0.7704\n",
      "EARLY STOPPING TRIGGERED after 5 trials without 0.0010 improvement\n",
      "Trial history: [(64, 0.7703859203952085, 'first'), (65, 0.7688770296539728, 'no_imp'), (66, 0.7690684088849677, 'no_imp'), (67, 0.7676164055550186, 'no_imp'), (68, 0.7700359735865356, 'no_imp'), (69, 0.7687333644205184, 'no_imp'), (70, 0.7677102749603856, 'no_imp'), (71, 0.7593276117059616, 'no_imp'), (72, 0.7693472428113778, 'no_imp'), (73, 0.7690968364480748, 'no_imp'), (74, 0.7699614551857475, 'no_imp'), (75, 0.7685346130601759, 'no_imp'), (76, 0.7605261649695516, 'no_imp'), (77, 0.77010697625424, 'no_imp'), (78, 0.7684316147721976, 'no_imp'), (79, 0.7694778325904094, 'no_imp'), (80, 0.7703754288598758, 'no_imp'), (81, 0.7675828992160005, 'no_imp'), (82, 0.7680049731035287, 'no_imp'), (83, 0.7688839809640978, 'no_imp'), (84, 0.7697234496301768, 'no_imp'), (85, 0.7694260974314063, 'no_imp')]\n",
      "Timeout: optimization stopped after 48.21 minutes\n"
     ]
    },
    {
     "name": "stderr",
     "output_type": "stream",
     "text": [
      "[I 2025-04-09 12:38:40,144] Trial 86 finished with value: 0.7695476273510853 and parameters: {'n_estimators': 693, 'learning_rate': 0.058088856386293804, 'num_leaves': 47, 'max_depth': 3, 'subsample': 0.6978343699928488, 'colsample_bytree': 0.6472277570790261, 'reg_alpha': 2.760925198601077e-08, 'reg_lambda': 0.9681712589245998}. Best is trial 39 with value: 0.7736317691972663.\n"
     ]
    },
    {
     "name": "stdout",
     "output_type": "stream",
     "text": [
      "Trial 86: No improvement (22/5). Score: 0.7695, Best: 0.7704\n",
      "EARLY STOPPING TRIGGERED after 5 trials without 0.0010 improvement\n",
      "Trial history: [(64, 0.7703859203952085, 'first'), (65, 0.7688770296539728, 'no_imp'), (66, 0.7690684088849677, 'no_imp'), (67, 0.7676164055550186, 'no_imp'), (68, 0.7700359735865356, 'no_imp'), (69, 0.7687333644205184, 'no_imp'), (70, 0.7677102749603856, 'no_imp'), (71, 0.7593276117059616, 'no_imp'), (72, 0.7693472428113778, 'no_imp'), (73, 0.7690968364480748, 'no_imp'), (74, 0.7699614551857475, 'no_imp'), (75, 0.7685346130601759, 'no_imp'), (76, 0.7605261649695516, 'no_imp'), (77, 0.77010697625424, 'no_imp'), (78, 0.7684316147721976, 'no_imp'), (79, 0.7694778325904094, 'no_imp'), (80, 0.7703754288598758, 'no_imp'), (81, 0.7675828992160005, 'no_imp'), (82, 0.7680049731035287, 'no_imp'), (83, 0.7688839809640978, 'no_imp'), (84, 0.7697234496301768, 'no_imp'), (85, 0.7694260974314063, 'no_imp'), (86, 0.7695476273510853, 'no_imp')]\n",
      "Timeout: optimization stopped after 49.43 minutes\n"
     ]
    },
    {
     "name": "stderr",
     "output_type": "stream",
     "text": [
      "[I 2025-04-09 12:41:09,914] Trial 87 finished with value: 0.7697719651881416 and parameters: {'n_estimators': 829, 'learning_rate': 0.013832186460518033, 'num_leaves': 38, 'max_depth': 6, 'subsample': 0.7318498414916658, 'colsample_bytree': 0.7714673327031292, 'reg_alpha': 1.7786404900840136e-05, 'reg_lambda': 0.009244401740103991}. Best is trial 39 with value: 0.7736317691972663.\n"
     ]
    },
    {
     "name": "stdout",
     "output_type": "stream",
     "text": [
      "Trial 87: No improvement (23/5). Score: 0.7698, Best: 0.7704\n",
      "EARLY STOPPING TRIGGERED after 5 trials without 0.0010 improvement\n",
      "Trial history: [(64, 0.7703859203952085, 'first'), (65, 0.7688770296539728, 'no_imp'), (66, 0.7690684088849677, 'no_imp'), (67, 0.7676164055550186, 'no_imp'), (68, 0.7700359735865356, 'no_imp'), (69, 0.7687333644205184, 'no_imp'), (70, 0.7677102749603856, 'no_imp'), (71, 0.7593276117059616, 'no_imp'), (72, 0.7693472428113778, 'no_imp'), (73, 0.7690968364480748, 'no_imp'), (74, 0.7699614551857475, 'no_imp'), (75, 0.7685346130601759, 'no_imp'), (76, 0.7605261649695516, 'no_imp'), (77, 0.77010697625424, 'no_imp'), (78, 0.7684316147721976, 'no_imp'), (79, 0.7694778325904094, 'no_imp'), (80, 0.7703754288598758, 'no_imp'), (81, 0.7675828992160005, 'no_imp'), (82, 0.7680049731035287, 'no_imp'), (83, 0.7688839809640978, 'no_imp'), (84, 0.7697234496301768, 'no_imp'), (85, 0.7694260974314063, 'no_imp'), (86, 0.7695476273510853, 'no_imp'), (87, 0.7697719651881416, 'no_imp')]\n",
      "Timeout: optimization stopped after 51.92 minutes\n"
     ]
    },
    {
     "name": "stderr",
     "output_type": "stream",
     "text": [
      "[I 2025-04-09 12:43:02,432] Trial 88 finished with value: 0.7693269778052594 and parameters: {'n_estimators': 762, 'learning_rate': 0.028909453683861875, 'num_leaves': 35, 'max_depth': 5, 'subsample': 0.8537707926698462, 'colsample_bytree': 0.7212142667245043, 'reg_alpha': 9.98632927196933e-08, 'reg_lambda': 0.11494139611445578}. Best is trial 39 with value: 0.7736317691972663.\n"
     ]
    },
    {
     "name": "stdout",
     "output_type": "stream",
     "text": [
      "Trial 88: No improvement (24/5). Score: 0.7693, Best: 0.7704\n",
      "EARLY STOPPING TRIGGERED after 5 trials without 0.0010 improvement\n",
      "Trial history: [(64, 0.7703859203952085, 'first'), (65, 0.7688770296539728, 'no_imp'), (66, 0.7690684088849677, 'no_imp'), (67, 0.7676164055550186, 'no_imp'), (68, 0.7700359735865356, 'no_imp'), (69, 0.7687333644205184, 'no_imp'), (70, 0.7677102749603856, 'no_imp'), (71, 0.7593276117059616, 'no_imp'), (72, 0.7693472428113778, 'no_imp'), (73, 0.7690968364480748, 'no_imp'), (74, 0.7699614551857475, 'no_imp'), (75, 0.7685346130601759, 'no_imp'), (76, 0.7605261649695516, 'no_imp'), (77, 0.77010697625424, 'no_imp'), (78, 0.7684316147721976, 'no_imp'), (79, 0.7694778325904094, 'no_imp'), (80, 0.7703754288598758, 'no_imp'), (81, 0.7675828992160005, 'no_imp'), (82, 0.7680049731035287, 'no_imp'), (83, 0.7688839809640978, 'no_imp'), (84, 0.7697234496301768, 'no_imp'), (85, 0.7694260974314063, 'no_imp'), (86, 0.7695476273510853, 'no_imp'), (87, 0.7697719651881416, 'no_imp'), (88, 0.7693269778052594, 'no_imp')]\n",
      "Timeout: optimization stopped after 53.80 minutes\n"
     ]
    },
    {
     "name": "stderr",
     "output_type": "stream",
     "text": [
      "[I 2025-04-09 12:45:45,222] Trial 89 finished with value: 0.7684015529164476 and parameters: {'n_estimators': 860, 'learning_rate': 0.02212146384402885, 'num_leaves': 49, 'max_depth': 8, 'subsample': 0.6647943794818727, 'colsample_bytree': 0.9242988142243111, 'reg_alpha': 7.116804598858095e-07, 'reg_lambda': 0.28436428893146093}. Best is trial 39 with value: 0.7736317691972663.\n"
     ]
    },
    {
     "name": "stdout",
     "output_type": "stream",
     "text": [
      "Trial 89: No improvement (25/5). Score: 0.7684, Best: 0.7704\n",
      "EARLY STOPPING TRIGGERED after 5 trials without 0.0010 improvement\n",
      "Trial history: [(64, 0.7703859203952085, 'first'), (65, 0.7688770296539728, 'no_imp'), (66, 0.7690684088849677, 'no_imp'), (67, 0.7676164055550186, 'no_imp'), (68, 0.7700359735865356, 'no_imp'), (69, 0.7687333644205184, 'no_imp'), (70, 0.7677102749603856, 'no_imp'), (71, 0.7593276117059616, 'no_imp'), (72, 0.7693472428113778, 'no_imp'), (73, 0.7690968364480748, 'no_imp'), (74, 0.7699614551857475, 'no_imp'), (75, 0.7685346130601759, 'no_imp'), (76, 0.7605261649695516, 'no_imp'), (77, 0.77010697625424, 'no_imp'), (78, 0.7684316147721976, 'no_imp'), (79, 0.7694778325904094, 'no_imp'), (80, 0.7703754288598758, 'no_imp'), (81, 0.7675828992160005, 'no_imp'), (82, 0.7680049731035287, 'no_imp'), (83, 0.7688839809640978, 'no_imp'), (84, 0.7697234496301768, 'no_imp'), (85, 0.7694260974314063, 'no_imp'), (86, 0.7695476273510853, 'no_imp'), (87, 0.7697719651881416, 'no_imp'), (88, 0.7693269778052594, 'no_imp'), (89, 0.7684015529164476, 'no_imp')]\n",
      "Timeout: optimization stopped after 56.51 minutes\n"
     ]
    },
    {
     "name": "stderr",
     "output_type": "stream",
     "text": [
      "[I 2025-04-09 12:48:34,423] Trial 90 finished with value: 0.739848831715662 and parameters: {'n_estimators': 940, 'learning_rate': 0.07766825484916726, 'num_leaves': 76, 'max_depth': 10, 'subsample': 0.7756742716045358, 'colsample_bytree': 0.6712720998890144, 'reg_alpha': 3.0628201537913234e-07, 'reg_lambda': 0.01893882052037845}. Best is trial 39 with value: 0.7736317691972663.\n"
     ]
    },
    {
     "name": "stdout",
     "output_type": "stream",
     "text": [
      "Trial 90: No improvement (26/5). Score: 0.7398, Best: 0.7704\n",
      "EARLY STOPPING TRIGGERED after 5 trials without 0.0010 improvement\n",
      "Trial history: [(64, 0.7703859203952085, 'first'), (65, 0.7688770296539728, 'no_imp'), (66, 0.7690684088849677, 'no_imp'), (67, 0.7676164055550186, 'no_imp'), (68, 0.7700359735865356, 'no_imp'), (69, 0.7687333644205184, 'no_imp'), (70, 0.7677102749603856, 'no_imp'), (71, 0.7593276117059616, 'no_imp'), (72, 0.7693472428113778, 'no_imp'), (73, 0.7690968364480748, 'no_imp'), (74, 0.7699614551857475, 'no_imp'), (75, 0.7685346130601759, 'no_imp'), (76, 0.7605261649695516, 'no_imp'), (77, 0.77010697625424, 'no_imp'), (78, 0.7684316147721976, 'no_imp'), (79, 0.7694778325904094, 'no_imp'), (80, 0.7703754288598758, 'no_imp'), (81, 0.7675828992160005, 'no_imp'), (82, 0.7680049731035287, 'no_imp'), (83, 0.7688839809640978, 'no_imp'), (84, 0.7697234496301768, 'no_imp'), (85, 0.7694260974314063, 'no_imp'), (86, 0.7695476273510853, 'no_imp'), (87, 0.7697719651881416, 'no_imp'), (88, 0.7693269778052594, 'no_imp'), (89, 0.7684015529164476, 'no_imp'), (90, 0.739848831715662, 'no_imp')]\n",
      "Timeout: optimization stopped after 59.33 minutes\n"
     ]
    },
    {
     "name": "stderr",
     "output_type": "stream",
     "text": [
      "[I 2025-04-09 12:50:44,232] Trial 91 finished with value: 0.7703360644500894 and parameters: {'n_estimators': 652, 'learning_rate': 0.020284943632660375, 'num_leaves': 45, 'max_depth': 9, 'subsample': 0.7494475802262958, 'colsample_bytree': 0.6254763117052804, 'reg_alpha': 5.91730674536145e-06, 'reg_lambda': 0.005494968283863448}. Best is trial 39 with value: 0.7736317691972663.\n"
     ]
    },
    {
     "name": "stdout",
     "output_type": "stream",
     "text": [
      "Trial 91: No improvement (27/5). Score: 0.7703, Best: 0.7704\n",
      "EARLY STOPPING TRIGGERED after 5 trials without 0.0010 improvement\n",
      "Trial history: [(64, 0.7703859203952085, 'first'), (65, 0.7688770296539728, 'no_imp'), (66, 0.7690684088849677, 'no_imp'), (67, 0.7676164055550186, 'no_imp'), (68, 0.7700359735865356, 'no_imp'), (69, 0.7687333644205184, 'no_imp'), (70, 0.7677102749603856, 'no_imp'), (71, 0.7593276117059616, 'no_imp'), (72, 0.7693472428113778, 'no_imp'), (73, 0.7690968364480748, 'no_imp'), (74, 0.7699614551857475, 'no_imp'), (75, 0.7685346130601759, 'no_imp'), (76, 0.7605261649695516, 'no_imp'), (77, 0.77010697625424, 'no_imp'), (78, 0.7684316147721976, 'no_imp'), (79, 0.7694778325904094, 'no_imp'), (80, 0.7703754288598758, 'no_imp'), (81, 0.7675828992160005, 'no_imp'), (82, 0.7680049731035287, 'no_imp'), (83, 0.7688839809640978, 'no_imp'), (84, 0.7697234496301768, 'no_imp'), (85, 0.7694260974314063, 'no_imp'), (86, 0.7695476273510853, 'no_imp'), (87, 0.7697719651881416, 'no_imp'), (88, 0.7693269778052594, 'no_imp'), (89, 0.7684015529164476, 'no_imp'), (90, 0.739848831715662, 'no_imp'), (91, 0.7703360644500894, 'no_imp')]\n",
      "Timeout: optimization stopped after 61.49 minutes\n"
     ]
    },
    {
     "name": "stderr",
     "output_type": "stream",
     "text": [
      "[I 2025-04-09 12:52:53,046] Trial 92 finished with value: 0.7694891290260013 and parameters: {'n_estimators': 883, 'learning_rate': 0.03132971924107633, 'num_leaves': 25, 'max_depth': 9, 'subsample': 0.8950270932368775, 'colsample_bytree': 0.6156505152053263, 'reg_alpha': 2.3453028351644255e-05, 'reg_lambda': 0.0019315203949279696}. Best is trial 39 with value: 0.7736317691972663.\n"
     ]
    },
    {
     "name": "stdout",
     "output_type": "stream",
     "text": [
      "Trial 92: No improvement (28/5). Score: 0.7695, Best: 0.7704\n",
      "EARLY STOPPING TRIGGERED after 5 trials without 0.0010 improvement\n",
      "Trial history: [(64, 0.7703859203952085, 'first'), (65, 0.7688770296539728, 'no_imp'), (66, 0.7690684088849677, 'no_imp'), (67, 0.7676164055550186, 'no_imp'), (68, 0.7700359735865356, 'no_imp'), (69, 0.7687333644205184, 'no_imp'), (70, 0.7677102749603856, 'no_imp'), (71, 0.7593276117059616, 'no_imp'), (72, 0.7693472428113778, 'no_imp'), (73, 0.7690968364480748, 'no_imp'), (74, 0.7699614551857475, 'no_imp'), (75, 0.7685346130601759, 'no_imp'), (76, 0.7605261649695516, 'no_imp'), (77, 0.77010697625424, 'no_imp'), (78, 0.7684316147721976, 'no_imp'), (79, 0.7694778325904094, 'no_imp'), (80, 0.7703754288598758, 'no_imp'), (81, 0.7675828992160005, 'no_imp'), (82, 0.7680049731035287, 'no_imp'), (83, 0.7688839809640978, 'no_imp'), (84, 0.7697234496301768, 'no_imp'), (85, 0.7694260974314063, 'no_imp'), (86, 0.7695476273510853, 'no_imp'), (87, 0.7697719651881416, 'no_imp'), (88, 0.7693269778052594, 'no_imp'), (89, 0.7684015529164476, 'no_imp'), (90, 0.739848831715662, 'no_imp'), (91, 0.7703360644500894, 'no_imp'), (92, 0.7694891290260013, 'no_imp')]\n",
      "Timeout: optimization stopped after 63.64 minutes\n"
     ]
    },
    {
     "name": "stderr",
     "output_type": "stream",
     "text": [
      "[I 2025-04-09 12:54:57,794] Trial 93 finished with value: 0.769327279503697 and parameters: {'n_estimators': 892, 'learning_rate': 0.03411776568584447, 'num_leaves': 22, 'max_depth': 8, 'subsample': 0.9164742691689293, 'colsample_bytree': 0.6320645316857288, 'reg_alpha': 3.1237007492456484e-06, 'reg_lambda': 0.0025881458858007488}. Best is trial 39 with value: 0.7736317691972663.\n"
     ]
    },
    {
     "name": "stdout",
     "output_type": "stream",
     "text": [
      "Trial 93: No improvement (29/5). Score: 0.7693, Best: 0.7704\n",
      "EARLY STOPPING TRIGGERED after 5 trials without 0.0010 improvement\n",
      "Trial history: [(64, 0.7703859203952085, 'first'), (65, 0.7688770296539728, 'no_imp'), (66, 0.7690684088849677, 'no_imp'), (67, 0.7676164055550186, 'no_imp'), (68, 0.7700359735865356, 'no_imp'), (69, 0.7687333644205184, 'no_imp'), (70, 0.7677102749603856, 'no_imp'), (71, 0.7593276117059616, 'no_imp'), (72, 0.7693472428113778, 'no_imp'), (73, 0.7690968364480748, 'no_imp'), (74, 0.7699614551857475, 'no_imp'), (75, 0.7685346130601759, 'no_imp'), (76, 0.7605261649695516, 'no_imp'), (77, 0.77010697625424, 'no_imp'), (78, 0.7684316147721976, 'no_imp'), (79, 0.7694778325904094, 'no_imp'), (80, 0.7703754288598758, 'no_imp'), (81, 0.7675828992160005, 'no_imp'), (82, 0.7680049731035287, 'no_imp'), (83, 0.7688839809640978, 'no_imp'), (84, 0.7697234496301768, 'no_imp'), (85, 0.7694260974314063, 'no_imp'), (86, 0.7695476273510853, 'no_imp'), (87, 0.7697719651881416, 'no_imp'), (88, 0.7693269778052594, 'no_imp'), (89, 0.7684015529164476, 'no_imp'), (90, 0.739848831715662, 'no_imp'), (91, 0.7703360644500894, 'no_imp'), (92, 0.7694891290260013, 'no_imp'), (93, 0.769327279503697, 'no_imp')]\n",
      "Timeout: optimization stopped after 65.72 minutes\n"
     ]
    },
    {
     "name": "stderr",
     "output_type": "stream",
     "text": [
      "[I 2025-04-09 12:56:56,644] Trial 94 finished with value: 0.769476615777154 and parameters: {'n_estimators': 519, 'learning_rate': 0.0249519876773747, 'num_leaves': 68, 'max_depth': 10, 'subsample': 0.9036868926259515, 'colsample_bytree': 0.7065049707120625, 'reg_alpha': 4.6613924939716346e-05, 'reg_lambda': 0.031872908633525446}. Best is trial 39 with value: 0.7736317691972663.\n"
     ]
    },
    {
     "name": "stdout",
     "output_type": "stream",
     "text": [
      "Trial 94: No improvement (30/5). Score: 0.7695, Best: 0.7704\n",
      "EARLY STOPPING TRIGGERED after 5 trials without 0.0010 improvement\n",
      "Trial history: [(64, 0.7703859203952085, 'first'), (65, 0.7688770296539728, 'no_imp'), (66, 0.7690684088849677, 'no_imp'), (67, 0.7676164055550186, 'no_imp'), (68, 0.7700359735865356, 'no_imp'), (69, 0.7687333644205184, 'no_imp'), (70, 0.7677102749603856, 'no_imp'), (71, 0.7593276117059616, 'no_imp'), (72, 0.7693472428113778, 'no_imp'), (73, 0.7690968364480748, 'no_imp'), (74, 0.7699614551857475, 'no_imp'), (75, 0.7685346130601759, 'no_imp'), (76, 0.7605261649695516, 'no_imp'), (77, 0.77010697625424, 'no_imp'), (78, 0.7684316147721976, 'no_imp'), (79, 0.7694778325904094, 'no_imp'), (80, 0.7703754288598758, 'no_imp'), (81, 0.7675828992160005, 'no_imp'), (82, 0.7680049731035287, 'no_imp'), (83, 0.7688839809640978, 'no_imp'), (84, 0.7697234496301768, 'no_imp'), (85, 0.7694260974314063, 'no_imp'), (86, 0.7695476273510853, 'no_imp'), (87, 0.7697719651881416, 'no_imp'), (88, 0.7693269778052594, 'no_imp'), (89, 0.7684015529164476, 'no_imp'), (90, 0.739848831715662, 'no_imp'), (91, 0.7703360644500894, 'no_imp'), (92, 0.7694891290260013, 'no_imp'), (93, 0.769327279503697, 'no_imp'), (94, 0.769476615777154, 'no_imp')]\n",
      "Timeout: optimization stopped after 67.70 minutes\n"
     ]
    },
    {
     "name": "stderr",
     "output_type": "stream",
     "text": [
      "[I 2025-04-09 12:59:07,693] Trial 95 finished with value: 0.766101909457204 and parameters: {'n_estimators': 916, 'learning_rate': 0.045879557986655356, 'num_leaves': 28, 'max_depth': 9, 'subsample': 0.8784959824028004, 'colsample_bytree': 0.6140219683727334, 'reg_alpha': 1.8115995677972354e-05, 'reg_lambda': 0.54750918486156}. Best is trial 39 with value: 0.7736317691972663.\n"
     ]
    },
    {
     "name": "stdout",
     "output_type": "stream",
     "text": [
      "Trial 95: No improvement (31/5). Score: 0.7661, Best: 0.7704\n",
      "EARLY STOPPING TRIGGERED after 5 trials without 0.0010 improvement\n",
      "Trial history: [(64, 0.7703859203952085, 'first'), (65, 0.7688770296539728, 'no_imp'), (66, 0.7690684088849677, 'no_imp'), (67, 0.7676164055550186, 'no_imp'), (68, 0.7700359735865356, 'no_imp'), (69, 0.7687333644205184, 'no_imp'), (70, 0.7677102749603856, 'no_imp'), (71, 0.7593276117059616, 'no_imp'), (72, 0.7693472428113778, 'no_imp'), (73, 0.7690968364480748, 'no_imp'), (74, 0.7699614551857475, 'no_imp'), (75, 0.7685346130601759, 'no_imp'), (76, 0.7605261649695516, 'no_imp'), (77, 0.77010697625424, 'no_imp'), (78, 0.7684316147721976, 'no_imp'), (79, 0.7694778325904094, 'no_imp'), (80, 0.7703754288598758, 'no_imp'), (81, 0.7675828992160005, 'no_imp'), (82, 0.7680049731035287, 'no_imp'), (83, 0.7688839809640978, 'no_imp'), (84, 0.7697234496301768, 'no_imp'), (85, 0.7694260974314063, 'no_imp'), (86, 0.7695476273510853, 'no_imp'), (87, 0.7697719651881416, 'no_imp'), (88, 0.7693269778052594, 'no_imp'), (89, 0.7684015529164476, 'no_imp'), (90, 0.739848831715662, 'no_imp'), (91, 0.7703360644500894, 'no_imp'), (92, 0.7694891290260013, 'no_imp'), (93, 0.769327279503697, 'no_imp'), (94, 0.769476615777154, 'no_imp'), (95, 0.766101909457204, 'no_imp')]\n",
      "Timeout: optimization stopped after 69.88 minutes\n"
     ]
    },
    {
     "name": "stderr",
     "output_type": "stream",
     "text": [
      "[I 2025-04-09 13:01:07,702] Trial 96 finished with value: 0.7691224440770774 and parameters: {'n_estimators': 821, 'learning_rate': 0.0366639534790584, 'num_leaves': 24, 'max_depth': 7, 'subsample': 0.7167190298534952, 'colsample_bytree': 0.607030878150162, 'reg_alpha': 9.714804344382215e-06, 'reg_lambda': 0.010646476292516272}. Best is trial 39 with value: 0.7736317691972663.\n"
     ]
    },
    {
     "name": "stdout",
     "output_type": "stream",
     "text": [
      "Trial 96: No improvement (32/5). Score: 0.7691, Best: 0.7704\n",
      "EARLY STOPPING TRIGGERED after 5 trials without 0.0010 improvement\n",
      "Trial history: [(64, 0.7703859203952085, 'first'), (65, 0.7688770296539728, 'no_imp'), (66, 0.7690684088849677, 'no_imp'), (67, 0.7676164055550186, 'no_imp'), (68, 0.7700359735865356, 'no_imp'), (69, 0.7687333644205184, 'no_imp'), (70, 0.7677102749603856, 'no_imp'), (71, 0.7593276117059616, 'no_imp'), (72, 0.7693472428113778, 'no_imp'), (73, 0.7690968364480748, 'no_imp'), (74, 0.7699614551857475, 'no_imp'), (75, 0.7685346130601759, 'no_imp'), (76, 0.7605261649695516, 'no_imp'), (77, 0.77010697625424, 'no_imp'), (78, 0.7684316147721976, 'no_imp'), (79, 0.7694778325904094, 'no_imp'), (80, 0.7703754288598758, 'no_imp'), (81, 0.7675828992160005, 'no_imp'), (82, 0.7680049731035287, 'no_imp'), (83, 0.7688839809640978, 'no_imp'), (84, 0.7697234496301768, 'no_imp'), (85, 0.7694260974314063, 'no_imp'), (86, 0.7695476273510853, 'no_imp'), (87, 0.7697719651881416, 'no_imp'), (88, 0.7693269778052594, 'no_imp'), (89, 0.7684015529164476, 'no_imp'), (90, 0.739848831715662, 'no_imp'), (91, 0.7703360644500894, 'no_imp'), (92, 0.7694891290260013, 'no_imp'), (93, 0.769327279503697, 'no_imp'), (94, 0.769476615777154, 'no_imp'), (95, 0.766101909457204, 'no_imp'), (96, 0.7691224440770774, 'no_imp')]\n",
      "Timeout: optimization stopped after 71.88 minutes\n"
     ]
    },
    {
     "name": "stderr",
     "output_type": "stream",
     "text": [
      "[I 2025-04-09 13:03:18,245] Trial 97 finished with value: 0.7699553343812845 and parameters: {'n_estimators': 785, 'learning_rate': 0.017179905827051735, 'num_leaves': 21, 'max_depth': 8, 'subsample': 0.9460435789516181, 'colsample_bytree': 0.6872009705318128, 'reg_alpha': 6.998407506337073e-05, 'reg_lambda': 0.06626625605442342}. Best is trial 39 with value: 0.7736317691972663.\n"
     ]
    },
    {
     "name": "stdout",
     "output_type": "stream",
     "text": [
      "Trial 97: No improvement (33/5). Score: 0.7700, Best: 0.7704\n",
      "EARLY STOPPING TRIGGERED after 5 trials without 0.0010 improvement\n",
      "Trial history: [(64, 0.7703859203952085, 'first'), (65, 0.7688770296539728, 'no_imp'), (66, 0.7690684088849677, 'no_imp'), (67, 0.7676164055550186, 'no_imp'), (68, 0.7700359735865356, 'no_imp'), (69, 0.7687333644205184, 'no_imp'), (70, 0.7677102749603856, 'no_imp'), (71, 0.7593276117059616, 'no_imp'), (72, 0.7693472428113778, 'no_imp'), (73, 0.7690968364480748, 'no_imp'), (74, 0.7699614551857475, 'no_imp'), (75, 0.7685346130601759, 'no_imp'), (76, 0.7605261649695516, 'no_imp'), (77, 0.77010697625424, 'no_imp'), (78, 0.7684316147721976, 'no_imp'), (79, 0.7694778325904094, 'no_imp'), (80, 0.7703754288598758, 'no_imp'), (81, 0.7675828992160005, 'no_imp'), (82, 0.7680049731035287, 'no_imp'), (83, 0.7688839809640978, 'no_imp'), (84, 0.7697234496301768, 'no_imp'), (85, 0.7694260974314063, 'no_imp'), (86, 0.7695476273510853, 'no_imp'), (87, 0.7697719651881416, 'no_imp'), (88, 0.7693269778052594, 'no_imp'), (89, 0.7684015529164476, 'no_imp'), (90, 0.739848831715662, 'no_imp'), (91, 0.7703360644500894, 'no_imp'), (92, 0.7694891290260013, 'no_imp'), (93, 0.769327279503697, 'no_imp'), (94, 0.769476615777154, 'no_imp'), (95, 0.766101909457204, 'no_imp'), (96, 0.7691224440770774, 'no_imp'), (97, 0.7699553343812845, 'no_imp')]\n",
      "Timeout: optimization stopped after 74.06 minutes\n"
     ]
    },
    {
     "name": "stderr",
     "output_type": "stream",
     "text": [
      "[I 2025-04-09 13:04:11,239] Trial 98 finished with value: 0.7689298268805381 and parameters: {'n_estimators': 255, 'learning_rate': 0.029211757791499537, 'num_leaves': 31, 'max_depth': 9, 'subsample': 0.9362720437187952, 'colsample_bytree': 0.840770498620788, 'reg_alpha': 0.006657410546780798, 'reg_lambda': 0.1613828383404064}. Best is trial 39 with value: 0.7736317691972663.\n"
     ]
    },
    {
     "name": "stdout",
     "output_type": "stream",
     "text": [
      "Trial 98: No improvement (34/5). Score: 0.7689, Best: 0.7704\n",
      "EARLY STOPPING TRIGGERED after 5 trials without 0.0010 improvement\n",
      "Trial history: [(64, 0.7703859203952085, 'first'), (65, 0.7688770296539728, 'no_imp'), (66, 0.7690684088849677, 'no_imp'), (67, 0.7676164055550186, 'no_imp'), (68, 0.7700359735865356, 'no_imp'), (69, 0.7687333644205184, 'no_imp'), (70, 0.7677102749603856, 'no_imp'), (71, 0.7593276117059616, 'no_imp'), (72, 0.7693472428113778, 'no_imp'), (73, 0.7690968364480748, 'no_imp'), (74, 0.7699614551857475, 'no_imp'), (75, 0.7685346130601759, 'no_imp'), (76, 0.7605261649695516, 'no_imp'), (77, 0.77010697625424, 'no_imp'), (78, 0.7684316147721976, 'no_imp'), (79, 0.7694778325904094, 'no_imp'), (80, 0.7703754288598758, 'no_imp'), (81, 0.7675828992160005, 'no_imp'), (82, 0.7680049731035287, 'no_imp'), (83, 0.7688839809640978, 'no_imp'), (84, 0.7697234496301768, 'no_imp'), (85, 0.7694260974314063, 'no_imp'), (86, 0.7695476273510853, 'no_imp'), (87, 0.7697719651881416, 'no_imp'), (88, 0.7693269778052594, 'no_imp'), (89, 0.7684015529164476, 'no_imp'), (90, 0.739848831715662, 'no_imp'), (91, 0.7703360644500894, 'no_imp'), (92, 0.7694891290260013, 'no_imp'), (93, 0.769327279503697, 'no_imp'), (94, 0.769476615777154, 'no_imp'), (95, 0.766101909457204, 'no_imp'), (96, 0.7691224440770774, 'no_imp'), (97, 0.7699553343812845, 'no_imp'), (98, 0.7689298268805381, 'no_imp')]\n",
      "Timeout: optimization stopped after 74.94 minutes\n"
     ]
    },
    {
     "name": "stderr",
     "output_type": "stream",
     "text": [
      "[I 2025-04-09 13:06:31,569] Trial 99 finished with value: 0.7656105852021213 and parameters: {'n_estimators': 851, 'learning_rate': 0.040861835104488424, 'num_leaves': 41, 'max_depth': 10, 'subsample': 0.704586826186694, 'colsample_bytree': 0.6020807304593637, 'reg_alpha': 1.1023318090572112e-08, 'reg_lambda': 0.007065666679619758}. Best is trial 39 with value: 0.7736317691972663.\n"
     ]
    },
    {
     "name": "stdout",
     "output_type": "stream",
     "text": [
      "Trial 99: No improvement (35/5). Score: 0.7656, Best: 0.7704\n",
      "EARLY STOPPING TRIGGERED after 5 trials without 0.0010 improvement\n",
      "Trial history: [(64, 0.7703859203952085, 'first'), (65, 0.7688770296539728, 'no_imp'), (66, 0.7690684088849677, 'no_imp'), (67, 0.7676164055550186, 'no_imp'), (68, 0.7700359735865356, 'no_imp'), (69, 0.7687333644205184, 'no_imp'), (70, 0.7677102749603856, 'no_imp'), (71, 0.7593276117059616, 'no_imp'), (72, 0.7693472428113778, 'no_imp'), (73, 0.7690968364480748, 'no_imp'), (74, 0.7699614551857475, 'no_imp'), (75, 0.7685346130601759, 'no_imp'), (76, 0.7605261649695516, 'no_imp'), (77, 0.77010697625424, 'no_imp'), (78, 0.7684316147721976, 'no_imp'), (79, 0.7694778325904094, 'no_imp'), (80, 0.7703754288598758, 'no_imp'), (81, 0.7675828992160005, 'no_imp'), (82, 0.7680049731035287, 'no_imp'), (83, 0.7688839809640978, 'no_imp'), (84, 0.7697234496301768, 'no_imp'), (85, 0.7694260974314063, 'no_imp'), (86, 0.7695476273510853, 'no_imp'), (87, 0.7697719651881416, 'no_imp'), (88, 0.7693269778052594, 'no_imp'), (89, 0.7684015529164476, 'no_imp'), (90, 0.739848831715662, 'no_imp'), (91, 0.7703360644500894, 'no_imp'), (92, 0.7694891290260013, 'no_imp'), (93, 0.769327279503697, 'no_imp'), (94, 0.769476615777154, 'no_imp'), (95, 0.766101909457204, 'no_imp'), (96, 0.7691224440770774, 'no_imp'), (97, 0.7699553343812845, 'no_imp'), (98, 0.7689298268805381, 'no_imp'), (99, 0.7656105852021213, 'no_imp')]\n",
      "Timeout: optimization stopped after 77.28 minutes\n"
     ]
    },
    {
     "name": "stderr",
     "output_type": "stream",
     "text": [
      "[I 2025-04-09 13:08:55,738] Trial 100 finished with value: 0.7168370928855122 and parameters: {'n_estimators': 942, 'learning_rate': 0.20101110034513178, 'num_leaves': 55, 'max_depth': 11, 'subsample': 0.8887243062165581, 'colsample_bytree': 0.6195247311195425, 'reg_alpha': 1.5420239342727055e-06, 'reg_lambda': 0.022138889066674685}. Best is trial 39 with value: 0.7736317691972663.\n"
     ]
    },
    {
     "name": "stdout",
     "output_type": "stream",
     "text": [
      "Trial 100: No improvement (36/5). Score: 0.7168, Best: 0.7704\n",
      "EARLY STOPPING TRIGGERED after 5 trials without 0.0010 improvement\n",
      "Trial history: [(64, 0.7703859203952085, 'first'), (65, 0.7688770296539728, 'no_imp'), (66, 0.7690684088849677, 'no_imp'), (67, 0.7676164055550186, 'no_imp'), (68, 0.7700359735865356, 'no_imp'), (69, 0.7687333644205184, 'no_imp'), (70, 0.7677102749603856, 'no_imp'), (71, 0.7593276117059616, 'no_imp'), (72, 0.7693472428113778, 'no_imp'), (73, 0.7690968364480748, 'no_imp'), (74, 0.7699614551857475, 'no_imp'), (75, 0.7685346130601759, 'no_imp'), (76, 0.7605261649695516, 'no_imp'), (77, 0.77010697625424, 'no_imp'), (78, 0.7684316147721976, 'no_imp'), (79, 0.7694778325904094, 'no_imp'), (80, 0.7703754288598758, 'no_imp'), (81, 0.7675828992160005, 'no_imp'), (82, 0.7680049731035287, 'no_imp'), (83, 0.7688839809640978, 'no_imp'), (84, 0.7697234496301768, 'no_imp'), (85, 0.7694260974314063, 'no_imp'), (86, 0.7695476273510853, 'no_imp'), (87, 0.7697719651881416, 'no_imp'), (88, 0.7693269778052594, 'no_imp'), (89, 0.7684015529164476, 'no_imp'), (90, 0.739848831715662, 'no_imp'), (91, 0.7703360644500894, 'no_imp'), (92, 0.7694891290260013, 'no_imp'), (93, 0.769327279503697, 'no_imp'), (94, 0.769476615777154, 'no_imp'), (95, 0.766101909457204, 'no_imp'), (96, 0.7691224440770774, 'no_imp'), (97, 0.7699553343812845, 'no_imp'), (98, 0.7689298268805381, 'no_imp'), (99, 0.7656105852021213, 'no_imp'), (100, 0.7168370928855122, 'no_imp')]\n",
      "Timeout: optimization stopped after 79.69 minutes\n"
     ]
    },
    {
     "name": "stderr",
     "output_type": "stream",
     "text": [
      "[I 2025-04-09 13:10:53,229] Trial 101 finished with value: 0.769743368406723 and parameters: {'n_estimators': 711, 'learning_rate': 0.027126526115980897, 'num_leaves': 27, 'max_depth': 9, 'subsample': 0.904255853201002, 'colsample_bytree': 0.6429978766217851, 'reg_alpha': 4.810149599206305e-06, 'reg_lambda': 0.00036119478120388095}. Best is trial 39 with value: 0.7736317691972663.\n"
     ]
    },
    {
     "name": "stdout",
     "output_type": "stream",
     "text": [
      "Trial 101: No improvement (37/5). Score: 0.7697, Best: 0.7704\n",
      "EARLY STOPPING TRIGGERED after 5 trials without 0.0010 improvement\n",
      "Trial history: [(64, 0.7703859203952085, 'first'), (65, 0.7688770296539728, 'no_imp'), (66, 0.7690684088849677, 'no_imp'), (67, 0.7676164055550186, 'no_imp'), (68, 0.7700359735865356, 'no_imp'), (69, 0.7687333644205184, 'no_imp'), (70, 0.7677102749603856, 'no_imp'), (71, 0.7593276117059616, 'no_imp'), (72, 0.7693472428113778, 'no_imp'), (73, 0.7690968364480748, 'no_imp'), (74, 0.7699614551857475, 'no_imp'), (75, 0.7685346130601759, 'no_imp'), (76, 0.7605261649695516, 'no_imp'), (77, 0.77010697625424, 'no_imp'), (78, 0.7684316147721976, 'no_imp'), (79, 0.7694778325904094, 'no_imp'), (80, 0.7703754288598758, 'no_imp'), (81, 0.7675828992160005, 'no_imp'), (82, 0.7680049731035287, 'no_imp'), (83, 0.7688839809640978, 'no_imp'), (84, 0.7697234496301768, 'no_imp'), (85, 0.7694260974314063, 'no_imp'), (86, 0.7695476273510853, 'no_imp'), (87, 0.7697719651881416, 'no_imp'), (88, 0.7693269778052594, 'no_imp'), (89, 0.7684015529164476, 'no_imp'), (90, 0.739848831715662, 'no_imp'), (91, 0.7703360644500894, 'no_imp'), (92, 0.7694891290260013, 'no_imp'), (93, 0.769327279503697, 'no_imp'), (94, 0.769476615777154, 'no_imp'), (95, 0.766101909457204, 'no_imp'), (96, 0.7691224440770774, 'no_imp'), (97, 0.7699553343812845, 'no_imp'), (98, 0.7689298268805381, 'no_imp'), (99, 0.7656105852021213, 'no_imp'), (100, 0.7168370928855122, 'no_imp'), (101, 0.769743368406723, 'no_imp')]\n",
      "Timeout: optimization stopped after 81.64 minutes\n"
     ]
    },
    {
     "name": "stderr",
     "output_type": "stream",
     "text": [
      "[I 2025-04-09 13:13:06,709] Trial 102 finished with value: 0.7695061744310818 and parameters: {'n_estimators': 976, 'learning_rate': 0.03176320273910375, 'num_leaves': 20, 'max_depth': 6, 'subsample': 0.9812282277146466, 'colsample_bytree': 0.7962806724227969, 'reg_alpha': 0.04203627865414209, 'reg_lambda': 1.7280094784647412e-07}. Best is trial 39 with value: 0.7736317691972663.\n"
     ]
    },
    {
     "name": "stdout",
     "output_type": "stream",
     "text": [
      "Trial 102: No improvement (38/5). Score: 0.7695, Best: 0.7704\n",
      "EARLY STOPPING TRIGGERED after 5 trials without 0.0010 improvement\n",
      "Trial history: [(64, 0.7703859203952085, 'first'), (65, 0.7688770296539728, 'no_imp'), (66, 0.7690684088849677, 'no_imp'), (67, 0.7676164055550186, 'no_imp'), (68, 0.7700359735865356, 'no_imp'), (69, 0.7687333644205184, 'no_imp'), (70, 0.7677102749603856, 'no_imp'), (71, 0.7593276117059616, 'no_imp'), (72, 0.7693472428113778, 'no_imp'), (73, 0.7690968364480748, 'no_imp'), (74, 0.7699614551857475, 'no_imp'), (75, 0.7685346130601759, 'no_imp'), (76, 0.7605261649695516, 'no_imp'), (77, 0.77010697625424, 'no_imp'), (78, 0.7684316147721976, 'no_imp'), (79, 0.7694778325904094, 'no_imp'), (80, 0.7703754288598758, 'no_imp'), (81, 0.7675828992160005, 'no_imp'), (82, 0.7680049731035287, 'no_imp'), (83, 0.7688839809640978, 'no_imp'), (84, 0.7697234496301768, 'no_imp'), (85, 0.7694260974314063, 'no_imp'), (86, 0.7695476273510853, 'no_imp'), (87, 0.7697719651881416, 'no_imp'), (88, 0.7693269778052594, 'no_imp'), (89, 0.7684015529164476, 'no_imp'), (90, 0.739848831715662, 'no_imp'), (91, 0.7703360644500894, 'no_imp'), (92, 0.7694891290260013, 'no_imp'), (93, 0.769327279503697, 'no_imp'), (94, 0.769476615777154, 'no_imp'), (95, 0.766101909457204, 'no_imp'), (96, 0.7691224440770774, 'no_imp'), (97, 0.7699553343812845, 'no_imp'), (98, 0.7689298268805381, 'no_imp'), (99, 0.7656105852021213, 'no_imp'), (100, 0.7168370928855122, 'no_imp'), (101, 0.769743368406723, 'no_imp'), (102, 0.7695061744310818, 'no_imp')]\n",
      "Timeout: optimization stopped after 83.87 minutes\n"
     ]
    },
    {
     "name": "stderr",
     "output_type": "stream",
     "text": [
      "[I 2025-04-09 13:15:20,758] Trial 103 finished with value: 0.7655556315553589 and parameters: {'n_estimators': 999, 'learning_rate': 0.05150558578581174, 'num_leaves': 24, 'max_depth': 5, 'subsample': 0.9673005996587623, 'colsample_bytree': 0.6984519815503958, 'reg_alpha': 0.027048236132467277, 'reg_lambda': 2.7137422937794566e-05}. Best is trial 39 with value: 0.7736317691972663.\n"
     ]
    },
    {
     "name": "stdout",
     "output_type": "stream",
     "text": [
      "Trial 103: No improvement (39/5). Score: 0.7656, Best: 0.7704\n",
      "EARLY STOPPING TRIGGERED after 5 trials without 0.0010 improvement\n",
      "Trial history: [(64, 0.7703859203952085, 'first'), (65, 0.7688770296539728, 'no_imp'), (66, 0.7690684088849677, 'no_imp'), (67, 0.7676164055550186, 'no_imp'), (68, 0.7700359735865356, 'no_imp'), (69, 0.7687333644205184, 'no_imp'), (70, 0.7677102749603856, 'no_imp'), (71, 0.7593276117059616, 'no_imp'), (72, 0.7693472428113778, 'no_imp'), (73, 0.7690968364480748, 'no_imp'), (74, 0.7699614551857475, 'no_imp'), (75, 0.7685346130601759, 'no_imp'), (76, 0.7605261649695516, 'no_imp'), (77, 0.77010697625424, 'no_imp'), (78, 0.7684316147721976, 'no_imp'), (79, 0.7694778325904094, 'no_imp'), (80, 0.7703754288598758, 'no_imp'), (81, 0.7675828992160005, 'no_imp'), (82, 0.7680049731035287, 'no_imp'), (83, 0.7688839809640978, 'no_imp'), (84, 0.7697234496301768, 'no_imp'), (85, 0.7694260974314063, 'no_imp'), (86, 0.7695476273510853, 'no_imp'), (87, 0.7697719651881416, 'no_imp'), (88, 0.7693269778052594, 'no_imp'), (89, 0.7684015529164476, 'no_imp'), (90, 0.739848831715662, 'no_imp'), (91, 0.7703360644500894, 'no_imp'), (92, 0.7694891290260013, 'no_imp'), (93, 0.769327279503697, 'no_imp'), (94, 0.769476615777154, 'no_imp'), (95, 0.766101909457204, 'no_imp'), (96, 0.7691224440770774, 'no_imp'), (97, 0.7699553343812845, 'no_imp'), (98, 0.7689298268805381, 'no_imp'), (99, 0.7656105852021213, 'no_imp'), (100, 0.7168370928855122, 'no_imp'), (101, 0.769743368406723, 'no_imp'), (102, 0.7695061744310818, 'no_imp'), (103, 0.7655556315553589, 'no_imp')]\n",
      "Timeout: optimization stopped after 86.10 minutes\n",
      "Optuna optimization completed in 86.10 minutes\n",
      "\n",
      "Best Params (LightGBM): {'n_estimators': 898, 'learning_rate': 0.030632614941458202, 'num_leaves': 40, 'max_depth': 5, 'subsample': 0.7216041635594714, 'colsample_bytree': 0.6955970592094374, 'reg_alpha': 1.6506547402542452e-07, 'reg_lambda': 0.053854469685982675}\n",
      "Best CV ROC AUC score: 0.7736\n",
      "\n",
      "Fitting best LightGBM pipeline on full training data...\n",
      "[LightGBM] [Info] Number of positive: 19860, number of negative: 226145\n",
      "[LightGBM] [Info] This is the GPU trainer!!\n",
      "[LightGBM] [Info] Total Bins 18944\n",
      "[LightGBM] [Info] Number of data points in the train set: 246005, number of used features: 112\n",
      "[LightGBM] [Info] Using GPU Device: Intel(R) UHD Graphics 770, Vendor: Intel(R) Corporation\n",
      "[LightGBM] [Info] Compiling OpenCL Kernel with 256 bins...\n",
      "[LightGBM] [Info] GPU programs have been built\n",
      "[LightGBM] [Info] Size of histogram bin entry: 8\n",
      "[LightGBM] [Info] 108 dense feature groups (25.34 MB) transferred to GPU in 0.009516 secs. 1 sparse feature groups\n",
      "[LightGBM] [Info] [binary:BoostFromScore]: pavg=0.080730 -> initscore=-2.432469\n",
      "[LightGBM] [Info] Start training from score -2.432469\n",
      "[LightGBM] [Warning] No further splits with positive gain, best gain: -inf\n",
      "[LightGBM] [Warning] No further splits with positive gain, best gain: -inf\n",
      "[LightGBM] [Warning] No further splits with positive gain, best gain: -inf\n",
      "[LightGBM] [Warning] No further splits with positive gain, best gain: -inf\n",
      "[LightGBM] [Warning] No further splits with positive gain, best gain: -inf\n",
      "[LightGBM] [Warning] No further splits with positive gain, best gain: -inf\n",
      "[LightGBM] [Warning] No further splits with positive gain, best gain: -inf\n",
      "[LightGBM] [Warning] No further splits with positive gain, best gain: -inf\n",
      "[LightGBM] [Warning] No further splits with positive gain, best gain: -inf\n",
      "[LightGBM] [Warning] No further splits with positive gain, best gain: -inf\n",
      "[LightGBM] [Warning] No further splits with positive gain, best gain: -inf\n",
      "[LightGBM] [Warning] No further splits with positive gain, best gain: -inf\n",
      "[LightGBM] [Warning] No further splits with positive gain, best gain: -inf\n",
      "[LightGBM] [Warning] No further splits with positive gain, best gain: -inf\n",
      "[LightGBM] [Warning] No further splits with positive gain, best gain: -inf\n",
      "[LightGBM] [Warning] No further splits with positive gain, best gain: -inf\n",
      "[LightGBM] [Warning] No further splits with positive gain, best gain: -inf\n",
      "[LightGBM] [Warning] No further splits with positive gain, best gain: -inf\n",
      "[LightGBM] [Warning] No further splits with positive gain, best gain: -inf\n",
      "[LightGBM] [Warning] No further splits with positive gain, best gain: -inf\n",
      "[LightGBM] [Warning] No further splits with positive gain, best gain: -inf\n",
      "[LightGBM] [Warning] No further splits with positive gain, best gain: -inf\n",
      "[LightGBM] [Warning] No further splits with positive gain, best gain: -inf\n",
      "[LightGBM] [Warning] No further splits with positive gain, best gain: -inf\n",
      "[LightGBM] [Warning] No further splits with positive gain, best gain: -inf\n",
      "[LightGBM] [Warning] No further splits with positive gain, best gain: -inf\n",
      "[LightGBM] [Warning] No further splits with positive gain, best gain: -inf\n",
      "[LightGBM] [Warning] No further splits with positive gain, best gain: -inf\n",
      "[LightGBM] [Warning] No further splits with positive gain, best gain: -inf\n",
      "[LightGBM] [Warning] No further splits with positive gain, best gain: -inf\n",
      "[LightGBM] [Warning] No further splits with positive gain, best gain: -inf\n",
      "[LightGBM] [Warning] No further splits with positive gain, best gain: -inf\n",
      "[LightGBM] [Warning] No further splits with positive gain, best gain: -inf\n",
      "[LightGBM] [Warning] No further splits with positive gain, best gain: -inf\n",
      "[LightGBM] [Warning] No further splits with positive gain, best gain: -inf\n",
      "[LightGBM] [Warning] No further splits with positive gain, best gain: -inf\n",
      "[LightGBM] [Warning] No further splits with positive gain, best gain: -inf\n",
      "[LightGBM] [Warning] No further splits with positive gain, best gain: -inf\n",
      "[LightGBM] [Warning] No further splits with positive gain, best gain: -inf\n",
      "[LightGBM] [Warning] No further splits with positive gain, best gain: -inf\n",
      "[LightGBM] [Warning] No further splits with positive gain, best gain: -inf\n",
      "[LightGBM] [Warning] No further splits with positive gain, best gain: -inf\n",
      "[LightGBM] [Warning] No further splits with positive gain, best gain: -inf\n",
      "[LightGBM] [Warning] No further splits with positive gain, best gain: -inf\n",
      "[LightGBM] [Warning] No further splits with positive gain, best gain: -inf\n",
      "[LightGBM] [Warning] No further splits with positive gain, best gain: -inf\n",
      "[LightGBM] [Warning] No further splits with positive gain, best gain: -inf\n",
      "[LightGBM] [Warning] No further splits with positive gain, best gain: -inf\n",
      "[LightGBM] [Warning] No further splits with positive gain, best gain: -inf\n",
      "[LightGBM] [Warning] No further splits with positive gain, best gain: -inf\n",
      "[LightGBM] [Warning] No further splits with positive gain, best gain: -inf\n",
      "[LightGBM] [Warning] No further splits with positive gain, best gain: -inf\n",
      "[LightGBM] [Warning] No further splits with positive gain, best gain: -inf\n",
      "[LightGBM] [Warning] No further splits with positive gain, best gain: -inf\n",
      "[LightGBM] [Warning] No further splits with positive gain, best gain: -inf\n",
      "[LightGBM] [Warning] No further splits with positive gain, best gain: -inf\n",
      "[LightGBM] [Warning] No further splits with positive gain, best gain: -inf\n",
      "[LightGBM] [Warning] No further splits with positive gain, best gain: -inf\n",
      "[LightGBM] [Warning] No further splits with positive gain, best gain: -inf\n",
      "[LightGBM] [Warning] No further splits with positive gain, best gain: -inf\n",
      "[LightGBM] [Warning] No further splits with positive gain, best gain: -inf\n",
      "[LightGBM] [Warning] No further splits with positive gain, best gain: -inf\n",
      "[LightGBM] [Warning] No further splits with positive gain, best gain: -inf\n",
      "[LightGBM] [Warning] No further splits with positive gain, best gain: -inf\n",
      "[LightGBM] [Warning] No further splits with positive gain, best gain: -inf\n",
      "[LightGBM] [Warning] No further splits with positive gain, best gain: -inf\n",
      "[LightGBM] [Warning] No further splits with positive gain, best gain: -inf\n",
      "[LightGBM] [Warning] No further splits with positive gain, best gain: -inf\n",
      "[LightGBM] [Warning] No further splits with positive gain, best gain: -inf\n",
      "[LightGBM] [Warning] No further splits with positive gain, best gain: -inf\n",
      "[LightGBM] [Warning] No further splits with positive gain, best gain: -inf\n",
      "[LightGBM] [Warning] No further splits with positive gain, best gain: -inf\n",
      "[LightGBM] [Warning] No further splits with positive gain, best gain: -inf\n",
      "[LightGBM] [Warning] No further splits with positive gain, best gain: -inf\n",
      "[LightGBM] [Warning] No further splits with positive gain, best gain: -inf\n",
      "[LightGBM] [Warning] No further splits with positive gain, best gain: -inf\n",
      "[LightGBM] [Warning] No further splits with positive gain, best gain: -inf\n",
      "[LightGBM] [Warning] No further splits with positive gain, best gain: -inf\n",
      "[LightGBM] [Warning] No further splits with positive gain, best gain: -inf\n",
      "[LightGBM] [Warning] No further splits with positive gain, best gain: -inf\n",
      "[LightGBM] [Warning] No further splits with positive gain, best gain: -inf\n",
      "[LightGBM] [Warning] No further splits with positive gain, best gain: -inf\n",
      "[LightGBM] [Warning] No further splits with positive gain, best gain: -inf\n",
      "[LightGBM] [Warning] No further splits with positive gain, best gain: -inf\n",
      "[LightGBM] [Warning] No further splits with positive gain, best gain: -inf\n",
      "[LightGBM] [Warning] No further splits with positive gain, best gain: -inf\n",
      "[LightGBM] [Warning] No further splits with positive gain, best gain: -inf\n",
      "[LightGBM] [Warning] No further splits with positive gain, best gain: -inf\n",
      "[LightGBM] [Warning] No further splits with positive gain, best gain: -inf\n",
      "[LightGBM] [Warning] No further splits with positive gain, best gain: -inf\n",
      "[LightGBM] [Warning] No further splits with positive gain, best gain: -inf\n",
      "[LightGBM] [Warning] No further splits with positive gain, best gain: -inf\n",
      "[LightGBM] [Warning] No further splits with positive gain, best gain: -inf\n",
      "[LightGBM] [Warning] No further splits with positive gain, best gain: -inf\n",
      "[LightGBM] [Warning] No further splits with positive gain, best gain: -inf\n",
      "[LightGBM] [Warning] No further splits with positive gain, best gain: -inf\n",
      "[LightGBM] [Warning] No further splits with positive gain, best gain: -inf\n",
      "[LightGBM] [Warning] No further splits with positive gain, best gain: -inf\n",
      "[LightGBM] [Warning] No further splits with positive gain, best gain: -inf\n",
      "[LightGBM] [Warning] No further splits with positive gain, best gain: -inf\n",
      "[LightGBM] [Warning] No further splits with positive gain, best gain: -inf\n",
      "[LightGBM] [Warning] No further splits with positive gain, best gain: -inf\n",
      "[LightGBM] [Warning] No further splits with positive gain, best gain: -inf\n",
      "[LightGBM] [Warning] No further splits with positive gain, best gain: -inf\n",
      "[LightGBM] [Warning] No further splits with positive gain, best gain: -inf\n",
      "[LightGBM] [Warning] No further splits with positive gain, best gain: -inf\n",
      "[LightGBM] [Warning] No further splits with positive gain, best gain: -inf\n",
      "[LightGBM] [Warning] No further splits with positive gain, best gain: -inf\n",
      "[LightGBM] [Warning] No further splits with positive gain, best gain: -inf\n",
      "[LightGBM] [Warning] No further splits with positive gain, best gain: -inf\n",
      "[LightGBM] [Warning] No further splits with positive gain, best gain: -inf\n",
      "[LightGBM] [Warning] No further splits with positive gain, best gain: -inf\n",
      "[LightGBM] [Warning] No further splits with positive gain, best gain: -inf\n",
      "[LightGBM] [Warning] No further splits with positive gain, best gain: -inf\n",
      "[LightGBM] [Warning] No further splits with positive gain, best gain: -inf\n",
      "[LightGBM] [Warning] No further splits with positive gain, best gain: -inf\n",
      "[LightGBM] [Warning] No further splits with positive gain, best gain: -inf\n",
      "[LightGBM] [Warning] No further splits with positive gain, best gain: -inf\n",
      "[LightGBM] [Warning] No further splits with positive gain, best gain: -inf\n",
      "[LightGBM] [Warning] No further splits with positive gain, best gain: -inf\n",
      "[LightGBM] [Warning] No further splits with positive gain, best gain: -inf\n",
      "[LightGBM] [Warning] No further splits with positive gain, best gain: -inf\n",
      "[LightGBM] [Warning] No further splits with positive gain, best gain: -inf\n",
      "[LightGBM] [Warning] No further splits with positive gain, best gain: -inf\n",
      "[LightGBM] [Warning] No further splits with positive gain, best gain: -inf\n",
      "[LightGBM] [Warning] No further splits with positive gain, best gain: -inf\n",
      "[LightGBM] [Warning] No further splits with positive gain, best gain: -inf\n",
      "[LightGBM] [Warning] No further splits with positive gain, best gain: -inf\n",
      "[LightGBM] [Warning] No further splits with positive gain, best gain: -inf\n",
      "[LightGBM] [Warning] No further splits with positive gain, best gain: -inf\n",
      "[LightGBM] [Warning] No further splits with positive gain, best gain: -inf\n",
      "[LightGBM] [Warning] No further splits with positive gain, best gain: -inf\n",
      "[LightGBM] [Warning] No further splits with positive gain, best gain: -inf\n",
      "[LightGBM] [Warning] No further splits with positive gain, best gain: -inf\n",
      "[LightGBM] [Warning] No further splits with positive gain, best gain: -inf\n",
      "[LightGBM] [Warning] No further splits with positive gain, best gain: -inf\n",
      "[LightGBM] [Warning] No further splits with positive gain, best gain: -inf\n",
      "[LightGBM] [Warning] No further splits with positive gain, best gain: -inf\n",
      "[LightGBM] [Warning] No further splits with positive gain, best gain: -inf\n",
      "[LightGBM] [Warning] No further splits with positive gain, best gain: -inf\n",
      "[LightGBM] [Warning] No further splits with positive gain, best gain: -inf\n",
      "[LightGBM] [Warning] No further splits with positive gain, best gain: -inf\n",
      "[LightGBM] [Warning] No further splits with positive gain, best gain: -inf\n",
      "[LightGBM] [Warning] No further splits with positive gain, best gain: -inf\n",
      "[LightGBM] [Warning] No further splits with positive gain, best gain: -inf\n",
      "[LightGBM] [Warning] No further splits with positive gain, best gain: -inf\n",
      "[LightGBM] [Warning] No further splits with positive gain, best gain: -inf\n",
      "[LightGBM] [Warning] No further splits with positive gain, best gain: -inf\n",
      "[LightGBM] [Warning] No further splits with positive gain, best gain: -inf\n",
      "[LightGBM] [Warning] No further splits with positive gain, best gain: -inf\n",
      "[LightGBM] [Warning] No further splits with positive gain, best gain: -inf\n",
      "[LightGBM] [Warning] No further splits with positive gain, best gain: -inf\n",
      "[LightGBM] [Warning] No further splits with positive gain, best gain: -inf\n",
      "[LightGBM] [Warning] No further splits with positive gain, best gain: -inf\n",
      "[LightGBM] [Warning] No further splits with positive gain, best gain: -inf\n",
      "[LightGBM] [Warning] No further splits with positive gain, best gain: -inf\n",
      "[LightGBM] [Warning] No further splits with positive gain, best gain: -inf\n",
      "[LightGBM] [Warning] No further splits with positive gain, best gain: -inf\n",
      "[LightGBM] [Warning] No further splits with positive gain, best gain: -inf\n",
      "[LightGBM] [Warning] No further splits with positive gain, best gain: -inf\n",
      "[LightGBM] [Warning] No further splits with positive gain, best gain: -inf\n",
      "[LightGBM] [Warning] No further splits with positive gain, best gain: -inf\n",
      "[LightGBM] [Warning] No further splits with positive gain, best gain: -inf\n",
      "[LightGBM] [Warning] No further splits with positive gain, best gain: -inf\n",
      "[LightGBM] [Warning] No further splits with positive gain, best gain: -inf\n",
      "[LightGBM] [Warning] No further splits with positive gain, best gain: -inf\n",
      "[LightGBM] [Warning] No further splits with positive gain, best gain: -inf\n",
      "[LightGBM] [Warning] No further splits with positive gain, best gain: -inf\n",
      "[LightGBM] [Warning] No further splits with positive gain, best gain: -inf\n",
      "[LightGBM] [Warning] No further splits with positive gain, best gain: -inf\n",
      "[LightGBM] [Warning] No further splits with positive gain, best gain: -inf\n",
      "[LightGBM] [Warning] No further splits with positive gain, best gain: -inf\n",
      "[LightGBM] [Warning] No further splits with positive gain, best gain: -inf\n",
      "[LightGBM] [Warning] No further splits with positive gain, best gain: -inf\n",
      "[LightGBM] [Warning] No further splits with positive gain, best gain: -inf\n",
      "[LightGBM] [Warning] No further splits with positive gain, best gain: -inf\n",
      "[LightGBM] [Warning] No further splits with positive gain, best gain: -inf\n",
      "[LightGBM] [Warning] No further splits with positive gain, best gain: -inf\n",
      "[LightGBM] [Warning] No further splits with positive gain, best gain: -inf\n",
      "[LightGBM] [Warning] No further splits with positive gain, best gain: -inf\n",
      "[LightGBM] [Warning] No further splits with positive gain, best gain: -inf\n",
      "[LightGBM] [Warning] No further splits with positive gain, best gain: -inf\n",
      "[LightGBM] [Warning] No further splits with positive gain, best gain: -inf\n",
      "[LightGBM] [Warning] No further splits with positive gain, best gain: -inf\n",
      "[LightGBM] [Warning] No further splits with positive gain, best gain: -inf\n",
      "[LightGBM] [Warning] No further splits with positive gain, best gain: -inf\n",
      "[LightGBM] [Warning] No further splits with positive gain, best gain: -inf\n",
      "[LightGBM] [Warning] No further splits with positive gain, best gain: -inf\n",
      "[LightGBM] [Warning] No further splits with positive gain, best gain: -inf\n",
      "[LightGBM] [Warning] No further splits with positive gain, best gain: -inf\n",
      "[LightGBM] [Warning] No further splits with positive gain, best gain: -inf\n",
      "[LightGBM] [Warning] No further splits with positive gain, best gain: -inf\n",
      "[LightGBM] [Warning] No further splits with positive gain, best gain: -inf\n",
      "[LightGBM] [Warning] No further splits with positive gain, best gain: -inf\n",
      "[LightGBM] [Warning] No further splits with positive gain, best gain: -inf\n",
      "[LightGBM] [Warning] No further splits with positive gain, best gain: -inf\n",
      "[LightGBM] [Warning] No further splits with positive gain, best gain: -inf\n",
      "[LightGBM] [Warning] No further splits with positive gain, best gain: -inf\n",
      "[LightGBM] [Warning] No further splits with positive gain, best gain: -inf\n",
      "[LightGBM] [Warning] No further splits with positive gain, best gain: -inf\n",
      "[LightGBM] [Warning] No further splits with positive gain, best gain: -inf\n",
      "[LightGBM] [Warning] No further splits with positive gain, best gain: -inf\n",
      "[LightGBM] [Warning] No further splits with positive gain, best gain: -inf\n",
      "[LightGBM] [Warning] No further splits with positive gain, best gain: -inf\n",
      "[LightGBM] [Warning] No further splits with positive gain, best gain: -inf\n",
      "[LightGBM] [Warning] No further splits with positive gain, best gain: -inf\n",
      "[LightGBM] [Warning] No further splits with positive gain, best gain: -inf\n",
      "[LightGBM] [Warning] No further splits with positive gain, best gain: -inf\n",
      "[LightGBM] [Warning] No further splits with positive gain, best gain: -inf\n",
      "[LightGBM] [Warning] No further splits with positive gain, best gain: -inf\n",
      "[LightGBM] [Warning] No further splits with positive gain, best gain: -inf\n",
      "[LightGBM] [Warning] No further splits with positive gain, best gain: -inf\n",
      "[LightGBM] [Warning] No further splits with positive gain, best gain: -inf\n",
      "[LightGBM] [Warning] No further splits with positive gain, best gain: -inf\n",
      "[LightGBM] [Warning] No further splits with positive gain, best gain: -inf\n",
      "[LightGBM] [Warning] No further splits with positive gain, best gain: -inf\n",
      "[LightGBM] [Warning] No further splits with positive gain, best gain: -inf\n",
      "[LightGBM] [Warning] No further splits with positive gain, best gain: -inf\n",
      "[LightGBM] [Warning] No further splits with positive gain, best gain: -inf\n",
      "[LightGBM] [Warning] No further splits with positive gain, best gain: -inf\n",
      "[LightGBM] [Warning] No further splits with positive gain, best gain: -inf\n",
      "[LightGBM] [Warning] No further splits with positive gain, best gain: -inf\n",
      "[LightGBM] [Warning] No further splits with positive gain, best gain: -inf\n",
      "[LightGBM] [Warning] No further splits with positive gain, best gain: -inf\n",
      "[LightGBM] [Warning] No further splits with positive gain, best gain: -inf\n",
      "[LightGBM] [Warning] No further splits with positive gain, best gain: -inf\n",
      "[LightGBM] [Warning] No further splits with positive gain, best gain: -inf\n",
      "[LightGBM] [Warning] No further splits with positive gain, best gain: -inf\n",
      "[LightGBM] [Warning] No further splits with positive gain, best gain: -inf\n",
      "[LightGBM] [Warning] No further splits with positive gain, best gain: -inf\n",
      "[LightGBM] [Warning] No further splits with positive gain, best gain: -inf\n",
      "[LightGBM] [Warning] No further splits with positive gain, best gain: -inf\n",
      "[LightGBM] [Warning] No further splits with positive gain, best gain: -inf\n",
      "[LightGBM] [Warning] No further splits with positive gain, best gain: -inf\n",
      "[LightGBM] [Warning] No further splits with positive gain, best gain: -inf\n",
      "[LightGBM] [Warning] No further splits with positive gain, best gain: -inf\n",
      "[LightGBM] [Warning] No further splits with positive gain, best gain: -inf\n",
      "[LightGBM] [Warning] No further splits with positive gain, best gain: -inf\n",
      "[LightGBM] [Warning] No further splits with positive gain, best gain: -inf\n",
      "[LightGBM] [Warning] No further splits with positive gain, best gain: -inf\n",
      "[LightGBM] [Warning] No further splits with positive gain, best gain: -inf\n",
      "[LightGBM] [Warning] No further splits with positive gain, best gain: -inf\n",
      "[LightGBM] [Warning] No further splits with positive gain, best gain: -inf\n",
      "[LightGBM] [Warning] No further splits with positive gain, best gain: -inf\n",
      "[LightGBM] [Warning] No further splits with positive gain, best gain: -inf\n",
      "[LightGBM] [Warning] No further splits with positive gain, best gain: -inf\n",
      "[LightGBM] [Warning] No further splits with positive gain, best gain: -inf\n",
      "[LightGBM] [Warning] No further splits with positive gain, best gain: -inf\n",
      "[LightGBM] [Warning] No further splits with positive gain, best gain: -inf\n",
      "[LightGBM] [Warning] No further splits with positive gain, best gain: -inf\n",
      "[LightGBM] [Warning] No further splits with positive gain, best gain: -inf\n",
      "[LightGBM] [Warning] No further splits with positive gain, best gain: -inf\n",
      "[LightGBM] [Warning] No further splits with positive gain, best gain: -inf\n",
      "[LightGBM] [Warning] No further splits with positive gain, best gain: -inf\n",
      "[LightGBM] [Warning] No further splits with positive gain, best gain: -inf\n",
      "[LightGBM] [Warning] No further splits with positive gain, best gain: -inf\n",
      "[LightGBM] [Warning] No further splits with positive gain, best gain: -inf\n",
      "[LightGBM] [Warning] No further splits with positive gain, best gain: -inf\n",
      "[LightGBM] [Warning] No further splits with positive gain, best gain: -inf\n",
      "[LightGBM] [Warning] No further splits with positive gain, best gain: -inf\n",
      "[LightGBM] [Warning] No further splits with positive gain, best gain: -inf\n",
      "[LightGBM] [Warning] No further splits with positive gain, best gain: -inf\n",
      "[LightGBM] [Warning] No further splits with positive gain, best gain: -inf\n",
      "[LightGBM] [Warning] No further splits with positive gain, best gain: -inf\n",
      "[LightGBM] [Warning] No further splits with positive gain, best gain: -inf\n",
      "[LightGBM] [Warning] No further splits with positive gain, best gain: -inf\n",
      "[LightGBM] [Warning] No further splits with positive gain, best gain: -inf\n",
      "[LightGBM] [Warning] No further splits with positive gain, best gain: -inf\n",
      "[LightGBM] [Warning] No further splits with positive gain, best gain: -inf\n",
      "[LightGBM] [Warning] No further splits with positive gain, best gain: -inf\n",
      "[LightGBM] [Warning] No further splits with positive gain, best gain: -inf\n",
      "[LightGBM] [Warning] No further splits with positive gain, best gain: -inf\n",
      "[LightGBM] [Warning] No further splits with positive gain, best gain: -inf\n",
      "[LightGBM] [Warning] No further splits with positive gain, best gain: -inf\n",
      "[LightGBM] [Warning] No further splits with positive gain, best gain: -inf\n",
      "[LightGBM] [Warning] No further splits with positive gain, best gain: -inf\n",
      "[LightGBM] [Warning] No further splits with positive gain, best gain: -inf\n",
      "[LightGBM] [Warning] No further splits with positive gain, best gain: -inf\n",
      "[LightGBM] [Warning] No further splits with positive gain, best gain: -inf\n",
      "[LightGBM] [Warning] No further splits with positive gain, best gain: -inf\n",
      "[LightGBM] [Warning] No further splits with positive gain, best gain: -inf\n",
      "[LightGBM] [Warning] No further splits with positive gain, best gain: -inf\n",
      "[LightGBM] [Warning] No further splits with positive gain, best gain: -inf\n",
      "[LightGBM] [Warning] No further splits with positive gain, best gain: -inf\n",
      "[LightGBM] [Warning] No further splits with positive gain, best gain: -inf\n",
      "[LightGBM] [Warning] No further splits with positive gain, best gain: -inf\n",
      "[LightGBM] [Warning] No further splits with positive gain, best gain: -inf\n",
      "[LightGBM] [Warning] No further splits with positive gain, best gain: -inf\n",
      "[LightGBM] [Warning] No further splits with positive gain, best gain: -inf\n",
      "[LightGBM] [Warning] No further splits with positive gain, best gain: -inf\n",
      "[LightGBM] [Warning] No further splits with positive gain, best gain: -inf\n",
      "[LightGBM] [Warning] No further splits with positive gain, best gain: -inf\n",
      "[LightGBM] [Warning] No further splits with positive gain, best gain: -inf\n",
      "[LightGBM] [Warning] No further splits with positive gain, best gain: -inf\n",
      "[LightGBM] [Warning] No further splits with positive gain, best gain: -inf\n",
      "[LightGBM] [Warning] No further splits with positive gain, best gain: -inf\n",
      "[LightGBM] [Warning] No further splits with positive gain, best gain: -inf\n",
      "[LightGBM] [Warning] No further splits with positive gain, best gain: -inf\n",
      "[LightGBM] [Warning] No further splits with positive gain, best gain: -inf\n",
      "[LightGBM] [Warning] No further splits with positive gain, best gain: -inf\n",
      "[LightGBM] [Warning] No further splits with positive gain, best gain: -inf\n",
      "[LightGBM] [Warning] No further splits with positive gain, best gain: -inf\n",
      "[LightGBM] [Warning] No further splits with positive gain, best gain: -inf\n",
      "[LightGBM] [Warning] No further splits with positive gain, best gain: -inf\n",
      "[LightGBM] [Warning] No further splits with positive gain, best gain: -inf\n",
      "[LightGBM] [Warning] No further splits with positive gain, best gain: -inf\n",
      "[LightGBM] [Warning] No further splits with positive gain, best gain: -inf\n",
      "[LightGBM] [Warning] No further splits with positive gain, best gain: -inf\n",
      "[LightGBM] [Warning] No further splits with positive gain, best gain: -inf\n",
      "[LightGBM] [Warning] No further splits with positive gain, best gain: -inf\n",
      "[LightGBM] [Warning] No further splits with positive gain, best gain: -inf\n",
      "[LightGBM] [Warning] No further splits with positive gain, best gain: -inf\n",
      "[LightGBM] [Warning] No further splits with positive gain, best gain: -inf\n",
      "[LightGBM] [Warning] No further splits with positive gain, best gain: -inf\n",
      "[LightGBM] [Warning] No further splits with positive gain, best gain: -inf\n",
      "[LightGBM] [Warning] No further splits with positive gain, best gain: -inf\n",
      "[LightGBM] [Warning] No further splits with positive gain, best gain: -inf\n",
      "[LightGBM] [Warning] No further splits with positive gain, best gain: -inf\n",
      "[LightGBM] [Warning] No further splits with positive gain, best gain: -inf\n",
      "[LightGBM] [Warning] No further splits with positive gain, best gain: -inf\n",
      "[LightGBM] [Warning] No further splits with positive gain, best gain: -inf\n",
      "[LightGBM] [Warning] No further splits with positive gain, best gain: -inf\n",
      "[LightGBM] [Warning] No further splits with positive gain, best gain: -inf\n",
      "[LightGBM] [Warning] No further splits with positive gain, best gain: -inf\n",
      "[LightGBM] [Warning] No further splits with positive gain, best gain: -inf\n",
      "[LightGBM] [Warning] No further splits with positive gain, best gain: -inf\n",
      "[LightGBM] [Warning] No further splits with positive gain, best gain: -inf\n",
      "[LightGBM] [Warning] No further splits with positive gain, best gain: -inf\n",
      "[LightGBM] [Warning] No further splits with positive gain, best gain: -inf\n",
      "[LightGBM] [Warning] No further splits with positive gain, best gain: -inf\n",
      "[LightGBM] [Warning] No further splits with positive gain, best gain: -inf\n",
      "[LightGBM] [Warning] No further splits with positive gain, best gain: -inf\n",
      "[LightGBM] [Warning] No further splits with positive gain, best gain: -inf\n",
      "[LightGBM] [Warning] No further splits with positive gain, best gain: -inf\n",
      "[LightGBM] [Warning] No further splits with positive gain, best gain: -inf\n",
      "[LightGBM] [Warning] No further splits with positive gain, best gain: -inf\n",
      "[LightGBM] [Warning] No further splits with positive gain, best gain: -inf\n",
      "[LightGBM] [Warning] No further splits with positive gain, best gain: -inf\n",
      "[LightGBM] [Warning] No further splits with positive gain, best gain: -inf\n",
      "[LightGBM] [Warning] No further splits with positive gain, best gain: -inf\n",
      "[LightGBM] [Warning] No further splits with positive gain, best gain: -inf\n",
      "[LightGBM] [Warning] No further splits with positive gain, best gain: -inf\n",
      "[LightGBM] [Warning] No further splits with positive gain, best gain: -inf\n",
      "[LightGBM] [Warning] No further splits with positive gain, best gain: -inf\n",
      "[LightGBM] [Warning] No further splits with positive gain, best gain: -inf\n",
      "[LightGBM] [Warning] No further splits with positive gain, best gain: -inf\n",
      "[LightGBM] [Warning] No further splits with positive gain, best gain: -inf\n",
      "[LightGBM] [Warning] No further splits with positive gain, best gain: -inf\n",
      "[LightGBM] [Warning] No further splits with positive gain, best gain: -inf\n",
      "[LightGBM] [Warning] No further splits with positive gain, best gain: -inf\n",
      "[LightGBM] [Warning] No further splits with positive gain, best gain: -inf\n",
      "[LightGBM] [Warning] No further splits with positive gain, best gain: -inf\n",
      "[LightGBM] [Warning] No further splits with positive gain, best gain: -inf\n",
      "[LightGBM] [Warning] No further splits with positive gain, best gain: -inf\n",
      "[LightGBM] [Warning] No further splits with positive gain, best gain: -inf\n",
      "[LightGBM] [Warning] No further splits with positive gain, best gain: -inf\n",
      "[LightGBM] [Warning] No further splits with positive gain, best gain: -inf\n",
      "[LightGBM] [Warning] No further splits with positive gain, best gain: -inf\n",
      "[LightGBM] [Warning] No further splits with positive gain, best gain: -inf\n",
      "[LightGBM] [Warning] No further splits with positive gain, best gain: -inf\n",
      "[LightGBM] [Warning] No further splits with positive gain, best gain: -inf\n",
      "[LightGBM] [Warning] No further splits with positive gain, best gain: -inf\n",
      "[LightGBM] [Warning] No further splits with positive gain, best gain: -inf\n",
      "[LightGBM] [Warning] No further splits with positive gain, best gain: -inf\n",
      "[LightGBM] [Warning] No further splits with positive gain, best gain: -inf\n",
      "[LightGBM] [Warning] No further splits with positive gain, best gain: -inf\n",
      "[LightGBM] [Warning] No further splits with positive gain, best gain: -inf\n",
      "[LightGBM] [Warning] No further splits with positive gain, best gain: -inf\n",
      "[LightGBM] [Warning] No further splits with positive gain, best gain: -inf\n",
      "[LightGBM] [Warning] No further splits with positive gain, best gain: -inf\n",
      "[LightGBM] [Warning] No further splits with positive gain, best gain: -inf\n",
      "[LightGBM] [Warning] No further splits with positive gain, best gain: -inf\n",
      "[LightGBM] [Warning] No further splits with positive gain, best gain: -inf\n",
      "[LightGBM] [Warning] No further splits with positive gain, best gain: -inf\n",
      "[LightGBM] [Warning] No further splits with positive gain, best gain: -inf\n",
      "[LightGBM] [Warning] No further splits with positive gain, best gain: -inf\n",
      "[LightGBM] [Warning] No further splits with positive gain, best gain: -inf\n",
      "[LightGBM] [Warning] No further splits with positive gain, best gain: -inf\n",
      "[LightGBM] [Warning] No further splits with positive gain, best gain: -inf\n",
      "[LightGBM] [Warning] No further splits with positive gain, best gain: -inf\n",
      "[LightGBM] [Warning] No further splits with positive gain, best gain: -inf\n",
      "[LightGBM] [Warning] No further splits with positive gain, best gain: -inf\n",
      "[LightGBM] [Warning] No further splits with positive gain, best gain: -inf\n",
      "[LightGBM] [Warning] No further splits with positive gain, best gain: -inf\n",
      "[LightGBM] [Warning] No further splits with positive gain, best gain: -inf\n",
      "[LightGBM] [Warning] No further splits with positive gain, best gain: -inf\n",
      "[LightGBM] [Warning] No further splits with positive gain, best gain: -inf\n",
      "[LightGBM] [Warning] No further splits with positive gain, best gain: -inf\n",
      "[LightGBM] [Warning] No further splits with positive gain, best gain: -inf\n",
      "[LightGBM] [Warning] No further splits with positive gain, best gain: -inf\n",
      "[LightGBM] [Warning] No further splits with positive gain, best gain: -inf\n",
      "[LightGBM] [Warning] No further splits with positive gain, best gain: -inf\n",
      "[LightGBM] [Warning] No further splits with positive gain, best gain: -inf\n",
      "[LightGBM] [Warning] No further splits with positive gain, best gain: -inf\n",
      "[LightGBM] [Warning] No further splits with positive gain, best gain: -inf\n",
      "[LightGBM] [Warning] No further splits with positive gain, best gain: -inf\n",
      "[LightGBM] [Warning] No further splits with positive gain, best gain: -inf\n",
      "[LightGBM] [Warning] No further splits with positive gain, best gain: -inf\n",
      "[LightGBM] [Warning] No further splits with positive gain, best gain: -inf\n",
      "[LightGBM] [Warning] No further splits with positive gain, best gain: -inf\n",
      "[LightGBM] [Warning] No further splits with positive gain, best gain: -inf\n",
      "[LightGBM] [Warning] No further splits with positive gain, best gain: -inf\n",
      "[LightGBM] [Warning] No further splits with positive gain, best gain: -inf\n",
      "[LightGBM] [Warning] No further splits with positive gain, best gain: -inf\n",
      "[LightGBM] [Warning] No further splits with positive gain, best gain: -inf\n",
      "[LightGBM] [Warning] No further splits with positive gain, best gain: -inf\n",
      "[LightGBM] [Warning] No further splits with positive gain, best gain: -inf\n",
      "[LightGBM] [Warning] No further splits with positive gain, best gain: -inf\n",
      "[LightGBM] [Warning] No further splits with positive gain, best gain: -inf\n",
      "[LightGBM] [Warning] No further splits with positive gain, best gain: -inf\n",
      "[LightGBM] [Warning] No further splits with positive gain, best gain: -inf\n",
      "[LightGBM] [Warning] No further splits with positive gain, best gain: -inf\n",
      "[LightGBM] [Warning] No further splits with positive gain, best gain: -inf\n",
      "[LightGBM] [Warning] No further splits with positive gain, best gain: -inf\n",
      "[LightGBM] [Warning] No further splits with positive gain, best gain: -inf\n",
      "[LightGBM] [Warning] No further splits with positive gain, best gain: -inf\n",
      "[LightGBM] [Warning] No further splits with positive gain, best gain: -inf\n",
      "[LightGBM] [Warning] No further splits with positive gain, best gain: -inf\n",
      "[LightGBM] [Warning] No further splits with positive gain, best gain: -inf\n",
      "[LightGBM] [Warning] No further splits with positive gain, best gain: -inf\n",
      "[LightGBM] [Warning] No further splits with positive gain, best gain: -inf\n",
      "[LightGBM] [Warning] No further splits with positive gain, best gain: -inf\n",
      "[LightGBM] [Warning] No further splits with positive gain, best gain: -inf\n",
      "[LightGBM] [Warning] No further splits with positive gain, best gain: -inf\n",
      "[LightGBM] [Warning] No further splits with positive gain, best gain: -inf\n",
      "[LightGBM] [Warning] No further splits with positive gain, best gain: -inf\n",
      "[LightGBM] [Warning] No further splits with positive gain, best gain: -inf\n",
      "[LightGBM] [Warning] No further splits with positive gain, best gain: -inf\n",
      "[LightGBM] [Warning] No further splits with positive gain, best gain: -inf\n",
      "[LightGBM] [Warning] No further splits with positive gain, best gain: -inf\n",
      "[LightGBM] [Warning] No further splits with positive gain, best gain: -inf\n",
      "[LightGBM] [Warning] No further splits with positive gain, best gain: -inf\n",
      "[LightGBM] [Warning] No further splits with positive gain, best gain: -inf\n",
      "[LightGBM] [Warning] No further splits with positive gain, best gain: -inf\n",
      "[LightGBM] [Warning] No further splits with positive gain, best gain: -inf\n",
      "[LightGBM] [Warning] No further splits with positive gain, best gain: -inf\n",
      "[LightGBM] [Warning] No further splits with positive gain, best gain: -inf\n",
      "[LightGBM] [Warning] No further splits with positive gain, best gain: -inf\n",
      "[LightGBM] [Warning] No further splits with positive gain, best gain: -inf\n",
      "[LightGBM] [Warning] No further splits with positive gain, best gain: -inf\n",
      "[LightGBM] [Warning] No further splits with positive gain, best gain: -inf\n",
      "[LightGBM] [Warning] No further splits with positive gain, best gain: -inf\n",
      "[LightGBM] [Warning] No further splits with positive gain, best gain: -inf\n",
      "[LightGBM] [Warning] No further splits with positive gain, best gain: -inf\n",
      "[LightGBM] [Warning] No further splits with positive gain, best gain: -inf\n",
      "[LightGBM] [Warning] No further splits with positive gain, best gain: -inf\n",
      "[LightGBM] [Warning] No further splits with positive gain, best gain: -inf\n",
      "[LightGBM] [Warning] No further splits with positive gain, best gain: -inf\n",
      "[LightGBM] [Warning] No further splits with positive gain, best gain: -inf\n",
      "[LightGBM] [Warning] No further splits with positive gain, best gain: -inf\n",
      "[LightGBM] [Warning] No further splits with positive gain, best gain: -inf\n",
      "[LightGBM] [Warning] No further splits with positive gain, best gain: -inf\n",
      "[LightGBM] [Warning] No further splits with positive gain, best gain: -inf\n",
      "[LightGBM] [Warning] No further splits with positive gain, best gain: -inf\n",
      "[LightGBM] [Warning] No further splits with positive gain, best gain: -inf\n",
      "[LightGBM] [Warning] No further splits with positive gain, best gain: -inf\n",
      "[LightGBM] [Warning] No further splits with positive gain, best gain: -inf\n",
      "[LightGBM] [Warning] No further splits with positive gain, best gain: -inf\n",
      "[LightGBM] [Warning] No further splits with positive gain, best gain: -inf\n",
      "[LightGBM] [Warning] No further splits with positive gain, best gain: -inf\n",
      "[LightGBM] [Warning] No further splits with positive gain, best gain: -inf\n",
      "[LightGBM] [Warning] No further splits with positive gain, best gain: -inf\n",
      "[LightGBM] [Warning] No further splits with positive gain, best gain: -inf\n",
      "[LightGBM] [Warning] No further splits with positive gain, best gain: -inf\n",
      "[LightGBM] [Warning] No further splits with positive gain, best gain: -inf\n",
      "[LightGBM] [Warning] No further splits with positive gain, best gain: -inf\n",
      "[LightGBM] [Warning] No further splits with positive gain, best gain: -inf\n",
      "[LightGBM] [Warning] No further splits with positive gain, best gain: -inf\n",
      "[LightGBM] [Warning] No further splits with positive gain, best gain: -inf\n",
      "[LightGBM] [Warning] No further splits with positive gain, best gain: -inf\n",
      "[LightGBM] [Warning] No further splits with positive gain, best gain: -inf\n",
      "[LightGBM] [Warning] No further splits with positive gain, best gain: -inf\n",
      "[LightGBM] [Warning] No further splits with positive gain, best gain: -inf\n",
      "[LightGBM] [Warning] No further splits with positive gain, best gain: -inf\n",
      "[LightGBM] [Warning] No further splits with positive gain, best gain: -inf\n",
      "[LightGBM] [Warning] No further splits with positive gain, best gain: -inf\n",
      "[LightGBM] [Warning] No further splits with positive gain, best gain: -inf\n",
      "[LightGBM] [Warning] No further splits with positive gain, best gain: -inf\n",
      "[LightGBM] [Warning] No further splits with positive gain, best gain: -inf\n",
      "[LightGBM] [Warning] No further splits with positive gain, best gain: -inf\n",
      "[LightGBM] [Warning] No further splits with positive gain, best gain: -inf\n",
      "[LightGBM] [Warning] No further splits with positive gain, best gain: -inf\n",
      "[LightGBM] [Warning] No further splits with positive gain, best gain: -inf\n",
      "[LightGBM] [Warning] No further splits with positive gain, best gain: -inf\n",
      "[LightGBM] [Warning] No further splits with positive gain, best gain: -inf\n",
      "[LightGBM] [Warning] No further splits with positive gain, best gain: -inf\n",
      "[LightGBM] [Warning] No further splits with positive gain, best gain: -inf\n",
      "[LightGBM] [Warning] No further splits with positive gain, best gain: -inf\n",
      "[LightGBM] [Warning] No further splits with positive gain, best gain: -inf\n",
      "[LightGBM] [Warning] No further splits with positive gain, best gain: -inf\n",
      "[LightGBM] [Warning] No further splits with positive gain, best gain: -inf\n",
      "[LightGBM] [Warning] No further splits with positive gain, best gain: -inf\n",
      "[LightGBM] [Warning] No further splits with positive gain, best gain: -inf\n",
      "[LightGBM] [Warning] No further splits with positive gain, best gain: -inf\n",
      "[LightGBM] [Warning] No further splits with positive gain, best gain: -inf\n",
      "[LightGBM] [Warning] No further splits with positive gain, best gain: -inf\n",
      "[LightGBM] [Warning] No further splits with positive gain, best gain: -inf\n",
      "[LightGBM] [Warning] No further splits with positive gain, best gain: -inf\n",
      "[LightGBM] [Warning] No further splits with positive gain, best gain: -inf\n",
      "[LightGBM] [Warning] No further splits with positive gain, best gain: -inf\n",
      "[LightGBM] [Warning] No further splits with positive gain, best gain: -inf\n",
      "[LightGBM] [Warning] No further splits with positive gain, best gain: -inf\n",
      "[LightGBM] [Warning] No further splits with positive gain, best gain: -inf\n",
      "[LightGBM] [Warning] No further splits with positive gain, best gain: -inf\n",
      "[LightGBM] [Warning] No further splits with positive gain, best gain: -inf\n",
      "[LightGBM] [Warning] No further splits with positive gain, best gain: -inf\n",
      "[LightGBM] [Warning] No further splits with positive gain, best gain: -inf\n",
      "[LightGBM] [Warning] No further splits with positive gain, best gain: -inf\n",
      "[LightGBM] [Warning] No further splits with positive gain, best gain: -inf\n",
      "[LightGBM] [Warning] No further splits with positive gain, best gain: -inf\n",
      "[LightGBM] [Warning] No further splits with positive gain, best gain: -inf\n",
      "[LightGBM] [Warning] No further splits with positive gain, best gain: -inf\n",
      "[LightGBM] [Warning] No further splits with positive gain, best gain: -inf\n",
      "[LightGBM] [Warning] No further splits with positive gain, best gain: -inf\n",
      "[LightGBM] [Warning] No further splits with positive gain, best gain: -inf\n",
      "[LightGBM] [Warning] No further splits with positive gain, best gain: -inf\n",
      "[LightGBM] [Warning] No further splits with positive gain, best gain: -inf\n",
      "[LightGBM] [Warning] No further splits with positive gain, best gain: -inf\n",
      "[LightGBM] [Warning] No further splits with positive gain, best gain: -inf\n",
      "[LightGBM] [Warning] No further splits with positive gain, best gain: -inf\n",
      "[LightGBM] [Warning] No further splits with positive gain, best gain: -inf\n",
      "[LightGBM] [Warning] No further splits with positive gain, best gain: -inf\n",
      "[LightGBM] [Warning] No further splits with positive gain, best gain: -inf\n",
      "[LightGBM] [Warning] No further splits with positive gain, best gain: -inf\n",
      "[LightGBM] [Warning] No further splits with positive gain, best gain: -inf\n",
      "[LightGBM] [Warning] No further splits with positive gain, best gain: -inf\n",
      "[LightGBM] [Warning] No further splits with positive gain, best gain: -inf\n",
      "[LightGBM] [Warning] No further splits with positive gain, best gain: -inf\n",
      "[LightGBM] [Warning] No further splits with positive gain, best gain: -inf\n",
      "[LightGBM] [Warning] No further splits with positive gain, best gain: -inf\n",
      "[LightGBM] [Warning] No further splits with positive gain, best gain: -inf\n",
      "[LightGBM] [Warning] No further splits with positive gain, best gain: -inf\n",
      "[LightGBM] [Warning] No further splits with positive gain, best gain: -inf\n",
      "[LightGBM] [Warning] No further splits with positive gain, best gain: -inf\n",
      "[LightGBM] [Warning] No further splits with positive gain, best gain: -inf\n",
      "[LightGBM] [Warning] No further splits with positive gain, best gain: -inf\n",
      "[LightGBM] [Warning] No further splits with positive gain, best gain: -inf\n",
      "[LightGBM] [Warning] No further splits with positive gain, best gain: -inf\n",
      "[LightGBM] [Warning] No further splits with positive gain, best gain: -inf\n",
      "[LightGBM] [Warning] No further splits with positive gain, best gain: -inf\n",
      "[LightGBM] [Warning] No further splits with positive gain, best gain: -inf\n",
      "[LightGBM] [Warning] No further splits with positive gain, best gain: -inf\n",
      "[LightGBM] [Warning] No further splits with positive gain, best gain: -inf\n",
      "[LightGBM] [Warning] No further splits with positive gain, best gain: -inf\n",
      "[LightGBM] [Warning] No further splits with positive gain, best gain: -inf\n",
      "[LightGBM] [Warning] No further splits with positive gain, best gain: -inf\n",
      "[LightGBM] [Warning] No further splits with positive gain, best gain: -inf\n",
      "[LightGBM] [Warning] No further splits with positive gain, best gain: -inf\n",
      "[LightGBM] [Warning] No further splits with positive gain, best gain: -inf\n",
      "[LightGBM] [Warning] No further splits with positive gain, best gain: -inf\n",
      "[LightGBM] [Warning] No further splits with positive gain, best gain: -inf\n",
      "[LightGBM] [Warning] No further splits with positive gain, best gain: -inf\n",
      "[LightGBM] [Warning] No further splits with positive gain, best gain: -inf\n",
      "[LightGBM] [Warning] No further splits with positive gain, best gain: -inf\n",
      "[LightGBM] [Warning] No further splits with positive gain, best gain: -inf\n",
      "[LightGBM] [Warning] No further splits with positive gain, best gain: -inf\n",
      "[LightGBM] [Warning] No further splits with positive gain, best gain: -inf\n",
      "[LightGBM] [Warning] No further splits with positive gain, best gain: -inf\n",
      "[LightGBM] [Warning] No further splits with positive gain, best gain: -inf\n",
      "[LightGBM] [Warning] No further splits with positive gain, best gain: -inf\n",
      "[LightGBM] [Warning] No further splits with positive gain, best gain: -inf\n",
      "[LightGBM] [Warning] No further splits with positive gain, best gain: -inf\n",
      "[LightGBM] [Warning] No further splits with positive gain, best gain: -inf\n",
      "[LightGBM] [Warning] No further splits with positive gain, best gain: -inf\n",
      "[LightGBM] [Warning] No further splits with positive gain, best gain: -inf\n",
      "[LightGBM] [Warning] No further splits with positive gain, best gain: -inf\n",
      "[LightGBM] [Warning] No further splits with positive gain, best gain: -inf\n",
      "[LightGBM] [Warning] No further splits with positive gain, best gain: -inf\n",
      "[LightGBM] [Warning] No further splits with positive gain, best gain: -inf\n",
      "[LightGBM] [Warning] No further splits with positive gain, best gain: -inf\n",
      "[LightGBM] [Warning] No further splits with positive gain, best gain: -inf\n",
      "[LightGBM] [Warning] No further splits with positive gain, best gain: -inf\n",
      "[LightGBM] [Warning] No further splits with positive gain, best gain: -inf\n",
      "[LightGBM] [Warning] No further splits with positive gain, best gain: -inf\n",
      "[LightGBM] [Warning] No further splits with positive gain, best gain: -inf\n",
      "[LightGBM] [Warning] No further splits with positive gain, best gain: -inf\n",
      "[LightGBM] [Warning] No further splits with positive gain, best gain: -inf\n",
      "[LightGBM] [Warning] No further splits with positive gain, best gain: -inf\n",
      "[LightGBM] [Warning] No further splits with positive gain, best gain: -inf\n",
      "[LightGBM] [Warning] No further splits with positive gain, best gain: -inf\n",
      "[LightGBM] [Warning] No further splits with positive gain, best gain: -inf\n",
      "[LightGBM] [Warning] No further splits with positive gain, best gain: -inf\n",
      "[LightGBM] [Warning] No further splits with positive gain, best gain: -inf\n",
      "[LightGBM] [Warning] No further splits with positive gain, best gain: -inf\n",
      "[LightGBM] [Warning] No further splits with positive gain, best gain: -inf\n",
      "[LightGBM] [Warning] No further splits with positive gain, best gain: -inf\n",
      "[LightGBM] [Warning] No further splits with positive gain, best gain: -inf\n",
      "[LightGBM] [Warning] No further splits with positive gain, best gain: -inf\n",
      "[LightGBM] [Warning] No further splits with positive gain, best gain: -inf\n",
      "[LightGBM] [Warning] No further splits with positive gain, best gain: -inf\n",
      "[LightGBM] [Warning] No further splits with positive gain, best gain: -inf\n",
      "[LightGBM] [Warning] No further splits with positive gain, best gain: -inf\n",
      "[LightGBM] [Warning] No further splits with positive gain, best gain: -inf\n",
      "[LightGBM] [Warning] No further splits with positive gain, best gain: -inf\n",
      "[LightGBM] [Warning] No further splits with positive gain, best gain: -inf\n",
      "[LightGBM] [Warning] No further splits with positive gain, best gain: -inf\n",
      "[LightGBM] [Warning] No further splits with positive gain, best gain: -inf\n",
      "[LightGBM] [Warning] No further splits with positive gain, best gain: -inf\n",
      "[LightGBM] [Warning] No further splits with positive gain, best gain: -inf\n",
      "[LightGBM] [Warning] No further splits with positive gain, best gain: -inf\n",
      "[LightGBM] [Warning] No further splits with positive gain, best gain: -inf\n",
      "[LightGBM] [Warning] No further splits with positive gain, best gain: -inf\n",
      "[LightGBM] [Warning] No further splits with positive gain, best gain: -inf\n",
      "[LightGBM] [Warning] No further splits with positive gain, best gain: -inf\n",
      "[LightGBM] [Warning] No further splits with positive gain, best gain: -inf\n",
      "[LightGBM] [Warning] No further splits with positive gain, best gain: -inf\n",
      "[LightGBM] [Warning] No further splits with positive gain, best gain: -inf\n",
      "[LightGBM] [Warning] No further splits with positive gain, best gain: -inf\n",
      "[LightGBM] [Warning] No further splits with positive gain, best gain: -inf\n",
      "[LightGBM] [Warning] No further splits with positive gain, best gain: -inf\n",
      "[LightGBM] [Warning] No further splits with positive gain, best gain: -inf\n",
      "[LightGBM] [Warning] No further splits with positive gain, best gain: -inf\n",
      "[LightGBM] [Warning] No further splits with positive gain, best gain: -inf\n",
      "[LightGBM] [Warning] No further splits with positive gain, best gain: -inf\n",
      "[LightGBM] [Warning] No further splits with positive gain, best gain: -inf\n",
      "[LightGBM] [Warning] No further splits with positive gain, best gain: -inf\n",
      "[LightGBM] [Warning] No further splits with positive gain, best gain: -inf\n",
      "[LightGBM] [Warning] No further splits with positive gain, best gain: -inf\n",
      "[LightGBM] [Warning] No further splits with positive gain, best gain: -inf\n",
      "[LightGBM] [Warning] No further splits with positive gain, best gain: -inf\n",
      "[LightGBM] [Warning] No further splits with positive gain, best gain: -inf\n",
      "[LightGBM] [Warning] No further splits with positive gain, best gain: -inf\n",
      "[LightGBM] [Warning] No further splits with positive gain, best gain: -inf\n",
      "[LightGBM] [Warning] No further splits with positive gain, best gain: -inf\n",
      "[LightGBM] [Warning] No further splits with positive gain, best gain: -inf\n",
      "[LightGBM] [Warning] No further splits with positive gain, best gain: -inf\n",
      "[LightGBM] [Warning] No further splits with positive gain, best gain: -inf\n",
      "[LightGBM] [Warning] No further splits with positive gain, best gain: -inf\n",
      "[LightGBM] [Warning] No further splits with positive gain, best gain: -inf\n",
      "[LightGBM] [Warning] No further splits with positive gain, best gain: -inf\n",
      "[LightGBM] [Warning] No further splits with positive gain, best gain: -inf\n",
      "[LightGBM] [Warning] No further splits with positive gain, best gain: -inf\n",
      "[LightGBM] [Warning] No further splits with positive gain, best gain: -inf\n",
      "[LightGBM] [Warning] No further splits with positive gain, best gain: -inf\n",
      "[LightGBM] [Warning] No further splits with positive gain, best gain: -inf\n",
      "[LightGBM] [Warning] No further splits with positive gain, best gain: -inf\n",
      "[LightGBM] [Warning] No further splits with positive gain, best gain: -inf\n",
      "[LightGBM] [Warning] No further splits with positive gain, best gain: -inf\n",
      "[LightGBM] [Warning] No further splits with positive gain, best gain: -inf\n",
      "[LightGBM] [Warning] No further splits with positive gain, best gain: -inf\n",
      "[LightGBM] [Warning] No further splits with positive gain, best gain: -inf\n",
      "[LightGBM] [Warning] No further splits with positive gain, best gain: -inf\n",
      "[LightGBM] [Warning] No further splits with positive gain, best gain: -inf\n",
      "[LightGBM] [Warning] No further splits with positive gain, best gain: -inf\n",
      "[LightGBM] [Warning] No further splits with positive gain, best gain: -inf\n",
      "[LightGBM] [Warning] No further splits with positive gain, best gain: -inf\n",
      "[LightGBM] [Warning] No further splits with positive gain, best gain: -inf\n",
      "[LightGBM] [Warning] No further splits with positive gain, best gain: -inf\n",
      "[LightGBM] [Warning] No further splits with positive gain, best gain: -inf\n",
      "[LightGBM] [Warning] No further splits with positive gain, best gain: -inf\n",
      "[LightGBM] [Warning] No further splits with positive gain, best gain: -inf\n",
      "[LightGBM] [Warning] No further splits with positive gain, best gain: -inf\n",
      "[LightGBM] [Warning] No further splits with positive gain, best gain: -inf\n",
      "[LightGBM] [Warning] No further splits with positive gain, best gain: -inf\n",
      "[LightGBM] [Warning] No further splits with positive gain, best gain: -inf\n",
      "[LightGBM] [Warning] No further splits with positive gain, best gain: -inf\n",
      "[LightGBM] [Warning] No further splits with positive gain, best gain: -inf\n",
      "[LightGBM] [Warning] No further splits with positive gain, best gain: -inf\n",
      "[LightGBM] [Warning] No further splits with positive gain, best gain: -inf\n",
      "[LightGBM] [Warning] No further splits with positive gain, best gain: -inf\n",
      "[LightGBM] [Warning] No further splits with positive gain, best gain: -inf\n",
      "[LightGBM] [Warning] No further splits with positive gain, best gain: -inf\n",
      "[LightGBM] [Warning] No further splits with positive gain, best gain: -inf\n",
      "[LightGBM] [Warning] No further splits with positive gain, best gain: -inf\n",
      "[LightGBM] [Warning] No further splits with positive gain, best gain: -inf\n",
      "[LightGBM] [Warning] No further splits with positive gain, best gain: -inf\n",
      "[LightGBM] [Warning] No further splits with positive gain, best gain: -inf\n",
      "[LightGBM] [Warning] No further splits with positive gain, best gain: -inf\n",
      "[LightGBM] [Warning] No further splits with positive gain, best gain: -inf\n",
      "[LightGBM] [Warning] No further splits with positive gain, best gain: -inf\n",
      "[LightGBM] [Warning] No further splits with positive gain, best gain: -inf\n",
      "[LightGBM] [Warning] No further splits with positive gain, best gain: -inf\n",
      "[LightGBM] [Warning] No further splits with positive gain, best gain: -inf\n",
      "[LightGBM] [Warning] No further splits with positive gain, best gain: -inf\n",
      "[LightGBM] [Warning] No further splits with positive gain, best gain: -inf\n",
      "[LightGBM] [Warning] No further splits with positive gain, best gain: -inf\n",
      "[LightGBM] [Warning] No further splits with positive gain, best gain: -inf\n",
      "[LightGBM] [Warning] No further splits with positive gain, best gain: -inf\n",
      "[LightGBM] [Warning] No further splits with positive gain, best gain: -inf\n",
      "[LightGBM] [Warning] No further splits with positive gain, best gain: -inf\n",
      "[LightGBM] [Warning] No further splits with positive gain, best gain: -inf\n",
      "[LightGBM] [Warning] No further splits with positive gain, best gain: -inf\n",
      "[LightGBM] [Warning] No further splits with positive gain, best gain: -inf\n",
      "[LightGBM] [Warning] No further splits with positive gain, best gain: -inf\n",
      "[LightGBM] [Warning] No further splits with positive gain, best gain: -inf\n",
      "[LightGBM] [Warning] No further splits with positive gain, best gain: -inf\n",
      "[LightGBM] [Warning] No further splits with positive gain, best gain: -inf\n",
      "[LightGBM] [Warning] No further splits with positive gain, best gain: -inf\n",
      "[LightGBM] [Warning] No further splits with positive gain, best gain: -inf\n",
      "[LightGBM] [Warning] No further splits with positive gain, best gain: -inf\n",
      "[LightGBM] [Warning] No further splits with positive gain, best gain: -inf\n",
      "[LightGBM] [Warning] No further splits with positive gain, best gain: -inf\n",
      "[LightGBM] [Warning] No further splits with positive gain, best gain: -inf\n",
      "[LightGBM] [Warning] No further splits with positive gain, best gain: -inf\n",
      "[LightGBM] [Warning] No further splits with positive gain, best gain: -inf\n",
      "[LightGBM] [Warning] No further splits with positive gain, best gain: -inf\n",
      "[LightGBM] [Warning] No further splits with positive gain, best gain: -inf\n",
      "[LightGBM] [Warning] No further splits with positive gain, best gain: -inf\n",
      "[LightGBM] [Warning] No further splits with positive gain, best gain: -inf\n",
      "[LightGBM] [Warning] No further splits with positive gain, best gain: -inf\n",
      "[LightGBM] [Warning] No further splits with positive gain, best gain: -inf\n",
      "[LightGBM] [Warning] No further splits with positive gain, best gain: -inf\n",
      "[LightGBM] [Warning] No further splits with positive gain, best gain: -inf\n",
      "[LightGBM] [Warning] No further splits with positive gain, best gain: -inf\n",
      "[LightGBM] [Warning] No further splits with positive gain, best gain: -inf\n",
      "[LightGBM] [Warning] No further splits with positive gain, best gain: -inf\n",
      "[LightGBM] [Warning] No further splits with positive gain, best gain: -inf\n",
      "[LightGBM] [Warning] No further splits with positive gain, best gain: -inf\n",
      "[LightGBM] [Warning] No further splits with positive gain, best gain: -inf\n",
      "[LightGBM] [Warning] No further splits with positive gain, best gain: -inf\n",
      "[LightGBM] [Warning] No further splits with positive gain, best gain: -inf\n",
      "[LightGBM] [Warning] No further splits with positive gain, best gain: -inf\n",
      "[LightGBM] [Warning] No further splits with positive gain, best gain: -inf\n",
      "[LightGBM] [Warning] No further splits with positive gain, best gain: -inf\n",
      "[LightGBM] [Warning] No further splits with positive gain, best gain: -inf\n",
      "[LightGBM] [Warning] No further splits with positive gain, best gain: -inf\n",
      "[LightGBM] [Warning] No further splits with positive gain, best gain: -inf\n",
      "[LightGBM] [Warning] No further splits with positive gain, best gain: -inf\n",
      "[LightGBM] [Warning] No further splits with positive gain, best gain: -inf\n",
      "[LightGBM] [Warning] No further splits with positive gain, best gain: -inf\n",
      "[LightGBM] [Warning] No further splits with positive gain, best gain: -inf\n",
      "[LightGBM] [Warning] No further splits with positive gain, best gain: -inf\n",
      "[LightGBM] [Warning] No further splits with positive gain, best gain: -inf\n",
      "[LightGBM] [Warning] No further splits with positive gain, best gain: -inf\n",
      "[LightGBM] [Warning] No further splits with positive gain, best gain: -inf\n",
      "[LightGBM] [Warning] No further splits with positive gain, best gain: -inf\n",
      "[LightGBM] [Warning] No further splits with positive gain, best gain: -inf\n",
      "[LightGBM] [Warning] No further splits with positive gain, best gain: -inf\n",
      "[LightGBM] [Warning] No further splits with positive gain, best gain: -inf\n",
      "[LightGBM] [Warning] No further splits with positive gain, best gain: -inf\n",
      "[LightGBM] [Warning] No further splits with positive gain, best gain: -inf\n",
      "[LightGBM] [Warning] No further splits with positive gain, best gain: -inf\n",
      "[LightGBM] [Warning] No further splits with positive gain, best gain: -inf\n",
      "[LightGBM] [Warning] No further splits with positive gain, best gain: -inf\n",
      "[LightGBM] [Warning] No further splits with positive gain, best gain: -inf\n",
      "[LightGBM] [Warning] No further splits with positive gain, best gain: -inf\n",
      "[LightGBM] [Warning] No further splits with positive gain, best gain: -inf\n",
      "[LightGBM] [Warning] No further splits with positive gain, best gain: -inf\n",
      "[LightGBM] [Warning] No further splits with positive gain, best gain: -inf\n",
      "[LightGBM] [Warning] No further splits with positive gain, best gain: -inf\n",
      "[LightGBM] [Warning] No further splits with positive gain, best gain: -inf\n",
      "[LightGBM] [Warning] No further splits with positive gain, best gain: -inf\n",
      "[LightGBM] [Warning] No further splits with positive gain, best gain: -inf\n",
      "[LightGBM] [Warning] No further splits with positive gain, best gain: -inf\n",
      "[LightGBM] [Warning] No further splits with positive gain, best gain: -inf\n",
      "[LightGBM] [Warning] No further splits with positive gain, best gain: -inf\n",
      "[LightGBM] [Warning] No further splits with positive gain, best gain: -inf\n",
      "[LightGBM] [Warning] No further splits with positive gain, best gain: -inf\n",
      "[LightGBM] [Warning] No further splits with positive gain, best gain: -inf\n",
      "[LightGBM] [Warning] No further splits with positive gain, best gain: -inf\n",
      "[LightGBM] [Warning] No further splits with positive gain, best gain: -inf\n",
      "[LightGBM] [Warning] No further splits with positive gain, best gain: -inf\n",
      "[LightGBM] [Warning] No further splits with positive gain, best gain: -inf\n",
      "[LightGBM] [Warning] No further splits with positive gain, best gain: -inf\n",
      "[LightGBM] [Warning] No further splits with positive gain, best gain: -inf\n",
      "[LightGBM] [Warning] No further splits with positive gain, best gain: -inf\n",
      "[LightGBM] [Warning] No further splits with positive gain, best gain: -inf\n",
      "[LightGBM] [Warning] No further splits with positive gain, best gain: -inf\n",
      "[LightGBM] [Warning] No further splits with positive gain, best gain: -inf\n",
      "[LightGBM] [Warning] No further splits with positive gain, best gain: -inf\n",
      "[LightGBM] [Warning] No further splits with positive gain, best gain: -inf\n",
      "[LightGBM] [Warning] No further splits with positive gain, best gain: -inf\n",
      "[LightGBM] [Warning] No further splits with positive gain, best gain: -inf\n",
      "[LightGBM] [Warning] No further splits with positive gain, best gain: -inf\n",
      "[LightGBM] [Warning] No further splits with positive gain, best gain: -inf\n",
      "[LightGBM] [Warning] No further splits with positive gain, best gain: -inf\n",
      "[LightGBM] [Warning] No further splits with positive gain, best gain: -inf\n",
      "[LightGBM] [Warning] No further splits with positive gain, best gain: -inf\n",
      "[LightGBM] [Warning] No further splits with positive gain, best gain: -inf\n",
      "[LightGBM] [Warning] No further splits with positive gain, best gain: -inf\n",
      "[LightGBM] [Warning] No further splits with positive gain, best gain: -inf\n",
      "[LightGBM] [Warning] No further splits with positive gain, best gain: -inf\n",
      "[LightGBM] [Warning] No further splits with positive gain, best gain: -inf\n",
      "[LightGBM] [Warning] No further splits with positive gain, best gain: -inf\n",
      "[LightGBM] [Warning] No further splits with positive gain, best gain: -inf\n",
      "[LightGBM] [Warning] No further splits with positive gain, best gain: -inf\n",
      "[LightGBM] [Warning] No further splits with positive gain, best gain: -inf\n",
      "[LightGBM] [Warning] No further splits with positive gain, best gain: -inf\n",
      "[LightGBM] [Warning] No further splits with positive gain, best gain: -inf\n",
      "[LightGBM] [Warning] No further splits with positive gain, best gain: -inf\n",
      "[LightGBM] [Warning] No further splits with positive gain, best gain: -inf\n",
      "[LightGBM] [Warning] No further splits with positive gain, best gain: -inf\n",
      "[LightGBM] [Warning] No further splits with positive gain, best gain: -inf\n",
      "[LightGBM] [Warning] No further splits with positive gain, best gain: -inf\n",
      "[LightGBM] [Warning] No further splits with positive gain, best gain: -inf\n",
      "[LightGBM] [Warning] No further splits with positive gain, best gain: -inf\n",
      "[LightGBM] [Warning] No further splits with positive gain, best gain: -inf\n",
      "[LightGBM] [Warning] No further splits with positive gain, best gain: -inf\n",
      "[LightGBM] [Warning] No further splits with positive gain, best gain: -inf\n",
      "[LightGBM] [Warning] No further splits with positive gain, best gain: -inf\n",
      "[LightGBM] [Warning] No further splits with positive gain, best gain: -inf\n",
      "[LightGBM] [Warning] No further splits with positive gain, best gain: -inf\n",
      "[LightGBM] [Warning] No further splits with positive gain, best gain: -inf\n",
      "[LightGBM] [Warning] No further splits with positive gain, best gain: -inf\n",
      "[LightGBM] [Warning] No further splits with positive gain, best gain: -inf\n",
      "[LightGBM] [Warning] No further splits with positive gain, best gain: -inf\n",
      "[LightGBM] [Warning] No further splits with positive gain, best gain: -inf\n",
      "[LightGBM] [Warning] No further splits with positive gain, best gain: -inf\n",
      "[LightGBM] [Warning] No further splits with positive gain, best gain: -inf\n",
      "[LightGBM] [Warning] No further splits with positive gain, best gain: -inf\n",
      "[LightGBM] [Warning] No further splits with positive gain, best gain: -inf\n",
      "[LightGBM] [Warning] No further splits with positive gain, best gain: -inf\n",
      "[LightGBM] [Warning] No further splits with positive gain, best gain: -inf\n",
      "[LightGBM] [Warning] No further splits with positive gain, best gain: -inf\n",
      "[LightGBM] [Warning] No further splits with positive gain, best gain: -inf\n",
      "[LightGBM] [Warning] No further splits with positive gain, best gain: -inf\n",
      "[LightGBM] [Warning] No further splits with positive gain, best gain: -inf\n",
      "[LightGBM] [Warning] No further splits with positive gain, best gain: -inf\n",
      "[LightGBM] [Warning] No further splits with positive gain, best gain: -inf\n",
      "[LightGBM] [Warning] No further splits with positive gain, best gain: -inf\n",
      "[LightGBM] [Warning] No further splits with positive gain, best gain: -inf\n",
      "[LightGBM] [Warning] No further splits with positive gain, best gain: -inf\n",
      "[LightGBM] [Warning] No further splits with positive gain, best gain: -inf\n",
      "[LightGBM] [Warning] No further splits with positive gain, best gain: -inf\n",
      "[LightGBM] [Warning] No further splits with positive gain, best gain: -inf\n",
      "[LightGBM] [Warning] No further splits with positive gain, best gain: -inf\n",
      "[LightGBM] [Warning] No further splits with positive gain, best gain: -inf\n",
      "[LightGBM] [Warning] No further splits with positive gain, best gain: -inf\n",
      "[LightGBM] [Warning] No further splits with positive gain, best gain: -inf\n",
      "[LightGBM] [Warning] No further splits with positive gain, best gain: -inf\n",
      "[LightGBM] [Warning] No further splits with positive gain, best gain: -inf\n",
      "[LightGBM] [Warning] No further splits with positive gain, best gain: -inf\n",
      "[LightGBM] [Warning] No further splits with positive gain, best gain: -inf\n",
      "[LightGBM] [Warning] No further splits with positive gain, best gain: -inf\n",
      "[LightGBM] [Warning] No further splits with positive gain, best gain: -inf\n",
      "[LightGBM] [Warning] No further splits with positive gain, best gain: -inf\n",
      "[LightGBM] [Warning] No further splits with positive gain, best gain: -inf\n",
      "[LightGBM] [Warning] No further splits with positive gain, best gain: -inf\n",
      "[LightGBM] [Warning] No further splits with positive gain, best gain: -inf\n",
      "[LightGBM] [Warning] No further splits with positive gain, best gain: -inf\n",
      "[LightGBM] [Warning] No further splits with positive gain, best gain: -inf\n",
      "[LightGBM] [Warning] No further splits with positive gain, best gain: -inf\n",
      "[LightGBM] [Warning] No further splits with positive gain, best gain: -inf\n",
      "[LightGBM] [Warning] No further splits with positive gain, best gain: -inf\n",
      "[LightGBM] [Warning] No further splits with positive gain, best gain: -inf\n",
      "[LightGBM] [Warning] No further splits with positive gain, best gain: -inf\n",
      "[LightGBM] [Warning] No further splits with positive gain, best gain: -inf\n",
      "[LightGBM] [Warning] No further splits with positive gain, best gain: -inf\n",
      "[LightGBM] [Warning] No further splits with positive gain, best gain: -inf\n",
      "[LightGBM] [Warning] No further splits with positive gain, best gain: -inf\n",
      "[LightGBM] [Warning] No further splits with positive gain, best gain: -inf\n",
      "[LightGBM] [Warning] No further splits with positive gain, best gain: -inf\n",
      "[LightGBM] [Warning] No further splits with positive gain, best gain: -inf\n",
      "[LightGBM] [Warning] No further splits with positive gain, best gain: -inf\n",
      "[LightGBM] [Warning] No further splits with positive gain, best gain: -inf\n",
      "[LightGBM] [Warning] No further splits with positive gain, best gain: -inf\n",
      "[LightGBM] [Warning] No further splits with positive gain, best gain: -inf\n",
      "[LightGBM] [Warning] No further splits with positive gain, best gain: -inf\n",
      "[LightGBM] [Warning] No further splits with positive gain, best gain: -inf\n",
      "[LightGBM] [Warning] No further splits with positive gain, best gain: -inf\n",
      "[LightGBM] [Warning] No further splits with positive gain, best gain: -inf\n",
      "[LightGBM] [Warning] No further splits with positive gain, best gain: -inf\n",
      "[LightGBM] [Warning] No further splits with positive gain, best gain: -inf\n",
      "[LightGBM] [Warning] No further splits with positive gain, best gain: -inf\n",
      "[LightGBM] [Warning] No further splits with positive gain, best gain: -inf\n",
      "[LightGBM] [Warning] No further splits with positive gain, best gain: -inf\n",
      "[LightGBM] [Warning] No further splits with positive gain, best gain: -inf\n",
      "[LightGBM] [Warning] No further splits with positive gain, best gain: -inf\n",
      "[LightGBM] [Warning] No further splits with positive gain, best gain: -inf\n",
      "[LightGBM] [Warning] No further splits with positive gain, best gain: -inf\n",
      "[LightGBM] [Warning] No further splits with positive gain, best gain: -inf\n",
      "[LightGBM] [Warning] No further splits with positive gain, best gain: -inf\n",
      "[LightGBM] [Warning] No further splits with positive gain, best gain: -inf\n",
      "[LightGBM] [Warning] No further splits with positive gain, best gain: -inf\n",
      "[LightGBM] [Warning] No further splits with positive gain, best gain: -inf\n",
      "[LightGBM] [Warning] No further splits with positive gain, best gain: -inf\n",
      "[LightGBM] [Warning] No further splits with positive gain, best gain: -inf\n",
      "[LightGBM] [Warning] No further splits with positive gain, best gain: -inf\n",
      "[LightGBM] [Warning] No further splits with positive gain, best gain: -inf\n",
      "[LightGBM] [Warning] No further splits with positive gain, best gain: -inf\n",
      "[LightGBM] [Warning] No further splits with positive gain, best gain: -inf\n",
      "[LightGBM] [Warning] No further splits with positive gain, best gain: -inf\n",
      "[LightGBM] [Warning] No further splits with positive gain, best gain: -inf\n",
      "[LightGBM] [Warning] No further splits with positive gain, best gain: -inf\n",
      "[LightGBM] [Warning] No further splits with positive gain, best gain: -inf\n",
      "[LightGBM] [Warning] No further splits with positive gain, best gain: -inf\n",
      "[LightGBM] [Warning] No further splits with positive gain, best gain: -inf\n",
      "[LightGBM] [Warning] No further splits with positive gain, best gain: -inf\n",
      "[LightGBM] [Warning] No further splits with positive gain, best gain: -inf\n",
      "[LightGBM] [Warning] No further splits with positive gain, best gain: -inf\n",
      "[LightGBM] [Warning] No further splits with positive gain, best gain: -inf\n",
      "[LightGBM] [Warning] No further splits with positive gain, best gain: -inf\n",
      "[LightGBM] [Warning] No further splits with positive gain, best gain: -inf\n",
      "[LightGBM] [Warning] No further splits with positive gain, best gain: -inf\n",
      "[LightGBM] [Warning] No further splits with positive gain, best gain: -inf\n",
      "[LightGBM] [Warning] No further splits with positive gain, best gain: -inf\n",
      "[LightGBM] [Warning] No further splits with positive gain, best gain: -inf\n",
      "[LightGBM] [Warning] No further splits with positive gain, best gain: -inf\n",
      "[LightGBM] [Warning] No further splits with positive gain, best gain: -inf\n",
      "[LightGBM] [Warning] No further splits with positive gain, best gain: -inf\n",
      "[LightGBM] [Warning] No further splits with positive gain, best gain: -inf\n",
      "[LightGBM] [Warning] No further splits with positive gain, best gain: -inf\n",
      "[LightGBM] [Warning] No further splits with positive gain, best gain: -inf\n",
      "[LightGBM] [Warning] No further splits with positive gain, best gain: -inf\n",
      "[LightGBM] [Warning] No further splits with positive gain, best gain: -inf\n",
      "[LightGBM] [Warning] No further splits with positive gain, best gain: -inf\n",
      "[LightGBM] [Warning] No further splits with positive gain, best gain: -inf\n",
      "[LightGBM] [Warning] No further splits with positive gain, best gain: -inf\n",
      "\n",
      "Evaluating tuned LightGBM model...\n",
      "Optimal threshold based on Youden's J-Statistic (OOF): 0.0823\n",
      "\n",
      "--- Evaluation Metrics for LightGBM (Optuna Tuned) ---\n",
      "AUC ROC:        0.7762\n",
      "Gini Coefficient: 0.5524\n",
      "KS Statistic:   0.4128\n",
      "Accuracy:       0.7155\n",
      "Precision:      0.1774\n",
      "Recall (TPR):   0.6941\n",
      "F1-Score:       0.2826\n",
      "Brier Score:    0.0665\n",
      "Log Loss:       0.2402\n",
      "\n",
      "Confusion Matrix:\n",
      "[[40559 15978]\n",
      " [ 1519  3446]]\n"
     ]
    },
    {
     "data": {
      "image/png": "[encoded data removed]",
      "text/plain": [
       "<Figure size 800x600 with 1 Axes>"
      ]
     },
     "metadata": {},
     "output_type": "display_data"
    },
    {
     "name": "stdout",
     "output_type": "stream",
     "text": [
      "\n",
      "--- Top 50 Feature Importances ---\n",
      "Sum of importances: 23491.0000\n"
     ]
    },
    {
     "data": {
      "text/html": [
       "<div>\n",
       "<style scoped>\n",
       "    .dataframe tbody tr th:only-of-type {\n",
       "        vertical-align: middle;\n",
       "    }\n",
       "\n",
       "    .dataframe tbody tr th {\n",
       "        vertical-align: top;\n",
       "    }\n",
       "\n",
       "    .dataframe thead th {\n",
       "        text-align: right;\n",
       "    }\n",
       "</style>\n",
       "<table border=\"1\" class=\"dataframe\">\n",
       "  <thead>\n",
       "    <tr style=\"text-align: right;\">\n",
       "      <th></th>\n",
       "      <th>feature</th>\n",
       "      <th>importance</th>\n",
       "    </tr>\n",
       "  </thead>\n",
       "  <tbody>\n",
       "    <tr>\n",
       "      <th>6</th>\n",
       "      <td>CREDIT_ANNUITY_RATIO</td>\n",
       "      <td>1295</td>\n",
       "    </tr>\n",
       "    <tr>\n",
       "      <th>16</th>\n",
       "      <td>DAYS_BIRTH</td>\n",
       "      <td>570</td>\n",
       "    </tr>\n",
       "    <tr>\n",
       "      <th>20</th>\n",
       "      <td>CREDIT_GOODS_RATIO</td>\n",
       "      <td>553</td>\n",
       "    </tr>\n",
       "    <tr>\n",
       "      <th>106</th>\n",
       "      <td>AMT_ANNUITY</td>\n",
       "      <td>471</td>\n",
       "    </tr>\n",
       "    <tr>\n",
       "      <th>5</th>\n",
       "      <td>EXT_SOURCE_1</td>\n",
       "      <td>461</td>\n",
       "    </tr>\n",
       "    <tr>\n",
       "      <th>0</th>\n",
       "      <td>WEIGHTED_EXT_SOURCE</td>\n",
       "      <td>458</td>\n",
       "    </tr>\n",
       "    <tr>\n",
       "      <th>90</th>\n",
       "      <td>DAYS_ID_PUBLISH</td>\n",
       "      <td>452</td>\n",
       "    </tr>\n",
       "    <tr>\n",
       "      <th>1</th>\n",
       "      <td>EXT_SOURCE_MIN</td>\n",
       "      <td>446</td>\n",
       "    </tr>\n",
       "    <tr>\n",
       "      <th>39</th>\n",
       "      <td>DAYS_DETAILS_CHANGE_SUM</td>\n",
       "      <td>434</td>\n",
       "    </tr>\n",
       "    <tr>\n",
       "      <th>8</th>\n",
       "      <td>INCOME_EXT_RATIO</td>\n",
       "      <td>411</td>\n",
       "    </tr>\n",
       "    <tr>\n",
       "      <th>11</th>\n",
       "      <td>B_B_CURRENT_DEBT_TO_CREDIT_RATIO_MAX_OVERALL</td>\n",
       "      <td>394</td>\n",
       "    </tr>\n",
       "    <tr>\n",
       "      <th>84</th>\n",
       "      <td>AGE_EMPLOYED_DIFF</td>\n",
       "      <td>392</td>\n",
       "    </tr>\n",
       "    <tr>\n",
       "      <th>4</th>\n",
       "      <td>EXT_SOURCE_2</td>\n",
       "      <td>390</td>\n",
       "    </tr>\n",
       "    <tr>\n",
       "      <th>9</th>\n",
       "      <td>B_B_CURRENT_CREDIT_DEBT_DIFF_MIN_OVERALL</td>\n",
       "      <td>389</td>\n",
       "    </tr>\n",
       "    <tr>\n",
       "      <th>50</th>\n",
       "      <td>DEF_30_CREDIT_RATIO</td>\n",
       "      <td>379</td>\n",
       "    </tr>\n",
       "    <tr>\n",
       "      <th>3</th>\n",
       "      <td>EXT_SOURCE_3</td>\n",
       "      <td>378</td>\n",
       "    </tr>\n",
       "    <tr>\n",
       "      <th>74</th>\n",
       "      <td>DAYS_LAST_PHONE_CHANGE</td>\n",
       "      <td>364</td>\n",
       "    </tr>\n",
       "    <tr>\n",
       "      <th>102</th>\n",
       "      <td>B_AMT_CREDIT_SUM_MAX_OVERALL</td>\n",
       "      <td>355</td>\n",
       "    </tr>\n",
       "    <tr>\n",
       "      <th>45</th>\n",
       "      <td>AGE_EMPLOYED_DIFF_MEAN_AGG_OCCUPATION_TYPE_ORG...</td>\n",
       "      <td>348</td>\n",
       "    </tr>\n",
       "    <tr>\n",
       "      <th>103</th>\n",
       "      <td>OBS_60_CREDIT_RATIO</td>\n",
       "      <td>343</td>\n",
       "    </tr>\n",
       "    <tr>\n",
       "      <th>18</th>\n",
       "      <td>B_B_CURRENT_DEBT_TO_CREDIT_RATIO_SUM_OVERALL</td>\n",
       "      <td>341</td>\n",
       "    </tr>\n",
       "    <tr>\n",
       "      <th>12</th>\n",
       "      <td>CREDIT_EXT_RATIO</td>\n",
       "      <td>340</td>\n",
       "    </tr>\n",
       "    <tr>\n",
       "      <th>10</th>\n",
       "      <td>DAYS_EMPLOYED</td>\n",
       "      <td>332</td>\n",
       "    </tr>\n",
       "    <tr>\n",
       "      <th>92</th>\n",
       "      <td>HOUR_PROCESS_CREDIT_MUL</td>\n",
       "      <td>331</td>\n",
       "    </tr>\n",
       "    <tr>\n",
       "      <th>2</th>\n",
       "      <td>EXT_SOURCE_MAX</td>\n",
       "      <td>321</td>\n",
       "    </tr>\n",
       "    <tr>\n",
       "      <th>57</th>\n",
       "      <td>AMT_INCOME_TOTAL_MEAN_AGG_OCCUPATION_TYPE_ORGA...</td>\n",
       "      <td>309</td>\n",
       "    </tr>\n",
       "    <tr>\n",
       "      <th>87</th>\n",
       "      <td>CREDIT_GOODS_DIFF</td>\n",
       "      <td>297</td>\n",
       "    </tr>\n",
       "    <tr>\n",
       "      <th>36</th>\n",
       "      <td>B_B_CURRENT_DEBT_TO_CREDIT_RATIO_STD_OVERALL</td>\n",
       "      <td>292</td>\n",
       "    </tr>\n",
       "    <tr>\n",
       "      <th>24</th>\n",
       "      <td>B_DAYS_CREDIT_ENDDATE_MEAN_OVERALL</td>\n",
       "      <td>288</td>\n",
       "    </tr>\n",
       "    <tr>\n",
       "      <th>69</th>\n",
       "      <td>B_B_CREDIT_DURATION_MIN_CA_CLOSED</td>\n",
       "      <td>257</td>\n",
       "    </tr>\n",
       "    <tr>\n",
       "      <th>17</th>\n",
       "      <td>B_DAYS_CREDIT_MAX_OVERALL</td>\n",
       "      <td>256</td>\n",
       "    </tr>\n",
       "    <tr>\n",
       "      <th>15</th>\n",
       "      <td>B_B_CURRENT_CREDIT_DEBT_DIFF_MEAN_OVERALL</td>\n",
       "      <td>256</td>\n",
       "    </tr>\n",
       "    <tr>\n",
       "      <th>68</th>\n",
       "      <td>B_DAYS_CREDIT_UPDATE_MAX_OVERALL</td>\n",
       "      <td>251</td>\n",
       "    </tr>\n",
       "    <tr>\n",
       "      <th>38</th>\n",
       "      <td>ANNUITY_INCOME_RATIO_MAX_AGG_CODE_GENDER_NAME_...</td>\n",
       "      <td>250</td>\n",
       "    </tr>\n",
       "    <tr>\n",
       "      <th>85</th>\n",
       "      <td>B_DAYS_ENDDATE_FACT_MAX_OVERALL</td>\n",
       "      <td>246</td>\n",
       "    </tr>\n",
       "    <tr>\n",
       "      <th>34</th>\n",
       "      <td>B_DAYS_CREDIT_MAX_CA_ACTIVE</td>\n",
       "      <td>239</td>\n",
       "    </tr>\n",
       "    <tr>\n",
       "      <th>25</th>\n",
       "      <td>AGE_EMPLOYED_DIFF_MEAN_AGG_NAME_EDUCATION_TYPE...</td>\n",
       "      <td>226</td>\n",
       "    </tr>\n",
       "    <tr>\n",
       "      <th>42</th>\n",
       "      <td>AMT_INCOME_TOTAL_MEAN_AGG_NAME_EDUCATION_TYPE_...</td>\n",
       "      <td>221</td>\n",
       "    </tr>\n",
       "    <tr>\n",
       "      <th>105</th>\n",
       "      <td>B_AMT_CREDIT_SUM_MEAN_OVERALL</td>\n",
       "      <td>213</td>\n",
       "    </tr>\n",
       "    <tr>\n",
       "      <th>47</th>\n",
       "      <td>B_DAYS_CREDIT_ENDDATE_MIN_OVERALL</td>\n",
       "      <td>213</td>\n",
       "    </tr>\n",
       "    <tr>\n",
       "      <th>111</th>\n",
       "      <td>B_AMT_CREDIT_SUM_DEBT_MEAN_OVERALL</td>\n",
       "      <td>211</td>\n",
       "    </tr>\n",
       "    <tr>\n",
       "      <th>46</th>\n",
       "      <td>B_B_CURRENT_CREDIT_DEBT_DIFF_MAX_OVERALL</td>\n",
       "      <td>206</td>\n",
       "    </tr>\n",
       "    <tr>\n",
       "      <th>97</th>\n",
       "      <td>CAR_EMPLOYED_DIFF</td>\n",
       "      <td>205</td>\n",
       "    </tr>\n",
       "    <tr>\n",
       "      <th>62</th>\n",
       "      <td>B_DAYS_CREDIT_SUM_OVERALL</td>\n",
       "      <td>200</td>\n",
       "    </tr>\n",
       "    <tr>\n",
       "      <th>81</th>\n",
       "      <td>AMT_INCOME_TOTAL_MAX_AGG_OCCUPATION_TYPE_ORGAN...</td>\n",
       "      <td>199</td>\n",
       "    </tr>\n",
       "    <tr>\n",
       "      <th>91</th>\n",
       "      <td>CAR_AGE_DIFF</td>\n",
       "      <td>197</td>\n",
       "    </tr>\n",
       "    <tr>\n",
       "      <th>7</th>\n",
       "      <td>B_DAYS_CREDIT_MEAN_OVERALL</td>\n",
       "      <td>197</td>\n",
       "    </tr>\n",
       "    <tr>\n",
       "      <th>52</th>\n",
       "      <td>B_AMT_CREDIT_SUM_MEAN_CA_CLOSED</td>\n",
       "      <td>188</td>\n",
       "    </tr>\n",
       "    <tr>\n",
       "      <th>75</th>\n",
       "      <td>AMT_ANNUITY_MAX_AGG_OCCUPATION_TYPE_ORGANIZATI...</td>\n",
       "      <td>187</td>\n",
       "    </tr>\n",
       "    <tr>\n",
       "      <th>14</th>\n",
       "      <td>B_DAYS_CREDIT_UPDATE_MEAN_OVERALL</td>\n",
       "      <td>185</td>\n",
       "    </tr>\n",
       "  </tbody>\n",
       "</table>\n",
       "</div>"
      ],
      "text/plain": [
       "                                               feature  importance\n",
       "6                                 CREDIT_ANNUITY_RATIO        1295\n",
       "16                                          DAYS_BIRTH         570\n",
       "20                                  CREDIT_GOODS_RATIO         553\n",
       "106                                        AMT_ANNUITY         471\n",
       "5                                         EXT_SOURCE_1         461\n",
       "0                                  WEIGHTED_EXT_SOURCE         458\n",
       "90                                     DAYS_ID_PUBLISH         452\n",
       "1                                       EXT_SOURCE_MIN         446\n",
       "39                             DAYS_DETAILS_CHANGE_SUM         434\n",
       "8                                     INCOME_EXT_RATIO         411\n",
       "11        B_B_CURRENT_DEBT_TO_CREDIT_RATIO_MAX_OVERALL         394\n",
       "84                                   AGE_EMPLOYED_DIFF         392\n",
       "4                                         EXT_SOURCE_2         390\n",
       "9             B_B_CURRENT_CREDIT_DEBT_DIFF_MIN_OVERALL         389\n",
       "50                                 DEF_30_CREDIT_RATIO         379\n",
       "3                                         EXT_SOURCE_3         378\n",
       "74                              DAYS_LAST_PHONE_CHANGE         364\n",
       "102                       B_AMT_CREDIT_SUM_MAX_OVERALL         355\n",
       "45   AGE_EMPLOYED_DIFF_MEAN_AGG_OCCUPATION_TYPE_ORG...         348\n",
       "103                                OBS_60_CREDIT_RATIO         343\n",
       "18        B_B_CURRENT_DEBT_TO_CREDIT_RATIO_SUM_OVERALL         341\n",
       "12                                    CREDIT_EXT_RATIO         340\n",
       "10                                       DAYS_EMPLOYED         332\n",
       "92                             HOUR_PROCESS_CREDIT_MUL         331\n",
       "2                                       EXT_SOURCE_MAX         321\n",
       "57   AMT_INCOME_TOTAL_MEAN_AGG_OCCUPATION_TYPE_ORGA...         309\n",
       "87                                   CREDIT_GOODS_DIFF         297\n",
       "36        B_B_CURRENT_DEBT_TO_CREDIT_RATIO_STD_OVERALL         292\n",
       "24                  B_DAYS_CREDIT_ENDDATE_MEAN_OVERALL         288\n",
       "69                   B_B_CREDIT_DURATION_MIN_CA_CLOSED         257\n",
       "17                           B_DAYS_CREDIT_MAX_OVERALL         256\n",
       "15           B_B_CURRENT_CREDIT_DEBT_DIFF_MEAN_OVERALL         256\n",
       "68                    B_DAYS_CREDIT_UPDATE_MAX_OVERALL         251\n",
       "38   ANNUITY_INCOME_RATIO_MAX_AGG_CODE_GENDER_NAME_...         250\n",
       "85                     B_DAYS_ENDDATE_FACT_MAX_OVERALL         246\n",
       "34                         B_DAYS_CREDIT_MAX_CA_ACTIVE         239\n",
       "25   AGE_EMPLOYED_DIFF_MEAN_AGG_NAME_EDUCATION_TYPE...         226\n",
       "42   AMT_INCOME_TOTAL_MEAN_AGG_NAME_EDUCATION_TYPE_...         221\n",
       "105                      B_AMT_CREDIT_SUM_MEAN_OVERALL         213\n",
       "47                   B_DAYS_CREDIT_ENDDATE_MIN_OVERALL         213\n",
       "111                 B_AMT_CREDIT_SUM_DEBT_MEAN_OVERALL         211\n",
       "46            B_B_CURRENT_CREDIT_DEBT_DIFF_MAX_OVERALL         206\n",
       "97                                   CAR_EMPLOYED_DIFF         205\n",
       "62                           B_DAYS_CREDIT_SUM_OVERALL         200\n",
       "81   AMT_INCOME_TOTAL_MAX_AGG_OCCUPATION_TYPE_ORGAN...         199\n",
       "91                                        CAR_AGE_DIFF         197\n",
       "7                           B_DAYS_CREDIT_MEAN_OVERALL         197\n",
       "52                     B_AMT_CREDIT_SUM_MEAN_CA_CLOSED         188\n",
       "75   AMT_ANNUITY_MAX_AGG_OCCUPATION_TYPE_ORGANIZATI...         187\n",
       "14                   B_DAYS_CREDIT_UPDATE_MEAN_OVERALL         185"
      ]
     },
     "metadata": {},
     "output_type": "display_data"
    }
   ],
   "source": [
    "# --- Model 4: LightGBM with Optuna Optimization & GPU ---\n",
    "print(\"\\n\" + \"=\"*60)\n",
    "print(\"Model 4: LightGBM with Optuna Optimization & GPU\")\n",
    "print(\"=\"*60)\n",
    "\n",
    "# Step 4.1: Baseline Pipeline (Add GPU option)\n",
    "print(\"\\n--- Baseline LightGBM Training ---\")\n",
    "lgb_base_pipeline = ImblearnPipeline([\n",
    "    #('smote', SMOTE_VARIANT),\n",
    "    ('scaler', StandardScaler()),\n",
    "    ('model', lgb.LGBMClassifier(objective='binary', metric='auc', random_state=SEED, n_jobs=6, scale_pos_weight=11.5,\n",
    "                                 device='gpu' if device_name == 'cuda' else 'cpu' # Enable GPU if available\n",
    "                                ))\n",
    "])\n",
    "\n",
    "lgb_base_pipeline.fit(X_train, y_train)\n",
    "y_pred_proba_test_base = lgb_base_pipeline.predict_proba(X_test)[:, 1]\n",
    "y_pred_bin_test_base = (y_pred_proba_test_base >= 0.5).astype(int)\n",
    "baseline_results.append(evaluate_model(y_test, y_pred_proba_test_base, y_pred_bin_test_base, \"LightGBM (Baseline)\"))\n",
    "plot_roc_curve(y_test, y_pred_proba_test_base, \"LightGBM (Baseline)\")\n",
    "get_feature_importance(lgb_base_pipeline.named_steps['model'], feature_names)\n",
    "\n",
    "# Step 4.2: Optuna Hyperparameter Optimization\n",
    "print(\"\\n--- Optuna Optimization for LightGBM ---\")\n",
    "\n",
    "def objective_lgbm(trial):\n",
    "    # Define hyperparameters\n",
    "    param = {\n",
    "        'objective': 'binary',\n",
    "        'metric': 'auc',\n",
    "        'random_state': SEED,\n",
    "        'n_jobs': 5,\n",
    "        'device': 'gpu' if device_name == 'cuda' else 'cpu', # Enable GPU\n",
    "        'n_estimators': trial.suggest_int('n_estimators', 100, 1000),\n",
    "        'learning_rate': trial.suggest_float('learning_rate', 0.01, 0.3, log=True),\n",
    "        'num_leaves': trial.suggest_int('num_leaves', 20, 100),\n",
    "        'max_depth': trial.suggest_int('max_depth', 3, 12),\n",
    "        'subsample': trial.suggest_float('subsample', 0.6, 1.0),\n",
    "        'colsample_bytree': trial.suggest_float('colsample_bytree', 0.6, 1.0),\n",
    "        'reg_alpha': trial.suggest_float('reg_alpha', 1e-8, 1.0, log=True),\n",
    "        'reg_lambda': trial.suggest_float('reg_lambda', 1e-8, 1.0, log=True),\n",
    "        'scale_pos_weight' : 11.5,\n",
    "        # 'min_child_samples': trial.suggest_int('min_child_samples', 5, 100), # Optional: depends on dataset size\n",
    "    }\n",
    "\n",
    "    pipeline = ImblearnPipeline([\n",
    "        #('smote', SMOTE_VARIANT),\n",
    "        ('scaler', StandardScaler()),\n",
    "        ('model', lgb.LGBMClassifier(**param))\n",
    "    ])\n",
    "\n",
    "    # Evaluate using cross-validation\n",
    "    try:\n",
    "        scores = cross_val_score(pipeline, X_train, y_train, cv=cv, scoring='roc_auc', n_jobs=5)\n",
    "        auc_score = np.mean(scores)\n",
    "        if np.isnan(auc_score): return 0.0\n",
    "        return auc_score\n",
    "    except Exception as e:\n",
    "        # LightGBM can sometimes throw errors with certain parameter combos\n",
    "        print(f\"Trial failed with error: {e}\")\n",
    "        return 0.0\n",
    "\n",
    "# Create and run study\n",
    "study_lgbm = optuna.create_study(direction='maximize',\n",
    "                                study_name='lgbm_optimization',\n",
    "                                storage=f'sqlite:///{MODEL_OUTPUT_PATH}optuna_studies.db',\n",
    "                                load_if_exists=True)\n",
    "\n",
    "# Create callbacks\n",
    "early_stopping = EarlyStoppingCallback(patience=5, min_improvement=0.001)\n",
    "timeout = TimeoutCallback(timeout=60)  # 1 hour timeout\n",
    "\n",
    "# Run optimization with callbacks\n",
    "print(f\"Starting Optuna optimization for LightGBM with max {OPTUNA_N_TRIALS} trials (early stopping enabled)...\")\n",
    "start_time = time.time()\n",
    "study_lgbm.optimize(objective_lgbm, n_trials=OPTUNA_N_TRIALS, callbacks=[early_stopping, timeout], n_jobs=1)\n",
    "end_time = time.time()\n",
    "print(f\"Optuna optimization completed in {(end_time - start_time)/60:.2f} minutes\")\n",
    "\n",
    "# Get best parameters and build final pipeline\n",
    "best_params_lgbm_raw = study_lgbm.best_params\n",
    "best_params_lgbm = {f'model__{k}': v for k, v in best_params_lgbm_raw.items()}\n",
    "print(f\"\\nBest Params (LightGBM): {best_params_lgbm_raw}\")\n",
    "print(f\"Best CV ROC AUC score: {study_lgbm.best_value:.4f}\")\n",
    "\n",
    "best_lgb_pipeline = ImblearnPipeline([\n",
    "    #('smote', SMOTE_VARIANT),\n",
    "    ('scaler', StandardScaler()),\n",
    "    ('model', lgb.LGBMClassifier(objective='binary', metric='auc', random_state=SEED, n_jobs=5,\n",
    "                                 device='gpu' if device_name == 'cuda' else 'cpu'))\n",
    "])\n",
    "# Update only the tuned parameters\n",
    "best_lgb_pipeline.set_params(**best_params_lgbm)\n",
    "\n",
    "print(\"\\nFitting best LightGBM pipeline on full training data...\")\n",
    "best_lgb_pipeline.fit(X_train, y_train)\n",
    "\n",
    "# Step 4.3: Optimal Threshold and Evaluation\n",
    "print(\"\\nEvaluating tuned LightGBM model...\")\n",
    "y_prob_oof_lgb = cross_val_predict(best_lgb_pipeline, X_train, y_train, cv=cv, method='predict_proba', n_jobs=-1)[:, 1]\n",
    "optimal_threshold_lgb = find_optimal_threshold_j_statistic(y_train, y_prob_oof_lgb)\n",
    "\n",
    "y_pred_proba_test_tuned = best_lgb_pipeline.predict_proba(X_test)[:, 1]\n",
    "y_pred_bin_test_tuned = (y_pred_proba_test_tuned >= optimal_threshold_lgb).astype(int)\n",
    "tuned_results.append(evaluate_model(y_test, y_pred_proba_test_tuned, y_pred_bin_test_tuned, \"LightGBM (Optuna Tuned)\"))\n",
    "plot_roc_curve(y_test, y_pred_proba_test_tuned, \"LightGBM (Optuna Tuned)\")\n",
    "get_feature_importance(best_lgb_pipeline.named_steps['model'], feature_names)\n",
    "model_objects['LGBM'] = best_lgb_pipeline # Store the best pipeline"
   ]
  },
  {
   "cell_type": "markdown",
   "metadata": {},
   "source": [
    "# 7. Model 5: Stacking Classifier"
   ]
  },
  {
   "cell_type": "code",
   "execution_count": 13,
   "metadata": {},
   "outputs": [
    {
     "name": "stdout",
     "output_type": "stream",
     "text": [
      "\n",
      "============================================================\n",
      "Model 6: Stacking Classifier\n",
      "============================================================\n",
      "Using base models: ['SGD', 'XGB', 'LGBM']\n",
      "Training Stacking Classifier...\n"
     ]
    },
    {
     "ename": "LightGBMError",
     "evalue": "Check failed: (best_split_info.right_count) > (0) at D:\\a\\1\\s\\lightgbm-python\\src\\treelearner\\serial_tree_learner.cpp, line 862 .\n",
     "output_type": "error",
     "traceback": [
      "\u001b[31m---------------------------------------------------------------------------\u001b[39m",
      "\u001b[31m_RemoteTraceback\u001b[39m                          Traceback (most recent call last)",
      "\u001b[31m_RemoteTraceback\u001b[39m: \n\"\"\"\njoblib.externals.loky.process_executor._RemoteTraceback: \n\"\"\"\nTraceback (most recent call last):\n  File \"c:\\Users\\ORLab\\main_source\\CreditRiskProject\\venv\\Lib\\site-packages\\joblib\\_utils.py\", line 72, in __call__\n    return self.func(**kwargs)\n           ^^^^^^^^^^^^^^^^^^^\n  File \"c:\\Users\\ORLab\\main_source\\CreditRiskProject\\venv\\Lib\\site-packages\\joblib\\parallel.py\", line 598, in __call__\n    return [func(*args, **kwargs)\n            ^^^^^^^^^^^^^^^^^^^^^\n  File \"c:\\Users\\ORLab\\main_source\\CreditRiskProject\\venv\\Lib\\site-packages\\sklearn\\utils\\parallel.py\", line 139, in __call__\n    return self.function(*args, **kwargs)\n           ^^^^^^^^^^^^^^^^^^^^^^^^^^^^^^\n  File \"c:\\Users\\ORLab\\main_source\\CreditRiskProject\\venv\\Lib\\site-packages\\sklearn\\model_selection\\_validation.py\", line 1332, in _fit_and_predict\n    estimator.fit(X_train, y_train, **fit_params)\n  File \"c:\\Users\\ORLab\\main_source\\CreditRiskProject\\venv\\Lib\\site-packages\\sklearn\\base.py\", line 1389, in wrapper\n    return fit_method(estimator, *args, **kwargs)\n           ^^^^^^^^^^^^^^^^^^^^^^^^^^^^^^^^^^^^^^\n  File \"c:\\Users\\ORLab\\main_source\\CreditRiskProject\\venv\\Lib\\site-packages\\imblearn\\pipeline.py\", line 526, in fit\n    self._final_estimator.fit(Xt, yt, **last_step_params[\"fit\"])\n  File \"c:\\Users\\ORLab\\main_source\\CreditRiskProject\\venv\\Lib\\site-packages\\lightgbm\\sklearn.py\", line 1560, in fit\n    super().fit(\n  File \"c:\\Users\\ORLab\\main_source\\CreditRiskProject\\venv\\Lib\\site-packages\\lightgbm\\sklearn.py\", line 1049, in fit\n    self._Booster = train(\n                    ^^^^^^\n  File \"c:\\Users\\ORLab\\main_source\\CreditRiskProject\\venv\\Lib\\site-packages\\lightgbm\\engine.py\", line 322, in train\n    booster.update(fobj=fobj)\n  File \"c:\\Users\\ORLab\\main_source\\CreditRiskProject\\venv\\Lib\\site-packages\\lightgbm\\basic.py\", line 4154, in update\n    _safe_call(\n  File \"c:\\Users\\ORLab\\main_source\\CreditRiskProject\\venv\\Lib\\site-packages\\lightgbm\\basic.py\", line 313, in _safe_call\n    raise LightGBMError(_LIB.LGBM_GetLastError().decode(\"utf-8\"))\nlightgbm.basic.LightGBMError: Check failed: (best_split_info.right_count) > (0) at D:\\a\\1\\s\\lightgbm-python\\src\\treelearner\\serial_tree_learner.cpp, line 862 .\n\n\"\"\"\n\nThe above exception was the direct cause of the following exception:\n\nTraceback (most recent call last):\n  File \"c:\\Users\\ORLab\\main_source\\CreditRiskProject\\venv\\Lib\\site-packages\\joblib\\externals\\loky\\process_executor.py\", line 463, in _process_worker\n    r = call_item()\n        ^^^^^^^^^^^\n  File \"c:\\Users\\ORLab\\main_source\\CreditRiskProject\\venv\\Lib\\site-packages\\joblib\\externals\\loky\\process_executor.py\", line 291, in __call__\n    return self.fn(*self.args, **self.kwargs)\n           ^^^^^^^^^^^^^^^^^^^^^^^^^^^^^^^^^^\n  File \"c:\\Users\\ORLab\\main_source\\CreditRiskProject\\venv\\Lib\\site-packages\\joblib\\parallel.py\", line 598, in __call__\n    return [func(*args, **kwargs)\n            ^^^^^^^^^^^^^^^^^^^^^\n  File \"c:\\Users\\ORLab\\main_source\\CreditRiskProject\\venv\\Lib\\site-packages\\sklearn\\utils\\parallel.py\", line 139, in __call__\n    return self.function(*args, **kwargs)\n           ^^^^^^^^^^^^^^^^^^^^^^^^^^^^^^\n  File \"c:\\Users\\ORLab\\main_source\\CreditRiskProject\\venv\\Lib\\site-packages\\sklearn\\utils\\_param_validation.py\", line 216, in wrapper\n    return func(*args, **kwargs)\n           ^^^^^^^^^^^^^^^^^^^^^\n  File \"c:\\Users\\ORLab\\main_source\\CreditRiskProject\\venv\\Lib\\site-packages\\sklearn\\model_selection\\_validation.py\", line 1247, in cross_val_predict\n    predictions = parallel(\n                  ^^^^^^^^^\n  File \"c:\\Users\\ORLab\\main_source\\CreditRiskProject\\venv\\Lib\\site-packages\\sklearn\\utils\\parallel.py\", line 77, in __call__\n    return super().__call__(iterable_with_config)\n           ^^^^^^^^^^^^^^^^^^^^^^^^^^^^^^^^^^^^^^\n  File \"c:\\Users\\ORLab\\main_source\\CreditRiskProject\\venv\\Lib\\site-packages\\joblib\\parallel.py\", line 2007, in __call__\n    return output if self.return_generator else list(output)\n                                                ^^^^^^^^^^^^\n  File \"c:\\Users\\ORLab\\main_source\\CreditRiskProject\\venv\\Lib\\site-packages\\joblib\\parallel.py\", line 1650, in _get_outputs\n    yield from self._retrieve()\n  File \"c:\\Users\\ORLab\\main_source\\CreditRiskProject\\venv\\Lib\\site-packages\\joblib\\parallel.py\", line 1754, in _retrieve\n    self._raise_error_fast()\n  File \"c:\\Users\\ORLab\\main_source\\CreditRiskProject\\venv\\Lib\\site-packages\\joblib\\parallel.py\", line 1789, in _raise_error_fast\n    error_job.get_result(self.timeout)\n  File \"c:\\Users\\ORLab\\main_source\\CreditRiskProject\\venv\\Lib\\site-packages\\joblib\\parallel.py\", line 745, in get_result\n    return self._return_or_raise()\n           ^^^^^^^^^^^^^^^^^^^^^^^\n  File \"c:\\Users\\ORLab\\main_source\\CreditRiskProject\\venv\\Lib\\site-packages\\joblib\\parallel.py\", line 763, in _return_or_raise\n    raise self._result\nlightgbm.basic.LightGBMError: Check failed: (best_split_info.right_count) > (0) at D:\\a\\1\\s\\lightgbm-python\\src\\treelearner\\serial_tree_learner.cpp, line 862 .\n\n\"\"\"",
      "\nThe above exception was the direct cause of the following exception:\n",
      "\u001b[31mLightGBMError\u001b[39m                             Traceback (most recent call last)",
      "\u001b[36mCell\u001b[39m\u001b[36m \u001b[39m\u001b[32mIn[13]\u001b[39m\u001b[32m, line 50\u001b[39m\n\u001b[32m     48\u001b[39m \u001b[38;5;28mprint\u001b[39m(\u001b[33m\"\u001b[39m\u001b[33mTraining Stacking Classifier...\u001b[39m\u001b[33m\"\u001b[39m)\n\u001b[32m     49\u001b[39m start_stack_time = time.time()\n\u001b[32m---> \u001b[39m\u001b[32m50\u001b[39m \u001b[43mstacking_clf\u001b[49m\u001b[43m.\u001b[49m\u001b[43mfit\u001b[49m\u001b[43m(\u001b[49m\u001b[43mX_train\u001b[49m\u001b[43m,\u001b[49m\u001b[43m \u001b[49m\u001b[43my_train\u001b[49m\u001b[43m)\u001b[49m\n\u001b[32m     51\u001b[39m end_stack_time = time.time()\n\u001b[32m     52\u001b[39m \u001b[38;5;28mprint\u001b[39m(\u001b[33mf\u001b[39m\u001b[33m\"\u001b[39m\u001b[33mStacking Training Time: \u001b[39m\u001b[38;5;132;01m{\u001b[39;00m(end_stack_time\u001b[38;5;250m \u001b[39m-\u001b[38;5;250m \u001b[39mstart_stack_time)/\u001b[32m60\u001b[39m\u001b[38;5;132;01m:\u001b[39;00m\u001b[33m.2f\u001b[39m\u001b[38;5;132;01m}\u001b[39;00m\u001b[33m minutes\u001b[39m\u001b[33m\"\u001b[39m)\n",
      "\u001b[36mFile \u001b[39m\u001b[32mc:\\Users\\ORLab\\main_source\\CreditRiskProject\\venv\\Lib\\site-packages\\sklearn\\utils\\validation.py:63\u001b[39m, in \u001b[36m_deprecate_positional_args.<locals>._inner_deprecate_positional_args.<locals>.inner_f\u001b[39m\u001b[34m(*args, **kwargs)\u001b[39m\n\u001b[32m     61\u001b[39m extra_args = \u001b[38;5;28mlen\u001b[39m(args) - \u001b[38;5;28mlen\u001b[39m(all_args)\n\u001b[32m     62\u001b[39m \u001b[38;5;28;01mif\u001b[39;00m extra_args <= \u001b[32m0\u001b[39m:\n\u001b[32m---> \u001b[39m\u001b[32m63\u001b[39m     \u001b[38;5;28;01mreturn\u001b[39;00m \u001b[43mf\u001b[49m\u001b[43m(\u001b[49m\u001b[43m*\u001b[49m\u001b[43margs\u001b[49m\u001b[43m,\u001b[49m\u001b[43m \u001b[49m\u001b[43m*\u001b[49m\u001b[43m*\u001b[49m\u001b[43mkwargs\u001b[49m\u001b[43m)\u001b[49m\n\u001b[32m     65\u001b[39m \u001b[38;5;66;03m# extra_args > 0\u001b[39;00m\n\u001b[32m     66\u001b[39m args_msg = [\n\u001b[32m     67\u001b[39m     \u001b[33m\"\u001b[39m\u001b[38;5;132;01m{}\u001b[39;00m\u001b[33m=\u001b[39m\u001b[38;5;132;01m{}\u001b[39;00m\u001b[33m\"\u001b[39m.format(name, arg)\n\u001b[32m     68\u001b[39m     \u001b[38;5;28;01mfor\u001b[39;00m name, arg \u001b[38;5;129;01min\u001b[39;00m \u001b[38;5;28mzip\u001b[39m(kwonly_args[:extra_args], args[-extra_args:])\n\u001b[32m     69\u001b[39m ]\n",
      "\u001b[36mFile \u001b[39m\u001b[32mc:\\Users\\ORLab\\main_source\\CreditRiskProject\\venv\\Lib\\site-packages\\sklearn\\ensemble\\_stacking.py:717\u001b[39m, in \u001b[36mStackingClassifier.fit\u001b[39m\u001b[34m(self, X, y, sample_weight, **fit_params)\u001b[39m\n\u001b[32m    715\u001b[39m \u001b[38;5;28;01mif\u001b[39;00m sample_weight \u001b[38;5;129;01mis\u001b[39;00m \u001b[38;5;129;01mnot\u001b[39;00m \u001b[38;5;28;01mNone\u001b[39;00m:\n\u001b[32m    716\u001b[39m     fit_params[\u001b[33m\"\u001b[39m\u001b[33msample_weight\u001b[39m\u001b[33m\"\u001b[39m] = sample_weight\n\u001b[32m--> \u001b[39m\u001b[32m717\u001b[39m \u001b[38;5;28;01mreturn\u001b[39;00m \u001b[38;5;28;43msuper\u001b[39;49m\u001b[43m(\u001b[49m\u001b[43m)\u001b[49m\u001b[43m.\u001b[49m\u001b[43mfit\u001b[49m\u001b[43m(\u001b[49m\u001b[43mX\u001b[49m\u001b[43m,\u001b[49m\u001b[43m \u001b[49m\u001b[43my_encoded\u001b[49m\u001b[43m,\u001b[49m\u001b[43m \u001b[49m\u001b[43m*\u001b[49m\u001b[43m*\u001b[49m\u001b[43mfit_params\u001b[49m\u001b[43m)\u001b[49m\n",
      "\u001b[36mFile \u001b[39m\u001b[32mc:\\Users\\ORLab\\main_source\\CreditRiskProject\\venv\\Lib\\site-packages\\sklearn\\base.py:1389\u001b[39m, in \u001b[36m_fit_context.<locals>.decorator.<locals>.wrapper\u001b[39m\u001b[34m(estimator, *args, **kwargs)\u001b[39m\n\u001b[32m   1382\u001b[39m     estimator._validate_params()\n\u001b[32m   1384\u001b[39m \u001b[38;5;28;01mwith\u001b[39;00m config_context(\n\u001b[32m   1385\u001b[39m     skip_parameter_validation=(\n\u001b[32m   1386\u001b[39m         prefer_skip_nested_validation \u001b[38;5;129;01mor\u001b[39;00m global_skip_validation\n\u001b[32m   1387\u001b[39m     )\n\u001b[32m   1388\u001b[39m ):\n\u001b[32m-> \u001b[39m\u001b[32m1389\u001b[39m     \u001b[38;5;28;01mreturn\u001b[39;00m \u001b[43mfit_method\u001b[49m\u001b[43m(\u001b[49m\u001b[43mestimator\u001b[49m\u001b[43m,\u001b[49m\u001b[43m \u001b[49m\u001b[43m*\u001b[49m\u001b[43margs\u001b[49m\u001b[43m,\u001b[49m\u001b[43m \u001b[49m\u001b[43m*\u001b[49m\u001b[43m*\u001b[49m\u001b[43mkwargs\u001b[49m\u001b[43m)\u001b[49m\n",
      "\u001b[36mFile \u001b[39m\u001b[32mc:\\Users\\ORLab\\main_source\\CreditRiskProject\\venv\\Lib\\site-packages\\sklearn\\ensemble\\_stacking.py:254\u001b[39m, in \u001b[36m_BaseStacking.fit\u001b[39m\u001b[34m(self, X, y, **fit_params)\u001b[39m\n\u001b[32m    251\u001b[39m     \u001b[38;5;28;01mif\u001b[39;00m \u001b[38;5;28mhasattr\u001b[39m(cv, \u001b[33m\"\u001b[39m\u001b[33mrandom_state\u001b[39m\u001b[33m\"\u001b[39m) \u001b[38;5;129;01mand\u001b[39;00m cv.random_state \u001b[38;5;129;01mis\u001b[39;00m \u001b[38;5;28;01mNone\u001b[39;00m:\n\u001b[32m    252\u001b[39m         cv.random_state = np.random.RandomState()\n\u001b[32m--> \u001b[39m\u001b[32m254\u001b[39m     predictions = \u001b[43mParallel\u001b[49m\u001b[43m(\u001b[49m\u001b[43mn_jobs\u001b[49m\u001b[43m=\u001b[49m\u001b[38;5;28;43mself\u001b[39;49m\u001b[43m.\u001b[49m\u001b[43mn_jobs\u001b[49m\u001b[43m)\u001b[49m\u001b[43m(\u001b[49m\n\u001b[32m    255\u001b[39m \u001b[43m        \u001b[49m\u001b[43mdelayed\u001b[49m\u001b[43m(\u001b[49m\u001b[43mcross_val_predict\u001b[49m\u001b[43m)\u001b[49m\u001b[43m(\u001b[49m\n\u001b[32m    256\u001b[39m \u001b[43m            \u001b[49m\u001b[43mclone\u001b[49m\u001b[43m(\u001b[49m\u001b[43mest\u001b[49m\u001b[43m)\u001b[49m\u001b[43m,\u001b[49m\n\u001b[32m    257\u001b[39m \u001b[43m            \u001b[49m\u001b[43mX\u001b[49m\u001b[43m,\u001b[49m\n\u001b[32m    258\u001b[39m \u001b[43m            \u001b[49m\u001b[43my\u001b[49m\u001b[43m,\u001b[49m\n\u001b[32m    259\u001b[39m \u001b[43m            \u001b[49m\u001b[43mcv\u001b[49m\u001b[43m=\u001b[49m\u001b[43mdeepcopy\u001b[49m\u001b[43m(\u001b[49m\u001b[43mcv\u001b[49m\u001b[43m)\u001b[49m\u001b[43m,\u001b[49m\n\u001b[32m    260\u001b[39m \u001b[43m            \u001b[49m\u001b[43mmethod\u001b[49m\u001b[43m=\u001b[49m\u001b[43mmeth\u001b[49m\u001b[43m,\u001b[49m\n\u001b[32m    261\u001b[39m \u001b[43m            \u001b[49m\u001b[43mn_jobs\u001b[49m\u001b[43m=\u001b[49m\u001b[38;5;28;43mself\u001b[39;49m\u001b[43m.\u001b[49m\u001b[43mn_jobs\u001b[49m\u001b[43m,\u001b[49m\n\u001b[32m    262\u001b[39m \u001b[43m            \u001b[49m\u001b[43mparams\u001b[49m\u001b[43m=\u001b[49m\u001b[43mrouted_params\u001b[49m\u001b[43m[\u001b[49m\u001b[43mname\u001b[49m\u001b[43m]\u001b[49m\u001b[43m[\u001b[49m\u001b[33;43m\"\u001b[39;49m\u001b[33;43mfit\u001b[39;49m\u001b[33;43m\"\u001b[39;49m\u001b[43m]\u001b[49m\u001b[43m,\u001b[49m\n\u001b[32m    263\u001b[39m \u001b[43m            \u001b[49m\u001b[43mverbose\u001b[49m\u001b[43m=\u001b[49m\u001b[38;5;28;43mself\u001b[39;49m\u001b[43m.\u001b[49m\u001b[43mverbose\u001b[49m\u001b[43m,\u001b[49m\n\u001b[32m    264\u001b[39m \u001b[43m        \u001b[49m\u001b[43m)\u001b[49m\n\u001b[32m    265\u001b[39m \u001b[43m        \u001b[49m\u001b[38;5;28;43;01mfor\u001b[39;49;00m\u001b[43m \u001b[49m\u001b[43mname\u001b[49m\u001b[43m,\u001b[49m\u001b[43m \u001b[49m\u001b[43mest\u001b[49m\u001b[43m,\u001b[49m\u001b[43m \u001b[49m\u001b[43mmeth\u001b[49m\u001b[43m \u001b[49m\u001b[38;5;129;43;01min\u001b[39;49;00m\u001b[43m \u001b[49m\u001b[38;5;28;43mzip\u001b[39;49m\u001b[43m(\u001b[49m\u001b[43mnames\u001b[49m\u001b[43m,\u001b[49m\u001b[43m \u001b[49m\u001b[43mall_estimators\u001b[49m\u001b[43m,\u001b[49m\u001b[43m \u001b[49m\u001b[38;5;28;43mself\u001b[39;49m\u001b[43m.\u001b[49m\u001b[43mstack_method_\u001b[49m\u001b[43m)\u001b[49m\n\u001b[32m    266\u001b[39m \u001b[43m        \u001b[49m\u001b[38;5;28;43;01mif\u001b[39;49;00m\u001b[43m \u001b[49m\u001b[43mest\u001b[49m\u001b[43m \u001b[49m\u001b[43m!=\u001b[49m\u001b[43m \u001b[49m\u001b[33;43m\"\u001b[39;49m\u001b[33;43mdrop\u001b[39;49m\u001b[33;43m\"\u001b[39;49m\n\u001b[32m    267\u001b[39m \u001b[43m    \u001b[49m\u001b[43m)\u001b[49m\n\u001b[32m    269\u001b[39m \u001b[38;5;66;03m# Only not None or not 'drop' estimators will be used in transform.\u001b[39;00m\n\u001b[32m    270\u001b[39m \u001b[38;5;66;03m# Remove the None from the method as well.\u001b[39;00m\n\u001b[32m    271\u001b[39m \u001b[38;5;28mself\u001b[39m.stack_method_ = [\n\u001b[32m    272\u001b[39m     meth\n\u001b[32m    273\u001b[39m     \u001b[38;5;28;01mfor\u001b[39;00m (meth, est) \u001b[38;5;129;01min\u001b[39;00m \u001b[38;5;28mzip\u001b[39m(\u001b[38;5;28mself\u001b[39m.stack_method_, all_estimators)\n\u001b[32m    274\u001b[39m     \u001b[38;5;28;01mif\u001b[39;00m est != \u001b[33m\"\u001b[39m\u001b[33mdrop\u001b[39m\u001b[33m\"\u001b[39m\n\u001b[32m    275\u001b[39m ]\n",
      "\u001b[36mFile \u001b[39m\u001b[32mc:\\Users\\ORLab\\main_source\\CreditRiskProject\\venv\\Lib\\site-packages\\sklearn\\utils\\parallel.py:77\u001b[39m, in \u001b[36mParallel.__call__\u001b[39m\u001b[34m(self, iterable)\u001b[39m\n\u001b[32m     72\u001b[39m config = get_config()\n\u001b[32m     73\u001b[39m iterable_with_config = (\n\u001b[32m     74\u001b[39m     (_with_config(delayed_func, config), args, kwargs)\n\u001b[32m     75\u001b[39m     \u001b[38;5;28;01mfor\u001b[39;00m delayed_func, args, kwargs \u001b[38;5;129;01min\u001b[39;00m iterable\n\u001b[32m     76\u001b[39m )\n\u001b[32m---> \u001b[39m\u001b[32m77\u001b[39m \u001b[38;5;28;01mreturn\u001b[39;00m \u001b[38;5;28;43msuper\u001b[39;49m\u001b[43m(\u001b[49m\u001b[43m)\u001b[49m\u001b[43m.\u001b[49m\u001b[34;43m__call__\u001b[39;49m\u001b[43m(\u001b[49m\u001b[43miterable_with_config\u001b[49m\u001b[43m)\u001b[49m\n",
      "\u001b[36mFile \u001b[39m\u001b[32mc:\\Users\\ORLab\\main_source\\CreditRiskProject\\venv\\Lib\\site-packages\\joblib\\parallel.py:2007\u001b[39m, in \u001b[36mParallel.__call__\u001b[39m\u001b[34m(self, iterable)\u001b[39m\n\u001b[32m   2001\u001b[39m \u001b[38;5;66;03m# The first item from the output is blank, but it makes the interpreter\u001b[39;00m\n\u001b[32m   2002\u001b[39m \u001b[38;5;66;03m# progress until it enters the Try/Except block of the generator and\u001b[39;00m\n\u001b[32m   2003\u001b[39m \u001b[38;5;66;03m# reaches the first `yield` statement. This starts the asynchronous\u001b[39;00m\n\u001b[32m   2004\u001b[39m \u001b[38;5;66;03m# dispatch of the tasks to the workers.\u001b[39;00m\n\u001b[32m   2005\u001b[39m \u001b[38;5;28mnext\u001b[39m(output)\n\u001b[32m-> \u001b[39m\u001b[32m2007\u001b[39m \u001b[38;5;28;01mreturn\u001b[39;00m output \u001b[38;5;28;01mif\u001b[39;00m \u001b[38;5;28mself\u001b[39m.return_generator \u001b[38;5;28;01melse\u001b[39;00m \u001b[38;5;28;43mlist\u001b[39;49m\u001b[43m(\u001b[49m\u001b[43moutput\u001b[49m\u001b[43m)\u001b[49m\n",
      "\u001b[36mFile \u001b[39m\u001b[32mc:\\Users\\ORLab\\main_source\\CreditRiskProject\\venv\\Lib\\site-packages\\joblib\\parallel.py:1650\u001b[39m, in \u001b[36mParallel._get_outputs\u001b[39m\u001b[34m(self, iterator, pre_dispatch)\u001b[39m\n\u001b[32m   1647\u001b[39m     \u001b[38;5;28;01myield\u001b[39;00m\n\u001b[32m   1649\u001b[39m     \u001b[38;5;28;01mwith\u001b[39;00m \u001b[38;5;28mself\u001b[39m._backend.retrieval_context():\n\u001b[32m-> \u001b[39m\u001b[32m1650\u001b[39m         \u001b[38;5;28;01myield from\u001b[39;00m \u001b[38;5;28mself\u001b[39m._retrieve()\n\u001b[32m   1652\u001b[39m \u001b[38;5;28;01mexcept\u001b[39;00m \u001b[38;5;167;01mGeneratorExit\u001b[39;00m:\n\u001b[32m   1653\u001b[39m     \u001b[38;5;66;03m# The generator has been garbage collected before being fully\u001b[39;00m\n\u001b[32m   1654\u001b[39m     \u001b[38;5;66;03m# consumed. This aborts the remaining tasks if possible and warn\u001b[39;00m\n\u001b[32m   1655\u001b[39m     \u001b[38;5;66;03m# the user if necessary.\u001b[39;00m\n\u001b[32m   1656\u001b[39m     \u001b[38;5;28mself\u001b[39m._exception = \u001b[38;5;28;01mTrue\u001b[39;00m\n",
      "\u001b[36mFile \u001b[39m\u001b[32mc:\\Users\\ORLab\\main_source\\CreditRiskProject\\venv\\Lib\\site-packages\\joblib\\parallel.py:1754\u001b[39m, in \u001b[36mParallel._retrieve\u001b[39m\u001b[34m(self)\u001b[39m\n\u001b[32m   1747\u001b[39m \u001b[38;5;28;01mwhile\u001b[39;00m \u001b[38;5;28mself\u001b[39m._wait_retrieval():\n\u001b[32m   1748\u001b[39m \n\u001b[32m   1749\u001b[39m     \u001b[38;5;66;03m# If the callback thread of a worker has signaled that its task\u001b[39;00m\n\u001b[32m   1750\u001b[39m     \u001b[38;5;66;03m# triggered an exception, or if the retrieval loop has raised an\u001b[39;00m\n\u001b[32m   1751\u001b[39m     \u001b[38;5;66;03m# exception (e.g. `GeneratorExit`), exit the loop and surface the\u001b[39;00m\n\u001b[32m   1752\u001b[39m     \u001b[38;5;66;03m# worker traceback.\u001b[39;00m\n\u001b[32m   1753\u001b[39m     \u001b[38;5;28;01mif\u001b[39;00m \u001b[38;5;28mself\u001b[39m._aborting:\n\u001b[32m-> \u001b[39m\u001b[32m1754\u001b[39m         \u001b[38;5;28;43mself\u001b[39;49m\u001b[43m.\u001b[49m\u001b[43m_raise_error_fast\u001b[49m\u001b[43m(\u001b[49m\u001b[43m)\u001b[49m\n\u001b[32m   1755\u001b[39m         \u001b[38;5;28;01mbreak\u001b[39;00m\n\u001b[32m   1757\u001b[39m     \u001b[38;5;66;03m# If the next job is not ready for retrieval yet, we just wait for\u001b[39;00m\n\u001b[32m   1758\u001b[39m     \u001b[38;5;66;03m# async callbacks to progress.\u001b[39;00m\n",
      "\u001b[36mFile \u001b[39m\u001b[32mc:\\Users\\ORLab\\main_source\\CreditRiskProject\\venv\\Lib\\site-packages\\joblib\\parallel.py:1789\u001b[39m, in \u001b[36mParallel._raise_error_fast\u001b[39m\u001b[34m(self)\u001b[39m\n\u001b[32m   1785\u001b[39m \u001b[38;5;66;03m# If this error job exists, immediately raise the error by\u001b[39;00m\n\u001b[32m   1786\u001b[39m \u001b[38;5;66;03m# calling get_result. This job might not exists if abort has been\u001b[39;00m\n\u001b[32m   1787\u001b[39m \u001b[38;5;66;03m# called directly or if the generator is gc'ed.\u001b[39;00m\n\u001b[32m   1788\u001b[39m \u001b[38;5;28;01mif\u001b[39;00m error_job \u001b[38;5;129;01mis\u001b[39;00m \u001b[38;5;129;01mnot\u001b[39;00m \u001b[38;5;28;01mNone\u001b[39;00m:\n\u001b[32m-> \u001b[39m\u001b[32m1789\u001b[39m     \u001b[43merror_job\u001b[49m\u001b[43m.\u001b[49m\u001b[43mget_result\u001b[49m\u001b[43m(\u001b[49m\u001b[38;5;28;43mself\u001b[39;49m\u001b[43m.\u001b[49m\u001b[43mtimeout\u001b[49m\u001b[43m)\u001b[49m\n",
      "\u001b[36mFile \u001b[39m\u001b[32mc:\\Users\\ORLab\\main_source\\CreditRiskProject\\venv\\Lib\\site-packages\\joblib\\parallel.py:745\u001b[39m, in \u001b[36mBatchCompletionCallBack.get_result\u001b[39m\u001b[34m(self, timeout)\u001b[39m\n\u001b[32m    739\u001b[39m backend = \u001b[38;5;28mself\u001b[39m.parallel._backend\n\u001b[32m    741\u001b[39m \u001b[38;5;28;01mif\u001b[39;00m backend.supports_retrieve_callback:\n\u001b[32m    742\u001b[39m     \u001b[38;5;66;03m# We assume that the result has already been retrieved by the\u001b[39;00m\n\u001b[32m    743\u001b[39m     \u001b[38;5;66;03m# callback thread, and is stored internally. It's just waiting to\u001b[39;00m\n\u001b[32m    744\u001b[39m     \u001b[38;5;66;03m# be returned.\u001b[39;00m\n\u001b[32m--> \u001b[39m\u001b[32m745\u001b[39m     \u001b[38;5;28;01mreturn\u001b[39;00m \u001b[38;5;28;43mself\u001b[39;49m\u001b[43m.\u001b[49m\u001b[43m_return_or_raise\u001b[49m\u001b[43m(\u001b[49m\u001b[43m)\u001b[49m\n\u001b[32m    747\u001b[39m \u001b[38;5;66;03m# For other backends, the main thread needs to run the retrieval step.\u001b[39;00m\n\u001b[32m    748\u001b[39m \u001b[38;5;28;01mtry\u001b[39;00m:\n",
      "\u001b[36mFile \u001b[39m\u001b[32mc:\\Users\\ORLab\\main_source\\CreditRiskProject\\venv\\Lib\\site-packages\\joblib\\parallel.py:763\u001b[39m, in \u001b[36mBatchCompletionCallBack._return_or_raise\u001b[39m\u001b[34m(self)\u001b[39m\n\u001b[32m    761\u001b[39m \u001b[38;5;28;01mtry\u001b[39;00m:\n\u001b[32m    762\u001b[39m     \u001b[38;5;28;01mif\u001b[39;00m \u001b[38;5;28mself\u001b[39m.status == TASK_ERROR:\n\u001b[32m--> \u001b[39m\u001b[32m763\u001b[39m         \u001b[38;5;28;01mraise\u001b[39;00m \u001b[38;5;28mself\u001b[39m._result\n\u001b[32m    764\u001b[39m     \u001b[38;5;28;01mreturn\u001b[39;00m \u001b[38;5;28mself\u001b[39m._result\n\u001b[32m    765\u001b[39m \u001b[38;5;28;01mfinally\u001b[39;00m:\n",
      "\u001b[31mLightGBMError\u001b[39m: Check failed: (best_split_info.right_count) > (0) at D:\\a\\1\\s\\lightgbm-python\\src\\treelearner\\serial_tree_learner.cpp, line 862 .\n"
     ]
    }
   ],
   "source": [
    "# --- Model 5: Stacking Classifier ---\n",
    "print(\"\\n\" + \"=\"*60)\n",
    "print(\"Model 6: Stacking Classifier\")\n",
    "print(\"=\"*60)\n",
    "\n",
    "# Check if base models were successfully trained and stored\n",
    "base_models_available = [name for name in ['LR_WOE', 'SGD', 'XGB', 'LGBM'] if name in model_objects]\n",
    "\n",
    "if len(base_models_available) < 2:\n",
    "    print(\"Need at least 2 successfully tuned base models to perform stacking. Skipping.\")\n",
    "    baseline_results.append({'Model': 'Stacking (Baseline)', 'AUC': np.nan}) # Add placeholder results\n",
    "    tuned_results.append({'Model': 'Stacking (Tuned)', 'AUC': np.nan})\n",
    "else:\n",
    "    print(f\"Using base models: {base_models_available}\")\n",
    "\n",
    "    # Define base estimators using the best pipelines/models found\n",
    "    # Note: LR_WOE needs special handling as it uses pre-transformed data\n",
    "    estimators = []\n",
    "    # Need a way to handle the WOE input for the LR_WOE base model within StackingClassifier\n",
    "    # This is complex. A common workaround is to retrain the non-WOE models without SMOTE/Scaling\n",
    "    # within the stacking pipeline if the meta-learner benefits from raw probabilities.\n",
    "    # OR, create custom transformers for WOE application within the stacking framework.\n",
    "    # For simplicity here, let's use the pipelines *as is*, acknowledging potential inefficiencies.\n",
    "    # We will exclude LR_WOE for now due to the input data difference.\n",
    "    estimators = [(name, model_objects[name]) for name in base_models_available if name != 'LR_WOE']\n",
    "\n",
    "    if not estimators:\n",
    "         print(\"No suitable non-WOE base models found for stacking. Skipping.\")\n",
    "         baseline_results.append({'Model': 'Stacking (Baseline)', 'AUC': np.nan})\n",
    "         tuned_results.append({'Model': 'Stacking (Tuned)', 'AUC': np.nan})\n",
    "    else:\n",
    "        # Define Meta Learner\n",
    "        meta_learner = LogisticRegression(random_state=SEED, class_weight='balanced', n_jobs=5)\n",
    "\n",
    "        # Create Stacking Classifier\n",
    "        # Use 'predict_proba' for stack_method as meta-learner often benefits from probabilities\n",
    "        # `passthrough=False` means only the predictions of base models are passed to meta-learner\n",
    "        stacking_clf = StackingClassifier(\n",
    "            estimators=estimators,\n",
    "            final_estimator=meta_learner,\n",
    "            cv=cv, # Use the same CV strategy for generating base model predictions\n",
    "            stack_method='predict_proba',\n",
    "            n_jobs=-1,\n",
    "            passthrough=False # Usually False is better unless meta-learner needs original features too\n",
    "        )\n",
    "\n",
    "        # Train the Stacking Classifier\n",
    "        print(\"Training Stacking Classifier...\")\n",
    "        start_stack_time = time.time()\n",
    "        stacking_clf.fit(X_train, y_train)\n",
    "        end_stack_time = time.time()\n",
    "        print(f\"Stacking Training Time: {(end_stack_time - start_stack_time)/60:.2f} minutes\")\n",
    "\n",
    "\n",
    "        # Optimal Threshold and Evaluation\n",
    "        # Get OOF predictions (using internal CV of StackingClassifier isn't straightforward for threshold tuning)\n",
    "        # Re-run cross_val_predict with the *fitted* stacking classifier is one way,\n",
    "        # but might be computationally expensive as it retrains.\n",
    "        # Alternative: Use the internal OOF predictions if accessible (not standard in sklearn's StackingClassifier)\n",
    "        # Simplest approach for now: Use the fitted model and evaluate directly, find threshold on test preds (less ideal)\n",
    "        # Or: find threshold on OOF predictions of the *meta-learner* if we could extract them.\n",
    "        # Let's proceed with direct evaluation and acknowledge thresholding limitation here.\n",
    "\n",
    "        print(\"Evaluating Stacking Classifier...\")\n",
    "        y_pred_proba_test_stack = stacking_clf.predict_proba(X_test)[:, 1]\n",
    "\n",
    "        # Find threshold on test set probabilities (Sub-optimal, but simple for this structure)\n",
    "        # Ideally, you'd get OOF predictions from the *stacking* process on the training set.\n",
    "        # optimal_threshold_stack = find_optimal_threshold_j_statistic(y_test, y_pred_proba_test_stack) # Find on test for demo\n",
    "\n",
    "        # For consistency, let's try getting OOF on train (might be slow)\n",
    "        print(\"Getting OOF predictions for Stacking threshold tuning (may take time)...\")\n",
    "        y_prob_oof_stack = cross_val_predict(stacking_clf, X_train, y_train, cv=cv, method='predict_proba', n_jobs=-1)[:, 1]\n",
    "        optimal_threshold_stack = find_optimal_threshold_j_statistic(y_train, y_prob_oof_stack)\n",
    "\n",
    "        y_pred_bin_test_stack = (y_pred_proba_test_stack >= optimal_threshold_stack).astype(int)\n",
    "\n",
    "        # Store as both baseline and tuned result for Stacking\n",
    "        stacking_eval_results = evaluate_model(y_test, y_pred_proba_test_stack, y_pred_bin_test_stack, \"Stacking Classifier\")\n",
    "        baseline_results.append(stacking_eval_results)\n",
    "        tuned_results.append(stacking_eval_results) # No separate tuning step shown here\n",
    "\n",
    "        plot_roc_curve(y_test, y_pred_proba_test_stack, \"Stacking Classifier\")\n",
    "        # Feature importance for stacking is typically done via SHAP on the meta-learner or permutation importance.\n",
    "        # Or examine coefficients of the meta-learner:\n",
    "        if hasattr(stacking_clf.final_estimator_, 'coef_'):\n",
    "            print(\"\\nMeta-Learner Coefficients (Importance of Base Models):\")\n",
    "            meta_coefs = pd.DataFrame({\n",
    "                'Base Model': [name for name, _ in estimators],\n",
    "                'Coefficient': np.abs(stacking_clf.final_estimator_.coef_[0]) # Abs value for importance magnitude\n",
    "            }).sort_values('Coefficient', ascending=False)\n",
    "            display(meta_coefs)\n",
    "        model_objects['Stacking'] = stacking_clf # Store the model"
   ]
  },
  {
   "cell_type": "markdown",
   "metadata": {},
   "source": [
    "# 8. Model Evaluation"
   ]
  },
  {
   "cell_type": "code",
   "execution_count": null,
   "metadata": {},
   "outputs": [
    {
     "name": "stdout",
     "output_type": "stream",
     "text": [
      "\n",
      "============================================================\n",
      "Overall Model Comparison\n",
      "============================================================\n",
      "\n",
      "--- Baseline Model Performance (Test Set, Threshold=0.5 or Balanced Weight) ---\n"
     ]
    },
    {
     "data": {
      "text/html": [
       "<div>\n",
       "<style scoped>\n",
       "    .dataframe tbody tr th:only-of-type {\n",
       "        vertical-align: middle;\n",
       "    }\n",
       "\n",
       "    .dataframe tbody tr th {\n",
       "        vertical-align: top;\n",
       "    }\n",
       "\n",
       "    .dataframe thead th {\n",
       "        text-align: right;\n",
       "    }\n",
       "</style>\n",
       "<table border=\"1\" class=\"dataframe\">\n",
       "  <thead>\n",
       "    <tr style=\"text-align: right;\">\n",
       "      <th></th>\n",
       "      <th>AUC</th>\n",
       "      <th>Gini</th>\n",
       "      <th>KS</th>\n",
       "      <th>Accuracy</th>\n",
       "      <th>Precision</th>\n",
       "      <th>Recall</th>\n",
       "      <th>F1</th>\n",
       "      <th>Brier</th>\n",
       "      <th>LogLoss</th>\n",
       "    </tr>\n",
       "    <tr>\n",
       "      <th>Model</th>\n",
       "      <th></th>\n",
       "      <th></th>\n",
       "      <th></th>\n",
       "      <th></th>\n",
       "      <th></th>\n",
       "      <th></th>\n",
       "      <th></th>\n",
       "      <th></th>\n",
       "      <th></th>\n",
       "    </tr>\n",
       "  </thead>\n",
       "  <tbody>\n",
       "    <tr>\n",
       "      <th>LightGBM (Baseline)</th>\n",
       "      <td>0.77510</td>\n",
       "      <td>0.55021</td>\n",
       "      <td>0.41370</td>\n",
       "      <td>0.71398</td>\n",
       "      <td>0.17659</td>\n",
       "      <td>0.69426</td>\n",
       "      <td>0.28156</td>\n",
       "      <td>0.18447</td>\n",
       "      <td>0.54468</td>\n",
       "    </tr>\n",
       "    <tr>\n",
       "      <th>Stacking Classifier</th>\n",
       "      <td>0.77291</td>\n",
       "      <td>0.54582</td>\n",
       "      <td>0.40618</td>\n",
       "      <td>0.72144</td>\n",
       "      <td>0.17749</td>\n",
       "      <td>0.67432</td>\n",
       "      <td>0.28101</td>\n",
       "      <td>0.18979</td>\n",
       "      <td>0.57638</td>\n",
       "    </tr>\n",
       "    <tr>\n",
       "      <th>XGBoost (Baseline)</th>\n",
       "      <td>0.75446</td>\n",
       "      <td>0.50893</td>\n",
       "      <td>0.37912</td>\n",
       "      <td>0.75380</td>\n",
       "      <td>0.18533</td>\n",
       "      <td>0.60363</td>\n",
       "      <td>0.28359</td>\n",
       "      <td>0.16483</td>\n",
       "      <td>0.49610</td>\n",
       "    </tr>\n",
       "    <tr>\n",
       "      <th>SGDClassifier (Baseline)</th>\n",
       "      <td>0.72580</td>\n",
       "      <td>0.45159</td>\n",
       "      <td>0.33871</td>\n",
       "      <td>0.67682</td>\n",
       "      <td>0.15228</td>\n",
       "      <td>0.65760</td>\n",
       "      <td>0.24729</td>\n",
       "      <td>0.21175</td>\n",
       "      <td>0.63249</td>\n",
       "    </tr>\n",
       "  </tbody>\n",
       "</table>\n",
       "</div>"
      ],
      "text/plain": [
       "                             AUC    Gini      KS  Accuracy  Precision  Recall  \\\n",
       "Model                                                                           \n",
       "LightGBM (Baseline)      0.77510 0.55021 0.41370   0.71398    0.17659 0.69426   \n",
       "Stacking Classifier      0.77291 0.54582 0.40618   0.72144    0.17749 0.67432   \n",
       "XGBoost (Baseline)       0.75446 0.50893 0.37912   0.75380    0.18533 0.60363   \n",
       "SGDClassifier (Baseline) 0.72580 0.45159 0.33871   0.67682    0.15228 0.65760   \n",
       "\n",
       "                              F1   Brier  LogLoss  \n",
       "Model                                              \n",
       "LightGBM (Baseline)      0.28156 0.18447  0.54468  \n",
       "Stacking Classifier      0.28101 0.18979  0.57638  \n",
       "XGBoost (Baseline)       0.28359 0.16483  0.49610  \n",
       "SGDClassifier (Baseline) 0.24729 0.21175  0.63249  "
      ]
     },
     "metadata": {},
     "output_type": "display_data"
    },
    {
     "name": "stdout",
     "output_type": "stream",
     "text": [
      "\n",
      "--- Tuned Model Performance (Test Set, Optimal Threshold via Youden's J on OOF) ---\n"
     ]
    },
    {
     "data": {
      "text/html": [
       "<div>\n",
       "<style scoped>\n",
       "    .dataframe tbody tr th:only-of-type {\n",
       "        vertical-align: middle;\n",
       "    }\n",
       "\n",
       "    .dataframe tbody tr th {\n",
       "        vertical-align: top;\n",
       "    }\n",
       "\n",
       "    .dataframe thead th {\n",
       "        text-align: right;\n",
       "    }\n",
       "</style>\n",
       "<table border=\"1\" class=\"dataframe\">\n",
       "  <thead>\n",
       "    <tr style=\"text-align: right;\">\n",
       "      <th></th>\n",
       "      <th>AUC</th>\n",
       "      <th>Gini</th>\n",
       "      <th>KS</th>\n",
       "      <th>Accuracy</th>\n",
       "      <th>Precision</th>\n",
       "      <th>Recall</th>\n",
       "      <th>F1</th>\n",
       "      <th>Brier</th>\n",
       "      <th>LogLoss</th>\n",
       "    </tr>\n",
       "    <tr>\n",
       "      <th>Model</th>\n",
       "      <th></th>\n",
       "      <th></th>\n",
       "      <th></th>\n",
       "      <th></th>\n",
       "      <th></th>\n",
       "      <th></th>\n",
       "      <th></th>\n",
       "      <th></th>\n",
       "      <th></th>\n",
       "    </tr>\n",
       "  </thead>\n",
       "  <tbody>\n",
       "    <tr>\n",
       "      <th>LightGBM (Optuna Tuned)</th>\n",
       "      <td>0.77845</td>\n",
       "      <td>0.55691</td>\n",
       "      <td>0.41835</td>\n",
       "      <td>0.70515</td>\n",
       "      <td>0.17482</td>\n",
       "      <td>0.71299</td>\n",
       "      <td>0.28080</td>\n",
       "      <td>0.06621</td>\n",
       "      <td>0.23923</td>\n",
       "    </tr>\n",
       "    <tr>\n",
       "      <th>XGBoost (Optuna Tuned)</th>\n",
       "      <td>0.77773</td>\n",
       "      <td>0.55547</td>\n",
       "      <td>0.41597</td>\n",
       "      <td>0.67068</td>\n",
       "      <td>0.16361</td>\n",
       "      <td>0.74884</td>\n",
       "      <td>0.26854</td>\n",
       "      <td>0.06630</td>\n",
       "      <td>0.23952</td>\n",
       "    </tr>\n",
       "    <tr>\n",
       "      <th>Stacking Classifier</th>\n",
       "      <td>0.77291</td>\n",
       "      <td>0.54582</td>\n",
       "      <td>0.40618</td>\n",
       "      <td>0.72144</td>\n",
       "      <td>0.17749</td>\n",
       "      <td>0.67432</td>\n",
       "      <td>0.28101</td>\n",
       "      <td>0.18979</td>\n",
       "      <td>0.57638</td>\n",
       "    </tr>\n",
       "    <tr>\n",
       "      <th>SGDClassifier (Optuna Tuned)</th>\n",
       "      <td>0.75644</td>\n",
       "      <td>0.51288</td>\n",
       "      <td>0.37752</td>\n",
       "      <td>0.67536</td>\n",
       "      <td>0.15846</td>\n",
       "      <td>0.70091</td>\n",
       "      <td>0.25849</td>\n",
       "      <td>0.20022</td>\n",
       "      <td>0.58677</td>\n",
       "    </tr>\n",
       "  </tbody>\n",
       "</table>\n",
       "</div>"
      ],
      "text/plain": [
       "                                 AUC    Gini      KS  Accuracy  Precision  \\\n",
       "Model                                                                       \n",
       "LightGBM (Optuna Tuned)      0.77845 0.55691 0.41835   0.70515    0.17482   \n",
       "XGBoost (Optuna Tuned)       0.77773 0.55547 0.41597   0.67068    0.16361   \n",
       "Stacking Classifier          0.77291 0.54582 0.40618   0.72144    0.17749   \n",
       "SGDClassifier (Optuna Tuned) 0.75644 0.51288 0.37752   0.67536    0.15846   \n",
       "\n",
       "                              Recall      F1   Brier  LogLoss  \n",
       "Model                                                          \n",
       "LightGBM (Optuna Tuned)      0.71299 0.28080 0.06621  0.23923  \n",
       "XGBoost (Optuna Tuned)       0.74884 0.26854 0.06630  0.23952  \n",
       "Stacking Classifier          0.67432 0.28101 0.18979  0.57638  \n",
       "SGDClassifier (Optuna Tuned) 0.70091 0.25849 0.20022  0.58677  "
      ]
     },
     "metadata": {},
     "output_type": "display_data"
    },
    {
     "name": "stdout",
     "output_type": "stream",
     "text": [
      "\n",
      "Results saved to ./model_outputs/\n",
      "Best model objects saved to ./model_outputs/best_models_optuna.pkl\n",
      "\n",
      "Feature importances saved to ./model_outputs/feature_importances.csv\n",
      "\n",
      "Modeling complete.\n"
     ]
    }
   ],
   "source": [
    "# --- Final Results Comparison ---\n",
    "print(\"\\n\" + \"=\"*60)\n",
    "print(\"Overall Model Comparison\")\n",
    "print(\"=\"*60)\n",
    "\n",
    "baseline_results_df = pd.DataFrame(baseline_results).set_index('Model')\n",
    "tuned_results_df = pd.DataFrame(tuned_results).set_index('Model') # Now contains Optuna results\n",
    "\n",
    "print(\"\\n--- Baseline Model Performance (Test Set, Threshold=0.5 or Balanced Weight) ---\")\n",
    "display(baseline_results_df.sort_values('AUC', ascending=False))\n",
    "\n",
    "print(\"\\n--- Tuned Model Performance (Test Set, Optimal Threshold via Youden's J on OOF) ---\")\n",
    "display(tuned_results_df.sort_values('AUC', ascending=False))\n",
    "\n",
    "# --- Save Results ---\n",
    "baseline_results_df.to_csv(os.path.join(MODEL_OUTPUT_PATH, \"baseline_model_results.csv\"))\n",
    "tuned_results_df.to_csv(os.path.join(MODEL_OUTPUT_PATH, \"tuned_model_results_optuna.csv\")) # Updated filename\n",
    "print(f\"\\nResults saved to {MODEL_OUTPUT_PATH}\")\n",
    "\n",
    "# Optionally save the best models\n",
    "model_save_path = os.path.join(MODEL_OUTPUT_PATH, 'best_models_optuna.pkl')\n",
    "try:\n",
    "    with open(model_save_path, 'wb') as f:\n",
    "        pickle.dump(model_objects, f)\n",
    "    print(f\"Best model objects saved to {model_save_path}\")\n",
    "except Exception as e:\n",
    "    print(f\"Could not save models: {e}\")\n",
    "\n",
    "# Optionally save the Optuna studies (they are also saved to the sqlite DB)\n",
    "study_sgd.trials_dataframe().to_csv(os.path.join(MODEL_OUTPUT_PATH, 'optuna_sgd_trials.csv'))\n",
    "study_xgb.trials_dataframe().to_csv(os.path.join(MODEL_OUTPUT_PATH, 'optuna_xgb_trials.csv'))\n",
    "study_lgbm.trials_dataframe().to_csv(os.path.join(MODEL_OUTPUT_PATH, 'optuna_lgbm_trials.csv'))\n",
    "\n",
    "# Save the most important features from the best models\n",
    "feature_importance_df = pd.DataFrame({\n",
    "    'Feature': feature_names,\n",
    "    'Importance': np.nan # Placeholder, will fill with actual importance later\n",
    "})\n",
    "for model_name, model in model_objects.items():\n",
    "    if hasattr(model, 'feature_importances_'):\n",
    "        feature_importance_df[model_name] = model.feature_importances_\n",
    "    elif hasattr(model, 'coef_'):\n",
    "        feature_importance_df[model_name] = np.abs(model.coef_[0]) # For linear models\n",
    "    else:\n",
    "        feature_importance_df[model_name] = np.nan\n",
    "\n",
    "feature_importance_df = feature_importance_df.set_index('Feature').fillna(0) # Fill NaN with 0 for missing models\n",
    "feature_importance_df.to_csv(os.path.join(MODEL_OUTPUT_PATH, 'feature_importances.csv'))\n",
    "print(f\"\\nFeature importances saved to {MODEL_OUTPUT_PATH}feature_importances.csv\")\n",
    "\n",
    "print(\"\\nModeling complete.\")"
   ]
  }
 ],
 "metadata": {
  "kernelspec": {
   "display_name": "venv",
   "language": "python",
   "name": "python3"
  },
  "language_info": {
   "codemirror_mode": {
    "name": "ipython",
    "version": 3
   },
   "file_extension": ".py",
   "mimetype": "text/x-python",
   "name": "python",
   "nbconvert_exporter": "python",
   "pygments_lexer": "ipython3",
   "version": "3.12.8"
  }
 },
 "nbformat": 4,
 "nbformat_minor": 2
}
