{
 "cells": [
  {
   "cell_type": "markdown",
   "metadata": {},
   "source": [
    "# 0. Library"
   ]
  },
  {
   "cell_type": "code",
   "execution_count": 1,
   "metadata": {},
   "outputs": [],
   "source": [
    "# --- Core Libraries ---\n",
    "import pandas as pd\n",
    "import numpy as np\n",
    "import matplotlib.pyplot as plt\n",
    "import seaborn as sns\n",
    "from datetime import datetime\n",
    "import time\n",
    "import warnings\n",
    "import pickle\n",
    "import os\n",
    "\n",
    "# --- Sklearn ---\n",
    "from sklearn.model_selection import StratifiedKFold\n",
    "from sklearn.preprocessing import StandardScaler\n",
    "from sklearn.metrics import (roc_auc_score, roc_curve, precision_recall_curve, auc,\n",
    "                             accuracy_score, precision_score, recall_score, f1_score,\n",
    "                             confusion_matrix, brier_score_loss, log_loss, classification_report)\n",
    "from sklearn.model_selection import train_test_split\n",
    "from sklearn.feature_selection import VarianceThreshold\n",
    "\n",
    "# --- TabNet & PyTorch ---\n",
    "import torch\n",
    "from pytorch_tabnet.tab_model import TabNetClassifier"
   ]
  },
  {
   "cell_type": "markdown",
   "metadata": {},
   "source": [
    "# 1. Utility functions + Configurations"
   ]
  },
  {
   "cell_type": "markdown",
   "metadata": {},
   "source": [
    "## 1.1 Utility functions"
   ]
  },
  {
   "cell_type": "code",
   "execution_count": 2,
   "metadata": {},
   "outputs": [],
   "source": [
    "# --- Helper Functions (can be imported from a utils file or redefined) ---\n",
    "def calculate_ks(y_true, y_prob):\n",
    "    \"\"\"Calculates the Kolmogorov-Smirnov (KS) statistic.\"\"\"\n",
    "    df = pd.DataFrame({'y_true': y_true, 'y_prob': y_prob})\n",
    "    df = df.sort_values(by='y_prob', ascending=False)\n",
    "    # Ensure y_true sums are not zero before division\n",
    "    sum_true = df['y_true'].sum()\n",
    "    sum_false = len(df) - sum_true\n",
    "    if sum_true == 0 or sum_false == 0:\n",
    "        return 0.0 # KS is 0 if one class is missing\n",
    "    df['cumulative_true'] = df['y_true'].cumsum() / sum_true\n",
    "    df['cumulative_false'] = (1 - df['y_true']).cumsum() / sum_false\n",
    "    ks = max(abs(df['cumulative_true'] - df['cumulative_false']))\n",
    "    return ks\n",
    "\n",
    "def find_optimal_threshold_j_statistic(y_true, y_prob_oof):\n",
    "    \"\"\"Finds the optimal threshold maximizing Youden's J statistic (Sensitivity + Specificity - 1).\"\"\"\n",
    "    fpr, tpr, thresholds = roc_curve(y_true, y_prob_oof)\n",
    "     # Handle cases where thresholds might not be strictly decreasing\n",
    "    valid_indices = np.where(np.isfinite(thresholds))[0]\n",
    "    if len(valid_indices) == 0:\n",
    "        print(\"Warning: No valid thresholds found for J-statistic calculation.\")\n",
    "        return 0.5 # Default fallback\n",
    "    fpr, tpr, thresholds = fpr[valid_indices], tpr[valid_indices], thresholds[valid_indices]\n",
    "\n",
    "    if len(thresholds) == 0:\n",
    "         print(\"Warning: Threshold array is empty after filtering.\")\n",
    "         return 0.5\n",
    "\n",
    "    j_statistic = tpr - fpr\n",
    "    optimal_idx = np.argmax(j_statistic)\n",
    "    optimal_threshold = thresholds[optimal_idx]\n",
    "    # Ensure threshold is within [0, 1] bounds if necessary due to floating point issues\n",
    "    optimal_threshold = max(0.0, min(1.0, optimal_threshold))\n",
    "    print(f\"Optimal threshold based on Youden's J-Statistic (OOF): {optimal_threshold:.4f}\")\n",
    "    return optimal_threshold\n",
    "\n",
    "def evaluate_model(y_true, y_pred_proba, y_pred_binary, model_name=\"Model\"):\n",
    "    \"\"\"Calculates and prints standard classification metrics.\"\"\"\n",
    "    # Add epsilon to probabilities for log_loss if necessary\n",
    "    eps = 1e-15\n",
    "    y_pred_proba = np.clip(y_pred_proba, eps, 1 - eps)\n",
    "\n",
    "    auc_roc = roc_auc_score(y_true, y_pred_proba)\n",
    "    gini = 2 * auc_roc - 1\n",
    "    ks = calculate_ks(y_true, y_pred_proba)\n",
    "    accuracy = accuracy_score(y_true, y_pred_binary)\n",
    "    precision = precision_score(y_true, y_pred_binary, zero_division=0)\n",
    "    recall = recall_score(y_true, y_pred_binary, zero_division=0)\n",
    "    f1 = f1_score(y_true, y_pred_binary, zero_division=0)\n",
    "    brier = brier_score_loss(y_true, y_pred_proba)\n",
    "    logloss = log_loss(y_true, y_pred_proba)\n",
    "    cm = confusion_matrix(y_true, y_pred_binary)\n",
    "\n",
    "    print(f\"\\n--- Evaluation Metrics for {model_name} ---\")\n",
    "    print(f\"AUC ROC:        {auc_roc:.4f}\")\n",
    "    print(f\"Gini Coefficient: {gini:.4f}\")\n",
    "    print(f\"KS Statistic:   {ks:.4f}\")\n",
    "    print(f\"Accuracy:       {accuracy:.4f}\")\n",
    "    print(f\"Precision:      {precision:.4f}\")\n",
    "    print(f\"Recall (TPR):   {recall:.4f}\")\n",
    "    print(f\"F1-Score:       {f1:.4f}\")\n",
    "    print(f\"Brier Score:    {brier:.4f}\")\n",
    "    print(f\"Log Loss:       {logloss:.4f}\")\n",
    "    print(\"\\nConfusion Matrix:\")\n",
    "    print(cm)\n",
    "\n",
    "    results = {\n",
    "        'Model': model_name,\n",
    "        'AUC': auc_roc, 'Gini': gini, 'KS': ks, 'Accuracy': accuracy,\n",
    "        'Precision': precision, 'Recall': recall, 'F1': f1,\n",
    "        'Brier': brier, 'LogLoss': logloss\n",
    "    }\n",
    "    return results\n",
    "\n",
    "def plot_roc_curve(y_true, y_prob, model_name):\n",
    "    \"\"\"Plots the ROC curve.\"\"\"\n",
    "    fpr, tpr, _ = roc_curve(y_true, y_prob)\n",
    "    auc_roc = roc_auc_score(y_true, y_prob)\n",
    "    plt.figure(figsize=(8, 6))\n",
    "    plt.plot(fpr, tpr, label=f'{model_name} (AUC = {auc_roc:.4f})')\n",
    "    plt.plot([0, 1], [0, 1], 'k--') # Diagonal line\n",
    "    plt.xlabel('False Positive Rate')\n",
    "    plt.ylabel('True Positive Rate')\n",
    "    plt.title(f'{model_name} - ROC Curve')\n",
    "    plt.legend()\n",
    "    plt.grid(True)\n",
    "    # Save the plot\n",
    "    plot_filename = f\"roc_curve_{model_name.replace(' ', '_')}.png\"\n",
    "    plt.savefig(plot_filename)\n",
    "    print(f\"ROC curve saved to {plot_filename}\")\n",
    "    plt.show()"
   ]
  },
  {
   "cell_type": "markdown",
   "metadata": {},
   "source": [
    "## 1.2 Configurations"
   ]
  },
  {
   "cell_type": "code",
   "execution_count": 3,
   "metadata": {},
   "outputs": [
    {
     "name": "stdout",
     "output_type": "stream",
     "text": [
      "Using device: cuda\n"
     ]
    }
   ],
   "source": [
    "# --- Configuration ---\n",
    "DATA_PATH = '../data/processed/'\n",
    "MODEL_OUTPUT_PATH = './tabnet_outputs/' # Directory to save model/results\n",
    "os.makedirs(MODEL_OUTPUT_PATH, exist_ok=True)\n",
    "SEED = 42\n",
    "N_SPLITS = 10\n",
    "TARGET = 'TARGET'\n",
    "ID_COL = 'SK_ID_CURR'\n",
    "\n",
    "# --- Check for GPU ---\n",
    "device_name = 'cuda' if torch.cuda.is_available() else 'cpu'\n",
    "print(f\"Using device: {device_name}\")"
   ]
  },
  {
   "cell_type": "markdown",
   "metadata": {},
   "source": [
    "# 2. Load Data and Preprocess"
   ]
  },
  {
   "cell_type": "code",
   "execution_count": 4,
   "metadata": {},
   "outputs": [
    {
     "name": "stdout",
     "output_type": "stream",
     "text": [
      "Loading preprocessed data...\n",
      "Data loaded successfully.\n"
     ]
    }
   ],
   "source": [
    "# --- Load Data ---\n",
    "print(\"Loading preprocessed data...\")\n",
    "try:\n",
    "    train_df = pd.read_csv(DATA_PATH + 'train.csv')\n",
    "    test_df = pd.read_csv(DATA_PATH + 'test.csv')\n",
    "    print(\"Data loaded successfully.\")\n",
    "except FileNotFoundError as e:\n",
    "    print(f\"Error: {e}. Make sure 'train.csv' and 'test.csv' are in {DATA_PATH}\")\n",
    "    exit()\n",
    "\n",
    "# --- Prepare Data ---\n",
    "y_train = train_df[TARGET].values # Use .values for numpy arrays\n",
    "y_test = test_df[TARGET].values\n",
    "\n",
    "# Drop Target and potentially ID\n",
    "if ID_COL in train_df.columns:\n",
    "    X_train = train_df.drop(columns=[TARGET, ID_COL])\n",
    "    X_test = test_df.drop(columns=[TARGET, ID_COL])\n",
    "else:\n",
    "    X_train = train_df.drop(columns=[TARGET])\n",
    "    X_test = test_df.drop(columns=[TARGET])\n",
    "\n",
    "# Align columns just in case\n",
    "common_cols = list(X_train.columns.intersection(X_test.columns))\n",
    "X_train = X_train[common_cols]\n",
    "X_test = X_test[common_cols]\n",
    "feature_names = X_train.columns.tolist()"
   ]
  },
  {
   "cell_type": "code",
   "execution_count": 5,
   "metadata": {},
   "outputs": [
    {
     "name": "stdout",
     "output_type": "stream",
     "text": [
      "WARNING: Treating all features as numerical for TabNet due to pre-encoded input data.\n",
      "Prepared X_train shape: (246005, 112)\n",
      "Prepared X_test shape: (61502, 112)\n"
     ]
    }
   ],
   "source": [
    "# --- LIMITATION: Treat all features as numerical ---\n",
    "# Ideally, identify original categorical features and pass their indices to TabNet.\n",
    "# Since we are using pre-encoded data, we treat all as numerical.\n",
    "print(\"WARNING: Treating all features as numerical for TabNet due to pre-encoded input data.\")\n",
    "categorical_indices = [] # No categorical indices provided\n",
    "categorical_dims = [] # No specific dimensions needed if indices are empty\n",
    "\n",
    "# Handle infinite values and NaNs\n",
    "X_train = X_train.replace([np.inf, -np.inf], np.nan).fillna(X_train.median())\n",
    "X_test = X_test.replace([np.inf, -np.inf], np.nan).fillna(X_train.median()) \n",
    "\n",
    "# scaler = StandardScaler()\n",
    "# X_train = scaler.fit_transform(X_train)\n",
    "# X_test = scaler.transform(X_test)\n",
    "\n",
    "X_train_np = X_train.values.astype(np.float32)\n",
    "X_test_np = X_test.values.astype(np.float32)\n",
    "\n",
    "print(f\"Prepared X_train shape: {X_train_np.shape}\")\n",
    "print(f\"Prepared X_test shape: {X_test_np.shape}\")"
   ]
  },
  {
   "cell_type": "markdown",
   "metadata": {},
   "source": [
    "# 3. Train and Evaluate"
   ]
  },
  {
   "cell_type": "markdown",
   "metadata": {},
   "source": [
    "## 3.1 Train Baseline Model"
   ]
  },
  {
   "cell_type": "code",
   "execution_count": 6,
   "metadata": {},
   "outputs": [
    {
     "name": "stdout",
     "output_type": "stream",
     "text": [
      "Using class weights: [ 1.       11.386959] to emphasize minority class\n"
     ]
    }
   ],
   "source": [
    "# Calculate class weights inversely proportional to class frequencies\n",
    "class_counts = np.bincount(y_train)\n",
    "total_samples = len(y_train)\n",
    "class_weights = torch.tensor([1.0, (class_counts[0]/class_counts[1]) * 1], dtype=torch.float32)\n",
    "if device_name == 'cuda':\n",
    "    class_weights = class_weights.cuda()\n",
    "\n",
    "print(f\"Using class weights: {class_weights.cpu().numpy()} to emphasize minority class\")\n",
    "\n",
    "weighted_loss = torch.nn.CrossEntropyLoss(weight=class_weights)"
   ]
  },
  {
   "cell_type": "code",
   "execution_count": 7,
   "metadata": {},
   "outputs": [
    {
     "name": "stdout",
     "output_type": "stream",
     "text": [
      "\n",
      "Training Baseline TabNet Pro Max Model without CV...\n"
     ]
    },
    {
     "name": "stderr",
     "output_type": "stream",
     "text": [
      "c:\\Users\\ORLab\\main_source\\CreditRiskProject\\venv\\Lib\\site-packages\\pytorch_tabnet\\abstract_model.py:82: UserWarning: Device used : cuda\n",
      "  warnings.warn(f\"Device used : {self.device}\")\n"
     ]
    },
    {
     "name": "stdout",
     "output_type": "stream",
     "text": [
      "TabNet Pro Max model initialized on cuda\n",
      "Fitting baseline TabNet Pro Max model...\n",
      "epoch 0  | loss: 0.72117 | validation_logloss: 0.46332 | validation_accuracy: 0.80482 | validation_auc: 0.5302  | validation_balanced_accuracy: 0.4993  |  0:00:03s\n",
      "epoch 1  | loss: 0.64981 | validation_logloss: 0.40495 | validation_accuracy: 0.87618 | validation_auc: 0.57955 | validation_balanced_accuracy: 0.52594 |  0:00:05s\n",
      "epoch 2  | loss: 0.63005 | validation_logloss: 0.38967 | validation_accuracy: 0.89913 | validation_auc: 0.57394 | validation_balanced_accuracy: 0.51867 |  0:00:08s\n",
      "epoch 3  | loss: 0.624   | validation_logloss: 0.46647 | validation_accuracy: 0.88657 | validation_auc: 0.58807 | validation_balanced_accuracy: 0.53124 |  0:00:11s\n",
      "epoch 4  | loss: 0.61819 | validation_logloss: 0.44746 | validation_accuracy: 0.87232 | validation_auc: 0.61999 | validation_balanced_accuracy: 0.54772 |  0:00:13s\n",
      "epoch 5  | loss: 0.616   | validation_logloss: 0.45463 | validation_accuracy: 0.83344 | validation_auc: 0.68641 | validation_balanced_accuracy: 0.61063 |  0:00:16s\n",
      "epoch 6  | loss: 0.61491 | validation_logloss: 0.48706 | validation_accuracy: 0.80655 | validation_auc: 0.69364 | validation_balanced_accuracy: 0.62907 |  0:00:19s\n",
      "epoch 7  | loss: 0.61522 | validation_logloss: 0.52093 | validation_accuracy: 0.77466 | validation_auc: 0.71173 | validation_balanced_accuracy: 0.64985 |  0:00:22s\n",
      "epoch 8  | loss: 0.61472 | validation_logloss: 0.50641 | validation_accuracy: 0.77673 | validation_auc: 0.71403 | validation_balanced_accuracy: 0.65212 |  0:00:25s\n",
      "epoch 9  | loss: 0.61276 | validation_logloss: 0.55845 | validation_accuracy: 0.72438 | validation_auc: 0.71878 | validation_balanced_accuracy: 0.66499 |  0:00:28s\n",
      "epoch 10 | loss: 0.61104 | validation_logloss: 0.56934 | validation_accuracy: 0.71769 | validation_auc: 0.72469 | validation_balanced_accuracy: 0.66778 |  0:00:30s\n",
      "epoch 11 | loss: 0.60986 | validation_logloss: 0.57206 | validation_accuracy: 0.70425 | validation_auc: 0.72591 | validation_balanced_accuracy: 0.67333 |  0:00:33s\n",
      "epoch 12 | loss: 0.60862 | validation_logloss: 0.57295 | validation_accuracy: 0.7134  | validation_auc: 0.7256  | validation_balanced_accuracy: 0.67107 |  0:00:36s\n",
      "epoch 13 | loss: 0.60761 | validation_logloss: 0.6013  | validation_accuracy: 0.68371 | validation_auc: 0.72733 | validation_balanced_accuracy: 0.67226 |  0:00:38s\n",
      "epoch 14 | loss: 0.60851 | validation_logloss: 0.57091 | validation_accuracy: 0.7071  | validation_auc: 0.7305  | validation_balanced_accuracy: 0.67063 |  0:00:41s\n",
      "epoch 15 | loss: 0.60681 | validation_logloss: 0.58736 | validation_accuracy: 0.68216 | validation_auc: 0.73033 | validation_balanced_accuracy: 0.67532 |  0:00:44s\n",
      "epoch 16 | loss: 0.606   | validation_logloss: 0.61611 | validation_accuracy: 0.67306 | validation_auc: 0.73153 | validation_balanced_accuracy: 0.67542 |  0:00:47s\n",
      "epoch 17 | loss: 0.60523 | validation_logloss: 0.60054 | validation_accuracy: 0.68143 | validation_auc: 0.73228 | validation_balanced_accuracy: 0.67573 |  0:00:49s\n",
      "epoch 18 | loss: 0.60494 | validation_logloss: 0.60464 | validation_accuracy: 0.68232 | validation_auc: 0.73134 | validation_balanced_accuracy: 0.6761  |  0:00:52s\n",
      "epoch 19 | loss: 0.60489 | validation_logloss: 0.60833 | validation_accuracy: 0.68155 | validation_auc: 0.7329  | validation_balanced_accuracy: 0.67476 |  0:00:55s\n",
      "epoch 20 | loss: 0.6026  | validation_logloss: 0.57911 | validation_accuracy: 0.6971  | validation_auc: 0.73369 | validation_balanced_accuracy: 0.67644 |  0:00:58s\n",
      "epoch 21 | loss: 0.60237 | validation_logloss: 0.56738 | validation_accuracy: 0.7045  | validation_auc: 0.73164 | validation_balanced_accuracy: 0.67427 |  0:01:00s\n",
      "epoch 22 | loss: 0.60485 | validation_logloss: 0.63692 | validation_accuracy: 0.65468 | validation_auc: 0.73189 | validation_balanced_accuracy: 0.67416 |  0:01:03s\n",
      "epoch 23 | loss: 0.60352 | validation_logloss: 0.62937 | validation_accuracy: 0.65102 | validation_auc: 0.73099 | validation_balanced_accuracy: 0.67263 |  0:01:06s\n",
      "epoch 24 | loss: 0.60343 | validation_logloss: 0.61247 | validation_accuracy: 0.6673  | validation_auc: 0.73139 | validation_balanced_accuracy: 0.6739  |  0:01:08s\n",
      "epoch 25 | loss: 0.60224 | validation_logloss: 0.57162 | validation_accuracy: 0.69403 | validation_auc: 0.73253 | validation_balanced_accuracy: 0.67489 |  0:01:11s\n",
      "epoch 26 | loss: 0.602   | validation_logloss: 0.60073 | validation_accuracy: 0.67588 | validation_auc: 0.73278 | validation_balanced_accuracy: 0.67317 |  0:01:14s\n",
      "epoch 27 | loss: 0.59967 | validation_logloss: 0.61599 | validation_accuracy: 0.66771 | validation_auc: 0.73323 | validation_balanced_accuracy: 0.67137 |  0:01:18s\n",
      "epoch 28 | loss: 0.59945 | validation_logloss: 0.57788 | validation_accuracy: 0.69354 | validation_auc: 0.73428 | validation_balanced_accuracy: 0.67474 |  0:01:21s\n",
      "epoch 29 | loss: 0.59921 | validation_logloss: 0.60423 | validation_accuracy: 0.6706  | validation_auc: 0.73468 | validation_balanced_accuracy: 0.67386 |  0:01:24s\n",
      "epoch 30 | loss: 0.60035 | validation_logloss: 0.59422 | validation_accuracy: 0.6796  | validation_auc: 0.73491 | validation_balanced_accuracy: 0.67221 |  0:01:27s\n",
      "epoch 31 | loss: 0.60134 | validation_logloss: 0.58134 | validation_accuracy: 0.68332 | validation_auc: 0.73408 | validation_balanced_accuracy: 0.67056 |  0:01:31s\n",
      "epoch 32 | loss: 0.60158 | validation_logloss: 0.66122 | validation_accuracy: 0.64054 | validation_auc: 0.73487 | validation_balanced_accuracy: 0.67312 |  0:01:34s\n",
      "epoch 33 | loss: 0.60029 | validation_logloss: 0.60751 | validation_accuracy: 0.67236 | validation_auc: 0.73502 | validation_balanced_accuracy: 0.67539 |  0:01:37s\n",
      "epoch 34 | loss: 0.59922 | validation_logloss: 0.58822 | validation_accuracy: 0.68216 | validation_auc: 0.7361  | validation_balanced_accuracy: 0.67521 |  0:01:40s\n",
      "epoch 35 | loss: 0.59943 | validation_logloss: 0.60091 | validation_accuracy: 0.67198 | validation_auc: 0.73693 | validation_balanced_accuracy: 0.67909 |  0:01:43s\n",
      "epoch 36 | loss: 0.59854 | validation_logloss: 0.58156 | validation_accuracy: 0.68444 | validation_auc: 0.73599 | validation_balanced_accuracy: 0.67691 |  0:01:47s\n",
      "epoch 37 | loss: 0.59778 | validation_logloss: 0.58623 | validation_accuracy: 0.68556 | validation_auc: 0.73566 | validation_balanced_accuracy: 0.6774  |  0:01:50s\n",
      "epoch 38 | loss: 0.60027 | validation_logloss: 0.59675 | validation_accuracy: 0.67448 | validation_auc: 0.73568 | validation_balanced_accuracy: 0.67539 |  0:01:53s\n",
      "epoch 39 | loss: 0.59819 | validation_logloss: 0.6322  | validation_accuracy: 0.66151 | validation_auc: 0.73637 | validation_balanced_accuracy: 0.67638 |  0:01:56s\n",
      "epoch 40 | loss: 0.59872 | validation_logloss: 0.57406 | validation_accuracy: 0.69208 | validation_auc: 0.73587 | validation_balanced_accuracy: 0.67291 |  0:01:59s\n",
      "epoch 41 | loss: 0.59674 | validation_logloss: 0.58046 | validation_accuracy: 0.68517 | validation_auc: 0.7371  | validation_balanced_accuracy: 0.67616 |  0:02:03s\n",
      "epoch 42 | loss: 0.59699 | validation_logloss: 0.62396 | validation_accuracy: 0.66655 | validation_auc: 0.7353  | validation_balanced_accuracy: 0.67625 |  0:02:06s\n",
      "epoch 43 | loss: 0.59852 | validation_logloss: 0.58761 | validation_accuracy: 0.68663 | validation_auc: 0.73518 | validation_balanced_accuracy: 0.67684 |  0:02:09s\n",
      "epoch 44 | loss: 0.5974  | validation_logloss: 0.60333 | validation_accuracy: 0.67456 | validation_auc: 0.73833 | validation_balanced_accuracy: 0.67934 |  0:02:12s\n",
      "epoch 45 | loss: 0.59717 | validation_logloss: 0.57851 | validation_accuracy: 0.69521 | validation_auc: 0.73853 | validation_balanced_accuracy: 0.68047 |  0:02:16s\n",
      "epoch 46 | loss: 0.59853 | validation_logloss: 0.58613 | validation_accuracy: 0.68322 | validation_auc: 0.73775 | validation_balanced_accuracy: 0.67613 |  0:02:19s\n",
      "epoch 47 | loss: 0.59594 | validation_logloss: 0.61932 | validation_accuracy: 0.66767 | validation_auc: 0.73868 | validation_balanced_accuracy: 0.67789 |  0:02:22s\n",
      "epoch 48 | loss: 0.59598 | validation_logloss: 0.57555 | validation_accuracy: 0.69177 | validation_auc: 0.73912 | validation_balanced_accuracy: 0.67952 |  0:02:26s\n",
      "epoch 49 | loss: 0.59499 | validation_logloss: 0.57693 | validation_accuracy: 0.68726 | validation_auc: 0.74035 | validation_balanced_accuracy: 0.67982 |  0:02:29s\n",
      "epoch 50 | loss: 0.59317 | validation_logloss: 0.58539 | validation_accuracy: 0.69133 | validation_auc: 0.74094 | validation_balanced_accuracy: 0.68054 |  0:02:32s\n",
      "epoch 51 | loss: 0.59342 | validation_logloss: 0.61204 | validation_accuracy: 0.66988 | validation_auc: 0.74004 | validation_balanced_accuracy: 0.6791  |  0:02:35s\n",
      "epoch 52 | loss: 0.59478 | validation_logloss: 0.57237 | validation_accuracy: 0.68879 | validation_auc: 0.74138 | validation_balanced_accuracy: 0.68019 |  0:02:39s\n",
      "epoch 53 | loss: 0.59327 | validation_logloss: 0.6107  | validation_accuracy: 0.67777 | validation_auc: 0.74025 | validation_balanced_accuracy: 0.68166 |  0:02:42s\n",
      "epoch 54 | loss: 0.59347 | validation_logloss: 0.55701 | validation_accuracy: 0.70419 | validation_auc: 0.74203 | validation_balanced_accuracy: 0.68363 |  0:02:45s\n",
      "epoch 55 | loss: 0.59268 | validation_logloss: 0.60829 | validation_accuracy: 0.67493 | validation_auc: 0.74286 | validation_balanced_accuracy: 0.68425 |  0:02:49s\n",
      "epoch 56 | loss: 0.59252 | validation_logloss: 0.58069 | validation_accuracy: 0.68875 | validation_auc: 0.74298 | validation_balanced_accuracy: 0.68453 |  0:02:52s\n",
      "epoch 57 | loss: 0.59187 | validation_logloss: 0.6017  | validation_accuracy: 0.67163 | validation_auc: 0.74325 | validation_balanced_accuracy: 0.68441 |  0:02:55s\n",
      "epoch 58 | loss: 0.59089 | validation_logloss: 0.57888 | validation_accuracy: 0.69407 | validation_auc: 0.74327 | validation_balanced_accuracy: 0.68157 |  0:02:59s\n",
      "epoch 59 | loss: 0.59013 | validation_logloss: 0.5804  | validation_accuracy: 0.6896  | validation_auc: 0.74394 | validation_balanced_accuracy: 0.68293 |  0:03:02s\n",
      "epoch 60 | loss: 0.58941 | validation_logloss: 0.59396 | validation_accuracy: 0.68881 | validation_auc: 0.74378 | validation_balanced_accuracy: 0.6833  |  0:03:05s\n",
      "epoch 61 | loss: 0.59228 | validation_logloss: 0.5967  | validation_accuracy: 0.68352 | validation_auc: 0.74218 | validation_balanced_accuracy: 0.68433 |  0:03:09s\n",
      "epoch 62 | loss: 0.59306 | validation_logloss: 0.60228 | validation_accuracy: 0.68279 | validation_auc: 0.74228 | validation_balanced_accuracy: 0.68474 |  0:03:12s\n",
      "epoch 63 | loss: 0.59143 | validation_logloss: 0.5844  | validation_accuracy: 0.69253 | validation_auc: 0.74227 | validation_balanced_accuracy: 0.67993 |  0:03:15s\n",
      "epoch 64 | loss: 0.59171 | validation_logloss: 0.56398 | validation_accuracy: 0.70728 | validation_auc: 0.7417  | validation_balanced_accuracy: 0.68531 |  0:03:18s\n",
      "epoch 65 | loss: 0.59148 | validation_logloss: 0.56809 | validation_accuracy: 0.70631 | validation_auc: 0.7423  | validation_balanced_accuracy: 0.68191 |  0:03:22s\n",
      "epoch 66 | loss: 0.59099 | validation_logloss: 0.6208  | validation_accuracy: 0.66818 | validation_auc: 0.74363 | validation_balanced_accuracy: 0.68035 |  0:03:25s\n",
      "epoch 67 | loss: 0.58957 | validation_logloss: 0.60343 | validation_accuracy: 0.67927 | validation_auc: 0.7441  | validation_balanced_accuracy: 0.68214 |  0:03:29s\n",
      "epoch 68 | loss: 0.5879  | validation_logloss: 0.5831  | validation_accuracy: 0.69112 | validation_auc: 0.74331 | validation_balanced_accuracy: 0.68227 |  0:03:32s\n",
      "epoch 69 | loss: 0.58806 | validation_logloss: 0.59239 | validation_accuracy: 0.68505 | validation_auc: 0.74446 | validation_balanced_accuracy: 0.68229 |  0:03:35s\n",
      "epoch 70 | loss: 0.588   | validation_logloss: 0.58257 | validation_accuracy: 0.68903 | validation_auc: 0.74475 | validation_balanced_accuracy: 0.68228 |  0:03:38s\n",
      "epoch 71 | loss: 0.58754 | validation_logloss: 0.59995 | validation_accuracy: 0.67948 | validation_auc: 0.74404 | validation_balanced_accuracy: 0.6842  |  0:03:42s\n",
      "epoch 72 | loss: 0.58609 | validation_logloss: 0.57982 | validation_accuracy: 0.69261 | validation_auc: 0.74513 | validation_balanced_accuracy: 0.68617 |  0:03:45s\n",
      "epoch 73 | loss: 0.58513 | validation_logloss: 0.59944 | validation_accuracy: 0.67706 | validation_auc: 0.74636 | validation_balanced_accuracy: 0.68449 |  0:03:48s\n",
      "epoch 74 | loss: 0.58503 | validation_logloss: 0.59198 | validation_accuracy: 0.68576 | validation_auc: 0.7459  | validation_balanced_accuracy: 0.6852  |  0:03:52s\n",
      "epoch 75 | loss: 0.5845  | validation_logloss: 0.58308 | validation_accuracy: 0.68834 | validation_auc: 0.74642 | validation_balanced_accuracy: 0.68695 |  0:03:55s\n",
      "epoch 76 | loss: 0.58567 | validation_logloss: 0.58707 | validation_accuracy: 0.68647 | validation_auc: 0.74521 | validation_balanced_accuracy: 0.68387 |  0:03:59s\n",
      "epoch 77 | loss: 0.58838 | validation_logloss: 0.58613 | validation_accuracy: 0.68675 | validation_auc: 0.74534 | validation_balanced_accuracy: 0.68483 |  0:04:02s\n",
      "epoch 78 | loss: 0.58756 | validation_logloss: 0.59781 | validation_accuracy: 0.68336 | validation_auc: 0.74451 | validation_balanced_accuracy: 0.68206 |  0:04:06s\n",
      "epoch 79 | loss: 0.58619 | validation_logloss: 0.57915 | validation_accuracy: 0.6936  | validation_auc: 0.74611 | validation_balanced_accuracy: 0.68476 |  0:04:09s\n",
      "epoch 80 | loss: 0.58566 | validation_logloss: 0.54427 | validation_accuracy: 0.71946 | validation_auc: 0.74628 | validation_balanced_accuracy: 0.6816  |  0:04:12s\n",
      "epoch 81 | loss: 0.58838 | validation_logloss: 0.58095 | validation_accuracy: 0.69763 | validation_auc: 0.74608 | validation_balanced_accuracy: 0.68603 |  0:04:15s\n",
      "epoch 82 | loss: 0.58659 | validation_logloss: 0.60033 | validation_accuracy: 0.68019 | validation_auc: 0.74694 | validation_balanced_accuracy: 0.68585 |  0:04:18s\n",
      "epoch 83 | loss: 0.58729 | validation_logloss: 0.59019 | validation_accuracy: 0.68035 | validation_auc: 0.74646 | validation_balanced_accuracy: 0.68663 |  0:04:21s\n",
      "epoch 84 | loss: 0.58605 | validation_logloss: 0.5836  | validation_accuracy: 0.68312 | validation_auc: 0.74676 | validation_balanced_accuracy: 0.68756 |  0:04:24s\n",
      "epoch 85 | loss: 0.58452 | validation_logloss: 0.63215 | validation_accuracy: 0.65787 | validation_auc: 0.7474  | validation_balanced_accuracy: 0.68473 |  0:04:28s\n",
      "epoch 86 | loss: 0.5857  | validation_logloss: 0.56204 | validation_accuracy: 0.70641 | validation_auc: 0.74644 | validation_balanced_accuracy: 0.68335 |  0:04:31s\n",
      "epoch 87 | loss: 0.58516 | validation_logloss: 0.54182 | validation_accuracy: 0.71417 | validation_auc: 0.74764 | validation_balanced_accuracy: 0.68585 |  0:04:34s\n",
      "epoch 88 | loss: 0.58355 | validation_logloss: 0.57799 | validation_accuracy: 0.6922  | validation_auc: 0.74671 | validation_balanced_accuracy: 0.68526 |  0:04:37s\n",
      "epoch 89 | loss: 0.58376 | validation_logloss: 0.57976 | validation_accuracy: 0.69456 | validation_auc: 0.74563 | validation_balanced_accuracy: 0.68459 |  0:04:40s\n",
      "epoch 90 | loss: 0.584   | validation_logloss: 0.55514 | validation_accuracy: 0.71368 | validation_auc: 0.74577 | validation_balanced_accuracy: 0.68374 |  0:04:44s\n",
      "epoch 91 | loss: 0.58753 | validation_logloss: 0.56153 | validation_accuracy: 0.72379 | validation_auc: 0.74333 | validation_balanced_accuracy: 0.68143 |  0:04:47s\n",
      "epoch 92 | loss: 0.58878 | validation_logloss: 0.59443 | validation_accuracy: 0.68196 | validation_auc: 0.74519 | validation_balanced_accuracy: 0.6844  |  0:04:50s\n",
      "epoch 93 | loss: 0.58656 | validation_logloss: 0.61066 | validation_accuracy: 0.67633 | validation_auc: 0.74704 | validation_balanced_accuracy: 0.68547 |  0:04:53s\n",
      "epoch 94 | loss: 0.58815 | validation_logloss: 0.58725 | validation_accuracy: 0.68486 | validation_auc: 0.74329 | validation_balanced_accuracy: 0.68322 |  0:04:56s\n",
      "epoch 95 | loss: 0.58575 | validation_logloss: 0.5543  | validation_accuracy: 0.71269 | validation_auc: 0.74466 | validation_balanced_accuracy: 0.68205 |  0:04:59s\n",
      "epoch 96 | loss: 0.58503 | validation_logloss: 0.57113 | validation_accuracy: 0.69716 | validation_auc: 0.74583 | validation_balanced_accuracy: 0.68635 |  0:05:03s\n",
      "epoch 97 | loss: 0.58269 | validation_logloss: 0.60959 | validation_accuracy: 0.67322 | validation_auc: 0.74735 | validation_balanced_accuracy: 0.68734 |  0:05:06s\n",
      "epoch 98 | loss: 0.5829  | validation_logloss: 0.58042 | validation_accuracy: 0.69257 | validation_auc: 0.74674 | validation_balanced_accuracy: 0.68615 |  0:05:09s\n",
      "epoch 99 | loss: 0.5832  | validation_logloss: 0.58118 | validation_accuracy: 0.68777 | validation_auc: 0.74616 | validation_balanced_accuracy: 0.68412 |  0:05:12s\n",
      "epoch 100| loss: 0.58394 | validation_logloss: 0.58538 | validation_accuracy: 0.69051 | validation_auc: 0.74454 | validation_balanced_accuracy: 0.68262 |  0:05:15s\n",
      "epoch 101| loss: 0.58281 | validation_logloss: 0.60393 | validation_accuracy: 0.67005 | validation_auc: 0.74686 | validation_balanced_accuracy: 0.68561 |  0:05:19s\n",
      "epoch 102| loss: 0.58205 | validation_logloss: 0.56747 | validation_accuracy: 0.69828 | validation_auc: 0.74474 | validation_balanced_accuracy: 0.68306 |  0:05:22s\n",
      "epoch 103| loss: 0.58191 | validation_logloss: 0.58356 | validation_accuracy: 0.68377 | validation_auc: 0.74613 | validation_balanced_accuracy: 0.68527 |  0:05:25s\n",
      "epoch 104| loss: 0.58071 | validation_logloss: 0.55524 | validation_accuracy: 0.70596 | validation_auc: 0.74736 | validation_balanced_accuracy: 0.68379 |  0:05:28s\n",
      "epoch 105| loss: 0.58048 | validation_logloss: 0.5871  | validation_accuracy: 0.68708 | validation_auc: 0.74656 | validation_balanced_accuracy: 0.685   |  0:05:32s\n",
      "epoch 106| loss: 0.57876 | validation_logloss: 0.58683 | validation_accuracy: 0.68633 | validation_auc: 0.7464  | validation_balanced_accuracy: 0.68482 |  0:05:35s\n",
      "epoch 107| loss: 0.57829 | validation_logloss: 0.58685 | validation_accuracy: 0.68588 | validation_auc: 0.74679 | validation_balanced_accuracy: 0.6847  |  0:05:38s\n",
      "epoch 108| loss: 0.57803 | validation_logloss: 0.58226 | validation_accuracy: 0.68797 | validation_auc: 0.74687 | validation_balanced_accuracy: 0.684   |  0:05:41s\n",
      "epoch 109| loss: 0.57763 | validation_logloss: 0.58146 | validation_accuracy: 0.6886  | validation_auc: 0.7469  | validation_balanced_accuracy: 0.68434 |  0:05:45s\n",
      "epoch 110| loss: 0.57749 | validation_logloss: 0.58331 | validation_accuracy: 0.68757 | validation_auc: 0.74695 | validation_balanced_accuracy: 0.68424 |  0:05:48s\n",
      "epoch 111| loss: 0.57711 | validation_logloss: 0.58718 | validation_accuracy: 0.68521 | validation_auc: 0.74718 | validation_balanced_accuracy: 0.68422 |  0:05:51s\n",
      "epoch 112| loss: 0.57709 | validation_logloss: 0.58115 | validation_accuracy: 0.68781 | validation_auc: 0.74699 | validation_balanced_accuracy: 0.68391 |  0:05:54s\n",
      "epoch 113| loss: 0.57694 | validation_logloss: 0.58285 | validation_accuracy: 0.68718 | validation_auc: 0.74704 | validation_balanced_accuracy: 0.68506 |  0:05:58s\n",
      "epoch 114| loss: 0.57639 | validation_logloss: 0.58276 | validation_accuracy: 0.68793 | validation_auc: 0.74715 | validation_balanced_accuracy: 0.68466 |  0:06:01s\n",
      "\n",
      "Early stopping occurred at epoch 114 with best_epoch = 84 and best_validation_balanced_accuracy = 0.68756\n"
     ]
    },
    {
     "name": "stderr",
     "output_type": "stream",
     "text": [
      "c:\\Users\\ORLab\\main_source\\CreditRiskProject\\venv\\Lib\\site-packages\\pytorch_tabnet\\callbacks.py:172: UserWarning: Best weights from best epoch are automatically used!\n",
      "  warnings.warn(wrn_msg)\n"
     ]
    },
    {
     "name": "stdout",
     "output_type": "stream",
     "text": [
      "Baseline model training completed in 366.97 seconds.\n",
      "\n",
      "--- Baseline TabNet Model Evaluation ---\n",
      "\n",
      "--- Evaluation Metrics for TabNet_Pro Max (Baseline) ---\n",
      "AUC ROC:        0.7514\n",
      "Gini Coefficient: 0.5028\n",
      "KS Statistic:   0.3811\n",
      "Accuracy:       0.6852\n",
      "Precision:      0.1620\n",
      "Recall (TPR):   0.6947\n",
      "F1-Score:       0.2627\n",
      "Brier Score:    0.1995\n",
      "Log Loss:       0.5810\n",
      "\n",
      "Confusion Matrix:\n",
      "[[38692 17845]\n",
      " [ 1516  3449]]\n",
      "ROC curve saved to roc_curve_TabNet_Pro_Max_(Baseline).png\n"
     ]
    },
    {
     "data": {
      "image/png": "[encoded data removed]",
      "text/plain": [
       "<Figure size 800x600 with 1 Axes>"
      ]
     },
     "metadata": {},
     "output_type": "display_data"
    },
    {
     "name": "stdout",
     "output_type": "stream",
     "text": [
      "Successfully saved model at ./tabnet_outputs/tabnet_Pro Max_baseline_model.zip\n",
      "Baseline model saved to ./tabnet_outputs/tabnet_Pro Max_baseline_model.zip\n",
      "Baseline results saved to ./tabnet_outputs/tabnet_Pro Max_baseline_results.csv\n",
      "Baseline feature importance saved to ./tabnet_outputs/tabnet_Pro Max_baseline_feature_importance.csv\n"
     ]
    }
   ],
   "source": [
    "# --- Initialize and Train a Baseline TabNet Model ---\n",
    "print(\"\\nTraining Baseline TabNet Pro Max Model without CV...\")\n",
    "\n",
    "TABNET_PARAMS = dict(\n",
    "    n_d=16, n_a=16, n_steps=3, n_independent=2, n_shared=2,\n",
    "    mask_type='sparsemax', gamma=1.5, lambda_sparse=0.0001, \n",
    "    optimizer_fn=torch.optim.Adam, optimizer_params=dict(lr=0.01),\n",
    "    scheduler_fn=torch.optim.lr_scheduler.ReduceLROnPlateau,\n",
    "    scheduler_params=dict(\n",
    "        mode=\"max\", patience=20, min_lr=1e-6, factor=0.05),\n",
    "    verbose=1, seed=SEED, device_name=device_name,\n",
    ")\n",
    "\n",
    "MAX_EPOCHS = 3000\n",
    "PATIENCE = 30\n",
    "BATCH_SIZE = 8192\n",
    "VIRTUAL_BATCH_SIZE = 2048\n",
    "\n",
    "\n",
    "X_train_base, X_val_base, y_train_base, y_val_base = train_test_split(\n",
    "    X_train_np, y_train, test_size=0.20, random_state=SEED, stratify=y_train\n",
    ")\n",
    "\n",
    "tabnet_baseline = TabNetClassifier(**TABNET_PARAMS)\n",
    "print(f\"TabNet Pro Max model initialized on {device_name}\")\n",
    "print(\"Fitting baseline TabNet Pro Max model...\")\n",
    "start_time = time.time()\n",
    "\n",
    "tabnet_baseline.fit(\n",
    "    X_train=X_train_base, y_train=y_train_base,\n",
    "    eval_set=[(X_val_base, y_val_base)],\n",
    "    eval_name=['validation'],\n",
    "    eval_metric=['logloss', 'accuracy', 'auc', 'balanced_accuracy'],\n",
    "    max_epochs=MAX_EPOCHS,\n",
    "    patience=PATIENCE,\n",
    "    batch_size=BATCH_SIZE,\n",
    "    virtual_batch_size=VIRTUAL_BATCH_SIZE,\n",
    "    drop_last=False,\n",
    "    loss_fn=weighted_loss,\n",
    "    num_workers=0,\n",
    ")\n",
    "\n",
    "end_time = time.time()\n",
    "print(f\"Baseline model training completed in {(end_time - start_time):.2f} seconds.\")\n",
    "\n",
    "baseline_preds = tabnet_baseline.predict_proba(X_test_np)[:, 1]\n",
    "baseline_binary_preds = (baseline_preds > 0.5).astype(int)\n",
    "\n",
    "print(\"\\n--- Baseline TabNet Model Evaluation ---\")\n",
    "baseline_results = evaluate_model(\n",
    "    y_test, baseline_preds, baseline_binary_preds, model_name=\"TabNet_Pro Max (Baseline)\"\n",
    ")\n",
    "\n",
    "plot_roc_curve(y_test, baseline_preds, \"TabNet_Pro Max (Baseline)\")\n",
    "\n",
    "# Save the model\n",
    "baseline_model_path = os.path.join(MODEL_OUTPUT_PATH, \"tabnet_Pro Max_baseline_model\")\n",
    "saved_baseline_path = tabnet_baseline.save_model(baseline_model_path)\n",
    "print(f\"Baseline model saved to {saved_baseline_path}\")\n",
    "\n",
    "# Save baseline results\n",
    "baseline_results_df = pd.DataFrame([baseline_results])\n",
    "baseline_results_filename = os.path.join(MODEL_OUTPUT_PATH, \"tabnet_Pro Max_baseline_results.csv\")\n",
    "baseline_results_df.to_csv(baseline_results_filename, index=False, mode='w+')\n",
    "print(f\"Baseline results saved to {baseline_results_filename}\")\n",
    "\n",
    "# Feature importance from baseline model\n",
    "baseline_importance = tabnet_baseline.feature_importances_\n",
    "baseline_importance_df = pd.DataFrame({'Feature': feature_names, 'Importance': baseline_importance})\n",
    "baseline_importance_df = baseline_importance_df.sort_values(by='Importance', ascending=False)\n",
    "baseline_importance_filename = os.path.join(MODEL_OUTPUT_PATH, \"tabnet_Pro Max_baseline_feature_importance.csv\")\n",
    "baseline_importance_df.to_csv(baseline_importance_filename, index=False, mode='w+')\n",
    "print(f\"Baseline feature importance saved to {baseline_importance_filename}\")"
   ]
  },
  {
   "cell_type": "code",
   "execution_count": 8,
   "metadata": {},
   "outputs": [
    {
     "name": "stdout",
     "output_type": "stream",
     "text": [
      "Optimal threshold based on Youden's J-Statistic (OOF): 0.5130\n",
      "Optimal threshold for validation set: 0.5130\n",
      "\n",
      "--- Baseline TabNet Model Evaluation with Optimal Threshold ---\n",
      "\n",
      "--- Evaluation Metrics for TabNet_Pro Max (Baseline with Optimal Threshold) ---\n",
      "AUC ROC:        0.7514\n",
      "Gini Coefficient: 0.5028\n",
      "KS Statistic:   0.3811\n",
      "Accuracy:       0.6986\n",
      "Precision:      0.1657\n",
      "Recall (TPR):   0.6775\n",
      "F1-Score:       0.2663\n",
      "Brier Score:    0.1995\n",
      "Log Loss:       0.5810\n",
      "\n",
      "Confusion Matrix:\n",
      "[[39604 16933]\n",
      " [ 1601  3364]]\n",
      "Baseline results with optimal threshold saved to ./tabnet_outputs/tabnet_Pro Max_baseline_results_optimal.csv\n"
     ]
    }
   ],
   "source": [
    "# Get the optimal threshold using the validation set\n",
    "optimal_threshold = find_optimal_threshold_j_statistic(y_val_base, tabnet_baseline.predict_proba(X_val_base)[:, 1])\n",
    "print(f\"Optimal threshold for validation set: {optimal_threshold:.4f}\")\n",
    "\n",
    "# Apply the optimal threshold to the test set predictions\n",
    "baseline_binary_preds_optimal = (baseline_preds > optimal_threshold).astype(int)\n",
    "# Evaluate the model with the optimal threshold\n",
    "print(\"\\n--- Baseline TabNet Model Evaluation with Optimal Threshold ---\")\n",
    "baseline_results_optimal = evaluate_model(\n",
    "    y_test, baseline_preds, baseline_binary_preds_optimal, model_name=\"TabNet_Pro Max (Baseline with Optimal Threshold)\"\n",
    ")\n",
    "\n",
    "# Save the results with the optimal threshold\n",
    "baseline_results_optimal_df = pd.DataFrame([baseline_results_optimal])\n",
    "baseline_results_optimal_filename = os.path.join(MODEL_OUTPUT_PATH, \"tabnet_Pro Max_baseline_results_optimal.csv\")\n",
    "baseline_results_optimal_df.to_csv(baseline_results_optimal_filename, index=False, mode='w+')\n",
    "print(f\"Baseline results with optimal threshold saved to {baseline_results_optimal_filename}\")"
   ]
  }
 ],
 "metadata": {
  "kernelspec": {
   "display_name": "venv",
   "language": "python",
   "name": "python3"
  },
  "language_info": {
   "codemirror_mode": {
    "name": "ipython",
    "version": 3
   },
   "file_extension": ".py",
   "mimetype": "text/x-python",
   "name": "python",
   "nbconvert_exporter": "python",
   "pygments_lexer": "ipython3",
   "version": "3.12.8"
  }
 },
 "nbformat": 4,
 "nbformat_minor": 2
}
